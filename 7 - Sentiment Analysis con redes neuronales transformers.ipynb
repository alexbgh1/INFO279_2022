{
 "cells": [
  {
   "cell_type": "code",
   "execution_count": 1,
   "id": "69f6879e",
   "metadata": {},
   "outputs": [
    {
     "data": {
      "text/plain": [
       "'4.12.2'"
      ]
     },
     "execution_count": 1,
     "metadata": {},
     "output_type": "execute_result"
    }
   ],
   "source": [
    "from tqdm import tqdm # Barra de progreso\n",
    "\n",
    "\n",
    "import transformers\n",
    "transformers.__version__"
   ]
  },
  {
   "cell_type": "code",
   "execution_count": 2,
   "id": "b87c2373",
   "metadata": {},
   "outputs": [
    {
     "name": "stderr",
     "output_type": "stream",
     "text": [
      "2022-10-25 18:25:34.410491: I tensorflow/core/platform/cpu_feature_guard.cc:193] This TensorFlow binary is optimized with oneAPI Deep Neural Network Library (oneDNN) to use the following CPU instructions in performance-critical operations:  AVX2 FMA\n",
      "To enable them in other operations, rebuild TensorFlow with the appropriate compiler flags.\n",
      "2022-10-25 18:25:34.775682: W tensorflow/stream_executor/platform/default/dso_loader.cc:64] Could not load dynamic library 'libcudart.so.11.0'; dlerror: libcudart.so.11.0: cannot open shared object file: No such file or directory\n",
      "2022-10-25 18:25:34.775707: I tensorflow/stream_executor/cuda/cudart_stub.cc:29] Ignore above cudart dlerror if you do not have a GPU set up on your machine.\n",
      "2022-10-25 18:25:34.812567: E tensorflow/stream_executor/cuda/cuda_blas.cc:2981] Unable to register cuBLAS factory: Attempting to register factory for plugin cuBLAS when one has already been registered\n",
      "2022-10-25 18:25:38.291689: W tensorflow/stream_executor/platform/default/dso_loader.cc:64] Could not load dynamic library 'libnvinfer.so.7'; dlerror: libnvinfer.so.7: cannot open shared object file: No such file or directory\n",
      "2022-10-25 18:25:38.291861: W tensorflow/stream_executor/platform/default/dso_loader.cc:64] Could not load dynamic library 'libnvinfer_plugin.so.7'; dlerror: libnvinfer_plugin.so.7: cannot open shared object file: No such file or directory\n",
      "2022-10-25 18:25:38.291879: W tensorflow/compiler/tf2tensorrt/utils/py_utils.cc:38] TF-TRT Warning: Cannot dlopen some TensorRT libraries. If you would like to use Nvidia GPU with TensorRT, please make sure the missing libraries mentioned above are installed properly.\n"
     ]
    },
    {
     "data": {
      "application/vnd.jupyter.widget-view+json": {
       "model_id": "236f3dacef91451daa907fd583404e9e",
       "version_major": 2,
       "version_minor": 0
      },
      "text/plain": [
       "Downloading:   0%|          | 0.00/841 [00:00<?, ?B/s]"
      ]
     },
     "metadata": {},
     "output_type": "display_data"
    },
    {
     "data": {
      "application/vnd.jupyter.widget-view+json": {
       "model_id": "4a315b55b9ce40beaa8a4ad96bfd6d94",
       "version_major": 2,
       "version_minor": 0
      },
      "text/plain": [
       "Downloading:   0%|          | 0.00/419M [00:00<?, ?B/s]"
      ]
     },
     "metadata": {},
     "output_type": "display_data"
    },
    {
     "data": {
      "application/vnd.jupyter.widget-view+json": {
       "model_id": "a2a9586882034760820e880ab1cb4901",
       "version_major": 2,
       "version_minor": 0
      },
      "text/plain": [
       "Downloading:   0%|          | 0.00/528 [00:00<?, ?B/s]"
      ]
     },
     "metadata": {},
     "output_type": "display_data"
    },
    {
     "data": {
      "application/vnd.jupyter.widget-view+json": {
       "model_id": "9beb26d94878462d978f6a9bc7df574e",
       "version_major": 2,
       "version_minor": 0
      },
      "text/plain": [
       "Downloading:   0%|          | 0.00/236k [00:00<?, ?B/s]"
      ]
     },
     "metadata": {},
     "output_type": "display_data"
    },
    {
     "data": {
      "application/vnd.jupyter.widget-view+json": {
       "model_id": "df74550272474e4dab5140dc4bdc6dcb",
       "version_major": 2,
       "version_minor": 0
      },
      "text/plain": [
       "Downloading:   0%|          | 0.00/469k [00:00<?, ?B/s]"
      ]
     },
     "metadata": {},
     "output_type": "display_data"
    },
    {
     "data": {
      "application/vnd.jupyter.widget-view+json": {
       "model_id": "732d27ec4f56460b878c048d65a34012",
       "version_major": 2,
       "version_minor": 0
      },
      "text/plain": [
       "Downloading:   0%|          | 0.00/67.0 [00:00<?, ?B/s]"
      ]
     },
     "metadata": {},
     "output_type": "display_data"
    },
    {
     "data": {
      "application/vnd.jupyter.widget-view+json": {
       "model_id": "2ec349f6d3b74c8dab2cf929b7b67529",
       "version_major": 2,
       "version_minor": 0
      },
      "text/plain": [
       "Downloading:   0%|          | 0.00/112 [00:00<?, ?B/s]"
      ]
     },
     "metadata": {},
     "output_type": "display_data"
    }
   ],
   "source": [
    "model_name = \"finiteautomata/beto-sentiment-analysis\"\n",
    "\n",
    "from transformers import AutoTokenizer, AutoModelForSequenceClassification\n",
    "\n",
    "model = AutoModelForSequenceClassification.from_pretrained(model_name)\n",
    "tokenizer = AutoTokenizer.from_pretrained(model_name)"
   ]
  },
  {
   "cell_type": "code",
   "execution_count": 3,
   "id": "dd741799",
   "metadata": {},
   "outputs": [],
   "source": [
    "from transformers import pipeline\n",
    "nlp = pipeline(\"sentiment-analysis\", model=model, tokenizer=tokenizer)"
   ]
  },
  {
   "cell_type": "code",
   "execution_count": 6,
   "id": "46d5ff1f",
   "metadata": {},
   "outputs": [],
   "source": [
    "import pandas\n",
    "\n",
    "archivo = \"./data/los_lagos_2021-10-01_2021-10-08.csv\"\n",
    "dataset = pandas.read_csv(archivo)\n",
    "dataset.drop('Unnamed: 0', axis=1, inplace=True)  "
   ]
  },
  {
   "cell_type": "code",
   "execution_count": 7,
   "id": "59b4279a",
   "metadata": {},
   "outputs": [
    {
     "data": {
      "text/html": [
       "<div>\n",
       "<style scoped>\n",
       "    .dataframe tbody tr th:only-of-type {\n",
       "        vertical-align: middle;\n",
       "    }\n",
       "\n",
       "    .dataframe tbody tr th {\n",
       "        vertical-align: top;\n",
       "    }\n",
       "\n",
       "    .dataframe thead th {\n",
       "        text-align: right;\n",
       "    }\n",
       "</style>\n",
       "<table border=\"1\" class=\"dataframe\">\n",
       "  <thead>\n",
       "    <tr style=\"text-align: right;\">\n",
       "      <th></th>\n",
       "      <th>id_news</th>\n",
       "      <th>country</th>\n",
       "      <th>media_outlet</th>\n",
       "      <th>url</th>\n",
       "      <th>title</th>\n",
       "      <th>text</th>\n",
       "      <th>date</th>\n",
       "      <th>search</th>\n",
       "    </tr>\n",
       "  </thead>\n",
       "  <tbody>\n",
       "    <tr>\n",
       "      <th>0</th>\n",
       "      <td>21912502.0</td>\n",
       "      <td>chile</td>\n",
       "      <td>radiosago</td>\n",
       "      <td>https://www.radiosago.cl/corte-suprema-desesti...</td>\n",
       "      <td>Corte Suprema desestimó solicitud del Municipi...</td>\n",
       "      <td>Luego que la Tercera Sala de la Corte Suprema ...</td>\n",
       "      <td>2021-10-07</td>\n",
       "      <td>NaN</td>\n",
       "    </tr>\n",
       "    <tr>\n",
       "      <th>1</th>\n",
       "      <td>21912503.0</td>\n",
       "      <td>chile</td>\n",
       "      <td>radiosago</td>\n",
       "      <td>https://www.radiosago.cl/28-contagios-y-2-fall...</td>\n",
       "      <td>28 contagios y 2 fallecidos por covid-19 se re...</td>\n",
       "      <td>Así lo dio a conocer la autoridad sanitaria, d...</td>\n",
       "      <td>2021-10-07</td>\n",
       "      <td>NaN</td>\n",
       "    </tr>\n",
       "    <tr>\n",
       "      <th>2</th>\n",
       "      <td>21912771.0</td>\n",
       "      <td>chile</td>\n",
       "      <td>radiosago</td>\n",
       "      <td>https://www.radiosago.cl/mas-de-10-mil-trabaja...</td>\n",
       "      <td>Más de 10 mil trabajadores de la región de Los...</td>\n",
       "      <td>Cabe consinar que a nivel nacional son más 21...</td>\n",
       "      <td>2021-10-06</td>\n",
       "      <td>NaN</td>\n",
       "    </tr>\n",
       "    <tr>\n",
       "      <th>3</th>\n",
       "      <td>21912783.0</td>\n",
       "      <td>chile</td>\n",
       "      <td>radiosago</td>\n",
       "      <td>https://www.radiosago.cl/adultos-mayores-y-ser...</td>\n",
       "      <td>Adultos mayores y servicios analizan la posibi...</td>\n",
       "      <td>Con la participación de representantes de adul...</td>\n",
       "      <td>2021-10-05</td>\n",
       "      <td>NaN</td>\n",
       "    </tr>\n",
       "    <tr>\n",
       "      <th>4</th>\n",
       "      <td>21912788.0</td>\n",
       "      <td>chile</td>\n",
       "      <td>radiosago</td>\n",
       "      <td>https://www.radiosago.cl/monumentos-nacionales...</td>\n",
       "      <td>Monumentos Nacionales inicia trabajos de norma...</td>\n",
       "      <td>El objetivo es adecuar el sistema eléctrico a...</td>\n",
       "      <td>2021-10-06</td>\n",
       "      <td>NaN</td>\n",
       "    </tr>\n",
       "    <tr>\n",
       "      <th>...</th>\n",
       "      <td>...</td>\n",
       "      <td>...</td>\n",
       "      <td>...</td>\n",
       "      <td>...</td>\n",
       "      <td>...</td>\n",
       "      <td>...</td>\n",
       "      <td>...</td>\n",
       "      <td>...</td>\n",
       "    </tr>\n",
       "    <tr>\n",
       "      <th>583</th>\n",
       "      <td>47525899.0</td>\n",
       "      <td>chile</td>\n",
       "      <td>elaustral</td>\n",
       "      <td>https://www.australosorno.cl/impresa/2021/10/0...</td>\n",
       "      <td>Piden prisión preventiva para dos exdirectores...</td>\n",
       "      <td>Este miércoles continuó en el Séptimo Juzgado ...</td>\n",
       "      <td>2021-10-07</td>\n",
       "      <td>NaN</td>\n",
       "    </tr>\n",
       "    <tr>\n",
       "      <th>584</th>\n",
       "      <td>47525656.0</td>\n",
       "      <td>chile</td>\n",
       "      <td>elaustral</td>\n",
       "      <td>https://www.australosorno.cl/impresa/2021/10/0...</td>\n",
       "      <td>Elisa Loncon estima que Constitución comenzará...</td>\n",
       "      <td>Tal como lo proyectó el vicepresidente Jaime B...</td>\n",
       "      <td>2021-10-05</td>\n",
       "      <td>NaN</td>\n",
       "    </tr>\n",
       "    <tr>\n",
       "      <th>585</th>\n",
       "      <td>47525657.0</td>\n",
       "      <td>chile</td>\n",
       "      <td>elaustral</td>\n",
       "      <td>https://www.australosorno.cl/impresa/2021/10/0...</td>\n",
       "      <td>Cuarto retiro: Letelier se abre a aprobarlo y ...</td>\n",
       "      <td>Este miércoles la Comisión de Constitución del...</td>\n",
       "      <td>2021-10-05</td>\n",
       "      <td>NaN</td>\n",
       "    </tr>\n",
       "    <tr>\n",
       "      <th>586</th>\n",
       "      <td>47525661.0</td>\n",
       "      <td>chile</td>\n",
       "      <td>elaustral</td>\n",
       "      <td>https://www.australosorno.cl/impresa/2021/10/0...</td>\n",
       "      <td>Se abren investigaciones a líderes involucrado...</td>\n",
       "      <td>Tras la polémica revelación de los llamados Pa...</td>\n",
       "      <td>2021-10-05</td>\n",
       "      <td>NaN</td>\n",
       "    </tr>\n",
       "    <tr>\n",
       "      <th>587</th>\n",
       "      <td>47525651.0</td>\n",
       "      <td>chile</td>\n",
       "      <td>elaustral</td>\n",
       "      <td>https://www.australosorno.cl/impresa/2021/10/0...</td>\n",
       "      <td>Dominga: Piñera niega conflicto de interés y t...</td>\n",
       "      <td>El Presidente Sebastián Piñera respondió ayer ...</td>\n",
       "      <td>2021-10-05</td>\n",
       "      <td>NaN</td>\n",
       "    </tr>\n",
       "  </tbody>\n",
       "</table>\n",
       "<p>588 rows × 8 columns</p>\n",
       "</div>"
      ],
      "text/plain": [
       "        id_news country media_outlet  \\\n",
       "0    21912502.0   chile    radiosago   \n",
       "1    21912503.0   chile    radiosago   \n",
       "2    21912771.0   chile    radiosago   \n",
       "3    21912783.0   chile    radiosago   \n",
       "4    21912788.0   chile    radiosago   \n",
       "..          ...     ...          ...   \n",
       "583  47525899.0   chile    elaustral   \n",
       "584  47525656.0   chile    elaustral   \n",
       "585  47525657.0   chile    elaustral   \n",
       "586  47525661.0   chile    elaustral   \n",
       "587  47525651.0   chile    elaustral   \n",
       "\n",
       "                                                   url  \\\n",
       "0    https://www.radiosago.cl/corte-suprema-desesti...   \n",
       "1    https://www.radiosago.cl/28-contagios-y-2-fall...   \n",
       "2    https://www.radiosago.cl/mas-de-10-mil-trabaja...   \n",
       "3    https://www.radiosago.cl/adultos-mayores-y-ser...   \n",
       "4    https://www.radiosago.cl/monumentos-nacionales...   \n",
       "..                                                 ...   \n",
       "583  https://www.australosorno.cl/impresa/2021/10/0...   \n",
       "584  https://www.australosorno.cl/impresa/2021/10/0...   \n",
       "585  https://www.australosorno.cl/impresa/2021/10/0...   \n",
       "586  https://www.australosorno.cl/impresa/2021/10/0...   \n",
       "587  https://www.australosorno.cl/impresa/2021/10/0...   \n",
       "\n",
       "                                                 title  \\\n",
       "0    Corte Suprema desestimó solicitud del Municipi...   \n",
       "1    28 contagios y 2 fallecidos por covid-19 se re...   \n",
       "2    Más de 10 mil trabajadores de la región de Los...   \n",
       "3    Adultos mayores y servicios analizan la posibi...   \n",
       "4    Monumentos Nacionales inicia trabajos de norma...   \n",
       "..                                                 ...   \n",
       "583  Piden prisión preventiva para dos exdirectores...   \n",
       "584  Elisa Loncon estima que Constitución comenzará...   \n",
       "585  Cuarto retiro: Letelier se abre a aprobarlo y ...   \n",
       "586  Se abren investigaciones a líderes involucrado...   \n",
       "587  Dominga: Piñera niega conflicto de interés y t...   \n",
       "\n",
       "                                                  text        date  search  \n",
       "0    Luego que la Tercera Sala de la Corte Suprema ...  2021-10-07     NaN  \n",
       "1    Así lo dio a conocer la autoridad sanitaria, d...  2021-10-07     NaN  \n",
       "2     Cabe consinar que a nivel nacional son más 21...  2021-10-06     NaN  \n",
       "3    Con la participación de representantes de adul...  2021-10-05     NaN  \n",
       "4     El objetivo es adecuar el sistema eléctrico a...  2021-10-06     NaN  \n",
       "..                                                 ...         ...     ...  \n",
       "583  Este miércoles continuó en el Séptimo Juzgado ...  2021-10-07     NaN  \n",
       "584  Tal como lo proyectó el vicepresidente Jaime B...  2021-10-05     NaN  \n",
       "585  Este miércoles la Comisión de Constitución del...  2021-10-05     NaN  \n",
       "586  Tras la polémica revelación de los llamados Pa...  2021-10-05     NaN  \n",
       "587  El Presidente Sebastián Piñera respondió ayer ...  2021-10-05     NaN  \n",
       "\n",
       "[588 rows x 8 columns]"
      ]
     },
     "execution_count": 7,
     "metadata": {},
     "output_type": "execute_result"
    }
   ],
   "source": [
    "dataset"
   ]
  },
  {
   "cell_type": "code",
   "execution_count": 8,
   "id": "4cc57eee",
   "metadata": {},
   "outputs": [
    {
     "name": "stderr",
     "output_type": "stream",
     "text": [
      "sub rows - sentiment: 100%|███████████████████| 588/588 [00:29<00:00, 19.97it/s]\n"
     ]
    }
   ],
   "source": [
    "dataset['title_label'] = \"\"\n",
    "dataset['title_score'] = \"\"\n",
    "\n",
    "for index, row in tqdm(dataset.iterrows(), desc='Análisis de sentimiento', total=dataset.shape[0]):\n",
    "    \n",
    "    # Analizamos su sentimiento en inglés\n",
    "    sentiment_value = nlp(row['title'])\n",
    "    \n",
    "    # Insertamos en dataframe\n",
    "    dataset.at[index, \"title_label\"] = sentiment_value[0].get('label')\n",
    "    dataset.at[index, \"title_score\"] = sentiment_value[0].get('score')"
   ]
  },
  {
   "cell_type": "code",
   "execution_count": 9,
   "id": "d9929350",
   "metadata": {},
   "outputs": [
    {
     "data": {
      "text/html": [
       "<div>\n",
       "<style scoped>\n",
       "    .dataframe tbody tr th:only-of-type {\n",
       "        vertical-align: middle;\n",
       "    }\n",
       "\n",
       "    .dataframe tbody tr th {\n",
       "        vertical-align: top;\n",
       "    }\n",
       "\n",
       "    .dataframe thead th {\n",
       "        text-align: right;\n",
       "    }\n",
       "</style>\n",
       "<table border=\"1\" class=\"dataframe\">\n",
       "  <thead>\n",
       "    <tr style=\"text-align: right;\">\n",
       "      <th></th>\n",
       "      <th>id_news</th>\n",
       "      <th>country</th>\n",
       "      <th>media_outlet</th>\n",
       "      <th>url</th>\n",
       "      <th>title</th>\n",
       "      <th>text</th>\n",
       "      <th>date</th>\n",
       "      <th>search</th>\n",
       "      <th>title_label</th>\n",
       "      <th>title_score</th>\n",
       "    </tr>\n",
       "  </thead>\n",
       "  <tbody>\n",
       "    <tr>\n",
       "      <th>0</th>\n",
       "      <td>21912502.0</td>\n",
       "      <td>chile</td>\n",
       "      <td>radiosago</td>\n",
       "      <td>https://www.radiosago.cl/corte-suprema-desesti...</td>\n",
       "      <td>Corte Suprema desestimó solicitud del Municipi...</td>\n",
       "      <td>Luego que la Tercera Sala de la Corte Suprema ...</td>\n",
       "      <td>2021-10-07</td>\n",
       "      <td>NaN</td>\n",
       "      <td>NEG</td>\n",
       "      <td>0.73041</td>\n",
       "    </tr>\n",
       "    <tr>\n",
       "      <th>1</th>\n",
       "      <td>21912503.0</td>\n",
       "      <td>chile</td>\n",
       "      <td>radiosago</td>\n",
       "      <td>https://www.radiosago.cl/28-contagios-y-2-fall...</td>\n",
       "      <td>28 contagios y 2 fallecidos por covid-19 se re...</td>\n",
       "      <td>Así lo dio a conocer la autoridad sanitaria, d...</td>\n",
       "      <td>2021-10-07</td>\n",
       "      <td>NaN</td>\n",
       "      <td>NEG</td>\n",
       "      <td>0.911315</td>\n",
       "    </tr>\n",
       "    <tr>\n",
       "      <th>2</th>\n",
       "      <td>21912771.0</td>\n",
       "      <td>chile</td>\n",
       "      <td>radiosago</td>\n",
       "      <td>https://www.radiosago.cl/mas-de-10-mil-trabaja...</td>\n",
       "      <td>Más de 10 mil trabajadores de la región de Los...</td>\n",
       "      <td>Cabe consinar que a nivel nacional son más 21...</td>\n",
       "      <td>2021-10-06</td>\n",
       "      <td>NaN</td>\n",
       "      <td>NEU</td>\n",
       "      <td>0.838266</td>\n",
       "    </tr>\n",
       "    <tr>\n",
       "      <th>3</th>\n",
       "      <td>21912783.0</td>\n",
       "      <td>chile</td>\n",
       "      <td>radiosago</td>\n",
       "      <td>https://www.radiosago.cl/adultos-mayores-y-ser...</td>\n",
       "      <td>Adultos mayores y servicios analizan la posibi...</td>\n",
       "      <td>Con la participación de representantes de adul...</td>\n",
       "      <td>2021-10-05</td>\n",
       "      <td>NaN</td>\n",
       "      <td>NEU</td>\n",
       "      <td>0.995173</td>\n",
       "    </tr>\n",
       "    <tr>\n",
       "      <th>4</th>\n",
       "      <td>21912788.0</td>\n",
       "      <td>chile</td>\n",
       "      <td>radiosago</td>\n",
       "      <td>https://www.radiosago.cl/monumentos-nacionales...</td>\n",
       "      <td>Monumentos Nacionales inicia trabajos de norma...</td>\n",
       "      <td>El objetivo es adecuar el sistema eléctrico a...</td>\n",
       "      <td>2021-10-06</td>\n",
       "      <td>NaN</td>\n",
       "      <td>NEU</td>\n",
       "      <td>0.993809</td>\n",
       "    </tr>\n",
       "    <tr>\n",
       "      <th>...</th>\n",
       "      <td>...</td>\n",
       "      <td>...</td>\n",
       "      <td>...</td>\n",
       "      <td>...</td>\n",
       "      <td>...</td>\n",
       "      <td>...</td>\n",
       "      <td>...</td>\n",
       "      <td>...</td>\n",
       "      <td>...</td>\n",
       "      <td>...</td>\n",
       "    </tr>\n",
       "    <tr>\n",
       "      <th>583</th>\n",
       "      <td>47525899.0</td>\n",
       "      <td>chile</td>\n",
       "      <td>elaustral</td>\n",
       "      <td>https://www.australosorno.cl/impresa/2021/10/0...</td>\n",
       "      <td>Piden prisión preventiva para dos exdirectores...</td>\n",
       "      <td>Este miércoles continuó en el Séptimo Juzgado ...</td>\n",
       "      <td>2021-10-07</td>\n",
       "      <td>NaN</td>\n",
       "      <td>NEU</td>\n",
       "      <td>0.902257</td>\n",
       "    </tr>\n",
       "    <tr>\n",
       "      <th>584</th>\n",
       "      <td>47525656.0</td>\n",
       "      <td>chile</td>\n",
       "      <td>elaustral</td>\n",
       "      <td>https://www.australosorno.cl/impresa/2021/10/0...</td>\n",
       "      <td>Elisa Loncon estima que Constitución comenzará...</td>\n",
       "      <td>Tal como lo proyectó el vicepresidente Jaime B...</td>\n",
       "      <td>2021-10-05</td>\n",
       "      <td>NaN</td>\n",
       "      <td>NEU</td>\n",
       "      <td>0.99729</td>\n",
       "    </tr>\n",
       "    <tr>\n",
       "      <th>585</th>\n",
       "      <td>47525657.0</td>\n",
       "      <td>chile</td>\n",
       "      <td>elaustral</td>\n",
       "      <td>https://www.australosorno.cl/impresa/2021/10/0...</td>\n",
       "      <td>Cuarto retiro: Letelier se abre a aprobarlo y ...</td>\n",
       "      <td>Este miércoles la Comisión de Constitución del...</td>\n",
       "      <td>2021-10-05</td>\n",
       "      <td>NaN</td>\n",
       "      <td>NEU</td>\n",
       "      <td>0.631526</td>\n",
       "    </tr>\n",
       "    <tr>\n",
       "      <th>586</th>\n",
       "      <td>47525661.0</td>\n",
       "      <td>chile</td>\n",
       "      <td>elaustral</td>\n",
       "      <td>https://www.australosorno.cl/impresa/2021/10/0...</td>\n",
       "      <td>Se abren investigaciones a líderes involucrado...</td>\n",
       "      <td>Tras la polémica revelación de los llamados Pa...</td>\n",
       "      <td>2021-10-05</td>\n",
       "      <td>NaN</td>\n",
       "      <td>NEU</td>\n",
       "      <td>0.996001</td>\n",
       "    </tr>\n",
       "    <tr>\n",
       "      <th>587</th>\n",
       "      <td>47525651.0</td>\n",
       "      <td>chile</td>\n",
       "      <td>elaustral</td>\n",
       "      <td>https://www.australosorno.cl/impresa/2021/10/0...</td>\n",
       "      <td>Dominga: Piñera niega conflicto de interés y t...</td>\n",
       "      <td>El Presidente Sebastián Piñera respondió ayer ...</td>\n",
       "      <td>2021-10-05</td>\n",
       "      <td>NaN</td>\n",
       "      <td>NEG</td>\n",
       "      <td>0.587528</td>\n",
       "    </tr>\n",
       "  </tbody>\n",
       "</table>\n",
       "<p>588 rows × 10 columns</p>\n",
       "</div>"
      ],
      "text/plain": [
       "        id_news country media_outlet  \\\n",
       "0    21912502.0   chile    radiosago   \n",
       "1    21912503.0   chile    radiosago   \n",
       "2    21912771.0   chile    radiosago   \n",
       "3    21912783.0   chile    radiosago   \n",
       "4    21912788.0   chile    radiosago   \n",
       "..          ...     ...          ...   \n",
       "583  47525899.0   chile    elaustral   \n",
       "584  47525656.0   chile    elaustral   \n",
       "585  47525657.0   chile    elaustral   \n",
       "586  47525661.0   chile    elaustral   \n",
       "587  47525651.0   chile    elaustral   \n",
       "\n",
       "                                                   url  \\\n",
       "0    https://www.radiosago.cl/corte-suprema-desesti...   \n",
       "1    https://www.radiosago.cl/28-contagios-y-2-fall...   \n",
       "2    https://www.radiosago.cl/mas-de-10-mil-trabaja...   \n",
       "3    https://www.radiosago.cl/adultos-mayores-y-ser...   \n",
       "4    https://www.radiosago.cl/monumentos-nacionales...   \n",
       "..                                                 ...   \n",
       "583  https://www.australosorno.cl/impresa/2021/10/0...   \n",
       "584  https://www.australosorno.cl/impresa/2021/10/0...   \n",
       "585  https://www.australosorno.cl/impresa/2021/10/0...   \n",
       "586  https://www.australosorno.cl/impresa/2021/10/0...   \n",
       "587  https://www.australosorno.cl/impresa/2021/10/0...   \n",
       "\n",
       "                                                 title  \\\n",
       "0    Corte Suprema desestimó solicitud del Municipi...   \n",
       "1    28 contagios y 2 fallecidos por covid-19 se re...   \n",
       "2    Más de 10 mil trabajadores de la región de Los...   \n",
       "3    Adultos mayores y servicios analizan la posibi...   \n",
       "4    Monumentos Nacionales inicia trabajos de norma...   \n",
       "..                                                 ...   \n",
       "583  Piden prisión preventiva para dos exdirectores...   \n",
       "584  Elisa Loncon estima que Constitución comenzará...   \n",
       "585  Cuarto retiro: Letelier se abre a aprobarlo y ...   \n",
       "586  Se abren investigaciones a líderes involucrado...   \n",
       "587  Dominga: Piñera niega conflicto de interés y t...   \n",
       "\n",
       "                                                  text        date  search  \\\n",
       "0    Luego que la Tercera Sala de la Corte Suprema ...  2021-10-07     NaN   \n",
       "1    Así lo dio a conocer la autoridad sanitaria, d...  2021-10-07     NaN   \n",
       "2     Cabe consinar que a nivel nacional son más 21...  2021-10-06     NaN   \n",
       "3    Con la participación de representantes de adul...  2021-10-05     NaN   \n",
       "4     El objetivo es adecuar el sistema eléctrico a...  2021-10-06     NaN   \n",
       "..                                                 ...         ...     ...   \n",
       "583  Este miércoles continuó en el Séptimo Juzgado ...  2021-10-07     NaN   \n",
       "584  Tal como lo proyectó el vicepresidente Jaime B...  2021-10-05     NaN   \n",
       "585  Este miércoles la Comisión de Constitución del...  2021-10-05     NaN   \n",
       "586  Tras la polémica revelación de los llamados Pa...  2021-10-05     NaN   \n",
       "587  El Presidente Sebastián Piñera respondió ayer ...  2021-10-05     NaN   \n",
       "\n",
       "    title_label title_score  \n",
       "0           NEG     0.73041  \n",
       "1           NEG    0.911315  \n",
       "2           NEU    0.838266  \n",
       "3           NEU    0.995173  \n",
       "4           NEU    0.993809  \n",
       "..          ...         ...  \n",
       "583         NEU    0.902257  \n",
       "584         NEU     0.99729  \n",
       "585         NEU    0.631526  \n",
       "586         NEU    0.996001  \n",
       "587         NEG    0.587528  \n",
       "\n",
       "[588 rows x 10 columns]"
      ]
     },
     "execution_count": 9,
     "metadata": {},
     "output_type": "execute_result"
    }
   ],
   "source": [
    "dataset"
   ]
  },
  {
   "cell_type": "code",
   "execution_count": 11,
   "id": "f2d629ed",
   "metadata": {},
   "outputs": [
    {
     "data": {
      "text/plain": [
       "'FF.AA realizaron más de 12 millones de fiscalizaciones en 561 días en la región'"
      ]
     },
     "execution_count": 11,
     "metadata": {},
     "output_type": "execute_result"
    }
   ],
   "source": [
    "dataset['title'][5]"
   ]
  },
  {
   "cell_type": "code",
   "execution_count": 16,
   "id": "5c4b2901",
   "metadata": {},
   "outputs": [
    {
     "name": "stdout",
     "output_type": "stream",
     "text": [
      "Adultos mayores y servicios analizan la posibilidad de un hospital geriátrico para la región\n",
      "NEU\n",
      "0.9951731562614441\n"
     ]
    }
   ],
   "source": [
    "doc=3\n",
    "print(dataset['title'][doc])\n",
    "print(dataset['title_label'][doc])\n",
    "print(dataset['title_score'][doc])"
   ]
  },
  {
   "cell_type": "code",
   "execution_count": 17,
   "id": "9d620058",
   "metadata": {},
   "outputs": [],
   "source": [
    "from pandasql import sqldf"
   ]
  },
  {
   "cell_type": "code",
   "execution_count": 29,
   "id": "e5ea15a5",
   "metadata": {},
   "outputs": [],
   "source": [
    "pandas.options.display.max_colwidth = 200"
   ]
  },
  {
   "cell_type": "code",
   "execution_count": 32,
   "id": "9b1fd07a",
   "metadata": {},
   "outputs": [
    {
     "name": "stdout",
     "output_type": "stream",
     "text": [
      "Positiva evaluación de Carabineros tras primera noche sin toque de queda en la provincia de Llanquihue\n",
      "Apostando por el retorno a la presencialidad UST realizó feria vocacional en Osorno\n",
      "Puente Chacao y aeródromo de Osorno destacan en inversión pública 2022\n",
      "Brereton: “Ahora tengo un poco de ventaja sudamericana en mi juego y eso se nota”\n",
      "Magallanes será la primera región del país en avanzar a apertura avanzada\n",
      "Académico de Fonoaudiología UACh aporta conocimientos sobre el vértigo desarrollado en su investigación\n",
      "Gran presencia de regiones destacan en plataforma ciudadana de ideas para la nueva Constitución de Chile\n",
      "Adultos Mayores trabajan novedosa técnica para cultivo de hortalizas\n",
      "Proyecto de robótica de pesca submarina gana campeonato de emprendimiento\n",
      "Proyecto de robótica de pesca submarina gana campeonato de emprendimiento\n",
      "Gran presencia de regiones destacan en plataforma ciudadana de ideas para la nueva Constitución de Chile\n",
      "Conoce la increíble historia del basquetbolista panameño de Osorno\n",
      "Inauguran primera veterinaria pública de Osorno\n",
      "LICEO INDUSTRIAL DE OSORNO, CONMEMORÓ 80 AÑOS FORMANDO JÓVENES DE TODA LA PROVINCIA.\n",
      "Para encontrarse y conocerse: Poesía Vecina\n",
      "Proyecto de Presupuesto para la región de Los Lagos supera los 90 mil millones de pesos con un 6.8% de crecimiento\n",
      "Comunidad valora compromiso y acciones implementadas en el Hospital Comunitario de Queilen\n",
      "Entregan Sello de Calidad de Leña y maquinarias a comerciantes de la región de Los Lagos\n",
      "Cesfam Entre Lagos mejora su infraestructura.\n",
      "VIALIDAD Y GOBERNADOR REGIONAL COMPROMETEN IMPORTANTES AVANCES EN CONECTIVIDAD PARA PURRANQUE\n",
      "Destacan labor de funcionarios de Atención Primaria de Salud Municipal de Queilen\n",
      "En la Regata de Primavera 2021: Mucho colorido y vida náutica brindaron veleristas a la Bahía de Puerto Varas\n",
      "Nueva Braunau contará con un nuevo y completo carro bomba\n",
      "Provincial Osorno retoma la senda del triunfo al vencer 2-1 a Deportes Linares\n",
      "Edilberto \"Toto\" López: \"Osorno siempre será mi segunda patria\"\n",
      "Gonzalo Lama dio el primer triunfo a Chile en Challenger de Santiago\n",
      "Craig se despide de James Bond: \"Me siento orgulloso\"\n",
      "Banco Mundial mejora sus expectativas de crecimiento para Latinoamérica: 6,3%\n",
      "Premios Platino: \"El agente topo\" y Alfredo Castro brillan otra vez\n",
      "Centros de eventos aumentan sus reservas para fiestas y actividades\n",
      "Emprendedores turísticos de La Unión preparan la temporada después de dos años\n",
      "Los Ríos celebró su 14° aniversario con una gran fiesta ciudadana\n",
      "Superclásico a la vista en las semifinales del torneo femenino\n",
      "Luis Jara lanza canción desde Miami: \"Es una de mis favoritas de karaoke\"\n",
      "Destacan el debut en la región de nuevo servicio Mejor Niñez\n",
      "Así es Petit, la serie animada chilena que compite de nuevo por el Emmy\n",
      "Homenajee el café con energizantes recetas\n",
      "Vitami estrena el tema \"La ventana\": \"Me llega demasiado, me emociona mucho\"\n",
      "Valoran ley que permite el monitoreo telemático a implicados en casos de VIF\n",
      "Iglesia San Francisco inicia su millonaria intervención\n",
      "Naysa y Arnoldo, el secreto del amor que perdura\n",
      "Revelan el primer adelanto de \"House of the Dragon\"\n",
      "Chileno creó la primera marraqueta sin gluten y asegura mantener su crocancia\n",
      "\"Una buena convivencia escolar tiene como base la comunicación que promueva confianza\"\n",
      "columna de opinión\n",
      "\"Salir de la exposición pública es como una bendición disfrazada\"\n",
      "\"Bridgerton\" es la serie más vista en la historia de la plataforma Netflix\n",
      "Gastronómicos esperanzados en reactivación tras libertad nocturna\n",
      "Destacan el debut en la región de nuevo servicio Mejor Niñez\n",
      "Con seminario y visita a parque chilote partió la Semana del Turismo\n",
      "Craig se despide de James Bond: \"Me siento orgulloso\"\n",
      "El chileno Boragó queda como el 38° mejor restaurante del mundo y es elegido el más sostenible en los Oscar de la gastronomía\n",
      "Luis Jara lanza canción desde Miami: \"Es una de mis favoritas de karaoke\"\n",
      "Pandora Papers salpica a los famosos: Shakira y Bosé son algunos\n",
      "Kast también sube en la Cadem: superó a Sichel y se ubicó segundo\n",
      "Más de 2 mil 800 postulaciones para fondos concursables recibió San Juan de La Costa\n",
      "columna de opinión en Chile!\n",
      "Vladi Cachai: productor de Don Omar y Paloma Mami lanza su carrera\n",
      "El turismo al servicio del crecimiento inclusivo\n",
      "Reconocen a guardaparques de la Región de Los Lagos como actores claves en la conservación\n",
      "Santo Tomás Osorno culminó con éxito su Feria Académica Admisión 2022\n",
      "Para celebrar el mes del Adulto Mayor: ELEAM Puerto Varas organizó programa con tardes de música y magia\n",
      "Importantes avances en Conectividad para Purranque\n"
     ]
    }
   ],
   "source": [
    "positivo = sqldf(\"SELECT * FROM dataset WHERE title_label='POS'\")\n",
    "\n",
    "for i,row in positivo.iterrows():\n",
    "    print(row['title'])"
   ]
  },
  {
   "cell_type": "code",
   "execution_count": null,
   "id": "3e45adbe",
   "metadata": {},
   "outputs": [],
   "source": [
    "negativo = sqldf(\"SELECT * FROM dataset WHERE title_label='NEG'\")\n",
    "\n",
    "for i,row in positivo.iterrows():\n",
    "    print(row['title'])"
   ]
  }
 ],
 "metadata": {
  "kernelspec": {
   "display_name": "Python 3 (ipykernel)",
   "language": "python",
   "name": "python3"
  },
  "language_info": {
   "codemirror_mode": {
    "name": "ipython",
    "version": 3
   },
   "file_extension": ".py",
   "mimetype": "text/x-python",
   "name": "python",
   "nbconvert_exporter": "python",
   "pygments_lexer": "ipython3",
   "version": "3.8.10"
  }
 },
 "nbformat": 4,
 "nbformat_minor": 5
}
