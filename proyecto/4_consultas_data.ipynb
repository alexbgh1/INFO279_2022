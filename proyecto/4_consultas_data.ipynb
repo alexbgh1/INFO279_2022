{
 "cells": [
  {
   "attachments": {},
   "cell_type": "markdown",
   "metadata": {},
   "source": [
    "# Consultas Puerto Montt, texto, tablas, info, etc"
   ]
  },
  {
   "cell_type": "code",
   "execution_count": 107,
   "metadata": {},
   "outputs": [],
   "source": [
    "# --- General ---\n",
    "# import os\n",
    "\n",
    "# --- Data ---\n",
    "import pandas as pd\n",
    "from pandasql import sqldf\n",
    "import numpy as np\n",
    "# import statistics as stats\n",
    "import random\n",
    "\n",
    "# --- Conexión ---\n",
    "# import elasticsearch\n",
    "\n",
    "# --- Procesamiento lenguaje: spacy ---\n",
    "# import spacy\n",
    "# from spacy.matcher import Matcher\n",
    "# from spacy.matcher import PhraseMatcher\n",
    "\n",
    "# --- Procesamiento lenguaje: gensim ---\n",
    "# import gensim\n",
    "# import gensim.corpora as corpora\n",
    "# from gensim.models import CoherenceModel\n",
    "\n",
    "# --- Prediccion Positividad: POS, NEU, NEG ---\n",
    "# from tqdm import tqdm\n",
    "# from transformers import pipeline\n",
    "# from transformers import AutoTokenizer, AutoModelForSequenceClassification\n",
    "\n",
    "# --- Visualización ---\n",
    "# import pyLDAvis\n",
    "# import pyLDAvis.gensim_models\n",
    "# import matplotlib.colors as colors\n",
    "# import matplotlib.pyplot as plt\n",
    "# import geopandas as gpd\n",
    "%matplotlib inline\n",
    "\n",
    "# ==============================================================================\n",
    "\n",
    "# --- Configuración ---\n",
    "# User password\n",
    "# password = os.environ.get('SOPHIA2')\n",
    "\n",
    "# - - - geoData - - -\n",
    "import tools_region as tr\n",
    "\n",
    "# --- Funciones ---\n",
    "# Cargar paquete de español mediano\n",
    "# nlp = spacy.load(\"es_core_news_md\")\n",
    "\n",
    "import warnings\n",
    "warnings.simplefilter(action='ignore', category=FutureWarning)"
   ]
  },
  {
   "attachments": {},
   "cell_type": "markdown",
   "metadata": {},
   "source": [
    "### Extraemos los datos a dataframe"
   ]
  },
  {
   "cell_type": "code",
   "execution_count": 108,
   "metadata": {},
   "outputs": [],
   "source": [
    "df_GENERAL = pd.read_csv('data/data_Region_X_GENERAL_comunas_2022-01-01_2022-06-30_dominant_topic_sin_duplicados.csv', encoding='utf-8')\n",
    "df_EMPLEO = pd.read_csv('data/data_Region_X_EMPLEO_comunas_2022-01-01_2022-06-30_dominant_topic_sin_duplicados.csv', encoding='utf-8')"
   ]
  },
  {
   "attachments": {},
   "cell_type": "markdown",
   "metadata": {},
   "source": [
    "### Filtramos los datos por 'Puerto Montt'"
   ]
  },
  {
   "cell_type": "code",
   "execution_count": 109,
   "metadata": {},
   "outputs": [],
   "source": [
    "df_GENERAL_1 = df_GENERAL[df_GENERAL['Puerto_Montt'] >0]\n",
    "df_GENERAL_1 = df_GENERAL_1[['document_No','dominant_Topic', 'topic_Perc_Contrib', 'keywords', 'text','title', 'id_news', 'url','media_outlet','date','title_label','title_score', 'Puerto_Montt']]\n",
    "df_EMPLEO_1 = df_EMPLEO[df_EMPLEO['Puerto_Montt'] > 0]\n",
    "df_EMPLEO_1 = df_EMPLEO_1[['document_No','dominant_Topic', 'topic_Perc_Contrib', 'keywords', 'text','title', 'id_news', 'url','media_outlet','date','title_label','title_score', 'Puerto_Montt']]"
   ]
  },
  {
   "cell_type": "code",
   "execution_count": 110,
   "metadata": {},
   "outputs": [
    {
     "name": "stdout",
     "output_type": "stream",
     "text": [
      "(1155, 13)\n",
      "(308, 13)\n"
     ]
    }
   ],
   "source": [
    "print(df_GENERAL_1.shape)\n",
    "print(df_EMPLEO_1.shape)"
   ]
  },
  {
   "attachments": {},
   "cell_type": "markdown",
   "metadata": {},
   "source": [
    "### ¿ Cuáles son los medios que más publican ?"
   ]
  },
  {
   "cell_type": "code",
   "execution_count": 111,
   "metadata": {},
   "outputs": [
    {
     "data": {
      "text/html": [
       "<div>\n",
       "<style scoped>\n",
       "    .dataframe tbody tr th:only-of-type {\n",
       "        vertical-align: middle;\n",
       "    }\n",
       "\n",
       "    .dataframe tbody tr th {\n",
       "        vertical-align: top;\n",
       "    }\n",
       "\n",
       "    .dataframe thead th {\n",
       "        text-align: right;\n",
       "    }\n",
       "</style>\n",
       "<table border=\"1\" class=\"dataframe\">\n",
       "  <thead>\n",
       "    <tr style=\"text-align: right;\">\n",
       "      <th></th>\n",
       "      <th>media_outlet</th>\n",
       "      <th>count(*)</th>\n",
       "    </tr>\n",
       "  </thead>\n",
       "  <tbody>\n",
       "    <tr>\n",
       "      <th>0</th>\n",
       "      <td>elheraldoaustral</td>\n",
       "      <td>1166</td>\n",
       "    </tr>\n",
       "    <tr>\n",
       "      <th>1</th>\n",
       "      <td>radiosago</td>\n",
       "      <td>1159</td>\n",
       "    </tr>\n",
       "    <tr>\n",
       "      <th>2</th>\n",
       "      <td>elrepuertero</td>\n",
       "      <td>656</td>\n",
       "    </tr>\n",
       "    <tr>\n",
       "      <th>3</th>\n",
       "      <td>elvacanudo</td>\n",
       "      <td>597</td>\n",
       "    </tr>\n",
       "    <tr>\n",
       "      <th>4</th>\n",
       "      <td>radiopudeto</td>\n",
       "      <td>317</td>\n",
       "    </tr>\n",
       "    <tr>\n",
       "      <th>5</th>\n",
       "      <td>radioacogida</td>\n",
       "      <td>317</td>\n",
       "    </tr>\n",
       "    <tr>\n",
       "      <th>6</th>\n",
       "      <td>elinsular</td>\n",
       "      <td>158</td>\n",
       "    </tr>\n",
       "    <tr>\n",
       "      <th>7</th>\n",
       "      <td>elcalbucano</td>\n",
       "      <td>157</td>\n",
       "    </tr>\n",
       "    <tr>\n",
       "      <th>8</th>\n",
       "      <td>elllanquihue</td>\n",
       "      <td>151</td>\n",
       "    </tr>\n",
       "    <tr>\n",
       "      <th>9</th>\n",
       "      <td>seminariolocal</td>\n",
       "      <td>141</td>\n",
       "    </tr>\n",
       "    <tr>\n",
       "      <th>10</th>\n",
       "      <td>elaustral</td>\n",
       "      <td>94</td>\n",
       "    </tr>\n",
       "    <tr>\n",
       "      <th>11</th>\n",
       "      <td>laestrelladechiloe</td>\n",
       "      <td>87</td>\n",
       "    </tr>\n",
       "    <tr>\n",
       "      <th>12</th>\n",
       "      <td>elhuemul</td>\n",
       "      <td>58</td>\n",
       "    </tr>\n",
       "    <tr>\n",
       "      <th>13</th>\n",
       "      <td>segundos33</td>\n",
       "      <td>19</td>\n",
       "    </tr>\n",
       "    <tr>\n",
       "      <th>14</th>\n",
       "      <td>fresiaahora</td>\n",
       "      <td>16</td>\n",
       "    </tr>\n",
       "    <tr>\n",
       "      <th>15</th>\n",
       "      <td>elquellonino</td>\n",
       "      <td>15</td>\n",
       "    </tr>\n",
       "  </tbody>\n",
       "</table>\n",
       "</div>"
      ],
      "text/plain": [
       "          media_outlet  count(*)\n",
       "0     elheraldoaustral      1166\n",
       "1            radiosago      1159\n",
       "2         elrepuertero       656\n",
       "3           elvacanudo       597\n",
       "4          radiopudeto       317\n",
       "5         radioacogida       317\n",
       "6            elinsular       158\n",
       "7          elcalbucano       157\n",
       "8         elllanquihue       151\n",
       "9       seminariolocal       141\n",
       "10           elaustral        94\n",
       "11  laestrelladechiloe        87\n",
       "12            elhuemul        58\n",
       "13          segundos33        19\n",
       "14         fresiaahora        16\n",
       "15        elquellonino        15"
      ]
     },
     "execution_count": 111,
     "metadata": {},
     "output_type": "execute_result"
    }
   ],
   "source": [
    "sqldf('SELECT media_outlet,count(*) FROM df_GENERAL GROUP BY media_outlet ORDER BY count(*) DESC')   "
   ]
  },
  {
   "attachments": {},
   "cell_type": "markdown",
   "metadata": {},
   "source": [
    "### ¿ Cuáles son los medios que más publican (EMPLEO)?"
   ]
  },
  {
   "cell_type": "code",
   "execution_count": 112,
   "metadata": {},
   "outputs": [
    {
     "data": {
      "text/html": [
       "<div>\n",
       "<style scoped>\n",
       "    .dataframe tbody tr th:only-of-type {\n",
       "        vertical-align: middle;\n",
       "    }\n",
       "\n",
       "    .dataframe tbody tr th {\n",
       "        vertical-align: top;\n",
       "    }\n",
       "\n",
       "    .dataframe thead th {\n",
       "        text-align: right;\n",
       "    }\n",
       "</style>\n",
       "<table border=\"1\" class=\"dataframe\">\n",
       "  <thead>\n",
       "    <tr style=\"text-align: right;\">\n",
       "      <th></th>\n",
       "      <th>media_outlet</th>\n",
       "      <th>count(*)</th>\n",
       "    </tr>\n",
       "  </thead>\n",
       "  <tbody>\n",
       "    <tr>\n",
       "      <th>0</th>\n",
       "      <td>elheraldoaustral</td>\n",
       "      <td>485</td>\n",
       "    </tr>\n",
       "    <tr>\n",
       "      <th>1</th>\n",
       "      <td>radiosago</td>\n",
       "      <td>220</td>\n",
       "    </tr>\n",
       "    <tr>\n",
       "      <th>2</th>\n",
       "      <td>radiopudeto</td>\n",
       "      <td>137</td>\n",
       "    </tr>\n",
       "    <tr>\n",
       "      <th>3</th>\n",
       "      <td>radioacogida</td>\n",
       "      <td>126</td>\n",
       "    </tr>\n",
       "    <tr>\n",
       "      <th>4</th>\n",
       "      <td>elrepuertero</td>\n",
       "      <td>122</td>\n",
       "    </tr>\n",
       "    <tr>\n",
       "      <th>5</th>\n",
       "      <td>elvacanudo</td>\n",
       "      <td>113</td>\n",
       "    </tr>\n",
       "    <tr>\n",
       "      <th>6</th>\n",
       "      <td>elcalbucano</td>\n",
       "      <td>68</td>\n",
       "    </tr>\n",
       "    <tr>\n",
       "      <th>7</th>\n",
       "      <td>seminariolocal</td>\n",
       "      <td>63</td>\n",
       "    </tr>\n",
       "    <tr>\n",
       "      <th>8</th>\n",
       "      <td>elllanquihue</td>\n",
       "      <td>62</td>\n",
       "    </tr>\n",
       "    <tr>\n",
       "      <th>9</th>\n",
       "      <td>elinsular</td>\n",
       "      <td>54</td>\n",
       "    </tr>\n",
       "    <tr>\n",
       "      <th>10</th>\n",
       "      <td>elaustral</td>\n",
       "      <td>35</td>\n",
       "    </tr>\n",
       "    <tr>\n",
       "      <th>11</th>\n",
       "      <td>laestrelladechiloe</td>\n",
       "      <td>34</td>\n",
       "    </tr>\n",
       "    <tr>\n",
       "      <th>12</th>\n",
       "      <td>elhuemul</td>\n",
       "      <td>24</td>\n",
       "    </tr>\n",
       "    <tr>\n",
       "      <th>13</th>\n",
       "      <td>fresiaahora</td>\n",
       "      <td>5</td>\n",
       "    </tr>\n",
       "    <tr>\n",
       "      <th>14</th>\n",
       "      <td>segundos33</td>\n",
       "      <td>4</td>\n",
       "    </tr>\n",
       "    <tr>\n",
       "      <th>15</th>\n",
       "      <td>elquellonino</td>\n",
       "      <td>4</td>\n",
       "    </tr>\n",
       "  </tbody>\n",
       "</table>\n",
       "</div>"
      ],
      "text/plain": [
       "          media_outlet  count(*)\n",
       "0     elheraldoaustral       485\n",
       "1            radiosago       220\n",
       "2          radiopudeto       137\n",
       "3         radioacogida       126\n",
       "4         elrepuertero       122\n",
       "5           elvacanudo       113\n",
       "6          elcalbucano        68\n",
       "7       seminariolocal        63\n",
       "8         elllanquihue        62\n",
       "9            elinsular        54\n",
       "10           elaustral        35\n",
       "11  laestrelladechiloe        34\n",
       "12            elhuemul        24\n",
       "13         fresiaahora         5\n",
       "14          segundos33         4\n",
       "15        elquellonino         4"
      ]
     },
     "execution_count": 112,
     "metadata": {},
     "output_type": "execute_result"
    }
   ],
   "source": [
    "sqldf('SELECT media_outlet,count(*) FROM df_EMPLEO GROUP BY media_outlet ORDER BY count(*) DESC')   "
   ]
  },
  {
   "attachments": {},
   "cell_type": "markdown",
   "metadata": {},
   "source": [
    "### ¿ Cuál es el media_outlet que más publica sobre Puerto Montt ?"
   ]
  },
  {
   "cell_type": "code",
   "execution_count": 113,
   "metadata": {},
   "outputs": [
    {
     "data": {
      "text/html": [
       "<div>\n",
       "<style scoped>\n",
       "    .dataframe tbody tr th:only-of-type {\n",
       "        vertical-align: middle;\n",
       "    }\n",
       "\n",
       "    .dataframe tbody tr th {\n",
       "        vertical-align: top;\n",
       "    }\n",
       "\n",
       "    .dataframe thead th {\n",
       "        text-align: right;\n",
       "    }\n",
       "</style>\n",
       "<table border=\"1\" class=\"dataframe\">\n",
       "  <thead>\n",
       "    <tr style=\"text-align: right;\">\n",
       "      <th></th>\n",
       "      <th>media_outlet</th>\n",
       "      <th>count(*)</th>\n",
       "    </tr>\n",
       "  </thead>\n",
       "  <tbody>\n",
       "    <tr>\n",
       "      <th>0</th>\n",
       "      <td>radiosago</td>\n",
       "      <td>337</td>\n",
       "    </tr>\n",
       "    <tr>\n",
       "      <th>1</th>\n",
       "      <td>elheraldoaustral</td>\n",
       "      <td>264</td>\n",
       "    </tr>\n",
       "    <tr>\n",
       "      <th>2</th>\n",
       "      <td>elrepuertero</td>\n",
       "      <td>263</td>\n",
       "    </tr>\n",
       "    <tr>\n",
       "      <th>3</th>\n",
       "      <td>radioacogida</td>\n",
       "      <td>68</td>\n",
       "    </tr>\n",
       "    <tr>\n",
       "      <th>4</th>\n",
       "      <td>elcalbucano</td>\n",
       "      <td>43</td>\n",
       "    </tr>\n",
       "    <tr>\n",
       "      <th>5</th>\n",
       "      <td>elllanquihue</td>\n",
       "      <td>38</td>\n",
       "    </tr>\n",
       "    <tr>\n",
       "      <th>6</th>\n",
       "      <td>radiopudeto</td>\n",
       "      <td>34</td>\n",
       "    </tr>\n",
       "    <tr>\n",
       "      <th>7</th>\n",
       "      <td>elvacanudo</td>\n",
       "      <td>32</td>\n",
       "    </tr>\n",
       "    <tr>\n",
       "      <th>8</th>\n",
       "      <td>seminariolocal</td>\n",
       "      <td>19</td>\n",
       "    </tr>\n",
       "    <tr>\n",
       "      <th>9</th>\n",
       "      <td>elinsular</td>\n",
       "      <td>19</td>\n",
       "    </tr>\n",
       "    <tr>\n",
       "      <th>10</th>\n",
       "      <td>elhuemul</td>\n",
       "      <td>12</td>\n",
       "    </tr>\n",
       "    <tr>\n",
       "      <th>11</th>\n",
       "      <td>segundos33</td>\n",
       "      <td>11</td>\n",
       "    </tr>\n",
       "    <tr>\n",
       "      <th>12</th>\n",
       "      <td>laestrelladechiloe</td>\n",
       "      <td>7</td>\n",
       "    </tr>\n",
       "    <tr>\n",
       "      <th>13</th>\n",
       "      <td>elaustral</td>\n",
       "      <td>7</td>\n",
       "    </tr>\n",
       "    <tr>\n",
       "      <th>14</th>\n",
       "      <td>elquellonino</td>\n",
       "      <td>1</td>\n",
       "    </tr>\n",
       "  </tbody>\n",
       "</table>\n",
       "</div>"
      ],
      "text/plain": [
       "          media_outlet  count(*)\n",
       "0            radiosago       337\n",
       "1     elheraldoaustral       264\n",
       "2         elrepuertero       263\n",
       "3         radioacogida        68\n",
       "4          elcalbucano        43\n",
       "5         elllanquihue        38\n",
       "6          radiopudeto        34\n",
       "7           elvacanudo        32\n",
       "8       seminariolocal        19\n",
       "9            elinsular        19\n",
       "10            elhuemul        12\n",
       "11          segundos33        11\n",
       "12  laestrelladechiloe         7\n",
       "13           elaustral         7\n",
       "14        elquellonino         1"
      ]
     },
     "execution_count": 113,
     "metadata": {},
     "output_type": "execute_result"
    }
   ],
   "source": [
    "sqldf('SELECT media_outlet,count(*) FROM df_GENERAL_1 GROUP BY media_outlet ORDER BY count(*) DESC')"
   ]
  },
  {
   "attachments": {},
   "cell_type": "markdown",
   "metadata": {},
   "source": [
    "### ¿ Cuál es el media_outlet que más publica sobre Puerto Montt (EMPLEO) ?"
   ]
  },
  {
   "cell_type": "code",
   "execution_count": 114,
   "metadata": {},
   "outputs": [
    {
     "data": {
      "text/html": [
       "<div>\n",
       "<style scoped>\n",
       "    .dataframe tbody tr th:only-of-type {\n",
       "        vertical-align: middle;\n",
       "    }\n",
       "\n",
       "    .dataframe tbody tr th {\n",
       "        vertical-align: top;\n",
       "    }\n",
       "\n",
       "    .dataframe thead th {\n",
       "        text-align: right;\n",
       "    }\n",
       "</style>\n",
       "<table border=\"1\" class=\"dataframe\">\n",
       "  <thead>\n",
       "    <tr style=\"text-align: right;\">\n",
       "      <th></th>\n",
       "      <th>media_outlet</th>\n",
       "      <th>count(*)</th>\n",
       "    </tr>\n",
       "  </thead>\n",
       "  <tbody>\n",
       "    <tr>\n",
       "      <th>0</th>\n",
       "      <td>elheraldoaustral</td>\n",
       "      <td>118</td>\n",
       "    </tr>\n",
       "    <tr>\n",
       "      <th>1</th>\n",
       "      <td>radiosago</td>\n",
       "      <td>46</td>\n",
       "    </tr>\n",
       "    <tr>\n",
       "      <th>2</th>\n",
       "      <td>elrepuertero</td>\n",
       "      <td>32</td>\n",
       "    </tr>\n",
       "    <tr>\n",
       "      <th>3</th>\n",
       "      <td>radioacogida</td>\n",
       "      <td>30</td>\n",
       "    </tr>\n",
       "    <tr>\n",
       "      <th>4</th>\n",
       "      <td>elcalbucano</td>\n",
       "      <td>18</td>\n",
       "    </tr>\n",
       "    <tr>\n",
       "      <th>5</th>\n",
       "      <td>elllanquihue</td>\n",
       "      <td>15</td>\n",
       "    </tr>\n",
       "    <tr>\n",
       "      <th>6</th>\n",
       "      <td>radiopudeto</td>\n",
       "      <td>14</td>\n",
       "    </tr>\n",
       "    <tr>\n",
       "      <th>7</th>\n",
       "      <td>seminariolocal</td>\n",
       "      <td>11</td>\n",
       "    </tr>\n",
       "    <tr>\n",
       "      <th>8</th>\n",
       "      <td>elinsular</td>\n",
       "      <td>9</td>\n",
       "    </tr>\n",
       "    <tr>\n",
       "      <th>9</th>\n",
       "      <td>elhuemul</td>\n",
       "      <td>4</td>\n",
       "    </tr>\n",
       "    <tr>\n",
       "      <th>10</th>\n",
       "      <td>elaustral</td>\n",
       "      <td>4</td>\n",
       "    </tr>\n",
       "    <tr>\n",
       "      <th>11</th>\n",
       "      <td>segundos33</td>\n",
       "      <td>2</td>\n",
       "    </tr>\n",
       "    <tr>\n",
       "      <th>12</th>\n",
       "      <td>laestrelladechiloe</td>\n",
       "      <td>2</td>\n",
       "    </tr>\n",
       "    <tr>\n",
       "      <th>13</th>\n",
       "      <td>elvacanudo</td>\n",
       "      <td>2</td>\n",
       "    </tr>\n",
       "    <tr>\n",
       "      <th>14</th>\n",
       "      <td>elquellonino</td>\n",
       "      <td>1</td>\n",
       "    </tr>\n",
       "  </tbody>\n",
       "</table>\n",
       "</div>"
      ],
      "text/plain": [
       "          media_outlet  count(*)\n",
       "0     elheraldoaustral       118\n",
       "1            radiosago        46\n",
       "2         elrepuertero        32\n",
       "3         radioacogida        30\n",
       "4          elcalbucano        18\n",
       "5         elllanquihue        15\n",
       "6          radiopudeto        14\n",
       "7       seminariolocal        11\n",
       "8            elinsular         9\n",
       "9             elhuemul         4\n",
       "10           elaustral         4\n",
       "11          segundos33         2\n",
       "12  laestrelladechiloe         2\n",
       "13          elvacanudo         2\n",
       "14        elquellonino         1"
      ]
     },
     "execution_count": 114,
     "metadata": {},
     "output_type": "execute_result"
    }
   ],
   "source": [
    "sqldf('SELECT media_outlet,count(*) FROM df_EMPLEO_1 GROUP BY media_outlet ORDER BY count(*) DESC')"
   ]
  },
  {
   "attachments": {},
   "cell_type": "markdown",
   "metadata": {},
   "source": [
    "### Noticias que son del tópico 3"
   ]
  },
  {
   "cell_type": "code",
   "execution_count": 115,
   "metadata": {},
   "outputs": [
    {
     "name": "stdout",
     "output_type": "stream",
     "text": [
      "Bus que trasladaba estudiantes universitarios volcó en ruta local: Más de 30 personas resultaron lesionadas\n",
      "Carabineros habilita avanzadas temporales fronterizas para periodo estival en la Región de Los Lagos\n",
      "Trabajador estuvo cerca de morir aplastado en una grúa: Personal de emergencias logró reanimarlo\n",
      "Fiscal Regional de Los Lagos descarta cierre de investigación por presunta red de explotación sexual infantil\n",
      "Patrulla especializada del Ejército con asiento en Osorno se suma a búsqueda de joven extraviado en Cochamó\n",
      "Dictan veredicto condenatorio contra autor de homicidio de Monica Mansilla en Chiloé\n",
      "Vehículo de bomberos volcó en Ensenada: iba a zona de búsqueda de joven desaparecido en Cochamó\n",
      "Hombre muere ahogado en playa Totoral de Llanquihue\n",
      "Detienen en Puerto Montt a sujeto que era buscado por homicidio frustrado en Osorno\n",
      "Entró en vigencia la ley que permite el cambio en el orden de los apellidos\n",
      "Detienen a hombre acusado de asesinar a joven en discoteque de Calbuco\n",
      "Extienden búsqueda de joven desaparecido en Cochamó\n",
      "Esta fue la sentencia para hombre condenado por homicidio en Puerto Montt\n",
      "En su debut como visita en la Liga: Atlético cayó ante Ancud el sábado y derrotó a Castro el domingo\n",
      "Dueña de perra fue sobreseída por la justicia: Mascota fue matada por sujeto que denunció ataque a cordero\n"
     ]
    }
   ],
   "source": [
    "r = sqldf('SELECT dominant_Topic, text, title, media_outlet FROM df_GENERAL_1 WHERE dominant_Topic = 3 LIMIT 15')\n",
    "r = r.sample(len(r))\n",
    "for i in r['title']:\n",
    "    print(i)"
   ]
  },
  {
   "attachments": {},
   "cell_type": "markdown",
   "metadata": {},
   "source": [
    "### Noticias que son del tópico 0"
   ]
  },
  {
   "cell_type": "code",
   "execution_count": 116,
   "metadata": {},
   "outputs": [
    {
     "name": "stdout",
     "output_type": "stream",
     "text": [
      "432 contagios y 3 fallecidos dejó el covid-19 este lunes en la región de Los Lagos\n",
      "Gobierno anuncia nuevos Seremis para la Región de Los Lagos.\n",
      "178 contagios y 5 decesos dejó el covid-19 este lunes en la región de Los Lagos\n",
      "Seremi de Agricultura presenta a nuevo director de CONAF en la Región de Los Lagos.\n",
      "154 nuevos contagios de covid-19 se reportaron este miércoles en la región de Los Lagos\n",
      "432 contagios de covid-19 se reportaron este domingo en la región de Los Lagos\n",
      "140 contagios de covid-19 se reportaron este jueves en la región de Los Lagos\n",
      "173 contagios y un fallecido por covid-19 se reportaron este viernes en la región de Los Lagos\n",
      "63 nuevos contagios de covid-19 se reportaron este miércoles en la región de Los Lagos\n",
      "387 contagios y 2 fallecidos dejó el covid-19 este sábado en la región de Los Lagos\n",
      "Red Del Reloncaví cuenta con nuevas ambulancias para traslado de pacientes\n",
      "71 nuevos contagios de covid-19 se reportaron este martes en la región de Los Lagos\n",
      "302 nuevos contagios de covid-19 se reportaron este viernes en la región de Los Lagos\n",
      "145 contagios de covid-19 se reportaron este viernes en la región de Los Lagos\n",
      "141 contagios de covid-19 se reportaron este sábado en la región de Los Lagos\n"
     ]
    }
   ],
   "source": [
    "r = sqldf('SELECT dominant_Topic, text, title, media_outlet FROM df_GENERAL_1 WHERE dominant_Topic = 0 LIMIT 15')\n",
    "r = r.sample(len(r))\n",
    "for i in r['title']:\n",
    "    print(i)"
   ]
  },
  {
   "attachments": {},
   "cell_type": "markdown",
   "metadata": {},
   "source": [
    "### Noticias que son del tópico 0 (EMPLEO)\n"
   ]
  },
  {
   "cell_type": "code",
   "execution_count": 117,
   "metadata": {},
   "outputs": [
    {
     "name": "stdout",
     "output_type": "stream",
     "text": [
      "Matías Jullian, Músico y Payador\n",
      "Día de la Danza: Conoce las compañías que se presentarán en el Teatro Diego Rivera\n",
      "Del 14 de Febrero al 8 de Marzo: Julio Cortázar Tributo 2022 en Galería Machacoya en Puerto Varas\n",
      "Periodista publica libro biográfico sobre el cineasta chileno Adelqui Millar\n",
      "Detienen a hombre acusado de asesinar a joven en discoteque de Calbuco\n",
      "Con capacitaciones en folklor andino y Rapa Nui Tupa Marka refuerza su repertorio\n",
      "Mujer pierde la vida tras grave atropello en Puerto Montt: Conductor se dio a la fuga\n",
      "El estreno en Chile de la música de escena para el cuento “El Principito” en el Décimo Tercer Festival Musical Chiloé.\n",
      "\"La celebración de los primeros veinticinco años de existencia del Colegio Germania\" Por Rafael Piquer A. Investigador en Historia de la Región de Los Lagos\n",
      "Cae presunto autor de atropello fatal en Puerto Montt\n",
      "LA DEVOCIÓN A SAN LORENZO EN EL NORTE Y LAS TRADICIONES DE LA ZONA CENTRAL SERÁN PARTE DEL 1er FESTIVAL “ENCUENTRO DE PUEBLOS”\n",
      "Se publicó novela “Todos contra la Banda de Basilio Pozas”\n",
      "Recuperan más de 50 armas de fuego y cerca de 500 municiones\n",
      "Kaikül: una atractiva fusión entre lo clásico y ancestral\n",
      "\"Fernando Santiván y su admiración por Puerto Varas\" Por Rafael Piquer A. Investigador en Historia de la Región de Los Lagos\n",
      "¿Buscando panorama? Banda puertovarina tocará con Santaferia en la región de Los Lagos\n",
      "Académica de la U. San Sebastián desarrolla vacuna contra el Hantavirus\n",
      "En el Centro de Arte Molino Machmar se lanza el libro “Las Formas del Olvido” del fotógrafo regional Francisco Donoso\n",
      "PDI detiene a violento hombre que asaltaba a conductores en Puerto Montt\n",
      "Carabineros investiga el violento asalto a familia de Valle Volcanes\n",
      "OS9 de carabineros detiene en Puerto Montt a delincuente vinculados a tres delitos de robo\n"
     ]
    }
   ],
   "source": [
    "r = sqldf('SELECT dominant_Topic, text, title, media_outlet FROM df_EMPLEO_1 WHERE dominant_Topic = 0')\n",
    "r = r.sample(len(r))\n",
    "for i in r['title']:\n",
    "    print(i)"
   ]
  },
  {
   "attachments": {},
   "cell_type": "markdown",
   "metadata": {},
   "source": [
    "### Noticias que son del tópico 3 (EMPLEO)\n"
   ]
  },
  {
   "cell_type": "code",
   "execution_count": 126,
   "metadata": {},
   "outputs": [
    {
     "name": "stdout",
     "output_type": "stream",
     "text": [
      "Osorno entre los destinos más cotizados: Sur de Chile lidera compra de pasajes en bus durante abril y mayo\n",
      "Pilotos de la Fuerza Aérea realizan cursos de vuelo en Puerto Montt\n",
      "Consejo Regional de Seguridad define prioridades para la región\n",
      "Los Lagos: En control carretero incautan 1400 kilos de merluza del sur de origen ilegal.\n",
      "Autoridades de Aduanas de Puerto Montt y Osorno se reunieron con Delegada Presidencial Regional\n",
      "Postulaciones abiertas para capacitación científica en educación temprana en Los Lagos\n",
      "Subsecretario de Desarrollo Regional Miguel Crispi se reúne con alcaldes de Llanquihue, Osorno y Palena para redefinir agenda de inversión con prioridad en la región\n",
      "Incendios forestales en perímetro suburbano de Puerto Varas preocupan a vecinos y a bomberos\n",
      "Vecinos de Francke y la Kolbe quedan sin locomoción por paro de choferes de la Línea 7\n",
      "Descentralización será prioridad para gobernador y futura delegada, dijeron tras primera reunión\n"
     ]
    }
   ],
   "source": [
    "r = sqldf('SELECT dominant_Topic, text, title, media_outlet FROM df_EMPLEO_1 WHERE dominant_Topic = 3')\n",
    "r = r.sample(len(r))\n",
    "r = r[:10]\n",
    "for i in r['title']:\n",
    "    print(i)"
   ]
  },
  {
   "attachments": {},
   "cell_type": "markdown",
   "metadata": {},
   "source": [
    "### Cantidad de noticias negativas, neutras y positivas "
   ]
  },
  {
   "cell_type": "code",
   "execution_count": 144,
   "metadata": {},
   "outputs": [
    {
     "name": "stdout",
     "output_type": "stream",
     "text": [
      "General: \n",
      " NEU    3299\n",
      "NEG    1275\n",
      "POS     534\n",
      "Name: title_label, dtype: int64\n",
      "\n",
      "Empleo: \n",
      " NEU    1139\n",
      "POS     221\n",
      "NEG     196\n",
      "Name: title_label, dtype: int64\n"
     ]
    }
   ],
   "source": [
    "# Contamos noticias positivas, negativas y neutras\n",
    "print('General: \\n',df_GENERAL['title_label'].value_counts())\n",
    "print()\n",
    "print('Empleo: \\n',df_EMPLEO['title_label'].value_counts())"
   ]
  },
  {
   "cell_type": "code",
   "execution_count": 138,
   "metadata": {},
   "outputs": [
    {
     "name": "stdout",
     "output_type": "stream",
     "text": [
      "General: \n",
      " NEU    661\n",
      "NEG    382\n",
      "POS    112\n",
      "Name: title_label, dtype: int64\n",
      "\n",
      "Empleo: \n",
      " NEU    218\n",
      "POS     46\n",
      "NEG     44\n",
      "Name: title_label, dtype: int64\n"
     ]
    }
   ],
   "source": [
    "# Contamos noticias positivas, negativas y neutras\n",
    "print('General: \\n',df_GENERAL_1['title_label'].value_counts())\n",
    "print()\n",
    "print('Empleo: \\n',df_EMPLEO_1['title_label'].value_counts())"
   ]
  },
  {
   "attachments": {},
   "cell_type": "markdown",
   "metadata": {},
   "source": [
    "### Noticias negativos, neutros, positivos Puerto Montt"
   ]
  },
  {
   "cell_type": "code",
   "execution_count": 141,
   "metadata": {},
   "outputs": [
    {
     "name": "stdout",
     "output_type": "stream",
     "text": [
      "Condenan a 3 sujetos por homicidio de taxista: Uno de ellos es menor de edad\n",
      "45 contagios de covid-19 se reportaron este lunes en la región de Los Lagos\n",
      "Efectos de la masiva migración a la ciudad: Más de100 menores en lista de espera en colegios de la comuna de Puerto Varas\n",
      "Ocho fallecidos y más de 2 mil 400 contagios de covid-19 se reportaron este jueves en la región de Los Lagos\n",
      "Investigan muerte de un hombre hallado al interior de un vehículo en Chonchi, provincia de Chiloé\n",
      "En cuesta La Codicia camino a Ralún: Bus de recorrido Puelo-Puerto Montt se accidentó dejando 13 lesionados\n",
      "Manifiestan preocupación por eventuales tomas en terrenos de proyecto para parque urbano para Puerto Montt\n",
      "‘La dejó tirada’: Exigen pena máxima para conductor ebrio que mató a joven tras brutal atropello en Puerto Montt\n",
      "Corte de Apelaciones ordenó eliminar funa en Facebook contra mujer que expulsó a joven de playa de Puerto Montt\n",
      "Brote de Covid-19 obliga a suspender clases en otro establecimiento municipal de Puerto Montt\n",
      "\n",
      "\n",
      "Sigue la tendencia a la baja en casos covid-19 concentrados en la provincia de Llanquihue\n",
      "Fondo de Inclusión Migrante\n",
      "Vuelve el Kick Boxing este viernes a Puerto Varas\n",
      "Camioneros se toman la Ruta 5 a la altura de Puerto Montt\n",
      "Los Lagos: Tres comunas de la región cambiarán de fase en el plan Paso a Paso a partir de este miércoles\n",
      "Corte de Agua en Puerto Montt: Será el miércoles 20 y durará 8 horas en sector Bellavista [MAPA]\n",
      "Autoridades regionales lanzan programa Sence Digitalízate para el Trabajo\n",
      "Municipalidad llama a participar en elaboración de Ordenanza\n",
      "4823 títulos de dominio se han entregado en la region de Los Lagos\n",
      "Gobierno anuncia nueva Seremi de Deportes en la región de Los Lagos.\n",
      "\n",
      "\n",
      "Invitación a participar en concurso fotográfico FotoConciencia\n",
      "La Escuela Nº 81 y el valor de la Educación Pública\n",
      "Osorno entre los destinos más cotizados: Sur de Chile lidera compra de pasajes en bus durante abril y mayo\n",
      "Delegado realiza balance de principales logros del Gobierno en la región\n",
      "Un 22% crecieron las exportaciones de la Región de Los Lagos\n",
      "Incautan más de 5 toneladas de recursos del mar.\n",
      "En Puerto Varas Servicio Mejor Niñez realizó el Lanzamiento provincial del Plan de Familias de Acogida Especializada (FAE)\n",
      "Feria de Arte, Diseño y Artesanía en el Centro Cultural Bosque Nativo: Al Encuentro de la Artesanía\n",
      "CAMM inauguró “Abundancia en Flor” de la artista local Mónica Kaschel Hitschfeld\n",
      "\"Fernando Santiván y su admiración por Puerto Varas\" Por Rafael Piquer A. Investigador en Historia de la Región de Los Lagos\n",
      "\n",
      "\n"
     ]
    }
   ],
   "source": [
    "def positividad_gen(atributo):\n",
    "    r = sqldf(f'SELECT title, title_label, title_score, text, dominant_Topic, url FROM df_GENERAL_1 WHERE title_label = \"{atributo}\"')\n",
    "    r = r.sample(len(r))\n",
    "    r = r[:10]\n",
    "    for i in r['title']:\n",
    "        print(i)\n",
    "    print()\n",
    "positividad_gen('NEG')\n",
    "positividad_gen('NEU')\n",
    "positividad_gen('POS')"
   ]
  },
  {
   "attachments": {},
   "cell_type": "markdown",
   "metadata": {},
   "source": [
    "### Noticias positivas Puerto Montt (EMPLEO)"
   ]
  },
  {
   "cell_type": "code",
   "execution_count": 143,
   "metadata": {},
   "outputs": [
    {
     "name": "stdout",
     "output_type": "stream",
     "text": [
      "Operativo detectó el ingreso irregular de 11 extranjeros\n",
      "Hallazgo arqueológico en Casa Pauly de Puerto Montt paraliza proyecto de conservación\n",
      "Joven trabajador perdió su mano en grave accidente laboral en Puerto Montt\n",
      "Llevaba a su hijo lactante de 4 meses: Carabineros detuvo a menor de edad colombiana por tráfico de drogas en bus con destino a Puerto Montt\n",
      "Desalojan a vendedores callejeros de Puerto Montt\n",
      "Detonan bomba de ruido frente a Octava Comisaría de Carabineros\n",
      "Chiloé: lo que nos dejó el 2021\n",
      "Condenan a 5 años y un día de presidio efectivo a autor del delito de violación en Puerto Varas\n",
      "Efectos de la masiva migración a la ciudad: Más de100 menores en lista de espera en colegios de la comuna de Puerto Varas\n",
      "Llanquihue: dos trabajadores murieron electrocutados\n",
      "\n",
      "Sename y Fundación Kalen firman convenio para la reinserción social juvenil en Puerto Montt\n",
      "Pilotos de la Fuerza Aérea realizan cursos de vuelo en la zona\n",
      "Municipalidad llama a participar en elaboración de Ordenanza\n",
      "Postulaciones abiertas para capacitación científica en educación temprana en Los Lagos\n",
      "Medicamentos un 80% más baratos: Farmacia Ciudadana de Puerto Montt comenzará a operar en nuevas dependencias\n",
      "IIIª Brigada Aérea celebró 92° aniversario de la FACh con ceremonia militar\n",
      "Core propone un plan de inversiones para impulsar el río Maullín\n",
      "¿Eres un micro o pequeño emprendedor?, Sence invita a postular a los cursos de capacitación Despega Mipe\n",
      "Encuesta ULA muestra inclinación por el Apruebo en la región de Los Lagos\n",
      "Más de 6 mil 800 niños retornan a los jardines de Integra en la región\n",
      "\n",
      "UACh Sede Puerto Montt: Abordarán la diversidad cultural de la región en conversatorio de arte, cultura e identidad\n",
      "Más de un centenar de establecimientos educacionales se suman al proceso de certificación ambiental 2022 coordinado por el Ministerio del Medio Ambiente en Los Lagos\n",
      "Estudiantes de liceos de Pilmaiquén y Río Negro clasificaron a la final regional de concurso de tecnología e innovación.\n",
      "Organizado por TEAbrazo Puerto Varas y la UACH: Con destacados expositores se realizará el primer seminario de autismo para la educación inicial en la zona\n",
      "Alcalde Paredes califica Aquasur 2022 como la gran plaza de negocios\n",
      "\"Fernando Santiván y su admiración por Puerto Varas\" Por Rafael Piquer A. Investigador en Historia de la Región de Los Lagos\n",
      "Puerto Montt suma preferencias para visitas turísticas durante fin de Semana Santa\n",
      "Región de Los Lagos: Niños de Integra aprenden sobre vida saludable\n",
      "Con una exitosa primera noche comenzó el Festival “Encuentro de Pueblos” en Puerto Montt: hoy y mañana sigue\n",
      "Dr. Arturo Guijón, cirujano del Hospital Puerto Montt y miembro de la Fuerza Aérea: “La unión de la medicina y las Fuerzas Armadas es la simbiosis perfecta para ayudar a la comunidad”\n",
      "\n"
     ]
    }
   ],
   "source": [
    "def positividad_emp(atributo):\n",
    "    r = sqldf(f'SELECT title, title_label, title_score, text, dominant_Topic, url FROM df_EMPLEO_1 WHERE title_label = \"{atributo}\"')\n",
    "    r = r.sample(len(r))\n",
    "    r = r[:10]\n",
    "    for i in r['title']:\n",
    "        print(i)\n",
    "    print()\n",
    "positividad_emp('NEG')\n",
    "positividad_emp('NEU')\n",
    "positividad_emp('POS')"
   ]
  }
 ],
 "metadata": {
  "kernelspec": {
   "display_name": "myenv",
   "language": "python",
   "name": "python3"
  },
  "language_info": {
   "codemirror_mode": {
    "name": "ipython",
    "version": 3
   },
   "file_extension": ".py",
   "mimetype": "text/x-python",
   "name": "python",
   "nbconvert_exporter": "python",
   "pygments_lexer": "ipython3",
   "version": "3.8.10"
  },
  "orig_nbformat": 4,
  "vscode": {
   "interpreter": {
    "hash": "9dff3029cfd092013fe8f81aa1ceb1e4b66244b0efa81f52c02e02255cbfd4d8"
   }
  }
 },
 "nbformat": 4,
 "nbformat_minor": 2
}
