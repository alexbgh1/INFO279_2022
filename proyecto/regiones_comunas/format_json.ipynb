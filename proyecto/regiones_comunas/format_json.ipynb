{
 "cells": [
  {
   "cell_type": "markdown",
   "metadata": {},
   "source": [
    "# Format json\n",
    "<p>Este <b>.ipynb</b> se encarga de reestructurar la informacion obtenida desde <a href='https://gist.github.com/juanbrujo/0fd2f4d126b3ce5a95a7dd1f28b3d8dd#file-comunas-regiones-json'>gist</a>, el cual contiene las Regiones y Comunas de Chile. La razon de reestructurar los datos es para posteriormente hacer uso de estos y evitar problemas al generar dataframes o al utilizar consultas mysqldf, entre otros.</p>\n",
    "<p>La reestructuracion consta de 4 pasos:</p>\n",
    "<ol>\n",
    "    <li><b>Lectura del archivo</b> para su modificacion.</li>\n",
    "    <li>Iteracion de Regiones y Comunas para <b>reemplazar espacios por guines bajos.</b> 'Puerto Varas' -> 'Puerto_Varas' </li>\n",
    "    <li><b>Ordenamiento alfabetico de las comunas</b>. </li>\n",
    "    <li>Creacion de un <b>nuevo archivo</b> con la informacion reestructurada.</li>\n",
    "</ol>"
   ]
  },
  {
   "cell_type": "code",
   "execution_count": 8,
   "metadata": {},
   "outputs": [],
   "source": [
    "# --- imports ---\n",
    "import json"
   ]
  },
  {
   "cell_type": "code",
   "execution_count": 9,
   "metadata": {},
   "outputs": [],
   "source": [
    "with open (\"regiones_comunas.json\", \"r\", encoding='utf-8') as archivo_regiones_comunas:\n",
    "    # --- load data ---\n",
    "    regiones_comunas_json = json.load(archivo_regiones_comunas)\n",
    "    regiones_comunas_json = regiones_comunas_json[\"regiones\"]\n",
    "    # --- create new data ---\n",
    "    new_regiones_comunas_json = {}\n",
    "\n",
    "    # --- format data ---\n",
    "    # -- Regiones --\n",
    "    regiones = []\n",
    "    for region in regiones_comunas_json:\n",
    "        # - Generamos la nueva Region -\n",
    "        new_region = {}\n",
    "        new_region[\"region\"] = region[\"region\"].replace(\" \", \"_\") # 'Arica y Parinacota' -> 'Arica_y_Parinacota'\n",
    "\n",
    "        # -- Comunas --\n",
    "        new_comunas = []\n",
    "        for comuna in region[\"comunas\"]:\n",
    "            # - Generamos la nueva Comuna -\n",
    "            new_comunas.append(comuna.replace(\" \", \"_\")) # 'María Elena -> 'Maria_Elena'\n",
    "\n",
    "        # - Ordenamos las comunas y las agregamos a la region -\n",
    "        new_comunas.sort()\n",
    "        new_region[\"comunas\"] = new_comunas\n",
    "        \n",
    "        # - Agregamos la region a la lista de regiones -\n",
    "        regiones.append(new_region)\n",
    "        \n",
    "    # - Agregamos las regiones al nuevo json -\n",
    "    new_regiones_comunas_json[\"regiones\"] = regiones\n",
    "    \n",
    "    # --- save data ---\n",
    "    with open(\"regiones_comunas_format.json\", \"w\", encoding='utf-8') as archivo_regiones_comunas_format:\n",
    "        # new_regiones_comunas_json -> archivo con los datos nuevos\n",
    "        # archivo_regiones_comunas_format -> archivo donde se guardaran los datos nuevos ('regiones_comunas_format.json')\n",
    "        # ensure_ascii=False -> Para que no se escape los caracteres especiales\n",
    "        # indent=4 -> Para que se vea mas ordenado\n",
    "\n",
    "        json.dump(new_regiones_comunas_json, archivo_regiones_comunas_format, ensure_ascii=False, indent=4)\n"
   ]
  }
 ],
 "metadata": {
  "kernelspec": {
   "display_name": "Python 3.8.10 ('myenv')",
   "language": "python",
   "name": "python3"
  },
  "language_info": {
   "codemirror_mode": {
    "name": "ipython",
    "version": 3
   },
   "file_extension": ".py",
   "mimetype": "text/x-python",
   "name": "python",
   "nbconvert_exporter": "python",
   "pygments_lexer": "ipython3",
   "version": "3.8.10"
  },
  "orig_nbformat": 4,
  "vscode": {
   "interpreter": {
    "hash": "4fff480b818351191bd10b139918affcc268b35a4173b95bc67c9e000e77644a"
   }
  }
 },
 "nbformat": 4,
 "nbformat_minor": 2
}
