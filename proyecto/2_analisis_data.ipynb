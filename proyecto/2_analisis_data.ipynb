{
 "cells": [
  {
   "cell_type": "markdown",
   "metadata": {},
   "source": [
    "# Proyecto (análisis dataset)"
   ]
  },
  {
   "cell_type": "code",
   "execution_count": 1,
   "metadata": {},
   "outputs": [
    {
     "name": "stderr",
     "output_type": "stream",
     "text": [
      "c:\\Users\\darko\\Miniconda3\\envs\\myenv\\lib\\site-packages\\past\\builtins\\misc.py:45: DeprecationWarning: the imp module is deprecated in favour of importlib; see the module's documentation for alternative uses\n",
      "  from imp import reload\n"
     ]
    }
   ],
   "source": [
    "# --- General ---\n",
    "import os\n",
    "\n",
    "# --- Data ---\n",
    "import pandas as pd\n",
    "# from pandasql import sqldf\n",
    "# import numpy as np\n",
    "# import statistics as stats\n",
    "\n",
    "# --- Conexión ---\n",
    "# import elasticsearch\n",
    "\n",
    "# --- Procesamiento lenguaje: spacy ---\n",
    "import spacy\n",
    "from spacy.matcher import Matcher\n",
    "# from spacy.matcher import PhraseMatcher\n",
    "\n",
    "# --- Procesamiento lenguaje: gensim ---\n",
    "import gensim\n",
    "import gensim.corpora as corpora\n",
    "from gensim.models import CoherenceModel\n",
    "\n",
    "# --- Prediccion Positividad: POS, NEU, NEG ---\n",
    "from tqdm import tqdm\n",
    "from transformers import pipeline\n",
    "from transformers import AutoTokenizer, AutoModelForSequenceClassification\n",
    "\n",
    "# --- Visualización ---\n",
    "import pyLDAvis\n",
    "import pyLDAvis.gensim_models \n",
    "# import matplotlib.colors as colors\n",
    "# import matplotlib.pyplot as plt\n",
    "# import geopandas as gpd\n",
    "%matplotlib inline\n",
    "\n",
    "# ==============================================================================\n",
    "\n",
    "# --- Configuración ---\n",
    "# User password\n",
    "password = os.environ.get('SOPHIA2')\n",
    "\n",
    "# - - - geoData - - -\n",
    "# Import tools_region.py\n",
    "import tools_region as tr\n",
    "\n",
    "# --- Funciones ---\n",
    "# Cargar paquete de español mediano\n",
    "nlp = spacy.load(\"es_core_news_md\")\n",
    "\n",
    "import warnings\n",
    "warnings.simplefilter(action='ignore', category=FutureWarning)"
   ]
  },
  {
   "cell_type": "markdown",
   "metadata": {},
   "source": [
    "### Utilización de regiones y comunas"
   ]
  },
  {
   "cell_type": "code",
   "execution_count": 3,
   "metadata": {},
   "outputs": [
    {
     "name": "stdout",
     "output_type": "stream",
     "text": [
      "Arica_y_Parinacota\n",
      "Tarapacá\n",
      "Antofagasta\n",
      "Atacama\n",
      "Coquimbo\n",
      "Valparaíso\n",
      "Región_del_Libertador_Gral._Bernardo_O’Higgins\n",
      "Región_del_Maule\n",
      "Región_de_Ñuble\n",
      "Región_del_Biobío\n",
      "Región_de_la_Araucanía\n",
      "Región_de_Los_Ríos\n",
      "Región_de_Los_Lagos\n",
      "Región_Aisén_del_Gral._Carlos_Ibáñez_del_Campo\n",
      "Región_de_Magallanes_y_de_la_Antártica_Chilena\n",
      "Región_Metropolitana_de_Santiago\n"
     ]
    }
   ],
   "source": [
    "regiones = tr.get_regiones()\n",
    "tr.list_regions(regiones)"
   ]
  },
  {
   "cell_type": "code",
   "execution_count": 4,
   "metadata": {},
   "outputs": [
    {
     "name": "stdout",
     "output_type": "stream",
     "text": [
      "Region encontrada\n"
     ]
    }
   ],
   "source": [
    "data_regiones_comunas = tr.search_region('Región_de_Los_Lagos')\n",
    "if(data_regiones_comunas):\n",
    "    region = data_regiones_comunas['region']\n",
    "    comunas = data_regiones_comunas['comunas']"
   ]
  },
  {
   "cell_type": "markdown",
   "metadata": {},
   "source": [
    "## Leemos la información de los archivos"
   ]
  },
  {
   "cell_type": "code",
   "execution_count": 6,
   "metadata": {},
   "outputs": [],
   "source": [
    "# --- Cargar Archivo ---\n",
    "nombre_archivo = 'data_Region_X' # Resultado: ./data/{nombre_archivo}_{from_}_{to_}.csv\n",
    "from_=\"2022-01-01\"\n",
    "to_=\"2022-01-31\""
   ]
  },
  {
   "cell_type": "code",
   "execution_count": 7,
   "metadata": {},
   "outputs": [
    {
     "data": {
      "text/html": [
       "<div>\n",
       "<style scoped>\n",
       "    .dataframe tbody tr th:only-of-type {\n",
       "        vertical-align: middle;\n",
       "    }\n",
       "\n",
       "    .dataframe tbody tr th {\n",
       "        vertical-align: top;\n",
       "    }\n",
       "\n",
       "    .dataframe thead th {\n",
       "        text-align: right;\n",
       "    }\n",
       "</style>\n",
       "<table border=\"1\" class=\"dataframe\">\n",
       "  <thead>\n",
       "    <tr style=\"text-align: right;\">\n",
       "      <th></th>\n",
       "      <th>id_news</th>\n",
       "      <th>country</th>\n",
       "      <th>media_outlet</th>\n",
       "      <th>url</th>\n",
       "      <th>title</th>\n",
       "      <th>text</th>\n",
       "      <th>date</th>\n",
       "      <th>San_Pablo</th>\n",
       "      <th>San_Juan_de_la_Costa</th>\n",
       "      <th>Río_Negro</th>\n",
       "      <th>...</th>\n",
       "      <th>Frutillar</th>\n",
       "      <th>Fresia</th>\n",
       "      <th>Dalcahue</th>\n",
       "      <th>Curaco_de_Vélez</th>\n",
       "      <th>Cochamó</th>\n",
       "      <th>Chonchi</th>\n",
       "      <th>Chaitén</th>\n",
       "      <th>Castro</th>\n",
       "      <th>Calbuco</th>\n",
       "      <th>Ancud</th>\n",
       "    </tr>\n",
       "  </thead>\n",
       "  <tbody>\n",
       "    <tr>\n",
       "      <th>0</th>\n",
       "      <td>21907946.0</td>\n",
       "      <td>chile</td>\n",
       "      <td>radiosago</td>\n",
       "      <td>https://www.radiosago.cl/investigan-muerte-de-...</td>\n",
       "      <td>Investigan muerte de hombre apuñalado en Máfil...</td>\n",
       "      <td>La Fiscalía de Los Lagos dirige una investigac...</td>\n",
       "      <td>2022-01-26</td>\n",
       "      <td>0</td>\n",
       "      <td>0</td>\n",
       "      <td>0</td>\n",
       "      <td>...</td>\n",
       "      <td>0</td>\n",
       "      <td>0</td>\n",
       "      <td>0</td>\n",
       "      <td>0</td>\n",
       "      <td>0</td>\n",
       "      <td>0</td>\n",
       "      <td>0</td>\n",
       "      <td>0</td>\n",
       "      <td>0</td>\n",
       "      <td>0</td>\n",
       "    </tr>\n",
       "    <tr>\n",
       "      <th>1</th>\n",
       "      <td>21908053.0</td>\n",
       "      <td>chile</td>\n",
       "      <td>radiosago</td>\n",
       "      <td>https://www.radiosago.cl/ante-retroceso-a-fase...</td>\n",
       "      <td>Ante retroceso a Fase 3: Municipalidad de Puye...</td>\n",
       "      <td>Frente al alza de contagios de Covid-19 en la ...</td>\n",
       "      <td>2022-01-24</td>\n",
       "      <td>0</td>\n",
       "      <td>1</td>\n",
       "      <td>1</td>\n",
       "      <td>...</td>\n",
       "      <td>0</td>\n",
       "      <td>0</td>\n",
       "      <td>0</td>\n",
       "      <td>0</td>\n",
       "      <td>0</td>\n",
       "      <td>0</td>\n",
       "      <td>0</td>\n",
       "      <td>0</td>\n",
       "      <td>0</td>\n",
       "      <td>0</td>\n",
       "    </tr>\n",
       "  </tbody>\n",
       "</table>\n",
       "<p>2 rows × 37 columns</p>\n",
       "</div>"
      ],
      "text/plain": [
       "      id_news country media_outlet  \\\n",
       "0  21907946.0   chile    radiosago   \n",
       "1  21908053.0   chile    radiosago   \n",
       "\n",
       "                                                 url  \\\n",
       "0  https://www.radiosago.cl/investigan-muerte-de-...   \n",
       "1  https://www.radiosago.cl/ante-retroceso-a-fase...   \n",
       "\n",
       "                                               title  \\\n",
       "0  Investigan muerte de hombre apuñalado en Máfil...   \n",
       "1  Ante retroceso a Fase 3: Municipalidad de Puye...   \n",
       "\n",
       "                                                text        date  San_Pablo  \\\n",
       "0  La Fiscalía de Los Lagos dirige una investigac...  2022-01-26          0   \n",
       "1  Frente al alza de contagios de Covid-19 en la ...  2022-01-24          0   \n",
       "\n",
       "   San_Juan_de_la_Costa  Río_Negro  ...  Frutillar  Fresia  Dalcahue  \\\n",
       "0                     0          0  ...          0       0         0   \n",
       "1                     1          1  ...          0       0         0   \n",
       "\n",
       "   Curaco_de_Vélez  Cochamó  Chonchi  Chaitén  Castro  Calbuco  Ancud  \n",
       "0                0        0        0        0       0        0      0  \n",
       "1                0        0        0        0       0        0      0  \n",
       "\n",
       "[2 rows x 37 columns]"
      ]
     },
     "execution_count": 7,
     "metadata": {},
     "output_type": "execute_result"
    }
   ],
   "source": [
    "nombre_archivo = nombre_archivo+\"_\"+from_+\"_\"+to_\n",
    "df = pd.read_csv('./data/'+nombre_archivo+'.csv')\n",
    "df.drop('Unnamed: 0', axis=1, inplace=True)\n",
    "\n",
    "df.head(2)"
   ]
  },
  {
   "cell_type": "markdown",
   "metadata": {},
   "source": [
    "## Definimos los patrones de búsqueda"
   ]
  },
  {
   "cell_type": "code",
   "execution_count": 8,
   "metadata": {},
   "outputs": [],
   "source": [
    "# --- Texto de las noticias a lista ---\n",
    "noticias = df.text.values.tolist()\n",
    "\n",
    "nlp = spacy.load(\"es_core_news_sm\")\n",
    "matcher = Matcher(nlp.vocab)\n",
    "\n",
    "# --- Definir patrones ---\n",
    "# pattern: NOUN-de-NOUN\n",
    "pattern_1 = [{\"POS\": \"NOUN\"},{\"LOWER\": \"de\"}, {\"POS\": \"NOUN\"}]\n",
    "matcher.add(\"NOUN-de-NOUN\", [pattern_1])\n",
    "\n",
    "# pattern: NOUN-ADJ\n",
    "pattern_2 = [{\"POS\": \"NOUN\"}, {\"POS\": \"ADJ\"}]\n",
    "matcher.add(\"NOUN-ADJ\", [pattern_2])"
   ]
  },
  {
   "cell_type": "markdown",
   "metadata": {},
   "source": [
    "## Creamos filtro palabras relevantes"
   ]
  },
  {
   "cell_type": "code",
   "execution_count": 9,
   "metadata": {},
   "outputs": [],
   "source": [
    "def text_to_list(noticia):\n",
    "    list_of_words = []\n",
    "    \n",
    "    try:\n",
    "        doc = nlp(noticia)\n",
    "\n",
    "        for token in doc:\n",
    "            if (token.pos_==\"NOUN\"):\n",
    "                list_of_words.append(token.text)\n",
    "\n",
    "        for ent in doc.ents:\n",
    "            if (ent.label_ == \"PER\" and \" \" in ent.text):\n",
    "                list_of_words.append(ent.text)\n",
    "\n",
    "        matches = matcher(doc)\n",
    "\n",
    "        for match_id, start, end in matches:\n",
    "            span = doc[start:end]  # The matched span\n",
    "            list_of_words.append(span.text)\n",
    "    \n",
    "    except Exception as e: \n",
    "        print(noticia)\n",
    "        print(e)\n",
    "    \n",
    "    return list_of_words"
   ]
  },
  {
   "cell_type": "markdown",
   "metadata": {},
   "source": [
    "## Procesamos las noticias"
   ]
  },
  {
   "cell_type": "code",
   "execution_count": 10,
   "metadata": {},
   "outputs": [],
   "source": [
    "# --- Procesar texto ---\n",
    "noticias_procesadas = []\n",
    "for index, noticia in enumerate(noticias):\n",
    "    noticia_procesada = text_to_list(noticia)\n",
    "    noticias_procesadas.append(noticia_procesada)"
   ]
  },
  {
   "cell_type": "markdown",
   "metadata": {},
   "source": [
    "## Prepararamos los datos de entrada de LDA\n",
    "Los datos de entrada de LDA son: \n",
    "- un diccionario (variable 'id2word')\n",
    "- nuestro dataset preprocesado ('noticias_procesadas')"
   ]
  },
  {
   "cell_type": "code",
   "execution_count": 11,
   "metadata": {},
   "outputs": [],
   "source": [
    "# --- Crear diccionario de palabras ---\n",
    "id2word = corpora.Dictionary(noticias_procesadas)\n",
    "texts = noticias_procesadas\n",
    "\n",
    "dataset_id = [id2word.doc2bow(noticia_procesada) for noticia_procesada in noticias_procesadas]"
   ]
  },
  {
   "cell_type": "code",
   "execution_count": 12,
   "metadata": {},
   "outputs": [],
   "source": [
    "# --- Crear modelo LDA ---\n",
    "lda_model = gensim.models.ldamodel.LdaModel(corpus=dataset_id,\n",
    "                                           id2word=id2word,\n",
    "                                           num_topics=5, \n",
    "                                           random_state=100,\n",
    "                                           update_every=1,\n",
    "                                           chunksize=100,\n",
    "                                           passes=10,\n",
    "                                           alpha='auto',\n",
    "                                           per_word_topics=True)"
   ]
  },
  {
   "cell_type": "code",
   "execution_count": 13,
   "metadata": {},
   "outputs": [],
   "source": [
    "\n",
    "# --- Generar el mejor modelo LDA ---\n",
    "def compute_coherence_values(dictionary, corpus, texts, limit, start=2, step=3):\n",
    "    \"\"\"\n",
    "    Compute c_v coherence for various number of topics\n",
    "\n",
    "    Parameters:\n",
    "    ----------\n",
    "    dictionary : Gensim dictionary\n",
    "    corpus : Gensim corpus\n",
    "    texts : List of input texts\n",
    "    limit : Max num of topics\n",
    "\n",
    "    Returns:\n",
    "    -------\n",
    "    model_list : List of LDA topic models\n",
    "    coherence_values : Coherence values corresponding to the LDA model with respective number of topics\n",
    "    \"\"\"\n",
    "    coherence_values = []\n",
    "    model_list = []\n",
    "    for num_topics in range(start, limit, step):\n",
    "        print(num_topics)\n",
    "        \n",
    "        model = gensim.models.ldamodel.LdaModel(corpus=dataset_id,\n",
    "                                           id2word=id2word,\n",
    "                                           num_topics=num_topics, \n",
    "                                           random_state=100,\n",
    "                                           update_every=1,\n",
    "                                           chunksize=100,\n",
    "                                           passes=10,\n",
    "                                           alpha='auto',\n",
    "                                           per_word_topics=True)\n",
    "        \n",
    "        model_list.append(model)\n",
    "        coherencemodel = CoherenceModel(model=model, texts=texts, dictionary=dictionary, coherence='c_v')\n",
    "        coherence_values.append(coherencemodel.get_coherence())\n",
    "\n",
    "    return model_list, coherence_values"
   ]
  },
  {
   "cell_type": "code",
   "execution_count": 14,
   "metadata": {},
   "outputs": [],
   "source": [
    "start=2\n",
    "limit=10\n",
    "step=2"
   ]
  },
  {
   "cell_type": "code",
   "execution_count": 15,
   "metadata": {},
   "outputs": [
    {
     "name": "stdout",
     "output_type": "stream",
     "text": [
      "2\n",
      "4\n",
      "6\n",
      "8\n"
     ]
    }
   ],
   "source": [
    "# --- Optimal model ---\n",
    "model_list, coherence_values = compute_coherence_values(dictionary=id2word, corpus=dataset_id, texts=noticias_procesadas, start=start, limit=limit, step=step)"
   ]
  },
  {
   "cell_type": "code",
   "execution_count": 16,
   "metadata": {},
   "outputs": [],
   "source": [
    "# get max value\n",
    "max_coh_value = -1\n",
    "for index, coh_value  in enumerate(coherence_values):\n",
    "    if coh_value > max_coh_value:\n",
    "        max_coh_value = coh_value\n",
    "        max_coh_index = index"
   ]
  },
  {
   "cell_type": "code",
   "execution_count": 17,
   "metadata": {},
   "outputs": [
    {
     "name": "stdout",
     "output_type": "stream",
     "text": [
      "Numero de topicos: 8\n"
     ]
    }
   ],
   "source": [
    "print(f'Numero de topicos: {start + max_coh_index*step}')\n",
    "optimal_model = model_list[max_coh_index]"
   ]
  },
  {
   "cell_type": "markdown",
   "metadata": {},
   "source": [
    "## Visualizar tópicos"
   ]
  },
  {
   "cell_type": "code",
   "execution_count": 18,
   "metadata": {},
   "outputs": [
    {
     "name": "stderr",
     "output_type": "stream",
     "text": [
      "/home/alex/miniconda3/envs/myenv/lib/python3.8/site-packages/pyLDAvis/_prepare.py:246: FutureWarning: In a future version of pandas all arguments of DataFrame.drop except for the argument 'labels' will be keyword-only.\n",
      "  default_term_info = default_term_info.sort_values(\n",
      "/home/alex/miniconda3/envs/myenv/lib/python3.8/site-packages/past/builtins/misc.py:45: DeprecationWarning: the imp module is deprecated in favour of importlib; see the module's documentation for alternative uses\n",
      "  from imp import reload\n",
      "/home/alex/miniconda3/envs/myenv/lib/python3.8/site-packages/past/builtins/misc.py:45: DeprecationWarning: the imp module is deprecated in favour of importlib; see the module's documentation for alternative uses\n",
      "  from imp import reload\n",
      "/home/alex/miniconda3/envs/myenv/lib/python3.8/site-packages/past/builtins/misc.py:45: DeprecationWarning: the imp module is deprecated in favour of importlib; see the module's documentation for alternative uses\n",
      "  from imp import reload\n",
      "/home/alex/miniconda3/envs/myenv/lib/python3.8/site-packages/past/builtins/misc.py:45: DeprecationWarning: the imp module is deprecated in favour of importlib; see the module's documentation for alternative uses\n",
      "  from imp import reload\n",
      "/home/alex/miniconda3/envs/myenv/lib/python3.8/site-packages/past/builtins/misc.py:45: DeprecationWarning: the imp module is deprecated in favour of importlib; see the module's documentation for alternative uses\n",
      "  from imp import reload\n",
      "/home/alex/miniconda3/envs/myenv/lib/python3.8/site-packages/past/builtins/misc.py:45: DeprecationWarning: the imp module is deprecated in favour of importlib; see the module's documentation for alternative uses\n",
      "  from imp import reload\n",
      "/home/alex/miniconda3/envs/myenv/lib/python3.8/site-packages/past/builtins/misc.py:45: DeprecationWarning: the imp module is deprecated in favour of importlib; see the module's documentation for alternative uses\n",
      "  from imp import reload\n",
      "/home/alex/miniconda3/envs/myenv/lib/python3.8/site-packages/past/builtins/misc.py:45: DeprecationWarning: the imp module is deprecated in favour of importlib; see the module's documentation for alternative uses\n",
      "  from imp import reload\n"
     ]
    },
    {
     "data": {
      "text/html": [
       "\n",
       "<link rel=\"stylesheet\" type=\"text/css\" href=\"https://cdn.jsdelivr.net/gh/bmabey/pyLDAvis@3.3.1/pyLDAvis/js/ldavis.v1.0.0.css\">\n",
       "\n",
       "\n",
       "<div id=\"ldavis_el119401400302653247045098115544\"></div>\n",
       "<script type=\"text/javascript\">\n",
       "\n",
       "var ldavis_el119401400302653247045098115544_data = {\"mdsDat\": {\"x\": [-0.30123928558604995, -0.16420187143228038, -0.00579380958077435, -0.01749422926536396, 0.09734225881218653, 0.14480395252995665, 0.1254810977921, 0.12110188673022526], \"y\": [-0.005625848315434014, 0.1070486138362573, -0.29112640736493595, 0.06334813150769514, 0.039731200782518857, 0.032858411537638244, 0.03828259904105679, 0.015483298975203693], \"topics\": [1, 2, 3, 4, 5, 6, 7, 8], \"cluster\": [1, 1, 1, 1, 1, 1, 1, 1], \"Freq\": [45.102004311513966, 18.110620142942846, 14.26386842988466, 9.48272502831199, 5.330737992744094, 3.4866286224291354, 3.162304269362395, 1.0611112028109129]}, \"tinfo\": {\"Term\": [\"proyecto\", \"casos\", \"personas\", \"agua\", \"regi\\u00f3n\", \"vecinos\", \"familias\", \"presidente\", \"comuna\", \"zona\", \"empresas\", \"millones\", \"alcalde\", \"municipio\", \"beneficios\", \"actividades\", \"virus\", \"emprendimiento\", \"iniciativas\", \"trabajo\", \"vez\", \"trav\\u00e9s\", \"programa\", \"obra\", \"proceso\", \"lugar\", \"salud\", \"proyectos\", \"turismo\", \"a\\u00f1os\", \"actividades\", \"lugar\", \"educaci\\u00f3n\", \"resultados\", \"estudiantes\", \"horas\", \"ni\\u00f1os\", \"atenci\\u00f3n\", \"carrera\", \"persona\", \"momento\", \"sitio\", \"carreras\", \"j\\u00f3venes\", \"hecho\", \"mes\", \"redes\", \"instituci\\u00f3n\", \"mascarilla\", \"personal\", \"viernes\", \"casa\", \"vacunaci\\u00f3n\", \"adultos\", \"cabo\", \"instituciones\", \"martes\", \"dosis\", \"hechos\", \"vacunas\", \"seguridad\", \"salud\", \"proceso\", \"enero\", \"comuna\", \"contexto\", \"beneficio\", \"d\\u00edas\", \"comunidad\", \"a\\u00f1os\", \"semana\", \"personas\", \"a\\u00f1o\", \"situaci\\u00f3n\", \"tanto\", \"manera\", \"poblaci\\u00f3n\", \"gente\", \"respecto\", \"parte\", \"acuerdo\", \"d\\u00eda\", \"trav\\u00e9s\", \"pa\\u00eds\", \"tiempo\", \"regi\\u00f3n\", \"trabajo\", \"sector\", \"forma\", \"agua\", \"ley\", \"relaci\\u00f3n\", \"aguas\", \"financiamiento\", \"protecci\\u00f3n\", \"norma\", \"temas\", \"residuos\", \"ministro\", \"rol\", \"pensi\\u00f3n\", \"infraestructura\", \"agua potable\", \"retiro\", \"duda\", \"empresarios\", \"mirada\", \"gabinete\", \"planta\", \"tratamiento\", \"zapatos\", \"ropa\", \"reconocimiento\", \"distribuci\\u00f3n\", \"montos\", \"conversaciones\", \"participantes\", \"territorios\", \"octubre\", \"proyecto\", \"crisis\", \"alcaldes\", \"realidad\", \"partir\", \"general\", \"noviembre\", \"empresa\", \"monto\", \"estudio\", \"gobierno\", \"proyectos\", \"mercado\", \"vez\", \"empresas\", \"millones\", \"trabajadores\", \"sectores\", \"iniciativa\", \"sistema\", \"parte\", \"pa\\u00eds\", \"tipo\", \"desarrollo\", \"sector\", \"tiempo\", \"a\\u00f1os\", \"productos\", \"convenio\", \"evento\", \"ambiente\", \"camino\", \"sur\", \"publicaci\\u00f3n\", \"situaciones\", \"visitantes\", \"poder\", \"kil\\u00f3metros\", \"tiempos\", \"lago\", \"versi\\u00f3n\", \"turismo\", \"clases\", \"destino\", \"pol\\u00edticas\", \"museo\", \"estudiante\", \"origen\", \"conductor\", \"salm\\u00f3n\", \"video\", \"categor\\u00eda\", \"pol\\u00edticas p\\u00fablicas\", \"vuelo\", \"final\", \"color\", \"miembro\", \"gracias\", \"zona\", \"promedio\", \"aire\", \"n\\u00famero\", \"terreno\", \"temporada\", \"oferta\", \"turistas\", \"posibilidad\", \"falta\", \"emprendedores\", \"\\u00e1reas\", \"m\\u00fasica\", \"informaci\\u00f3n\", \"desarrollo\", \"vez\", \"actividad\", \"puntos\", \"regi\\u00f3n\", \"verano\", \"parte\", \"beneficios\", \"viviendas\", \"municipios\", \"factores\", \"cursos\", \"Juan Eduardo Vera\", \"calidad de vida\", \"instancias\", \"capacitaci\\u00f3n\", \"etapas\", \"pymes\", \"dirigentes\", \"subsidio\", \"comercio\", \"acuerdos\", \"beneficiarios\", \"capacitaciones\", \"tierra\", \"bienes\", \"alumnos\", \"gerente\", \"bonos\", \"dependencia\", \"inclusi\\u00f3n\", \"tecnolog\\u00edas\", \"escuela\", \"sitios\", \"rehabilitaci\\u00f3n\", \"negocios\", \"jefe comunal\", \"Carlos Geisse\", \"a\\u00f1o pasado\", \"familias\", \"vecinos\", \"programa\", \"incendio\", \"inversi\\u00f3n\", \"emprendimientos\", \"organizaciones\", \"acceso\", \"empresas\", \"millones\", \"municipio\", \"trabajo\", \"alcalde\", \"trav\\u00e9s\", \"personas\", \"recursos\", \"entrega\", \"iniciativas\", \"necesidades\", \"comuna\", \"parte\", \"emprendedores\", \"firmas\", \"negocio\", \"votos\", \"gobernador\", \"votaci\\u00f3n\", \"casas\", \"descentralizaci\\u00f3n\", \"presidente electo\", \"ocasi\\u00f3n\", \"junio\", \"ideas\", \"funciones\", \"cara\", \"convenci\\u00f3n\", \"padres\", \"debate\", \"convencionales\", \"incendios\", \"lucro\", \"gobernadores\", \"juez\", \"votaciones\", \"pueblo\", \"presidencia\", \"convencional\", \"\\u00f3rgano\", \"directiva\", \"fines de lucro\", \"gobiernos regionales\", \"Patricio Vallespin\", \"gobiernos\", \"comisi\\u00f3n\", \"urgencia\", \"vivienda\", \"iniciativas\", \"propuestas\", \"discusi\\u00f3n\", \"presidente\", \"autonom\\u00eda\", \"Gabriel Boric\", \"favor\", \"derechos\", \"regi\\u00f3n\", \"reuni\\u00f3n\", \"propuesta\", \"representante\", \"bomberos\", \"emprendimiento\", \"naturaleza\", \"conservaci\\u00f3n\", \"canal\", \"diputado\", \"tramo\", \"agrupaci\\u00f3n\", \"energ\\u00eda\", \"contrato\", \"vicepresidente\", \"concurso\", \"salida\", \"funci\\u00f3n\", \"sumideros\", \"distrito\", \"partido\", \"sociedad civil\", \"cuenca\", \"f\\u00fatbol\", \"parlamentario\", \"mesas\", \"puente\", \"turberas\", \"premio\", \"Gaspar Dom\\u00ednguez\", \"agricultura\", \"pobreza\", \"pasi\\u00f3n\", \"trabajador\", \"ciudadanas\", \"minutos\", \"mantenci\\u00f3n\", \"obra\", \"aplicaci\\u00f3n\", \"trabajo\", \"ingresos\", \"contagio\", \"curso\", \"misi\\u00f3n\", \"camas\", \"pueblos\", \"positividad\", \"droga\", \"Estudiantes\", \"sustancias\", \"casos nuevos\", \"desinfecci\\u00f3n\", \"ejercicio f\\u00edsico\", \"t\\u00faneles\", \"casos activos\", \"concejal\", \"pueblos originarios\", \"democracia\", \"Detectives\", \"infracci\\u00f3n\", \"ventilaci\\u00f3n\", \"disponibilidad\", \"arma\", \"v\\u00eda p\\u00fablica\", \"ganancias\", \"cannabis\", \"cannabis sativa\", \"alianzas\", \"detectives\", \"ventiladores\", \"armas\", \"comparaci\\u00f3n\", \"virus\", \"drogas\", \"casos\", \"enfermedad\", \"sujeto\", \"regi\\u00f3n\", \"cifra\", \"contagios\", \"personas\", \"hombre\", \"playas\", \"gremio\", \"accesos\", \"a\\u00f1o anterior\", \"pol\\u00e9mica\", \"barrio\", \"victoria\", \"explotaci\\u00f3n\", \"constituyente\", \"litio\", \"turismo rural\", \"culpa\", \"proceso de licitaci\\u00f3n\", \"rubros\", \"sociedades\", \"resoluciones\", \"morosidad\", \"mes de diciembre\", \"m\\u00e1s a\\u00fan\", \"trato directo\", \"restaurantes\", \"postergaci\\u00f3n\", \"recursos necesarios\", \"mes de marzo\", \"reservas\", \"autom\\u00f3viles\", \"anfitriones\", \"acci\\u00f3n judicial\", \"cenizas\", \"materia de salud\", \"exenci\\u00f3n\", \"licitaci\\u00f3n\", \"gastronom\\u00eda\", \"denuncias\", \"Francisco Mu\\u00f1oz\", \"promedio\", \"temporada\"], \"Freq\": [434.0, 186.0, 803.0, 305.0, 463.0, 266.0, 230.0, 197.0, 602.0, 223.0, 233.0, 328.0, 262.0, 229.0, 118.0, 359.0, 82.0, 76.0, 135.0, 456.0, 302.0, 515.0, 164.0, 102.0, 435.0, 309.0, 294.0, 190.0, 118.0, 711.0, 359.25097504905125, 308.5553112567372, 254.23349391475674, 228.58467958084034, 220.5053351604559, 301.2433119193521, 194.16928327214103, 176.36150777080468, 149.7258771663102, 144.70411091396116, 206.4455780472937, 138.2530153842853, 136.29065350086185, 131.907212601457, 133.64459743790144, 127.88852125895464, 127.41019290937449, 123.08354140630848, 120.15927590325664, 116.4103171579077, 116.00912535339062, 111.23924535442113, 106.58065458283414, 104.78083820700209, 104.40148585716054, 103.91367897982573, 102.51427759171418, 99.83708752924909, 96.43189747311276, 92.38239921186215, 179.25339227896785, 289.1329016011795, 420.0820265251668, 393.7146839111514, 548.9865151271182, 154.87365128008207, 210.06003845991697, 254.2761506967439, 364.50263818809094, 610.8395031700358, 235.88802490654433, 669.0471761823048, 576.0740895668391, 243.506607939643, 201.71350994660645, 296.1340924497469, 168.7978743047898, 174.6315912782992, 251.6064630491299, 481.79235284481217, 201.09148411802542, 254.82305697825998, 333.1322138099388, 308.37293647828596, 236.56467322145272, 262.63658014220357, 255.87980038889438, 241.3876425157037, 224.7257944445941, 305.30854726659635, 130.44279938869283, 121.1471219762816, 119.25665566424952, 117.02678844942277, 112.26890439084214, 99.63897702591969, 93.62631655647493, 89.68599356325893, 83.60914681214892, 71.17409860797174, 67.39544252011467, 64.9837752828477, 62.590752658218925, 55.06521348543329, 54.761257594689575, 54.098386070106905, 53.83818783203565, 52.93033146038091, 51.725266719961596, 49.737379981106706, 48.48392790140151, 46.026456317852826, 42.45564087152575, 41.758440713224424, 41.44504759486269, 40.80372381382652, 39.877214620869374, 38.660605762351935, 37.464318820192574, 426.6318600114426, 51.37645321554152, 43.833166910737766, 55.515650252750774, 108.59840566259219, 70.12604919652671, 63.86639549350028, 151.04691867736383, 114.94074797640913, 92.17951212756718, 102.30309352224538, 144.51422291300173, 71.38004852051246, 179.13387019516665, 149.3092101338034, 165.8216058266025, 90.15523911649878, 114.22892545093161, 134.46524185864757, 98.25343112177627, 145.97383285807425, 120.31759815094422, 91.19944140065158, 97.06626126933081, 96.7737373116077, 83.81261770809876, 84.26785928019945, 106.01004016310434, 101.6966509886092, 93.3057977457709, 89.0667488144507, 77.51565080229358, 74.52269744059254, 70.93134132599717, 56.322832720188565, 54.69744588551621, 52.82015217163454, 51.22581514632166, 50.51862599861428, 47.356562375943184, 46.04393211627929, 117.24316640462212, 44.65515138024626, 40.705498395571325, 40.461375519097054, 38.58743935678272, 38.40969169742892, 38.18897255010817, 34.96668634813734, 34.57154692247688, 34.497027811022036, 33.644576069638596, 33.14195189303331, 33.02436431683325, 31.670115934019005, 31.49353846112289, 31.394294581290673, 81.11421336903345, 198.44198662508902, 55.417280805108746, 57.95414591353239, 86.62424426631398, 69.59640640733338, 50.22446741463666, 63.754874401326404, 44.35915670260024, 68.61293688348056, 55.072060714817724, 75.55075473204998, 70.07019615520255, 62.83128480549014, 102.93878128551728, 122.58887984881815, 99.78264833159668, 70.7067689680202, 62.98583992956307, 71.41451842600196, 58.17524003772909, 74.58568493559245, 117.53174025766756, 70.74670257309874, 58.93512194332023, 49.772956288354415, 47.77372295546494, 46.8531361240468, 44.869719646577614, 43.83083878270097, 42.900993933191714, 41.700841316847736, 41.637275896441295, 40.89949982151119, 38.895123145237775, 37.27505020971946, 35.38103621521553, 34.86694543347099, 34.738960711695206, 33.0757610568054, 32.19942703609574, 31.086155375041315, 31.050424181727745, 28.44668610768584, 26.92886971553412, 26.57730858472241, 25.19310737103141, 24.999926831977064, 25.008978543258348, 24.52439823143654, 24.266640795533117, 21.227083883784378, 23.647150156944438, 57.43750069555296, 145.6607453973115, 146.07668284890718, 99.41632897715687, 30.70950504385642, 60.18958769272426, 40.690023909852655, 59.37214853547628, 68.5947219705092, 83.30822564884258, 89.93609552888073, 75.99372659047798, 92.24668595301634, 73.04494324236815, 91.89903605547431, 89.55527035016914, 57.42194745438968, 46.431212909593704, 45.70056588109217, 43.37258837748369, 50.67435085571367, 51.57811795138597, 43.9036221059855, 56.23254418326887, 52.728200345756775, 39.95081996631501, 37.52401786048163, 36.02808663416624, 34.68414826510229, 33.5910174398195, 32.992459387856776, 32.369121152384544, 27.835545987758007, 27.68999301439054, 27.477644366960952, 25.455356528206337, 23.851284220241606, 21.927111991076856, 20.73734908123101, 20.43053484344144, 20.38952447733693, 20.278740111682186, 18.887548007345572, 18.497717577557015, 17.409986074630176, 17.40911142306715, 15.417123898404913, 15.387511385817902, 16.552284711227557, 14.335532674959238, 14.046317779669975, 13.742027628435226, 13.458529378444664, 31.68635493391704, 50.2368737605277, 18.268309197707435, 40.03604292192606, 72.96184838404031, 30.33906292847329, 29.944103786757132, 76.32226291075499, 23.765557091630136, 35.13467274810443, 26.080798437603644, 27.665489884414825, 70.02734889911235, 33.78225847383851, 32.36744916652373, 23.919869466838772, 23.485013005482294, 75.8138952722612, 43.18422816942042, 41.807736295944615, 35.31792096892736, 32.84289854014217, 26.20566680931374, 23.55325037206025, 22.60826153839, 20.978903818137827, 20.161885031817057, 20.04587905554673, 18.333263790287393, 17.929894649222394, 17.878563769412725, 17.81392660061664, 17.678992612633728, 17.216982034413316, 16.4766340220195, 15.692430040374889, 15.66857037872205, 15.348434551100741, 15.007359491998432, 14.59875211903791, 14.034444308196518, 13.03659800621768, 12.211792459651576, 11.584293998998923, 11.18673621898294, 10.695095706363958, 10.515453430223682, 30.267814503853124, 19.36252789463075, 30.830077381446486, 15.79600943876756, 16.335952939308093, 56.038220007893386, 24.44186904131801, 23.83044578241395, 20.163725588427713, 18.801411409826116, 14.83614522526731, 14.74827608879066, 14.566346833799756, 14.008407391319363, 13.414307224460336, 13.380110146954259, 13.011533151202777, 13.011533151202777, 13.011533151202777, 12.679850739099084, 12.458955276898491, 12.289164321772336, 12.060402805530444, 11.411631078664985, 11.416133611055972, 11.280570310905443, 11.357281537634734, 10.862793211104826, 10.730795052794445, 10.742621844688172, 10.293734080714009, 9.520605696287472, 9.279982032952686, 9.090905294454867, 9.003024691427138, 25.373377251453647, 14.755134997428714, 57.85239656492864, 25.683946876380162, 83.57872763628643, 18.84803058433619, 15.290306647192631, 31.61620147758776, 14.043817056602213, 14.815854207584245, 20.590674973546896, 12.531073194374073, 12.214766737137023, 7.843514670335248, 6.5044821078642405, 5.722950932535274, 5.60625126330592, 4.948347363228216, 3.7499984922790133, 3.5551803339278685, 3.4011509168923246, 3.3034699405628793, 3.2028157303798217, 3.2116793210893286, 2.855412608623083, 2.7206333818283635, 2.454032611370882, 2.215826015803664, 2.1236546441246604, 2.0507156675307736, 2.059757049480637, 2.052291580869553, 2.039499589300082, 1.9881669777527213, 1.9418261478563865, 1.8885246866942191, 1.8092485505511342, 1.7912218975027374, 1.7762855095121552, 1.692705510755349, 1.6976700385643002, 1.641095871919137, 3.5845022616656914, 5.68098771094298, 2.943007739584338, 4.636467861131715, 2.0523914581849207, 3.0830777387093127, 1.919586050823269], \"Total\": [434.0, 186.0, 803.0, 305.0, 463.0, 266.0, 230.0, 197.0, 602.0, 223.0, 233.0, 328.0, 262.0, 229.0, 118.0, 359.0, 82.0, 76.0, 135.0, 456.0, 302.0, 515.0, 164.0, 102.0, 435.0, 309.0, 294.0, 190.0, 118.0, 711.0, 359.8969659566696, 309.2014337945028, 254.87927393772435, 229.23135461754097, 221.17355894302898, 302.20645956327996, 194.81516358422104, 177.00740409269267, 150.37231861881884, 145.35014641733784, 207.38448457302815, 138.90580026688207, 136.93671860374351, 132.55442312166184, 134.3152374952834, 128.5345345011339, 128.05704975910317, 123.7297733319248, 120.80772602641717, 117.0561883017019, 116.65528345021535, 111.88561723813282, 107.22638421001437, 105.42674509218305, 105.04750069948983, 104.5597043024385, 103.16027834060937, 100.48274877635197, 97.07773001279125, 93.02874888277526, 181.38065047851538, 294.2742400616562, 435.64150521995685, 420.62800790075147, 602.8376716183411, 160.0172613676375, 222.14519378035772, 273.50023668046623, 405.68076648295045, 711.6234033730685, 252.87315115576345, 803.4260537952807, 686.7994195050312, 270.23338231087786, 219.69396886397186, 357.0319810190052, 179.2482014337375, 187.66215942179858, 304.3199015753043, 754.2183460445121, 229.82834335753193, 336.0615208825709, 515.1423818596759, 473.5679346689935, 320.898656653994, 463.3345651940799, 456.1854899579933, 402.5549010047603, 335.077058672037, 305.955950035303, 131.09013444706895, 121.79572750045891, 119.90405890334385, 117.67441295508313, 112.93719989793817, 100.28703451323383, 94.27468342765293, 90.33368842786547, 84.25682531459549, 71.82216758686545, 68.0426280275366, 65.63188810906792, 63.23788035448467, 55.712935920202504, 55.409524624715914, 54.746286222884024, 54.4864043629064, 53.578194491410336, 52.372388668167105, 50.384833437198346, 49.139805508288774, 46.67586004317063, 43.10456147070372, 42.40679659223795, 42.092915636609675, 41.452136624360726, 40.52629562214295, 39.30810643706483, 38.11191053294471, 434.054026230106, 52.347230878015715, 44.65320535399286, 57.125649960490485, 115.02568778706977, 73.99011096261056, 67.20669414174846, 172.609002710799, 135.85140906070055, 105.83931642162496, 120.51613032233371, 190.4084736128121, 80.02965261686109, 302.311355248912, 233.15338949075277, 328.8996386544332, 125.98656159892626, 196.15574364833574, 266.4813871955657, 206.97289542373767, 754.2183460445121, 473.5679346689935, 202.2803350563364, 363.1792518706858, 402.5549010047603, 320.898656653994, 711.6234033730685, 106.662061001077, 102.35021238067108, 93.956708496462, 89.7186640366343, 78.16833906496045, 75.17387183895116, 71.58494389839412, 56.97498440037578, 55.34812657296938, 53.47296507977368, 51.877386105344634, 51.170714533894134, 48.00893380673186, 46.694828327519325, 118.94294746481101, 45.30705478414507, 41.356599901792904, 41.112349076077294, 39.23903550110532, 39.061046654417964, 38.84009334443877, 35.619492317238716, 35.22237339368932, 35.14983387438413, 34.29556539098776, 33.79282270291234, 33.67706689061677, 32.322778708075376, 32.14442706932534, 32.05511796024145, 86.15183382737838, 223.64058523865384, 59.11045729766261, 65.99011962594727, 108.3932620023255, 83.14770617498363, 56.77417292531789, 82.33657805151952, 50.29191649601957, 95.7237033594456, 69.73266238512036, 122.03602266402268, 109.51023425198136, 95.19628403672084, 253.58535395904553, 363.1792518706858, 302.311355248912, 157.21545833426384, 130.0746554218766, 463.3345651940799, 124.22997143744044, 754.2183460445121, 118.19336299782587, 71.40732103021541, 59.5961121605117, 50.435070139426, 48.43563738346174, 47.51539576948608, 45.53088001520429, 44.49432231849883, 43.56176588113591, 42.36344880025375, 42.30002593800915, 41.56327470786592, 39.555920306436924, 37.93613171998178, 36.0445953643127, 35.528212955437766, 35.39984925785653, 33.73972345796955, 32.86145490982801, 31.747347867321515, 31.71192363453292, 29.11079161653923, 27.58927715803418, 27.23892286558806, 25.85531982079042, 25.662088618133026, 25.671560030964752, 25.185660990152133, 24.928591945686286, 21.88802436110121, 24.522431795343515, 64.60795375357098, 230.5905400074925, 266.33417827458163, 164.20428460076812, 34.46351251226897, 100.99914891119809, 56.74083866594247, 113.33128256360118, 153.79122131919382, 233.15338949075277, 328.8996386544332, 229.89557996039812, 456.1854899579933, 262.0768399156389, 515.1423818596759, 803.4260537952807, 186.18958720330076, 118.79317724429157, 135.31162687327605, 102.04613667984779, 602.8376716183411, 754.2183460445121, 122.03602266402268, 56.91138087678138, 53.411329026647174, 40.630114139748876, 38.20274912029181, 36.70711846640155, 35.3660853580592, 34.270176229657984, 33.67162701341741, 33.04962288892656, 28.51912735003375, 28.370272152298604, 28.158485446582976, 26.136903599004967, 24.530063137480322, 22.60686258173837, 21.41705188422358, 21.1092813719765, 21.06902033029307, 20.958959143694504, 19.566269223306985, 19.176662769847972, 18.08912822371269, 18.08890030932868, 16.095999303969897, 16.066243189902323, 17.29656062430477, 15.014718600668305, 14.726177747750068, 14.420906245118744, 14.137208752056367, 34.217346268973905, 59.72522796613206, 19.741687120580643, 52.485332098188564, 135.31162687327605, 42.75660368915234, 43.657831837658996, 197.8901742328931, 32.51063921969264, 69.4993390800696, 39.75314473509083, 45.56219697184705, 463.3345651940799, 85.5912821927143, 77.08076005170288, 43.148291718007194, 48.29191247063888, 76.50669146297902, 43.87742410070353, 42.500048719027575, 36.010917361464124, 33.5348053292195, 26.896385097346865, 24.246254579100427, 23.3025478818209, 21.671677088249876, 20.854275651256817, 20.738770474868446, 19.0266487414402, 18.622466382163946, 18.571376710576605, 18.50786428526338, 18.370413883388412, 17.909673613903017, 17.170032876626454, 16.385599328112473, 16.36121670219223, 16.048636660956802, 15.698243526034517, 15.289869638688328, 14.725407599451902, 13.728596158014454, 12.908033770836056, 12.276378564438206, 11.87873520153128, 11.39061426334919, 11.21589100923705, 35.91773098172061, 26.523485945357002, 102.34625873511516, 36.933975468092086, 456.1854899579933, 56.74309096511194, 25.145698588140764, 24.53538519359845, 20.87135021177275, 19.502656705606213, 15.538534512138561, 15.44874729891618, 15.266911050543467, 14.70906363464594, 14.115364636674729, 14.080737673898767, 13.713427797518287, 13.713427797518287, 13.713427797518287, 13.381517071244469, 13.163223092148142, 12.990909251338142, 12.762602059552924, 12.112054991109561, 12.117401109739273, 11.981102795459293, 12.066236576931319, 11.563149256546492, 11.431888082756446, 11.45073317212948, 10.994099189413893, 10.220988064735957, 9.984390570249117, 9.791304188839826, 9.704782386138449, 30.53301831508023, 17.08374350458216, 82.37909793898518, 33.615551465944, 186.43115814520488, 38.563958681380875, 32.15475621159222, 463.3345651940799, 40.689723998169505, 58.097425598734155, 803.4260537952807, 89.679324480665, 12.94435423941493, 8.576319085403615, 7.23545988818159, 6.460022647086607, 6.355271745988317, 5.6882914273400225, 4.4938006461312305, 4.288790125699697, 4.136628317020843, 4.033700991017828, 3.9326002133029387, 3.9439446419636193, 3.5871930163374346, 3.453536304313247, 3.19023932849334, 2.95168576868501, 2.8530207975724604, 2.780946214276021, 2.7974078290737747, 2.790683997479238, 2.776615292511427, 2.7237585586106614, 2.6743602623664726, 2.6223681364007843, 2.540562607999502, 2.523695091517642, 2.5055423641629893, 2.423841652842541, 2.456408827567049, 2.3933113698618587, 5.589028660853225, 25.142156947790426, 10.747100922717598, 37.475072777117084, 4.452046014881379, 59.11045729766261, 56.77417292531789], \"Category\": [\"Default\", \"Default\", \"Default\", \"Default\", \"Default\", \"Default\", \"Default\", \"Default\", \"Default\", \"Default\", \"Default\", \"Default\", \"Default\", \"Default\", \"Default\", \"Default\", \"Default\", \"Default\", \"Default\", \"Default\", \"Default\", \"Default\", \"Default\", \"Default\", \"Default\", \"Default\", \"Default\", \"Default\", \"Default\", \"Default\", \"Topic1\", \"Topic1\", \"Topic1\", \"Topic1\", \"Topic1\", \"Topic1\", \"Topic1\", \"Topic1\", \"Topic1\", \"Topic1\", \"Topic1\", \"Topic1\", \"Topic1\", \"Topic1\", \"Topic1\", \"Topic1\", \"Topic1\", \"Topic1\", \"Topic1\", \"Topic1\", \"Topic1\", \"Topic1\", \"Topic1\", \"Topic1\", \"Topic1\", \"Topic1\", \"Topic1\", \"Topic1\", \"Topic1\", \"Topic1\", \"Topic1\", \"Topic1\", \"Topic1\", \"Topic1\", \"Topic1\", \"Topic1\", \"Topic1\", \"Topic1\", \"Topic1\", \"Topic1\", \"Topic1\", \"Topic1\", \"Topic1\", \"Topic1\", \"Topic1\", \"Topic1\", \"Topic1\", \"Topic1\", \"Topic1\", \"Topic1\", \"Topic1\", \"Topic1\", \"Topic1\", \"Topic1\", \"Topic1\", \"Topic1\", \"Topic1\", \"Topic1\", \"Topic1\", \"Topic2\", \"Topic2\", \"Topic2\", \"Topic2\", \"Topic2\", \"Topic2\", \"Topic2\", \"Topic2\", \"Topic2\", \"Topic2\", \"Topic2\", \"Topic2\", \"Topic2\", \"Topic2\", \"Topic2\", \"Topic2\", \"Topic2\", \"Topic2\", \"Topic2\", \"Topic2\", \"Topic2\", \"Topic2\", \"Topic2\", \"Topic2\", \"Topic2\", \"Topic2\", \"Topic2\", \"Topic2\", \"Topic2\", \"Topic2\", \"Topic2\", \"Topic2\", \"Topic2\", \"Topic2\", \"Topic2\", \"Topic2\", \"Topic2\", \"Topic2\", \"Topic2\", \"Topic2\", \"Topic2\", \"Topic2\", \"Topic2\", \"Topic2\", \"Topic2\", \"Topic2\", \"Topic2\", \"Topic2\", \"Topic2\", \"Topic2\", \"Topic2\", \"Topic2\", \"Topic2\", \"Topic2\", \"Topic2\", \"Topic2\", \"Topic2\", \"Topic3\", \"Topic3\", \"Topic3\", \"Topic3\", \"Topic3\", \"Topic3\", \"Topic3\", \"Topic3\", \"Topic3\", \"Topic3\", \"Topic3\", \"Topic3\", \"Topic3\", \"Topic3\", \"Topic3\", \"Topic3\", \"Topic3\", \"Topic3\", \"Topic3\", \"Topic3\", \"Topic3\", \"Topic3\", \"Topic3\", \"Topic3\", \"Topic3\", \"Topic3\", \"Topic3\", \"Topic3\", \"Topic3\", \"Topic3\", \"Topic3\", \"Topic3\", \"Topic3\", \"Topic3\", \"Topic3\", \"Topic3\", \"Topic3\", \"Topic3\", \"Topic3\", \"Topic3\", \"Topic3\", \"Topic3\", \"Topic3\", \"Topic3\", \"Topic3\", \"Topic3\", \"Topic3\", \"Topic3\", \"Topic3\", \"Topic3\", \"Topic3\", \"Topic3\", \"Topic4\", \"Topic4\", \"Topic4\", \"Topic4\", \"Topic4\", \"Topic4\", \"Topic4\", \"Topic4\", \"Topic4\", \"Topic4\", \"Topic4\", \"Topic4\", \"Topic4\", \"Topic4\", \"Topic4\", \"Topic4\", \"Topic4\", \"Topic4\", \"Topic4\", \"Topic4\", \"Topic4\", \"Topic4\", \"Topic4\", \"Topic4\", \"Topic4\", \"Topic4\", \"Topic4\", \"Topic4\", \"Topic4\", \"Topic4\", \"Topic4\", \"Topic4\", \"Topic4\", \"Topic4\", \"Topic4\", \"Topic4\", \"Topic4\", \"Topic4\", \"Topic4\", \"Topic4\", \"Topic4\", \"Topic4\", \"Topic4\", \"Topic4\", \"Topic4\", \"Topic4\", \"Topic4\", \"Topic4\", \"Topic4\", \"Topic4\", \"Topic4\", \"Topic4\", \"Topic4\", \"Topic4\", \"Topic5\", \"Topic5\", \"Topic5\", \"Topic5\", \"Topic5\", \"Topic5\", \"Topic5\", \"Topic5\", \"Topic5\", \"Topic5\", \"Topic5\", \"Topic5\", \"Topic5\", \"Topic5\", \"Topic5\", \"Topic5\", \"Topic5\", \"Topic5\", \"Topic5\", \"Topic5\", \"Topic5\", \"Topic5\", \"Topic5\", \"Topic5\", \"Topic5\", \"Topic5\", \"Topic5\", \"Topic5\", \"Topic5\", \"Topic5\", \"Topic5\", \"Topic5\", \"Topic5\", \"Topic5\", \"Topic5\", \"Topic5\", \"Topic5\", \"Topic5\", \"Topic5\", \"Topic5\", \"Topic5\", \"Topic5\", \"Topic5\", \"Topic5\", \"Topic5\", \"Topic5\", \"Topic5\", \"Topic6\", \"Topic6\", \"Topic6\", \"Topic6\", \"Topic6\", \"Topic6\", \"Topic6\", \"Topic6\", \"Topic6\", \"Topic6\", \"Topic6\", \"Topic6\", \"Topic6\", \"Topic6\", \"Topic6\", \"Topic6\", \"Topic6\", \"Topic6\", \"Topic6\", \"Topic6\", \"Topic6\", \"Topic6\", \"Topic6\", \"Topic6\", \"Topic6\", \"Topic6\", \"Topic6\", \"Topic6\", \"Topic6\", \"Topic6\", \"Topic6\", \"Topic6\", \"Topic6\", \"Topic6\", \"Topic6\", \"Topic7\", \"Topic7\", \"Topic7\", \"Topic7\", \"Topic7\", \"Topic7\", \"Topic7\", \"Topic7\", \"Topic7\", \"Topic7\", \"Topic7\", \"Topic7\", \"Topic7\", \"Topic7\", \"Topic7\", \"Topic7\", \"Topic7\", \"Topic7\", \"Topic7\", \"Topic7\", \"Topic7\", \"Topic7\", \"Topic7\", \"Topic7\", \"Topic7\", \"Topic7\", \"Topic7\", \"Topic7\", \"Topic7\", \"Topic7\", \"Topic7\", \"Topic7\", \"Topic7\", \"Topic7\", \"Topic7\", \"Topic7\", \"Topic7\", \"Topic7\", \"Topic7\", \"Topic7\", \"Topic7\", \"Topic7\", \"Topic8\", \"Topic8\", \"Topic8\", \"Topic8\", \"Topic8\", \"Topic8\", \"Topic8\", \"Topic8\", \"Topic8\", \"Topic8\", \"Topic8\", \"Topic8\", \"Topic8\", \"Topic8\", \"Topic8\", \"Topic8\", \"Topic8\", \"Topic8\", \"Topic8\", \"Topic8\", \"Topic8\", \"Topic8\", \"Topic8\", \"Topic8\", \"Topic8\", \"Topic8\", \"Topic8\", \"Topic8\", \"Topic8\", \"Topic8\", \"Topic8\", \"Topic8\", \"Topic8\", \"Topic8\", \"Topic8\", \"Topic8\", \"Topic8\"], \"logprob\": [30.0, 29.0, 28.0, 27.0, 26.0, 25.0, 24.0, 23.0, 22.0, 21.0, 20.0, 19.0, 18.0, 17.0, 16.0, 15.0, 14.0, 13.0, 12.0, 11.0, 10.0, 9.0, 8.0, 7.0, 6.0, 5.0, 4.0, 3.0, 2.0, 1.0, -5.0933, -5.2455, -5.4391, -5.5454, -5.5814, -5.2694, -5.7086, -5.8048, -5.9685, -6.0027, -5.6473, -6.0483, -6.0626, -6.0953, -6.0822, -6.1262, -6.1299, -6.1645, -6.1885, -6.2202, -6.2237, -6.2657, -6.3085, -6.3255, -6.3291, -6.3338, -6.3474, -6.3738, -6.4085, -6.4514, -5.7886, -5.3105, -4.9369, -5.0017, -4.6693, -5.9347, -5.63, -5.4389, -5.0788, -4.5625, -5.514, -4.4715, -4.6211, -5.4822, -5.6705, -5.2865, -5.8487, -5.8147, -5.4495, -4.7998, -5.6736, -5.4368, -5.1688, -5.246, -5.5111, -5.4066, -5.4326, -5.4909, -5.5625, -4.3436, -5.194, -5.2679, -5.2836, -5.3025, -5.344, -5.4634, -5.5256, -5.5686, -5.6388, -5.7998, -5.8543, -5.8908, -5.9283, -6.0564, -6.0619, -6.0741, -6.0789, -6.0959, -6.119, -6.1582, -6.1837, -6.2357, -6.3165, -6.333, -6.3406, -6.3562, -6.3791, -6.4101, -6.4415, -4.009, -6.1257, -6.2845, -6.0483, -5.3773, -5.8146, -5.9081, -5.0473, -5.3205, -5.5412, -5.437, -5.0915, -5.7969, -4.8768, -5.0589, -4.954, -5.5634, -5.3267, -5.1636, -5.4774, -5.0815, -5.2748, -5.5519, -5.4895, -5.4925, -5.6363, -5.6309, -5.1626, -5.2042, -5.2903, -5.3368, -5.4757, -5.5151, -5.5644, -5.7951, -5.8243, -5.8593, -5.8899, -5.9038, -5.9685, -5.9966, -5.0619, -6.0272, -6.1198, -6.1258, -6.1732, -6.1778, -6.1836, -6.2718, -6.2831, -6.2853, -6.3103, -6.3254, -6.3289, -6.3708, -6.3764, -6.3795, -5.4303, -4.5357, -5.8113, -5.7665, -5.3646, -5.5834, -5.9097, -5.6711, -6.0338, -5.5977, -5.8175, -5.5014, -5.5767, -5.6857, -5.192, -5.0173, -5.2232, -5.5676, -5.6832, -5.5577, -5.7627, -5.5142, -4.6512, -5.1588, -5.3415, -5.5104, -5.5514, -5.5709, -5.6141, -5.6376, -5.659, -5.6874, -5.6889, -5.7068, -5.757, -5.7996, -5.8517, -5.8664, -5.87, -5.9191, -5.9459, -5.9811, -5.9823, -6.0699, -6.1247, -6.1378, -6.1913, -6.199, -6.1987, -6.2182, -6.2288, -6.3626, -6.2547, -5.3672, -4.4366, -4.4338, -4.8186, -5.9933, -5.3204, -5.7119, -5.3341, -5.1897, -4.9954, -4.9188, -5.0872, -4.8934, -5.1268, -4.8972, -4.923, -5.3675, -5.5799, -5.5958, -5.6481, -5.4925, -5.4748, -5.6359, -4.8124, -4.8768, -5.1543, -5.2169, -5.2576, -5.2956, -5.3277, -5.3456, -5.3647, -5.5156, -5.5208, -5.5285, -5.605, -5.6701, -5.7542, -5.81, -5.8249, -5.8269, -5.8323, -5.9034, -5.9243, -5.9849, -5.9849, -6.1064, -6.1084, -6.0354, -6.1792, -6.1996, -6.2215, -6.2423, -5.386, -4.9252, -5.9367, -5.1521, -4.552, -5.4295, -5.4426, -4.507, -5.6737, -5.2827, -5.5807, -5.5217, -4.593, -5.322, -5.3648, -5.6672, -5.6856, -4.0891, -4.6519, -4.6843, -4.853, -4.9256, -5.1514, -5.2581, -5.299, -5.3738, -5.4136, -5.4193, -5.5086, -5.5309, -5.5338, -5.5374, -5.545, -5.5715, -5.6154, -5.6642, -5.6657, -5.6863, -5.7088, -5.7364, -5.7758, -5.8496, -5.915, -5.9677, -6.0026, -6.0476, -6.0645, -5.0073, -5.454, -4.9889, -5.6576, -5.624, -4.2937, -5.1234, -5.1488, -5.3158, -5.3858, -5.6227, -5.6286, -5.641, -5.6801, -5.7234, -5.726, -5.7539, -5.7539, -5.7539, -5.7797, -5.7973, -5.811, -5.8298, -5.8851, -5.8847, -5.8966, -5.8899, -5.9344, -5.9466, -5.9455, -5.9882, -6.0663, -6.0919, -6.1125, -6.1222, -5.086, -5.6281, -4.2618, -5.0739, -3.8939, -5.3833, -5.5925, -4.8661, -5.6775, -5.624, -5.2949, -5.7915, -4.7251, -5.1681, -5.3553, -5.4833, -5.5039, -5.6287, -5.906, -5.9593, -6.0036, -6.0328, -6.0637, -6.0609, -6.1785, -6.2269, -6.33, -6.4321, -6.4746, -6.5096, -6.5052, -6.5088, -6.515, -6.5405, -6.5641, -6.5919, -6.6348, -6.6448, -6.6532, -6.7014, -6.6985, -6.7324, -5.9511, -5.4906, -6.1483, -5.6938, -6.5087, -6.1018, -6.5756], \"loglift\": [30.0, 29.0, 28.0, 27.0, 26.0, 25.0, 24.0, 23.0, 22.0, 21.0, 20.0, 19.0, 18.0, 17.0, 16.0, 15.0, 14.0, 13.0, 12.0, 11.0, 10.0, 9.0, 8.0, 7.0, 6.0, 5.0, 4.0, 3.0, 2.0, 1.0, 0.7944, 0.7942, 0.7937, 0.7934, 0.7932, 0.7931, 0.7929, 0.7926, 0.7919, 0.7918, 0.7917, 0.7915, 0.7915, 0.7913, 0.7912, 0.7912, 0.7912, 0.791, 0.7909, 0.7907, 0.7907, 0.7904, 0.7902, 0.7901, 0.7901, 0.79, 0.79, 0.7898, 0.7896, 0.7893, 0.7844, 0.7786, 0.7599, 0.7301, 0.7027, 0.7636, 0.7403, 0.7234, 0.6892, 0.6435, 0.7267, 0.6132, 0.6204, 0.6921, 0.7109, 0.6092, 0.7362, 0.7243, 0.606, 0.3481, 0.6627, 0.5195, 0.3603, 0.3673, 0.4913, 0.2286, 0.2181, 0.2848, 0.3968, 1.7066, 1.7037, 1.7033, 1.7033, 1.7032, 1.7027, 1.7022, 1.7018, 1.7015, 1.701, 1.6996, 1.6991, 1.6987, 1.6984, 1.697, 1.6969, 1.6968, 1.6967, 1.6965, 1.6962, 1.6957, 1.6952, 1.6947, 1.6935, 1.6933, 1.6932, 1.6929, 1.6925, 1.6921, 1.6915, 1.6914, 1.69, 1.6901, 1.6801, 1.6512, 1.655, 1.6577, 1.5752, 1.5415, 1.5705, 1.5448, 1.4329, 1.5943, 1.1853, 1.263, 1.0238, 1.374, 1.168, 1.0247, 0.9636, 0.0664, 0.3385, 0.9121, 0.3892, 0.2832, 0.3661, -0.4249, 1.9413, 1.941, 1.9405, 1.9401, 1.9391, 1.9387, 1.9383, 1.9359, 1.9356, 1.9352, 1.9348, 1.9346, 1.9338, 1.9334, 1.933, 1.9329, 1.9316, 1.9315, 1.9307, 1.9306, 1.9305, 1.9289, 1.9288, 1.9287, 1.9283, 1.928, 1.9279, 1.927, 1.927, 1.9266, 1.8872, 1.8279, 1.8829, 1.8176, 1.7233, 1.7695, 1.8249, 1.6917, 1.8219, 1.6145, 1.7114, 1.4679, 1.5009, 1.532, 1.0459, 0.8614, 0.839, 1.1484, 1.2222, 0.0775, 1.1888, -0.3663, 2.3501, 2.3464, 2.3445, 2.3425, 2.3419, 2.3417, 2.3411, 2.3407, 2.3404, 2.3399, 2.3399, 2.3396, 2.3389, 2.3381, 2.3371, 2.3369, 2.3369, 2.3358, 2.3353, 2.3347, 2.3346, 2.3326, 2.3315, 2.3311, 2.3298, 2.3296, 2.3295, 2.3291, 2.3288, 2.325, 2.3194, 2.2381, 1.8963, 1.7551, 1.8539, 2.2404, 1.8381, 2.0232, 1.7092, 1.5483, 1.3265, 1.059, 1.2487, 0.7573, 1.0781, 0.6319, 0.1617, 1.1794, 1.4163, 1.2702, 1.5001, -0.1205, -0.3269, 1.3334, 2.9197, 2.9188, 2.9148, 2.9138, 2.913, 2.9122, 2.9117, 2.9113, 2.9109, 2.9074, 2.9074, 2.9072, 2.9053, 2.9036, 2.9012, 2.8994, 2.899, 2.8989, 2.8987, 2.8964, 2.8956, 2.8934, 2.8934, 2.8886, 2.8885, 2.8877, 2.8854, 2.8844, 2.8835, 2.8825, 2.8548, 2.7587, 2.8541, 2.6609, 2.314, 2.5886, 2.5546, 1.9789, 2.6184, 2.2496, 2.5102, 2.4328, 1.0421, 2.002, 2.064, 2.3417, 2.2108, 3.3471, 3.3403, 3.3398, 3.3368, 3.3354, 3.3302, 3.3272, 3.326, 3.3237, 3.3225, 3.3223, 3.3191, 3.3183, 3.3182, 3.318, 3.3179, 3.3168, 3.315, 3.313, 3.313, 3.3116, 3.3112, 3.31, 3.3082, 3.3045, 3.3008, 3.2982, 3.2962, 3.2932, 3.2917, 3.1851, 3.0415, 2.1564, 2.5069, 0.0267, 3.4414, 3.4255, 3.4247, 3.4194, 3.4173, 3.4076, 3.4075, 3.4069, 3.4051, 3.4029, 3.4028, 3.4013, 3.4013, 3.4013, 3.4, 3.3989, 3.3983, 3.3973, 3.3943, 3.3943, 3.3936, 3.3933, 3.3914, 3.3906, 3.39, 3.388, 3.3829, 3.3807, 3.3796, 3.3788, 3.2688, 3.3073, 3.1004, 3.1847, 2.6516, 2.738, 2.7105, 0.7691, 2.3901, 2.0874, -0.2102, 1.4858, 4.4878, 4.4565, 4.4394, 4.4247, 4.4205, 4.4065, 4.3649, 4.3583, 4.3501, 4.3461, 4.3406, 4.3405, 4.3177, 4.3073, 4.2835, 4.2591, 4.2506, 4.2413, 4.2397, 4.2385, 4.2373, 4.2311, 4.2258, 4.2176, 4.2064, 4.203, 4.2019, 4.1868, 4.1764, 4.1685, 4.1017, 3.0584, 3.2506, 2.4561, 3.7715, 1.5924, 1.1589]}, \"token.table\": {\"Topic\": [4, 7, 7, 4, 8, 2, 5, 6, 4, 5, 1, 3, 4, 8, 8, 1, 3, 4, 1, 1, 2, 4, 1, 6, 6, 2, 2, 2, 3, 6, 1, 4, 2, 7, 4, 3, 8, 3, 4, 6, 7, 6, 7, 1, 8, 1, 5, 1, 2, 4, 5, 8, 4, 5, 7, 1, 2, 3, 8, 4, 1, 4, 4, 4, 1, 5, 4, 1, 4, 7, 3, 6, 7, 7, 4, 4, 5, 1, 1, 1, 5, 1, 3, 7, 7, 7, 3, 8, 1, 7, 8, 6, 3, 3, 4, 4, 5, 7, 8, 1, 2, 4, 1, 2, 3, 4, 7, 6, 3, 6, 8, 7, 1, 7, 1, 4, 6, 5, 5, 5, 3, 2, 2, 6, 8, 7, 4, 5, 7, 1, 6, 8, 4, 3, 4, 5, 1, 2, 3, 4, 5, 5, 7, 3, 7, 6, 5, 4, 2, 5, 7, 2, 6, 1, 7, 1, 7, 2, 1, 2, 5, 7, 1, 3, 1, 7, 3, 4, 6, 6, 3, 4, 2, 3, 4, 2, 2, 4, 6, 1, 3, 5, 1, 7, 1, 4, 4, 3, 1, 1, 2, 3, 4, 3, 1, 8, 8, 4, 3, 4, 1, 2, 4, 4, 5, 6, 3, 2, 5, 5, 1, 2, 3, 5, 5, 6, 6, 2, 7, 1, 8, 2, 6, 1, 2, 4, 5, 5, 2, 5, 5, 6, 5, 3, 5, 8, 1, 1, 1, 7, 1, 5, 4, 5, 5, 4, 1, 2, 3, 7, 2, 7, 1, 2, 3, 4, 2, 4, 5, 6, 4, 1, 1, 2, 4, 5, 4, 5, 5, 1, 3, 3, 2, 1, 8, 8, 5, 1, 1, 2, 3, 4, 6, 1, 1, 8, 2, 3, 1, 8, 8, 6, 3, 1, 2, 4, 5, 2, 3, 6, 2, 7, 1, 2, 4, 2, 8, 1, 4, 4, 3, 8, 1, 3, 6, 2, 3, 4, 5, 5, 4, 1, 2, 2, 5, 3, 4, 7, 1, 4, 6, 5, 2, 1, 3, 4, 2, 3, 4, 6, 3, 5, 6, 1, 2, 3, 4, 2, 6, 2, 7, 6, 1, 2, 3, 5, 2, 1, 1, 1, 2, 4, 7, 2, 8, 1, 4, 6, 3, 8, 3, 3, 3, 4, 7, 8, 6, 5, 1, 2, 4, 5, 5, 1, 4, 5, 8, 3, 1, 2, 3, 4, 3, 8, 2, 5, 2, 5, 2, 2, 4, 2, 4, 6, 3, 5, 7, 7, 6, 2, 3, 4, 2, 3, 2, 1, 2, 3, 4, 5, 8, 1, 1, 3, 4, 5, 6, 7, 8, 4, 2, 3, 4, 5, 8, 2, 8, 1, 2, 8, 1, 2, 3, 4, 5, 2, 2, 8, 6, 3, 1, 7, 1, 2, 3, 4, 1, 2, 3, 1, 4, 1, 3, 1, 2, 1, 4, 3, 1, 2, 6, 8, 4, 1, 7, 6, 3, 7, 1, 2, 5, 4, 2, 1, 3, 8, 3, 5, 2, 1, 2, 3, 4, 1, 2, 6, 2, 4, 1, 2, 3, 4, 5, 6, 6, 2, 8, 1, 2, 3, 4, 6, 3, 8, 8, 3, 6, 7, 5, 6, 1, 1, 1, 2, 4, 7, 7, 1, 3, 3, 2, 3, 4, 5, 6, 8, 3, 1, 1, 3, 7, 3, 5, 7, 4, 5, 5, 5, 3, 7, 2, 3, 4, 1, 3, 5, 5], \"Freq\": [0.9786957590624141, 0.9081861012086035, 0.9517941010890862, 0.4492316551344738, 0.4492316551344738, 0.48921328533540276, 0.5036019113746794, 0.9469285752433532, 0.9891530784677361, 0.9195591738085532, 0.49417645134803845, 0.05201857382610931, 0.4486601992501928, 0.967457509015261, 0.8251364100680901, 0.45797023246223734, 0.4516095347891507, 0.08904976742321281, 0.9975077145919102, 0.8745657609658475, 0.12183005625394891, 0.9710193621608265, 0.9959522122037447, 0.92965359504345, 0.9898436033368762, 0.9968755304964892, 0.996238324985733, 0.9924601476245886, 0.8789194553481978, 0.10607648599029974, 0.7173468668979531, 0.27854426214654565, 0.9853715909347491, 0.9014070449945795, 0.9764595181164477, 0.991989804525613, 0.7982303666488303, 0.2978287568719239, 0.27075341533811265, 0.43320546454098025, 0.9512979341482024, 0.16375714802917157, 0.8187857401458578, 0.9943086895271052, 0.7924887624983594, 0.24607329145205384, 0.7382198743561615, 0.8386728113648041, 0.12230645165736727, 0.030576612914341817, 0.008736175118383377, 0.9287893135647022, 0.8822443165033612, 0.061911881859885, 0.0309559409299425, 0.8586002049734208, 0.11803996271320352, 0.022483802421562577, 0.8789985646600593, 0.985132577422335, 0.9453276770310589, 0.0540187244017748, 0.9983640113715232, 0.973785247421581, 0.4969776256964729, 0.47627022462578655, 0.9618426172956376, 0.9900283139292726, 0.9883402206364776, 0.9742262444961296, 0.9978464546263347, 0.971927475456487, 0.9095788411322411, 0.9783789919980045, 0.9887047751264707, 0.9871041526950775, 0.9565019783350217, 0.9975240215603602, 0.9931594782371402, 0.9920846194533841, 0.9896486887267048, 0.5149353839513718, 0.03218346149696074, 0.4505684609574504, 0.9714892512401071, 0.9232470841423235, 0.9913818189722736, 0.814196715772635, 0.6144057404057267, 0.34406721462720696, 0.024576229616229066, 0.9807513278205674, 0.9932228041392679, 0.9643973411982995, 0.9753234798188793, 0.15069009037694361, 0.8371671687607978, 0.8780276990213964, 0.11707035986951952, 0.9106929209088546, 0.004976464048682266, 0.08459988882759852, 0.8997222204157412, 0.04190487053991124, 0.04190487053991124, 0.017254946692904626, 0.9116308305340503, 0.9643773252727929, 0.9826080531490646, 0.9882341612751211, 0.7252283188354154, 0.9544375916173155, 0.7401360655288123, 0.25818699960307406, 0.9686454990870615, 0.031246629002808435, 0.9690066862146977, 0.9336345667559384, 0.9474505383471216, 0.9783912852360164, 0.9965782935616339, 0.9890925616583293, 0.9742635693346386, 0.9318561073800145, 0.7606597638516431, 0.9781790589642694, 0.9910058500931282, 0.9805271105249181, 0.9402471333044417, 0.8272165389610431, 0.026684404482614294, 0.13342202241307147, 0.9786410802045034, 0.26337623726561776, 0.13168811863280888, 0.6145445536197748, 0.24505805202685282, 0.2670857420966823, 0.33867573482362806, 0.0991246053142326, 0.0495623026571163, 0.9921162871224406, 0.9479759686599002, 0.991377436669366, 0.9191829634154602, 0.9840522309889923, 0.932418407054053, 0.9864477784336054, 0.2977701698137532, 0.6871619303394304, 0.9116347031542719, 0.9904072784334667, 0.9725595413152148, 0.9951957049122289, 0.9825170232760368, 0.20823695268220477, 0.7734515385339034, 0.9926091294323568, 0.7587896386659037, 0.21424648621154926, 0.011902582567308292, 0.014878228209135366, 0.9287012072927432, 0.06946977534866977, 0.9965502336689048, 0.9479759686599002, 0.6227669366875023, 0.3605492791348697, 0.016388603597039534, 0.9933771614836566, 0.28198384754583605, 0.7225836093362048, 0.8748095268993344, 0.0926950492078765, 0.028967202877461407, 0.986368276747655, 0.6390642671995536, 0.3559888199836439, 0.9870165321253592, 0.9366946389669933, 0.059434939020748305, 0.0023773975608299323, 0.4926880084324284, 0.4926880084324284, 0.606095414486103, 0.3872276259216769, 0.9741997376758652, 0.9728361949999628, 0.9992152816825917, 0.10393113232307775, 0.8692421976111958, 0.018896569513286866, 0.991420698490167, 0.9898175605364249, 0.1789219667102833, 0.7156878668411332, 0.9326639641401006, 0.9913736584836055, 0.788726518087684, 0.20076675005868322, 0.2038244934006089, 0.16045757991111764, 0.6331569369465724, 0.25155242601908717, 0.6540363076496266, 0.07546572780572615, 0.9900138935767074, 0.9942688224385657, 0.9506879680397029, 0.9839859644461165, 0.6714873315759375, 0.17607890027991252, 0.08356286792945, 0.06864092722776251, 0.9588583892844437, 0.9665744392074658, 0.9764671819204741, 0.989208399109025, 0.9606371779558586, 0.6513384446965744, 0.2791450477271033, 0.9460723749336329, 0.04054595892572713, 0.9325268372653728, 0.06927342219685627, 0.9775502854151155, 0.9946928133456208, 0.971058906690681, 0.846359733980752, 0.14935760011425037, 0.9351981813100319, 0.05844988633187699, 0.9708127743177574, 0.9402005320316099, 0.04642965590279555, 0.9328011143633316, 0.9976530027332566, 0.9888982775694359, 0.8586148529319187, 0.14496094919629796, 0.9960078299946883, 0.9869485865235662, 0.8995020455028789, 0.08704858504866571, 0.949261032856092, 0.9912286228509462, 0.4534962220987443, 0.13802058933440045, 0.40617487718409273, 0.907785415402221, 0.9903722393599612, 0.9869042917389039, 0.36025030119476004, 0.5028493787510192, 0.06379432416990542, 0.07129953877812958, 0.07390347918413058, 0.3399560042470006, 0.5394953980441531, 0.04434208751047834, 0.9888902158131463, 0.9946470362921115, 0.9941018777269794, 0.3267354265431952, 0.5940644118967185, 0.06930751472128384, 0.9594287567278397, 0.9386408999329083, 0.9817972217851493, 0.995817392519954, 0.9830873108455586, 0.9789844571263862, 0.9916840847584215, 0.7557028634995369, 0.23864300952616954, 0.7437338579831141, 0.9542458603445007, 0.9993485353802186, 0.8290573834735652, 0.13444173786057814, 0.033610434465144536, 0.26391704372574626, 0.7163462615413112, 0.9984463172920087, 0.9933139538919842, 0.8356622649210242, 0.8871711631676048, 0.09996294796254702, 0.9958413160851399, 0.7191796769505918, 0.7626694254853981, 0.9346588322042376, 0.9670842590081828, 0.19458823445909357, 0.5047132331282739, 0.27363970470810034, 0.024323529307386696, 0.9969518752500279, 0.13920701178325043, 0.8352420706995026, 0.9910729223446879, 0.958251373153556, 0.9933240686935738, 0.8465131189667395, 0.1472196728637808, 0.9740356394875358, 0.7010113637102585, 0.6655195372888675, 0.3305848681957773, 0.9899974656248351, 0.993908221798709, 0.7149475951320986, 0.33614757470634443, 0.6617905377031156, 0.9800028347450447, 0.3625810952165797, 0.1469923358986134, 0.4213780295760251, 0.06859642341935292, 0.9922988430705036, 0.9627499239544104, 0.995815707724062, 0.9971378701680927, 0.9522860902072481, 0.04463841047846475, 0.8026329164088952, 0.17528764841113803, 0.027676997117548112, 0.6057866771707182, 0.08793677571833006, 0.3028933385853591, 0.9682410025538223, 0.9708251169412366, 0.1943243255748193, 0.7772973022992772, 0.024290540696852412, 0.19412115968645874, 0.20294484876311594, 0.5205976555227757, 0.07058951261325772, 0.9783704602100536, 0.9731558247171995, 0.9779223813994328, 0.6390722295842344, 0.19357789526825356, 0.09944069962410286, 0.06894555173937798, 0.9870134781858673, 0.9798363887858095, 0.9476144163708523, 0.05216226145160655, 0.9260245146791384, 0.6503818722762145, 0.2533955346530706, 0.04856747747517186, 0.04434421856428735, 0.9846768407135208, 0.9975910143472957, 0.9909770827409854, 0.832683974884472, 0.029872070847873435, 0.11202026567952539, 0.026138061991889255, 0.9928895993167971, 0.9270450868426162, 0.9428267544568588, 0.05578856535247685, 0.9774869630333158, 0.991155061645299, 0.9440981030885772, 0.9729436750495837, 0.9765387251049611, 0.7208245980716268, 0.2820617992454192, 0.970952512185395, 0.7342794733686538, 0.9507376896325164, 0.9319085890057425, 0.35373155979749843, 0.252665399855356, 0.01010661599421424, 0.38405140778014113, 0.9800536216099751, 0.9640954660367831, 0.016068257767279718, 0.018363723162605393, 0.836308497016153, 0.9937929101044624, 0.22532907767881058, 0.09134962608600429, 0.07307970086880343, 0.6029075321676283, 0.9304614194242555, 0.05075244105950485, 0.5708298668887859, 0.4151489941009352, 0.2806584004483145, 0.7016460011207863, 0.991701583722767, 0.9837485063982186, 0.016127024695052766, 0.7615207309253034, 0.2205784186128465, 0.015755601329489034, 0.9918286742080238, 0.9398028464578845, 0.9653420010929691, 0.923722871727699, 0.9555209138604248, 0.515088814056021, 0.48433724306760184, 0.9929071925759847, 0.9802951920675036, 0.017505271286919706, 0.9743748356782508, 0.08056304450378028, 0.39207348325173075, 0.09667565340453635, 0.3061395691143651, 0.11815913193887775, 0.7478424010945524, 0.9917454778078079, 0.5676243901420036, 0.1532370026619097, 0.0388488175762588, 0.15107873501878422, 0.01726614114500391, 0.06906456458001564, 0.004316535286250978, 0.9926283058354225, 0.9934667043188694, 0.09270355420190758, 0.34763832825715346, 0.5562213252114455, 0.7872272045973496, 0.9963060466845441, 0.6775789012564876, 0.828075977599652, 0.17087282077453136, 0.7203014423330556, 0.9989907374672764, 0.987203404228712, 0.18693492596564876, 0.4206035834227097, 0.39723671767700364, 0.9885527321927304, 0.9855201373355408, 0.8686748120334484, 0.9460415359850444, 0.9936865868973737, 0.9820771262188932, 0.0169909537408113, 0.5986761045474145, 0.24096092174729963, 0.1316590603361534, 0.027325465352786557, 0.2548994950137124, 0.5811708486312642, 0.15803768690850167, 0.9868748376839823, 0.011026534499262372, 0.933274248062144, 0.06327283037709451, 0.5218074558936354, 0.47349195071829875, 0.993479032084033, 0.9738403108282191, 0.9828875003541142, 0.9029232358839411, 0.0962131316925511, 0.9492076944832288, 0.626912213807026, 0.9859459645451237, 0.4975935719964123, 0.46649397374663654, 0.969233475822436, 0.9976870708572301, 0.920982229975358, 0.9194608347445011, 0.050069649416779764, 0.031862504174314396, 0.9669190005492544, 0.9970863500394173, 0.07045457104697406, 0.8806821380871757, 0.03522728552348703, 0.8418752990333325, 0.15634826982047603, 0.992161758349817, 0.7385509259253242, 0.2617648851380896, 0.9966638235277904, 0.9780755921461227, 0.5487434058732688, 0.4498707201303374, 0.9657073574507703, 0.7143619038236142, 0.2778074070425166, 0.5611752360286013, 0.08987572139520567, 0.06795481373783843, 0.2016723504477786, 0.043841815314734474, 0.03507345225178758, 0.9666726552991209, 0.9923621175074834, 0.7166701789978926, 0.6464232253573513, 0.0737660137044425, 0.10094296612186868, 0.1785914016002292, 0.9810417194169619, 0.9836648787824446, 0.00840739212634568, 0.7628540500638228, 0.8748920913260971, 0.09941955583251104, 0.9479759686599002, 0.9117761764765819, 0.05065423202647677, 0.9978887266256132, 0.9889416025139542, 0.40175091568490534, 0.04505617745998939, 0.5481834924298709, 0.9181124799437393, 0.9273778269211781, 0.5312727616075819, 0.4668760632309053, 0.9851198012198317, 0.592104784991017, 0.33078479608436706, 0.059541263295186074, 0.016539239804218352, 0.9590359470862114, 0.8901151419441915, 0.9672876441324497, 0.9943827366336562, 0.2427800315902121, 0.048556006318042425, 0.7040620916116151, 0.9937102374637664, 0.7621176889034208, 0.22863530667102624, 0.9942958085482151, 0.9397910053904658, 0.9807362033320924, 0.9844914504157785, 0.9798953129494357, 0.9622207565688213, 0.9768048429069074, 0.8853491408489564, 0.10731504737563109, 0.29221013194409295, 0.6392096636277034, 0.06392096636277034, 0.9828543586932509], \"Term\": [\"Carlos Geisse\", \"Detectives\", \"Estudiantes\", \"Francisco Mu\\u00f1oz\", \"Francisco Mu\\u00f1oz\", \"Gabriel Boric\", \"Gabriel Boric\", \"Gaspar Dom\\u00ednguez\", \"Juan Eduardo Vera\", \"Patricio Vallespin\", \"acceso\", \"acceso\", \"acceso\", \"accesos\", \"acci\\u00f3n judicial\", \"actividad\", \"actividad\", \"actividad\", \"actividades\", \"acuerdo\", \"acuerdo\", \"acuerdos\", \"adultos\", \"agricultura\", \"agrupaci\\u00f3n\", \"agua\", \"agua potable\", \"aguas\", \"aire\", \"aire\", \"alcalde\", \"alcalde\", \"alcaldes\", \"alianzas\", \"alumnos\", \"ambiente\", \"anfitriones\", \"aplicaci\\u00f3n\", \"aplicaci\\u00f3n\", \"aplicaci\\u00f3n\", \"arma\", \"armas\", \"armas\", \"atenci\\u00f3n\", \"autom\\u00f3viles\", \"autonom\\u00eda\", \"autonom\\u00eda\", \"a\\u00f1o\", \"a\\u00f1o\", \"a\\u00f1o\", \"a\\u00f1o\", \"a\\u00f1o anterior\", \"a\\u00f1o pasado\", \"a\\u00f1o pasado\", \"a\\u00f1o pasado\", \"a\\u00f1os\", \"a\\u00f1os\", \"a\\u00f1os\", \"barrio\", \"beneficiarios\", \"beneficio\", \"beneficio\", \"beneficios\", \"bienes\", \"bomberos\", \"bomberos\", \"bonos\", \"cabo\", \"calidad de vida\", \"camas\", \"camino\", \"canal\", \"cannabis\", \"cannabis sativa\", \"capacitaciones\", \"capacitaci\\u00f3n\", \"cara\", \"carrera\", \"carreras\", \"casa\", \"casas\", \"casos\", \"casos\", \"casos\", \"casos activos\", \"casos nuevos\", \"categor\\u00eda\", \"cenizas\", \"cifra\", \"cifra\", \"cifra\", \"ciudadanas\", \"clases\", \"color\", \"comercio\", \"comisi\\u00f3n\", \"comisi\\u00f3n\", \"comparaci\\u00f3n\", \"comparaci\\u00f3n\", \"comuna\", \"comuna\", \"comuna\", \"comunidad\", \"comunidad\", \"comunidad\", \"comunidad\", \"concejal\", \"concurso\", \"conductor\", \"conservaci\\u00f3n\", \"constituyente\", \"contagio\", \"contagios\", \"contagios\", \"contexto\", \"contexto\", \"contrato\", \"convencional\", \"convencionales\", \"convenci\\u00f3n\", \"convenio\", \"conversaciones\", \"crisis\", \"cuenca\", \"culpa\", \"curso\", \"cursos\", \"debate\", \"democracia\", \"denuncias\", \"denuncias\", \"denuncias\", \"dependencia\", \"derechos\", \"derechos\", \"derechos\", \"desarrollo\", \"desarrollo\", \"desarrollo\", \"desarrollo\", \"desarrollo\", \"descentralizaci\\u00f3n\", \"desinfecci\\u00f3n\", \"destino\", \"detectives\", \"diputado\", \"directiva\", \"dirigentes\", \"discusi\\u00f3n\", \"discusi\\u00f3n\", \"disponibilidad\", \"distribuci\\u00f3n\", \"distrito\", \"dosis\", \"droga\", \"drogas\", \"drogas\", \"duda\", \"d\\u00eda\", \"d\\u00eda\", \"d\\u00eda\", \"d\\u00eda\", \"d\\u00edas\", \"d\\u00edas\", \"educaci\\u00f3n\", \"ejercicio f\\u00edsico\", \"emprendedores\", \"emprendedores\", \"emprendedores\", \"emprendimiento\", \"emprendimientos\", \"emprendimientos\", \"empresa\", \"empresa\", \"empresa\", \"empresarios\", \"empresas\", \"empresas\", \"energ\\u00eda\", \"enero\", \"enero\", \"enero\", \"enfermedad\", \"enfermedad\", \"entrega\", \"entrega\", \"escuela\", \"estudiante\", \"estudiantes\", \"estudio\", \"estudio\", \"estudio\", \"etapas\", \"evento\", \"exenci\\u00f3n\", \"exenci\\u00f3n\", \"explotaci\\u00f3n\", \"factores\", \"falta\", \"falta\", \"familias\", \"familias\", \"familias\", \"favor\", \"favor\", \"favor\", \"final\", \"financiamiento\", \"fines de lucro\", \"firmas\", \"forma\", \"forma\", \"forma\", \"forma\", \"funciones\", \"funci\\u00f3n\", \"f\\u00fatbol\", \"gabinete\", \"ganancias\", \"gastronom\\u00eda\", \"gastronom\\u00eda\", \"general\", \"general\", \"gente\", \"gente\", \"gerente\", \"gobernador\", \"gobernadores\", \"gobierno\", \"gobierno\", \"gobiernos\", \"gobiernos\", \"gobiernos regionales\", \"gracias\", \"gracias\", \"gremio\", \"hecho\", \"hechos\", \"hombre\", \"hombre\", \"horas\", \"ideas\", \"incendio\", \"incendio\", \"incendios\", \"inclusi\\u00f3n\", \"informaci\\u00f3n\", \"informaci\\u00f3n\", \"informaci\\u00f3n\", \"infracci\\u00f3n\", \"infraestructura\", \"ingresos\", \"iniciativa\", \"iniciativa\", \"iniciativa\", \"iniciativa\", \"iniciativas\", \"iniciativas\", \"iniciativas\", \"iniciativas\", \"instancias\", \"instituciones\", \"instituci\\u00f3n\", \"inversi\\u00f3n\", \"inversi\\u00f3n\", \"inversi\\u00f3n\", \"jefe comunal\", \"juez\", \"junio\", \"j\\u00f3venes\", \"kil\\u00f3metros\", \"lago\", \"ley\", \"licitaci\\u00f3n\", \"licitaci\\u00f3n\", \"litio\", \"lucro\", \"lugar\", \"manera\", \"manera\", \"manera\", \"mantenci\\u00f3n\", \"mantenci\\u00f3n\", \"martes\", \"mascarilla\", \"materia de salud\", \"mercado\", \"mercado\", \"mes\", \"mes de diciembre\", \"mes de marzo\", \"mesas\", \"miembro\", \"millones\", \"millones\", \"millones\", \"millones\", \"ministro\", \"minutos\", \"minutos\", \"mirada\", \"misi\\u00f3n\", \"momento\", \"monto\", \"monto\", \"montos\", \"morosidad\", \"municipio\", \"municipio\", \"municipios\", \"museo\", \"m\\u00e1s a\\u00fan\", \"m\\u00fasica\", \"m\\u00fasica\", \"naturaleza\", \"necesidades\", \"necesidades\", \"necesidades\", \"necesidades\", \"negocio\", \"negocios\", \"ni\\u00f1os\", \"norma\", \"noviembre\", \"noviembre\", \"n\\u00famero\", \"n\\u00famero\", \"n\\u00famero\", \"obra\", \"obra\", \"obra\", \"ocasi\\u00f3n\", \"octubre\", \"oferta\", \"oferta\", \"oferta\", \"organizaciones\", \"organizaciones\", \"organizaciones\", \"organizaciones\", \"origen\", \"padres\", \"parlamentario\", \"parte\", \"parte\", \"parte\", \"parte\", \"participantes\", \"partido\", \"partir\", \"partir\", \"pasi\\u00f3n\", \"pa\\u00eds\", \"pa\\u00eds\", \"pa\\u00eds\", \"pa\\u00eds\", \"pensi\\u00f3n\", \"persona\", \"personal\", \"personas\", \"personas\", \"personas\", \"personas\", \"planta\", \"playas\", \"poblaci\\u00f3n\", \"poblaci\\u00f3n\", \"pobreza\", \"poder\", \"pol\\u00e9mica\", \"pol\\u00edticas\", \"pol\\u00edticas p\\u00fablicas\", \"posibilidad\", \"posibilidad\", \"positividad\", \"postergaci\\u00f3n\", \"premio\", \"presidencia\", \"presidente\", \"presidente\", \"presidente\", \"presidente\", \"presidente electo\", \"proceso\", \"proceso\", \"proceso\", \"proceso de licitaci\\u00f3n\", \"productos\", \"programa\", \"programa\", \"programa\", \"programa\", \"promedio\", \"promedio\", \"propuesta\", \"propuesta\", \"propuestas\", \"propuestas\", \"protecci\\u00f3n\", \"proyecto\", \"proyecto\", \"proyectos\", \"proyectos\", \"proyectos\", \"publicaci\\u00f3n\", \"pueblo\", \"pueblos\", \"pueblos originarios\", \"puente\", \"puntos\", \"puntos\", \"pymes\", \"realidad\", \"realidad\", \"reconocimiento\", \"recursos\", \"recursos\", \"recursos\", \"recursos\", \"recursos\", \"recursos necesarios\", \"redes\", \"regi\\u00f3n\", \"regi\\u00f3n\", \"regi\\u00f3n\", \"regi\\u00f3n\", \"regi\\u00f3n\", \"regi\\u00f3n\", \"regi\\u00f3n\", \"rehabilitaci\\u00f3n\", \"relaci\\u00f3n\", \"representante\", \"representante\", \"representante\", \"reservas\", \"residuos\", \"resoluciones\", \"respecto\", \"respecto\", \"restaurantes\", \"resultados\", \"retiro\", \"reuni\\u00f3n\", \"reuni\\u00f3n\", \"reuni\\u00f3n\", \"rol\", \"ropa\", \"rubros\", \"salida\", \"salm\\u00f3n\", \"salud\", \"salud\", \"sector\", \"sector\", \"sector\", \"sector\", \"sectores\", \"sectores\", \"sectores\", \"seguridad\", \"seguridad\", \"semana\", \"semana\", \"sistema\", \"sistema\", \"sitio\", \"sitios\", \"situaciones\", \"situaci\\u00f3n\", \"situaci\\u00f3n\", \"sociedad civil\", \"sociedades\", \"subsidio\", \"sujeto\", \"sujeto\", \"sumideros\", \"sur\", \"sustancias\", \"tanto\", \"tanto\", \"tanto\", \"tecnolog\\u00edas\", \"temas\", \"temporada\", \"temporada\", \"temporada\", \"terreno\", \"terreno\", \"territorios\", \"tiempo\", \"tiempo\", \"tiempos\", \"tierra\", \"tipo\", \"tipo\", \"trabajador\", \"trabajadores\", \"trabajadores\", \"trabajo\", \"trabajo\", \"trabajo\", \"trabajo\", \"trabajo\", \"trabajo\", \"tramo\", \"tratamiento\", \"trato directo\", \"trav\\u00e9s\", \"trav\\u00e9s\", \"trav\\u00e9s\", \"trav\\u00e9s\", \"turberas\", \"turismo\", \"turismo\", \"turismo rural\", \"turistas\", \"turistas\", \"t\\u00faneles\", \"urgencia\", \"urgencia\", \"vacunaci\\u00f3n\", \"vacunas\", \"vecinos\", \"vecinos\", \"vecinos\", \"ventilaci\\u00f3n\", \"ventiladores\", \"verano\", \"verano\", \"versi\\u00f3n\", \"vez\", \"vez\", \"vez\", \"vez\", \"vicepresidente\", \"victoria\", \"video\", \"viernes\", \"virus\", \"virus\", \"virus\", \"visitantes\", \"vivienda\", \"vivienda\", \"viviendas\", \"votaciones\", \"votaci\\u00f3n\", \"votos\", \"vuelo\", \"v\\u00eda p\\u00fablica\", \"zapatos\", \"zona\", \"zona\", \"\\u00e1reas\", \"\\u00e1reas\", \"\\u00e1reas\", \"\\u00f3rgano\"]}, \"R\": 30, \"lambda.step\": 0.01, \"plot.opts\": {\"xlab\": \"PC1\", \"ylab\": \"PC2\"}, \"topic.order\": [5, 6, 3, 2, 8, 1, 7, 4]};\n",
       "\n",
       "function LDAvis_load_lib(url, callback){\n",
       "  var s = document.createElement('script');\n",
       "  s.src = url;\n",
       "  s.async = true;\n",
       "  s.onreadystatechange = s.onload = callback;\n",
       "  s.onerror = function(){console.warn(\"failed to load library \" + url);};\n",
       "  document.getElementsByTagName(\"head\")[0].appendChild(s);\n",
       "}\n",
       "\n",
       "if(typeof(LDAvis) !== \"undefined\"){\n",
       "   // already loaded: just create the visualization\n",
       "   !function(LDAvis){\n",
       "       new LDAvis(\"#\" + \"ldavis_el119401400302653247045098115544\", ldavis_el119401400302653247045098115544_data);\n",
       "   }(LDAvis);\n",
       "}else if(typeof define === \"function\" && define.amd){\n",
       "   // require.js is available: use it to load d3/LDAvis\n",
       "   require.config({paths: {d3: \"https://d3js.org/d3.v5\"}});\n",
       "   require([\"d3\"], function(d3){\n",
       "      window.d3 = d3;\n",
       "      LDAvis_load_lib(\"https://cdn.jsdelivr.net/gh/bmabey/pyLDAvis@3.3.1/pyLDAvis/js/ldavis.v3.0.0.js\", function(){\n",
       "        new LDAvis(\"#\" + \"ldavis_el119401400302653247045098115544\", ldavis_el119401400302653247045098115544_data);\n",
       "      });\n",
       "    });\n",
       "}else{\n",
       "    // require.js not available: dynamically load d3 & LDAvis\n",
       "    LDAvis_load_lib(\"https://d3js.org/d3.v5.js\", function(){\n",
       "         LDAvis_load_lib(\"https://cdn.jsdelivr.net/gh/bmabey/pyLDAvis@3.3.1/pyLDAvis/js/ldavis.v3.0.0.js\", function(){\n",
       "                 new LDAvis(\"#\" + \"ldavis_el119401400302653247045098115544\", ldavis_el119401400302653247045098115544_data);\n",
       "            })\n",
       "         });\n",
       "}\n",
       "</script>"
      ],
      "text/plain": [
       "PreparedData(topic_coordinates=              x         y  topics  cluster       Freq\n",
       "topic                                                \n",
       "4     -0.301239 -0.005626       1        1  45.102004\n",
       "5     -0.164202  0.107049       2        1  18.110620\n",
       "2     -0.005794 -0.291126       3        1  14.263868\n",
       "1     -0.017494  0.063348       4        1   9.482725\n",
       "7      0.097342  0.039731       5        1   5.330738\n",
       "0      0.144804  0.032858       6        1   3.486629\n",
       "6      0.125481  0.038283       7        1   3.162304\n",
       "3      0.121102  0.015483       8        1   1.061111, topic_info=                 Term        Freq       Total Category  logprob  loglift\n",
       "963          proyecto  434.000000  434.000000  Default  30.0000  30.0000\n",
       "56              casos  186.000000  186.000000  Default  29.0000  29.0000\n",
       "74           personas  803.000000  803.000000  Default  28.0000  28.0000\n",
       "1682             agua  305.000000  305.000000  Default  27.0000  27.0000\n",
       "168            región  463.000000  463.000000  Default  26.0000  26.0000\n",
       "...               ...         ...         ...      ...      ...      ...\n",
       "2678      gastronomía    2.943008   10.747101   Topic8  -6.1483   3.2506\n",
       "501         denuncias    4.636468   37.475073   Topic8  -5.6938   2.4561\n",
       "3220  Francisco Muñoz    2.052391    4.452046   Topic8  -6.5087   3.7715\n",
       "2236         promedio    3.083078   59.110457   Topic8  -6.1018   1.5924\n",
       "1000        temporada    1.919586   56.774173   Topic8  -6.5756   1.1589\n",
       "\n",
       "[413 rows x 6 columns], token_table=       Topic      Freq             Term\n",
       "term                                   \n",
       "1011       4  0.978696    Carlos Geisse\n",
       "2988       7  0.908186       Detectives\n",
       "10183      7  0.951794      Estudiantes\n",
       "3220       4  0.449232  Francisco Muñoz\n",
       "3220       8  0.449232  Francisco Muñoz\n",
       "...      ...       ...              ...\n",
       "185        4  0.107315             zona\n",
       "3295       1  0.292210            áreas\n",
       "3295       3  0.639210            áreas\n",
       "3295       5  0.063921            áreas\n",
       "4906       5  0.982854           órgano\n",
       "\n",
       "[557 rows x 3 columns], R=30, lambda_step=0.01, plot_opts={'xlab': 'PC1', 'ylab': 'PC2'}, topic_order=[5, 6, 3, 2, 8, 1, 7, 4])"
      ]
     },
     "execution_count": 18,
     "metadata": {},
     "output_type": "execute_result"
    }
   ],
   "source": [
    "# Visualize the topics\n",
    "pyLDAvis.enable_notebook();\n",
    "vis = pyLDAvis.gensim_models.prepare(optimal_model, dataset_id, id2word);\n",
    "vis"
   ]
  },
  {
   "cell_type": "markdown",
   "metadata": {},
   "source": [
    "## Temas principales"
   ]
  },
  {
   "cell_type": "code",
   "execution_count": 19,
   "metadata": {},
   "outputs": [
    {
     "name": "stderr",
     "output_type": "stream",
     "text": [
      "/tmp/ipykernel_11940/2884501078.py:15: FutureWarning: The frame.append method is deprecated and will be removed from pandas in a future version. Use pandas.concat instead.\n",
      "  sent_topics_df = sent_topics_df.append(pd.Series([int(topic_num), round(prop_topic,4), topic_keywords]), ignore_index=True)\n",
      "/tmp/ipykernel_11940/2884501078.py:15: FutureWarning: The frame.append method is deprecated and will be removed from pandas in a future version. Use pandas.concat instead.\n",
      "  sent_topics_df = sent_topics_df.append(pd.Series([int(topic_num), round(prop_topic,4), topic_keywords]), ignore_index=True)\n"
     ]
    },
    {
     "data": {
      "text/html": [
       "<div>\n",
       "<style scoped>\n",
       "    .dataframe tbody tr th:only-of-type {\n",
       "        vertical-align: middle;\n",
       "    }\n",
       "\n",
       "    .dataframe tbody tr th {\n",
       "        vertical-align: top;\n",
       "    }\n",
       "\n",
       "    .dataframe thead th {\n",
       "        text-align: right;\n",
       "    }\n",
       "</style>\n",
       "<table border=\"1\" class=\"dataframe\">\n",
       "  <thead>\n",
       "    <tr style=\"text-align: right;\">\n",
       "      <th></th>\n",
       "      <th>document_No</th>\n",
       "      <th>dominant_Topic</th>\n",
       "      <th>topic_Perc_Contrib</th>\n",
       "      <th>keywords</th>\n",
       "      <th>text</th>\n",
       "    </tr>\n",
       "  </thead>\n",
       "  <tbody>\n",
       "    <tr>\n",
       "      <th>0</th>\n",
       "      <td>0</td>\n",
       "      <td>4</td>\n",
       "      <td>0.9553</td>\n",
       "      <td>personas, años, año, comuna, parte, proceso, e...</td>\n",
       "      <td>La Fiscalía de Los Lagos dirige una investigac...</td>\n",
       "    </tr>\n",
       "    <tr>\n",
       "      <th>1</th>\n",
       "      <td>1</td>\n",
       "      <td>4</td>\n",
       "      <td>0.9614</td>\n",
       "      <td>personas, años, año, comuna, parte, proceso, e...</td>\n",
       "      <td>Frente al alza de contagios de Covid-19 en la ...</td>\n",
       "    </tr>\n",
       "    <tr>\n",
       "      <th>2</th>\n",
       "      <td>2</td>\n",
       "      <td>4</td>\n",
       "      <td>0.5943</td>\n",
       "      <td>personas, años, año, comuna, parte, proceso, e...</td>\n",
       "      <td>La jefa comunal de la comuna lacustre, María J...</td>\n",
       "    </tr>\n",
       "    <tr>\n",
       "      <th>3</th>\n",
       "      <td>3</td>\n",
       "      <td>4</td>\n",
       "      <td>0.8474</td>\n",
       "      <td>personas, años, año, comuna, parte, proceso, e...</td>\n",
       "      <td>La jefa de la División de Atención Primaria de...</td>\n",
       "    </tr>\n",
       "    <tr>\n",
       "      <th>4</th>\n",
       "      <td>4</td>\n",
       "      <td>0</td>\n",
       "      <td>0.5230</td>\n",
       "      <td>emprendimiento, naturaleza, conservación, cana...</td>\n",
       "      <td>Como una necesidad por plantear la urgencia qu...</td>\n",
       "    </tr>\n",
       "  </tbody>\n",
       "</table>\n",
       "</div>"
      ],
      "text/plain": [
       "   document_No  dominant_Topic  topic_Perc_Contrib  \\\n",
       "0            0               4              0.9553   \n",
       "1            1               4              0.9614   \n",
       "2            2               4              0.5943   \n",
       "3            3               4              0.8474   \n",
       "4            4               0              0.5230   \n",
       "\n",
       "                                            keywords  \\\n",
       "0  personas, años, año, comuna, parte, proceso, e...   \n",
       "1  personas, años, año, comuna, parte, proceso, e...   \n",
       "2  personas, años, año, comuna, parte, proceso, e...   \n",
       "3  personas, años, año, comuna, parte, proceso, e...   \n",
       "4  emprendimiento, naturaleza, conservación, cana...   \n",
       "\n",
       "                                                text  \n",
       "0  La Fiscalía de Los Lagos dirige una investigac...  \n",
       "1  Frente al alza de contagios de Covid-19 en la ...  \n",
       "2  La jefa comunal de la comuna lacustre, María J...  \n",
       "3  La jefa de la División de Atención Primaria de...  \n",
       "4  Como una necesidad por plantear la urgencia qu...  "
      ]
     },
     "execution_count": 19,
     "metadata": {},
     "output_type": "execute_result"
    }
   ],
   "source": [
    "def format_topics_documents(ldamodel=None, corpus=dataset_id, texts=texts):\n",
    "    # Init output\n",
    "    sent_topics_df = pd.DataFrame()\n",
    "\n",
    "    # Get main topic in each document\n",
    "    for i, row_list in enumerate(ldamodel[corpus]):\n",
    "        row = row_list[0] if ldamodel.per_word_topics else row_list            \n",
    "        # print(row)\n",
    "        row = sorted(row, key=lambda x: (x[1]), reverse=True)\n",
    "        # Get the Dominant topic, Perc Contribution and Keywords for each document\n",
    "        for j, (topic_num, prop_topic) in enumerate(row):\n",
    "            if j == 0:  # => dominant topic\n",
    "                wp = ldamodel.show_topic(topic_num)\n",
    "                topic_keywords = \", \".join([word for word, prop in wp])\n",
    "                sent_topics_df = sent_topics_df.append(pd.Series([int(topic_num), round(prop_topic,4), topic_keywords]), ignore_index=True)\n",
    "            else:\n",
    "                break\n",
    "    sent_topics_df.columns = ['dominant_Topic', 'perc_Contribution', 'topic_Keywords']\n",
    "\n",
    "    # Add original text to the end of the output\n",
    "    contents = pd.Series(texts)\n",
    "    sent_topics_df = pd.concat([sent_topics_df, contents], axis=1)\n",
    "    return(sent_topics_df)\n",
    "\n",
    "\n",
    "df_topic_sents_keywords = format_topics_documents(ldamodel=optimal_model, corpus=dataset_id, texts=noticias)\n",
    "\n",
    "# Format\n",
    "df_dominant_topic = df_topic_sents_keywords.reset_index()\n",
    "df_dominant_topic.columns = ['document_No', 'dominant_Topic', 'topic_Perc_Contrib', 'keywords', 'text']\n",
    "df_dominant_topic.head(5)"
   ]
  },
  {
   "cell_type": "code",
   "execution_count": 20,
   "metadata": {},
   "outputs": [],
   "source": [
    "# add comuna to dataframe df_dominant_topic using merge\n",
    "df_dominant_topic = pd.merge(df_dominant_topic, df)"
   ]
  },
  {
   "cell_type": "markdown",
   "metadata": {},
   "source": [
    "## Revisar temas principales"
   ]
  },
  {
   "cell_type": "code",
   "execution_count": 21,
   "metadata": {},
   "outputs": [
    {
     "data": {
      "text/html": [
       "<div>\n",
       "<style scoped>\n",
       "    .dataframe tbody tr th:only-of-type {\n",
       "        vertical-align: middle;\n",
       "    }\n",
       "\n",
       "    .dataframe tbody tr th {\n",
       "        vertical-align: top;\n",
       "    }\n",
       "\n",
       "    .dataframe thead th {\n",
       "        text-align: right;\n",
       "    }\n",
       "</style>\n",
       "<table border=\"1\" class=\"dataframe\">\n",
       "  <thead>\n",
       "    <tr style=\"text-align: right;\">\n",
       "      <th></th>\n",
       "      <th>document_No</th>\n",
       "      <th>dominant_Topic</th>\n",
       "      <th>topic_Perc_Contrib</th>\n",
       "      <th>keywords</th>\n",
       "      <th>text</th>\n",
       "      <th>id_news</th>\n",
       "      <th>country</th>\n",
       "      <th>media_outlet</th>\n",
       "      <th>url</th>\n",
       "      <th>title</th>\n",
       "      <th>...</th>\n",
       "      <th>Frutillar</th>\n",
       "      <th>Fresia</th>\n",
       "      <th>Dalcahue</th>\n",
       "      <th>Curaco_de_Vélez</th>\n",
       "      <th>Cochamó</th>\n",
       "      <th>Chonchi</th>\n",
       "      <th>Chaitén</th>\n",
       "      <th>Castro</th>\n",
       "      <th>Calbuco</th>\n",
       "      <th>Ancud</th>\n",
       "    </tr>\n",
       "  </thead>\n",
       "  <tbody>\n",
       "    <tr>\n",
       "      <th>0</th>\n",
       "      <td>0</td>\n",
       "      <td>4</td>\n",
       "      <td>0.9553</td>\n",
       "      <td>personas, años, año, comuna, parte, proceso, e...</td>\n",
       "      <td>La Fiscalía de Los Lagos dirige una investigac...</td>\n",
       "      <td>21907946.0</td>\n",
       "      <td>chile</td>\n",
       "      <td>radiosago</td>\n",
       "      <td>https://www.radiosago.cl/investigan-muerte-de-...</td>\n",
       "      <td>Investigan muerte de hombre apuñalado en Máfil...</td>\n",
       "      <td>...</td>\n",
       "      <td>0</td>\n",
       "      <td>0</td>\n",
       "      <td>0</td>\n",
       "      <td>0</td>\n",
       "      <td>0</td>\n",
       "      <td>0</td>\n",
       "      <td>0</td>\n",
       "      <td>0</td>\n",
       "      <td>0</td>\n",
       "      <td>0</td>\n",
       "    </tr>\n",
       "    <tr>\n",
       "      <th>1</th>\n",
       "      <td>1</td>\n",
       "      <td>4</td>\n",
       "      <td>0.9614</td>\n",
       "      <td>personas, años, año, comuna, parte, proceso, e...</td>\n",
       "      <td>Frente al alza de contagios de Covid-19 en la ...</td>\n",
       "      <td>21908053.0</td>\n",
       "      <td>chile</td>\n",
       "      <td>radiosago</td>\n",
       "      <td>https://www.radiosago.cl/ante-retroceso-a-fase...</td>\n",
       "      <td>Ante retroceso a Fase 3: Municipalidad de Puye...</td>\n",
       "      <td>...</td>\n",
       "      <td>0</td>\n",
       "      <td>0</td>\n",
       "      <td>0</td>\n",
       "      <td>0</td>\n",
       "      <td>0</td>\n",
       "      <td>0</td>\n",
       "      <td>0</td>\n",
       "      <td>0</td>\n",
       "      <td>0</td>\n",
       "      <td>0</td>\n",
       "    </tr>\n",
       "  </tbody>\n",
       "</table>\n",
       "<p>2 rows × 41 columns</p>\n",
       "</div>"
      ],
      "text/plain": [
       "   document_No  dominant_Topic  topic_Perc_Contrib  \\\n",
       "0            0               4              0.9553   \n",
       "1            1               4              0.9614   \n",
       "\n",
       "                                            keywords  \\\n",
       "0  personas, años, año, comuna, parte, proceso, e...   \n",
       "1  personas, años, año, comuna, parte, proceso, e...   \n",
       "\n",
       "                                                text     id_news country  \\\n",
       "0  La Fiscalía de Los Lagos dirige una investigac...  21907946.0   chile   \n",
       "1  Frente al alza de contagios de Covid-19 en la ...  21908053.0   chile   \n",
       "\n",
       "  media_outlet                                                url  \\\n",
       "0    radiosago  https://www.radiosago.cl/investigan-muerte-de-...   \n",
       "1    radiosago  https://www.radiosago.cl/ante-retroceso-a-fase...   \n",
       "\n",
       "                                               title  ... Frutillar  Fresia  \\\n",
       "0  Investigan muerte de hombre apuñalado en Máfil...  ...         0       0   \n",
       "1  Ante retroceso a Fase 3: Municipalidad de Puye...  ...         0       0   \n",
       "\n",
       "   Dalcahue  Curaco_de_Vélez  Cochamó  Chonchi  Chaitén  Castro  Calbuco  \\\n",
       "0         0                0        0        0        0       0        0   \n",
       "1         0                0        0        0        0       0        0   \n",
       "\n",
       "   Ancud  \n",
       "0      0  \n",
       "1      0  \n",
       "\n",
       "[2 rows x 41 columns]"
      ]
     },
     "execution_count": 21,
     "metadata": {},
     "output_type": "execute_result"
    }
   ],
   "source": [
    "df_dominant_topic.head(2)"
   ]
  },
  {
   "cell_type": "markdown",
   "metadata": {},
   "source": [
    "## Procesaremos la positividad de los datos (POS, NEU, NEG)"
   ]
  },
  {
   "cell_type": "code",
   "execution_count": 25,
   "metadata": {},
   "outputs": [],
   "source": [
    "# --- Cargamos el modelo ---\n",
    "model_name = \"finiteautomata/beto-sentiment-analysis\"\n",
    "model = AutoModelForSequenceClassification.from_pretrained(model_name)\n",
    "tokenizer = AutoTokenizer.from_pretrained(model_name)\n",
    "nlp = pipeline(\"sentiment-analysis\", model=model, tokenizer=tokenizer)"
   ]
  },
  {
   "cell_type": "code",
   "execution_count": 27,
   "metadata": {},
   "outputs": [
    {
     "name": "stderr",
     "output_type": "stream",
     "text": [
      "Análisis de sentimiento: 100%|██████████| 1380/1380 [02:30<00:00,  9.20it/s]\n"
     ]
    }
   ],
   "source": [
    "# --- Funcion para obtener el sentimiento ---\n",
    "df_dominant_topic['title_label'] = \"\"\n",
    "df_dominant_topic['title_score'] = \"\"\n",
    "\n",
    "for index, row in tqdm(df_dominant_topic.iterrows(), desc='Análisis de sentimiento', total=df_dominant_topic.shape[0]):\n",
    "    \n",
    "    # Analizamos su sentimiento en inglés\n",
    "    sentiment_value = nlp(row['title'])\n",
    "    \n",
    "    # Insertamos en dataframe\n",
    "    df_dominant_topic.at[index, \"title_label\"] = sentiment_value[0].get('label')\n",
    "    df_dominant_topic.at[index, \"title_score\"] = sentiment_value[0].get('score')"
   ]
  },
  {
   "cell_type": "code",
   "execution_count": 29,
   "metadata": {},
   "outputs": [
    {
     "data": {
      "text/html": [
       "<div>\n",
       "<style scoped>\n",
       "    .dataframe tbody tr th:only-of-type {\n",
       "        vertical-align: middle;\n",
       "    }\n",
       "\n",
       "    .dataframe tbody tr th {\n",
       "        vertical-align: top;\n",
       "    }\n",
       "\n",
       "    .dataframe thead th {\n",
       "        text-align: right;\n",
       "    }\n",
       "</style>\n",
       "<table border=\"1\" class=\"dataframe\">\n",
       "  <thead>\n",
       "    <tr style=\"text-align: right;\">\n",
       "      <th></th>\n",
       "      <th>document_No</th>\n",
       "      <th>dominant_Topic</th>\n",
       "      <th>topic_Perc_Contrib</th>\n",
       "      <th>keywords</th>\n",
       "      <th>text</th>\n",
       "      <th>id_news</th>\n",
       "      <th>country</th>\n",
       "      <th>media_outlet</th>\n",
       "      <th>url</th>\n",
       "      <th>title</th>\n",
       "      <th>...</th>\n",
       "      <th>Dalcahue</th>\n",
       "      <th>Curaco_de_Vélez</th>\n",
       "      <th>Cochamó</th>\n",
       "      <th>Chonchi</th>\n",
       "      <th>Chaitén</th>\n",
       "      <th>Castro</th>\n",
       "      <th>Calbuco</th>\n",
       "      <th>Ancud</th>\n",
       "      <th>title_label</th>\n",
       "      <th>title_score</th>\n",
       "    </tr>\n",
       "  </thead>\n",
       "  <tbody>\n",
       "    <tr>\n",
       "      <th>0</th>\n",
       "      <td>0</td>\n",
       "      <td>4</td>\n",
       "      <td>0.9553</td>\n",
       "      <td>personas, años, año, comuna, parte, proceso, e...</td>\n",
       "      <td>La Fiscalía de Los Lagos dirige una investigac...</td>\n",
       "      <td>21907946.0</td>\n",
       "      <td>chile</td>\n",
       "      <td>radiosago</td>\n",
       "      <td>https://www.radiosago.cl/investigan-muerte-de-...</td>\n",
       "      <td>Investigan muerte de hombre apuñalado en Máfil...</td>\n",
       "      <td>...</td>\n",
       "      <td>0</td>\n",
       "      <td>0</td>\n",
       "      <td>0</td>\n",
       "      <td>0</td>\n",
       "      <td>0</td>\n",
       "      <td>0</td>\n",
       "      <td>0</td>\n",
       "      <td>0</td>\n",
       "      <td>NEU</td>\n",
       "      <td>0.537904</td>\n",
       "    </tr>\n",
       "    <tr>\n",
       "      <th>1</th>\n",
       "      <td>1</td>\n",
       "      <td>4</td>\n",
       "      <td>0.9614</td>\n",
       "      <td>personas, años, año, comuna, parte, proceso, e...</td>\n",
       "      <td>Frente al alza de contagios de Covid-19 en la ...</td>\n",
       "      <td>21908053.0</td>\n",
       "      <td>chile</td>\n",
       "      <td>radiosago</td>\n",
       "      <td>https://www.radiosago.cl/ante-retroceso-a-fase...</td>\n",
       "      <td>Ante retroceso a Fase 3: Municipalidad de Puye...</td>\n",
       "      <td>...</td>\n",
       "      <td>0</td>\n",
       "      <td>0</td>\n",
       "      <td>0</td>\n",
       "      <td>0</td>\n",
       "      <td>0</td>\n",
       "      <td>0</td>\n",
       "      <td>0</td>\n",
       "      <td>0</td>\n",
       "      <td>NEG</td>\n",
       "      <td>0.863434</td>\n",
       "    </tr>\n",
       "  </tbody>\n",
       "</table>\n",
       "<p>2 rows × 43 columns</p>\n",
       "</div>"
      ],
      "text/plain": [
       "   document_No  dominant_Topic  topic_Perc_Contrib  \\\n",
       "0            0               4              0.9553   \n",
       "1            1               4              0.9614   \n",
       "\n",
       "                                            keywords  \\\n",
       "0  personas, años, año, comuna, parte, proceso, e...   \n",
       "1  personas, años, año, comuna, parte, proceso, e...   \n",
       "\n",
       "                                                text     id_news country  \\\n",
       "0  La Fiscalía de Los Lagos dirige una investigac...  21907946.0   chile   \n",
       "1  Frente al alza de contagios de Covid-19 en la ...  21908053.0   chile   \n",
       "\n",
       "  media_outlet                                                url  \\\n",
       "0    radiosago  https://www.radiosago.cl/investigan-muerte-de-...   \n",
       "1    radiosago  https://www.radiosago.cl/ante-retroceso-a-fase...   \n",
       "\n",
       "                                               title  ... Dalcahue  \\\n",
       "0  Investigan muerte de hombre apuñalado en Máfil...  ...        0   \n",
       "1  Ante retroceso a Fase 3: Municipalidad de Puye...  ...        0   \n",
       "\n",
       "   Curaco_de_Vélez  Cochamó  Chonchi  Chaitén  Castro  Calbuco  Ancud  \\\n",
       "0                0        0        0        0       0        0      0   \n",
       "1                0        0        0        0       0        0      0   \n",
       "\n",
       "   title_label  title_score  \n",
       "0          NEU     0.537904  \n",
       "1          NEG     0.863434  \n",
       "\n",
       "[2 rows x 43 columns]"
      ]
     },
     "execution_count": 29,
     "metadata": {},
     "output_type": "execute_result"
    }
   ],
   "source": [
    "df_dominant_topic.head(2)"
   ]
  },
  {
   "cell_type": "markdown",
   "metadata": {},
   "source": [
    "## Guardamos nuevamente el dataset pero ahora procesado"
   ]
  },
  {
   "cell_type": "code",
   "execution_count": 30,
   "metadata": {},
   "outputs": [],
   "source": [
    "df_dominant_topic.to_csv('./data/'+nombre_archivo+'_dominant_topic.csv', index=False)"
   ]
  }
 ],
 "metadata": {
  "kernelspec": {
   "display_name": "Python 3.8.10 ('myenv')",
   "language": "python",
   "name": "python3"
  },
  "language_info": {
   "codemirror_mode": {
    "name": "ipython",
    "version": 3
   },
   "file_extension": ".py",
   "mimetype": "text/x-python",
   "name": "python",
   "nbconvert_exporter": "python",
   "pygments_lexer": "ipython3",
   "version": "3.8.10"
  },
  "orig_nbformat": 4,
  "vscode": {
   "interpreter": {
    "hash": "9dff3029cfd092013fe8f81aa1ceb1e4b66244b0efa81f52c02e02255cbfd4d8"
   }
  }
 },
 "nbformat": 4,
 "nbformat_minor": 2
}
