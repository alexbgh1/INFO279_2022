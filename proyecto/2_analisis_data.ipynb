{
 "cells": [
  {
   "cell_type": "markdown",
   "metadata": {},
   "source": [
    "# Proyecto (análisis dataset)"
   ]
  },
  {
   "cell_type": "code",
   "execution_count": 6,
   "metadata": {},
   "outputs": [],
   "source": [
    "# --- General ---\n",
    "import os\n",
    "\n",
    "# --- Data ---\n",
    "import pandas as pd\n",
    "# from pandasql import sqldf\n",
    "# import numpy as np\n",
    "# import statistics as stats\n",
    "\n",
    "# --- Conexión ---\n",
    "# import elasticsearch\n",
    "\n",
    "# --- Procesamiento lenguaje: spacy ---\n",
    "import spacy\n",
    "from spacy.matcher import Matcher\n",
    "# from spacy.matcher import PhraseMatcher\n",
    "\n",
    "# --- Procesamiento lenguaje: gensim ---\n",
    "import gensim\n",
    "import gensim.corpora as corpora\n",
    "from gensim.models import CoherenceModel\n",
    "\n",
    "# --- Prediccion Positividad: POS, NEU, NEG ---\n",
    "from tqdm import tqdm\n",
    "from transformers import pipeline\n",
    "from transformers import AutoTokenizer, AutoModelForSequenceClassification\n",
    "\n",
    "# --- Visualización ---\n",
    "import pyLDAvis\n",
    "import pyLDAvis.gensim_models \n",
    "# import matplotlib.colors as colors\n",
    "# import matplotlib.pyplot as plt\n",
    "# import geopandas as gpd\n",
    "%matplotlib inline\n",
    "\n",
    "# ==============================================================================\n",
    "\n",
    "# --- Configuración ---\n",
    "# User password\n",
    "password = os.environ.get('SOPHIA2')\n",
    "\n",
    "# - - - geoData - - -\n",
    "# Import tools_region.py\n",
    "import tools_region as tr\n",
    "\n",
    "# --- Funciones ---\n",
    "# Cargar paquete de español mediano\n",
    "nlp = spacy.load(\"es_core_news_md\")\n",
    "\n",
    "import warnings\n",
    "warnings.simplefilter(action='ignore', category=FutureWarning)"
   ]
  },
  {
   "cell_type": "markdown",
   "metadata": {},
   "source": [
    "### Utilización de regiones y comunas"
   ]
  },
  {
   "cell_type": "code",
   "execution_count": 7,
   "metadata": {},
   "outputs": [
    {
     "name": "stdout",
     "output_type": "stream",
     "text": [
      "Arica_y_Parinacota\n",
      "Tarapacá\n",
      "Antofagasta\n",
      "Atacama\n",
      "Coquimbo\n",
      "Valparaíso\n",
      "Región_del_Libertador_Gral._Bernardo_O’Higgins\n",
      "Región_del_Maule\n",
      "Región_de_Ñuble\n",
      "Región_del_Biobío\n",
      "Región_de_la_Araucanía\n",
      "Región_de_Los_Ríos\n",
      "Región_de_Los_Lagos\n",
      "Región_Aisén_del_Gral._Carlos_Ibáñez_del_Campo\n",
      "Región_de_Magallanes_y_de_la_Antártica_Chilena\n",
      "Región_Metropolitana_de_Santiago\n"
     ]
    }
   ],
   "source": [
    "regiones = tr.get_regiones()\n",
    "tr.list_regions(regiones)"
   ]
  },
  {
   "cell_type": "code",
   "execution_count": 8,
   "metadata": {},
   "outputs": [
    {
     "name": "stdout",
     "output_type": "stream",
     "text": [
      "Region encontrada\n"
     ]
    }
   ],
   "source": [
    "data_regiones_comunas = tr.search_region('Región_de_Los_Lagos')\n",
    "if(data_regiones_comunas):\n",
    "    region = data_regiones_comunas['region']\n",
    "    comunas = data_regiones_comunas['comunas']"
   ]
  },
  {
   "cell_type": "markdown",
   "metadata": {},
   "source": [
    "## Leemos la información de los archivos"
   ]
  },
  {
   "cell_type": "code",
   "execution_count": 9,
   "metadata": {},
   "outputs": [],
   "source": [
    "# --- Cargar Archivo ---\n",
    "nombre_archivo = 'data_Region_X_GENERAL_comunas_' # Resultado: ./data/{nombre_archivo}_{words}_{from_}_{to_}.csv\n",
    "\n",
    "keyword=\"empleo empleos trabajo trabajos empleabilidad contratación\"\n",
    "simple_keyword= True\n",
    "\n",
    "from_=\"2022-01-01\"\n",
    "to_=\"2022-06-30\""
   ]
  },
  {
   "cell_type": "code",
   "execution_count": 10,
   "metadata": {},
   "outputs": [
    {
     "name": "stdout",
     "output_type": "stream",
     "text": [
      "data_Region_X_GENERAL_comunas_2022-01-01_2022-06-30\n",
      "Largo noticias: 5351\n"
     ]
    },
    {
     "data": {
      "text/html": [
       "<div>\n",
       "<style scoped>\n",
       "    .dataframe tbody tr th:only-of-type {\n",
       "        vertical-align: middle;\n",
       "    }\n",
       "\n",
       "    .dataframe tbody tr th {\n",
       "        vertical-align: top;\n",
       "    }\n",
       "\n",
       "    .dataframe thead th {\n",
       "        text-align: right;\n",
       "    }\n",
       "</style>\n",
       "<table border=\"1\" class=\"dataframe\">\n",
       "  <thead>\n",
       "    <tr style=\"text-align: right;\">\n",
       "      <th></th>\n",
       "      <th>id_news</th>\n",
       "      <th>country</th>\n",
       "      <th>media_outlet</th>\n",
       "      <th>url</th>\n",
       "      <th>title</th>\n",
       "      <th>text</th>\n",
       "      <th>date</th>\n",
       "      <th>San_Pablo</th>\n",
       "      <th>San_Juan_de_la_Costa</th>\n",
       "      <th>Río_Negro</th>\n",
       "      <th>...</th>\n",
       "      <th>Frutillar</th>\n",
       "      <th>Fresia</th>\n",
       "      <th>Dalcahue</th>\n",
       "      <th>Curaco_de_Vélez</th>\n",
       "      <th>Cochamó</th>\n",
       "      <th>Chonchi</th>\n",
       "      <th>Chaitén</th>\n",
       "      <th>Castro</th>\n",
       "      <th>Calbuco</th>\n",
       "      <th>Ancud</th>\n",
       "    </tr>\n",
       "  </thead>\n",
       "  <tbody>\n",
       "    <tr>\n",
       "      <th>0</th>\n",
       "      <td>21907946.0</td>\n",
       "      <td>chile</td>\n",
       "      <td>radiosago</td>\n",
       "      <td>https://www.radiosago.cl/investigan-muerte-de-...</td>\n",
       "      <td>Investigan muerte de hombre apuñalado en Máfil...</td>\n",
       "      <td>La Fiscalía de Los Lagos dirige una investigac...</td>\n",
       "      <td>2022-01-26</td>\n",
       "      <td>0</td>\n",
       "      <td>0</td>\n",
       "      <td>0</td>\n",
       "      <td>...</td>\n",
       "      <td>0</td>\n",
       "      <td>0</td>\n",
       "      <td>0</td>\n",
       "      <td>0</td>\n",
       "      <td>0</td>\n",
       "      <td>0</td>\n",
       "      <td>0</td>\n",
       "      <td>0</td>\n",
       "      <td>0</td>\n",
       "      <td>0</td>\n",
       "    </tr>\n",
       "    <tr>\n",
       "      <th>1</th>\n",
       "      <td>21908053.0</td>\n",
       "      <td>chile</td>\n",
       "      <td>radiosago</td>\n",
       "      <td>https://www.radiosago.cl/ante-retroceso-a-fase...</td>\n",
       "      <td>Ante retroceso a Fase 3: Municipalidad de Puye...</td>\n",
       "      <td>Frente al alza de contagios de Covid-19 en la ...</td>\n",
       "      <td>2022-01-24</td>\n",
       "      <td>0</td>\n",
       "      <td>1</td>\n",
       "      <td>1</td>\n",
       "      <td>...</td>\n",
       "      <td>0</td>\n",
       "      <td>0</td>\n",
       "      <td>0</td>\n",
       "      <td>0</td>\n",
       "      <td>0</td>\n",
       "      <td>0</td>\n",
       "      <td>0</td>\n",
       "      <td>0</td>\n",
       "      <td>0</td>\n",
       "      <td>0</td>\n",
       "    </tr>\n",
       "  </tbody>\n",
       "</table>\n",
       "<p>2 rows × 37 columns</p>\n",
       "</div>"
      ],
      "text/plain": [
       "      id_news country media_outlet  \\\n",
       "0  21907946.0   chile    radiosago   \n",
       "1  21908053.0   chile    radiosago   \n",
       "\n",
       "                                                 url  \\\n",
       "0  https://www.radiosago.cl/investigan-muerte-de-...   \n",
       "1  https://www.radiosago.cl/ante-retroceso-a-fase...   \n",
       "\n",
       "                                               title  \\\n",
       "0  Investigan muerte de hombre apuñalado en Máfil...   \n",
       "1  Ante retroceso a Fase 3: Municipalidad de Puye...   \n",
       "\n",
       "                                                text        date  San_Pablo  \\\n",
       "0  La Fiscalía de Los Lagos dirige una investigac...  2022-01-26          0   \n",
       "1  Frente al alza de contagios de Covid-19 en la ...  2022-01-24          0   \n",
       "\n",
       "   San_Juan_de_la_Costa  Río_Negro  ...  Frutillar  Fresia  Dalcahue  \\\n",
       "0                     0          0  ...          0       0         0   \n",
       "1                     1          1  ...          0       0         0   \n",
       "\n",
       "   Curaco_de_Vélez  Cochamó  Chonchi  Chaitén  Castro  Calbuco  Ancud  \n",
       "0                0        0        0        0       0        0      0  \n",
       "1                0        0        0        0       0        0      0  \n",
       "\n",
       "[2 rows x 37 columns]"
      ]
     },
     "execution_count": 10,
     "metadata": {},
     "output_type": "execute_result"
    }
   ],
   "source": [
    "nombre_archivo = nombre_archivo+from_+\"_\"+to_\n",
    "print(nombre_archivo)\n",
    "df = pd.read_csv('./data/'+nombre_archivo+'.csv')\n",
    "print(f'Largo noticias: {len(df)}')\n",
    "df.drop('Unnamed: 0', axis=1, inplace=True)\n",
    "\n",
    "df.head(2)"
   ]
  },
  {
   "cell_type": "markdown",
   "metadata": {},
   "source": [
    "## Definimos los patrones de búsqueda"
   ]
  },
  {
   "cell_type": "code",
   "execution_count": 11,
   "metadata": {},
   "outputs": [],
   "source": [
    "# --- Texto de las noticias a lista ---\n",
    "noticias = df.text.values.tolist()\n",
    "\n",
    "nlp = spacy.load(\"es_core_news_sm\")\n",
    "matcher = Matcher(nlp.vocab)\n",
    "\n",
    "# --- Definir patrones ---\n",
    "# pattern: NOUN-de-NOUN\n",
    "pattern_1 = [{\"POS\": \"NOUN\"},{\"LOWER\": \"de\"}, {\"POS\": \"NOUN\"}]\n",
    "matcher.add(\"NOUN-de-NOUN\", [pattern_1])\n",
    "\n",
    "# pattern: NOUN-ADJ\n",
    "pattern_2 = [{\"POS\": \"NOUN\"}, {\"POS\": \"ADJ\"}]\n",
    "matcher.add(\"NOUN-ADJ\", [pattern_2])"
   ]
  },
  {
   "cell_type": "markdown",
   "metadata": {},
   "source": [
    "## Creamos filtro palabras relevantes"
   ]
  },
  {
   "cell_type": "code",
   "execution_count": 12,
   "metadata": {},
   "outputs": [],
   "source": [
    "def text_to_list(noticia):\n",
    "    list_of_words = []\n",
    "    \n",
    "    try:\n",
    "        doc = nlp(noticia)\n",
    "\n",
    "        for token in doc:\n",
    "            if (token.pos_==\"NOUN\"):\n",
    "                list_of_words.append(token.text)\n",
    "\n",
    "        for ent in doc.ents:\n",
    "            if (ent.label_ == \"PER\" and \" \" in ent.text):\n",
    "                list_of_words.append(ent.text)\n",
    "\n",
    "        matches = matcher(doc)\n",
    "\n",
    "        for match_id, start, end in matches:\n",
    "            span = doc[start:end]  # The matched span\n",
    "            list_of_words.append(span.text)\n",
    "    \n",
    "    except Exception as e: \n",
    "        print(noticia)\n",
    "        print(e)\n",
    "    \n",
    "    return list_of_words"
   ]
  },
  {
   "cell_type": "markdown",
   "metadata": {},
   "source": [
    "## Procesamos las noticias"
   ]
  },
  {
   "cell_type": "code",
   "execution_count": 13,
   "metadata": {},
   "outputs": [],
   "source": [
    "# --- Procesar texto ---\n",
    "noticias_procesadas = []\n",
    "for index, noticia in enumerate(noticias):\n",
    "    noticia_procesada = text_to_list(noticia)\n",
    "    noticias_procesadas.append(noticia_procesada)"
   ]
  },
  {
   "cell_type": "markdown",
   "metadata": {},
   "source": [
    "## Prepararamos los datos de entrada de LDA\n",
    "Los datos de entrada de LDA son: \n",
    "- un diccionario (variable 'id2word')\n",
    "- nuestro dataset preprocesado ('noticias_procesadas')"
   ]
  },
  {
   "cell_type": "code",
   "execution_count": 14,
   "metadata": {},
   "outputs": [],
   "source": [
    "# --- Crear diccionario de palabras ---\n",
    "id2word = corpora.Dictionary(noticias_procesadas)\n",
    "texts = noticias_procesadas\n",
    "\n",
    "dataset_id = [id2word.doc2bow(noticia_procesada) for noticia_procesada in noticias_procesadas]"
   ]
  },
  {
   "cell_type": "code",
   "execution_count": 15,
   "metadata": {},
   "outputs": [],
   "source": [
    "# --- Crear modelo LDA ---\n",
    "lda_model = gensim.models.ldamodel.LdaModel(corpus=dataset_id,\n",
    "                                           id2word=id2word,\n",
    "                                           num_topics=5, \n",
    "                                           random_state=100,\n",
    "                                           update_every=1,\n",
    "                                           chunksize=100,\n",
    "                                           passes=10,\n",
    "                                           alpha='auto',\n",
    "                                           per_word_topics=True)"
   ]
  },
  {
   "cell_type": "code",
   "execution_count": 16,
   "metadata": {},
   "outputs": [],
   "source": [
    "\n",
    "# --- Generar el mejor modelo LDA ---\n",
    "def compute_coherence_values(dictionary, corpus, texts, limit, start=2, step=3):\n",
    "    \"\"\"\n",
    "    Compute c_v coherence for various number of topics\n",
    "\n",
    "    Parameters:\n",
    "    ----------\n",
    "    dictionary : Gensim dictionary\n",
    "    corpus : Gensim corpus\n",
    "    texts : List of input texts\n",
    "    limit : Max num of topics\n",
    "\n",
    "    Returns:\n",
    "    -------\n",
    "    model_list : List of LDA topic models\n",
    "    coherence_values : Coherence values corresponding to the LDA model with respective number of topics\n",
    "    \"\"\"\n",
    "    coherence_values = []\n",
    "    model_list = []\n",
    "    for num_topics in range(start, limit, step):\n",
    "        print(num_topics)\n",
    "        \n",
    "        model = gensim.models.ldamodel.LdaModel(corpus=dataset_id,\n",
    "                                           id2word=id2word,\n",
    "                                           num_topics=num_topics, \n",
    "                                           random_state=100,\n",
    "                                           update_every=1,\n",
    "                                           chunksize=100,\n",
    "                                           passes=10,\n",
    "                                           alpha='auto',\n",
    "                                           per_word_topics=True)\n",
    "        \n",
    "        model_list.append(model)\n",
    "        coherencemodel = CoherenceModel(model=model, texts=texts, dictionary=dictionary, coherence='c_v')\n",
    "        coherence_values.append(coherencemodel.get_coherence())\n",
    "\n",
    "    return model_list, coherence_values"
   ]
  },
  {
   "cell_type": "code",
   "execution_count": 17,
   "metadata": {},
   "outputs": [],
   "source": [
    "start=2\n",
    "limit=10\n",
    "step=2"
   ]
  },
  {
   "cell_type": "code",
   "execution_count": 18,
   "metadata": {},
   "outputs": [
    {
     "name": "stdout",
     "output_type": "stream",
     "text": [
      "2\n",
      "4\n",
      "6\n",
      "8\n"
     ]
    }
   ],
   "source": [
    "# --- Optimal model ---\n",
    "model_list, coherence_values = compute_coherence_values(dictionary=id2word, corpus=dataset_id, texts=noticias_procesadas, start=start, limit=limit, step=step)"
   ]
  },
  {
   "cell_type": "code",
   "execution_count": 19,
   "metadata": {},
   "outputs": [],
   "source": [
    "# get max value\n",
    "max_coh_value = -1\n",
    "for index, coh_value  in enumerate(coherence_values):\n",
    "    if coh_value > max_coh_value:\n",
    "        max_coh_value = coh_value\n",
    "        max_coh_index = index"
   ]
  },
  {
   "cell_type": "code",
   "execution_count": 20,
   "metadata": {},
   "outputs": [
    {
     "name": "stdout",
     "output_type": "stream",
     "text": [
      "Numero de topicos: 4\n"
     ]
    }
   ],
   "source": [
    "print(f'Numero de topicos: {start + max_coh_index*step}')\n",
    "optimal_model = model_list[max_coh_index]"
   ]
  },
  {
   "cell_type": "markdown",
   "metadata": {},
   "source": [
    "## Visualizar tópicos"
   ]
  },
  {
   "cell_type": "code",
   "execution_count": 21,
   "metadata": {},
   "outputs": [
    {
     "data": {
      "text/html": [
       "\n",
       "<link rel=\"stylesheet\" type=\"text/css\" href=\"https://cdn.jsdelivr.net/gh/bmabey/pyLDAvis@3.3.1/pyLDAvis/js/ldavis.v1.0.0.css\">\n",
       "\n",
       "\n",
       "<div id=\"ldavis_el2412025987595650084044603735\"></div>\n",
       "<script type=\"text/javascript\">\n",
       "\n",
       "var ldavis_el2412025987595650084044603735_data = {\"mdsDat\": {\"x\": [-0.04318982583408041, -0.10708317258065563, -0.0916170486373082, 0.2418900470520442], \"y\": [-0.19648108345320733, 0.030095704525370442, 0.1364594876039048, 0.02992589132393217], \"topics\": [1, 2, 3, 4], \"cluster\": [1, 1, 1, 1], \"Freq\": [28.75259785907136, 26.66791458585735, 26.05625155813767, 18.52323599693362]}, \"tinfo\": {\"Term\": [\"comuna\", \"provincia\", \"ni\\u00f1os\", \"comunidad\", \"recursos\", \"hechos\", \"hombre\", \"proyectos\", \"autoridades\", \"lugar\", \"sector\", \"residuos\", \"estudiantes\", \"actividades\", \"municipio\", \"pa\\u00eds\", \"reuni\\u00f3n\", \"alcalde\", \"v\\u00edctima\", \"educaci\\u00f3n\", \"comunas\", \"a\\u00f1os\", \"vecinos\", \"sujeto\", \"servicio\", \"mujer\", \"regi\\u00f3n\", \"ni\\u00f1as\", \"programa\", \"cultura\", \"provincia\", \"residuos\", \"municipio\", \"reuni\\u00f3n\", \"alcalde\", \"municipios\", \"delegada\", \"diputado\", \"camiones\", \"mejoramiento\", \"residuos s\\u00f3lidos\", \"reuniones\", \"domiciliarios\", \"alcaldes\", \"contagios\", \"dirigentes\", \"agua potable\", \"consejeros\", \"basura\", \"cartera\", \"reciclaje\", \"seremi\", \"edil\", \"licitaci\\u00f3n\", \"relleno\", \"personero\", \"municipalidad\", \"delegada presidencial\", \"caminos\", \"corte programado\", \"corporaciones\", \"parlamentario\", \"autoridades\", \"autoridad\", \"terreno\", \"comunas\", \"recursos\", \"vecinos\", \"trabajos\", \"construcci\\u00f3n\", \"servicio\", \"plan\", \"comuna\", \"ejecuci\\u00f3n\", \"regi\\u00f3n\", \"proyectos\", \"corte\", \"agua\", \"casos\", \"sectores\", \"proyecto\", \"familias\", \"millones de pesos\", \"empresa\", \"salud\", \"millones\", \"sector\", \"comunidad\", \"parte\", \"d\\u00eda\", \"trabajo\", \"tema\", \"horas\", \"personas\", \"a\\u00f1o\", \"situaci\\u00f3n\", \"respecto\", \"precio\", \"emprendimiento\", \"precios\", \"mercado\", \"consumidores\", \"chilenos\", \"econom\\u00eda\", \"acondicionado\", \"negocios\", \"emprendimientos\", \"constituci\\u00f3n\", \"agricultores\", \"debate\", \"agricultura\", \"cambio clim\\u00e1tico\", \"banco\", \"cultivo\", \"ingresos\", \"beneficiarios\", \"fertilizantes\", \"combustibles\", \"leyes\", \"}\", \"transformaci\\u00f3n\", \"proceso constituyente\", \"ventas\", \"tasa\", \"cultivos\", \"autonom\\u00eda\", \"aplicaciones\", \"industria\", \"pago\", \"pol\\u00edticas\", \"pol\\u00edtica\", \"empresas\", \"contenido\", \"t\\u00e9rminos\", \"productos\", \"cambio\", \"consumo\", \"mujeres\", \"derechos\", \"pa\\u00edses\", \"generaci\\u00f3n\", \"pa\\u00eds\", \"derecho\", \"datos\", \"sociedad\", \"desarrollo\", \"tecnolog\\u00eda\", \"personas\", \"valor\", \"beneficios\", \"ley\", \"mundo\", \"nivel\", \"proceso\", \"uso\", \"sistema\", \"trabajo\", \"trav\\u00e9s\", \"parte\", \"respecto\", \"forma\", \"manera\", \"a\\u00f1o\", \"millones\", \"vez\", \"iniciativa\", \"a\\u00f1os\", \"programa\", \"informaci\\u00f3n\", \"proyectos\", \"ni\\u00f1os\", \"estudiantes\", \"ni\\u00f1as\", \"establecimientos\", \"alumnos\", \"m\\u00fasica\", \"enfermedad\", \"escuelas\", \"clases\", \"carrera\", \"talleres\", \"colegio\", \"fase\", \"c\\u00e1ncer\", \"adolescentes\", \"establecimientos educacionales\", \"vacunaci\\u00f3n\", \"artistas\", \"visitantes\", \"colegios\", \"artes\", \"rehabilitaci\\u00f3n\", \"cuento\", \"tradiciones\", \"arte\", \"asistentes\", \"profesores\", \"taller\", \"carreras\", \"libro\", \"cursos\", \"ni\\u00f1o\", \"p\\u00fablico\", \"cultura\", \"exposici\\u00f3n\", \"actividades\", \"formaci\\u00f3n\", \"escuela\", \"j\\u00f3venes\", \"educaci\\u00f3n\", \"patrimonio\", \"pacientes\", \"evento\", \"actividad\", \"programa\", \"historia\", \"espacio\", \"comunidad\", \"a\\u00f1o\", \"a\\u00f1os\", \"trav\\u00e9s\", \"vida\", \"turismo\", \"parte\", \"trabajo\", \"vez\", \"experiencia\", \"equipo\", \"personas\", \"d\\u00eda\", \"pa\\u00eds\", \"horas\", \"manera\", \"apoyo\", \"tiempo\", \"forma\", \"desarrollo\", \"hechos\", \"hombre\", \"v\\u00edctima\", \"sujeto\", \"veh\\u00edculo\", \"Soy Chile\", \"delito\", \"joven\", \"kilos\", \"accidente\", \"detenci\\u00f3n\", \"lesiones\", \"domicilio\", \"delitos\", \"denuncia\", \"imputado\", \"conductor\", \"fiscal\", \"pareja\", \"robo\", \"drogas\", \"accidentes\", \"arma\", \"fuego\", \"prisi\\u00f3n\", \"madrugada\", \"prisi\\u00f3n preventiva\", \"playa\", \"marea roja\", \"tribunal\", \"vigilancia\", \"gravedad\", \"personal\", \"muerte\", \"mujer\", \"antecedentes\", \"cuerpo\", \"lugar\", \"hecho\", \"contexto\", \"calle\", \"control\", \"recurso\", \"a\\u00f1os\", \"persona\", \"sector\", \"estado\", \"comuna\", \"jornada\", \"caso\", \"investigaci\\u00f3n\", \"personas\", \"sitio\", \"mar\", \"acuerdo\", \"horas\"], \"Freq\": [2845.0, 1213.0, 1045.0, 1671.0, 1139.0, 584.0, 565.0, 1294.0, 825.0, 1481.0, 1627.0, 689.0, 627.0, 838.0, 665.0, 1821.0, 652.0, 641.0, 451.0, 1005.0, 695.0, 2865.0, 761.0, 386.0, 878.0, 548.0, 1900.0, 467.0, 1124.0, 505.0, 1212.9071278167708, 689.0161829365425, 665.0096724595428, 651.8361538674382, 641.0936725081422, 258.56272165941544, 247.85735958530313, 252.07770659109687, 221.90282546125945, 216.41171708514048, 216.9504185001879, 224.61050373601995, 207.4162277334187, 205.84705223443675, 191.12385244420202, 189.96127999285113, 178.05481974406055, 180.987367894675, 187.86189511672706, 181.8585584080874, 186.12141901245127, 160.533270926336, 155.02286408252442, 154.36062755002385, 150.3124534972333, 153.81978977323925, 155.71645172351825, 150.8088193438554, 136.69879097822368, 131.64744376419847, 220.02190137577773, 149.40006680832207, 790.7075713233427, 530.0684840855214, 310.5850882916319, 640.6620562251715, 1004.5028327799007, 671.1272155060499, 390.60073685670875, 468.39830784814615, 755.4348860132034, 537.2543148187114, 1998.0536783261448, 343.6604187369824, 1362.19181328827, 976.3359714558935, 237.44512414454803, 616.8476046683454, 488.95509260398615, 399.44438429795963, 1059.2204689857874, 680.4696678069062, 310.3104233842869, 520.8344521428277, 637.6381073982342, 702.0592410385626, 852.8127464164393, 857.5136679950143, 1176.0543893658041, 780.2690230271912, 918.874677082989, 470.320178866924, 558.5959632707667, 719.6414981356523, 628.2898157086297, 502.5947297211171, 508.89924002565743, 309.65048960349685, 283.5146809489281, 231.5861876060899, 243.52888309990473, 200.95596687187256, 195.58219642719664, 189.85167943334386, 157.3603001458322, 148.87993682841434, 145.29661960384246, 145.83310168589557, 146.3502314441516, 140.3610339856191, 125.34416736631105, 115.06211426194282, 117.66903079473376, 111.76830581990825, 113.4153173703664, 132.55453443454738, 126.13978399913977, 112.4081709218362, 107.82072072918888, 102.6081343363431, 95.16621638363061, 91.63845452886692, 92.21819037558414, 92.41268783463318, 94.63470448030014, 91.60120295677976, 83.73876825480147, 304.1282082371224, 397.38956647280946, 205.90791610177075, 273.76712020390175, 494.6860493423986, 232.41247569067036, 159.01087833617103, 690.5333164640612, 378.20847441447376, 399.10274249549866, 504.6312283563696, 235.08664650232254, 285.5572757939306, 184.37794399867872, 1197.0467729685759, 232.93914951305155, 292.22735471301894, 283.20735547920907, 640.1423751542318, 207.43359584739892, 991.423577105058, 325.5007032821492, 200.82670920064106, 254.8299136596296, 367.06553186501594, 474.0342136999303, 487.33084532178526, 354.76528072316245, 320.7295959039791, 607.8407708303716, 523.8856016544761, 628.833484776992, 431.60041293946654, 432.34541135676636, 432.211893532344, 511.03433767549996, 410.5477266037412, 415.27451517894946, 371.70804206082136, 528.0948311536648, 346.4919311288194, 327.09509038214554, 317.81670790364603, 1044.3248455718392, 627.1448013035842, 466.2695511543749, 375.3445428417994, 329.4187170461182, 295.0667038775281, 245.72586944427835, 219.54456678272146, 223.58765228572582, 220.42739149571017, 204.99170475407033, 206.8894713506374, 194.0365792997441, 181.06394446705616, 177.2551011425584, 181.88413896191946, 163.3877189458785, 161.3056271967914, 157.85375352871887, 145.71830175856195, 143.8143399008511, 136.25779918866533, 134.07030733267115, 137.5801809065038, 128.33977950888328, 135.69703125419784, 128.74423003391826, 124.93888767730647, 125.54991144110438, 114.28955644099902, 163.5709147539192, 133.2280502867294, 252.82946235278797, 489.4779996755155, 184.2709439850237, 761.1871492936456, 276.2227845651957, 349.85372139490795, 360.2145857842081, 806.6918586664754, 302.84537051530646, 317.1026669602231, 234.55528119678758, 569.5222902014604, 723.4219989726241, 300.1583373291173, 356.5025595485745, 813.8441585890295, 884.4504527672016, 1042.6241818539013, 764.732645619055, 573.3006896254938, 275.49226002199157, 784.8695030253003, 695.9169755133462, 474.7470884229509, 322.8665185128976, 369.49799100625245, 593.5093088066545, 462.78452315908766, 478.89575150128053, 411.7724202313478, 407.73214195604913, 361.44124749067663, 362.4543985565806, 367.9141660414479, 350.229922174467, 584.0495366690088, 564.4694934312452, 451.20902977841166, 386.1947861718402, 350.58861636722406, 324.2718144456213, 244.81449275902455, 246.8091939510609, 226.41846142835897, 216.30927477324175, 214.22158126721243, 210.9825401498734, 227.58336563995724, 195.15122949884292, 175.1682157440414, 169.78100400280366, 173.3853048912002, 172.4376274219585, 179.8340030227147, 153.71782043465478, 167.14864942139045, 156.37577428158752, 142.4393024548163, 147.38223160267145, 137.0944464875766, 133.57871080005003, 127.81560733473658, 125.83343051454042, 115.1220417826453, 104.34295033374221, 151.4070279533182, 118.51755726355194, 374.6034112185063, 227.04605632496674, 451.97264944610436, 298.89342287563494, 338.2996843668931, 859.4924954552893, 434.2124479012235, 481.0829138715006, 373.0366031259334, 283.17992389817823, 250.01960793276518, 959.9984232623478, 338.90184056685104, 605.0016179603432, 261.4176809053347, 705.670591985424, 328.08998159931474, 363.11000621412757, 274.7725608166804, 417.89832959727636, 276.1375109015724, 254.29996110881788, 284.0125881798618, 261.59903197450797], \"Total\": [2845.0, 1213.0, 1045.0, 1671.0, 1139.0, 584.0, 565.0, 1294.0, 825.0, 1481.0, 1627.0, 689.0, 627.0, 838.0, 665.0, 1821.0, 652.0, 641.0, 451.0, 1005.0, 695.0, 2865.0, 761.0, 386.0, 878.0, 548.0, 1900.0, 467.0, 1124.0, 505.0, 1213.7396494569662, 689.8693697887046, 665.8339749326374, 652.6691703310362, 641.9207036612945, 259.375990935208, 248.6946340426502, 252.93910406761444, 222.70954981851057, 217.21587050219122, 217.7568516390368, 225.445777899822, 208.22586443561067, 206.6551805953091, 191.9376551237662, 190.780273777055, 178.85480957443255, 181.8155341957025, 188.72887586164347, 182.70100300787766, 187.03274876511793, 161.35257369955582, 155.83053304691197, 155.16626319963453, 151.12188817268395, 154.65161117644138, 156.56709644952556, 151.64388833894589, 137.51211726432282, 132.44248482392186, 221.99413293254923, 150.31827765656155, 825.9736922652941, 549.5351511721252, 318.5537087882651, 695.6461986464851, 1139.7849425282197, 761.9253056478285, 423.8426667985136, 517.9857548787991, 878.57796975946, 615.7363354112547, 2845.129769058465, 379.4298437137055, 1900.9013083637792, 1294.671761977739, 247.87348239993156, 789.2639696256583, 607.9040366455605, 473.62947294109006, 1628.8701394407628, 1017.5271945525774, 357.9601787293698, 749.524004106968, 1001.112518324466, 1177.3586068771413, 1627.4835449865523, 1671.9300188391858, 2832.916450756858, 1529.5907660289172, 2267.8772987615775, 735.7159439869691, 1232.2732364636445, 2722.4727136446413, 2081.8957600755584, 905.7020189878112, 1213.9107284558086, 310.38718652273155, 284.24409365473264, 232.30894012470216, 244.2893515412567, 201.71269145706427, 196.33128918145653, 190.5992207676158, 158.09307270059844, 149.61845494853975, 146.0363987154429, 146.57675813033035, 147.13258679474754, 141.1229147770964, 126.09961041757046, 115.78712447988556, 118.44247106971481, 112.51507082557661, 114.17618452023174, 133.45607084831508, 127.01007926210268, 113.1943637270426, 108.57593034394975, 103.34144356172676, 95.90196431662437, 92.36785850196925, 92.95617053067271, 93.16165112022509, 95.40982708998065, 92.35390975765584, 84.48572808988402, 307.83537549211206, 408.1704429554559, 213.56622365120128, 287.5251439019111, 573.156179046445, 254.01925776764728, 167.86411666514152, 877.8323170929832, 447.77801106030347, 480.4954031853033, 631.7896725550947, 262.84834508096344, 330.85646249399673, 200.16604505305423, 1821.2838012887285, 265.91892360462106, 370.1670298515171, 371.18650762326854, 1159.6879442405454, 244.0322092203959, 2722.4727136446413, 498.178415617044, 239.00960245855336, 355.1875394883625, 670.1981632121998, 1093.006679383799, 1151.961144276403, 712.5251734005361, 575.2236699997376, 2267.8772987615775, 1807.0018825191012, 2832.916450756858, 1213.9107284558086, 1254.742470660782, 1310.0996725884909, 2081.8957600755584, 1177.3586068771413, 1260.282693237005, 892.3143813261647, 2865.486531092877, 1124.6285568973121, 781.8920788902176, 1294.671761977739, 1045.0857481524076, 627.8973906164463, 467.02848808410283, 376.1222993001917, 330.2062829841375, 295.81987017212407, 246.49263359516982, 220.29393070351355, 224.3575947959013, 221.18930214748218, 205.75379135736029, 207.74012518075645, 194.8351921253595, 181.8203790189024, 178.01662675223986, 182.668686273292, 164.1349934080096, 162.05085862872926, 158.63601245253375, 146.49774945523825, 144.60579432011426, 137.02750730876568, 134.83044222695153, 138.37037724743334, 129.0792988112863, 136.48448092474058, 129.4951850239509, 125.68941122901573, 126.32290854836637, 115.03312331348212, 164.7326198171706, 134.11739558109622, 256.33417009241896, 505.26496047859854, 187.36631987744965, 838.0421025742966, 291.0424071757873, 384.79153555673736, 403.59005191466423, 1005.972883607866, 336.19860806875334, 363.24617943549305, 260.23190770973173, 806.2772731064757, 1124.6285568973121, 378.48669118291383, 487.8796614963771, 1671.9300188391858, 2081.8957600755584, 2865.486531092877, 1807.0018825191012, 1238.449206541159, 360.6617315145107, 2832.916450756858, 2267.8772987615775, 1260.282693237005, 526.533959480401, 724.7451845795333, 2722.4727136446413, 1529.5907660289172, 1821.2838012887285, 1232.2732364636445, 1310.0996725884909, 844.3240391444767, 1059.3777954582752, 1254.742470660782, 1159.6879442405454, 584.8400947656341, 565.267981433433, 451.99258994602553, 386.97375237804283, 351.3744627055067, 325.0990623515581, 245.59476461421949, 247.60502843573587, 227.22715993414658, 217.09030240933663, 215.00309908376863, 211.76732259384892, 228.45180866079036, 195.93769019707622, 175.95655589432434, 170.5609720552821, 174.18925207457616, 173.2666923142558, 180.69882170321782, 154.49946117383078, 168.00221260883924, 157.20086014948237, 143.2205349657397, 148.1942717795417, 137.87430228612504, 134.36941140810757, 128.59551285339586, 126.64700406834814, 115.96761514404629, 105.12621435449829, 152.61562203192588, 119.46728696413305, 407.67956252479394, 241.64695034605714, 548.6298093585608, 360.179132293434, 421.1640191084571, 1481.502137383286, 615.0313654613878, 789.3514271263234, 555.9242555513108, 375.17906333365636, 314.3672479722018, 2865.486531092877, 560.3872930589374, 1627.4835449865523, 368.1421460440685, 2845.129769058465, 722.2323185189784, 969.6611704715876, 533.2743463917767, 2722.4727136446413, 557.2104462936711, 403.07506987490774, 806.9996904310062, 1232.2732364636445], \"Category\": [\"Default\", \"Default\", \"Default\", \"Default\", \"Default\", \"Default\", \"Default\", \"Default\", \"Default\", \"Default\", \"Default\", \"Default\", \"Default\", \"Default\", \"Default\", \"Default\", \"Default\", \"Default\", \"Default\", \"Default\", \"Default\", \"Default\", \"Default\", \"Default\", \"Default\", \"Default\", \"Default\", \"Default\", \"Default\", \"Default\", \"Topic1\", \"Topic1\", \"Topic1\", \"Topic1\", \"Topic1\", \"Topic1\", \"Topic1\", \"Topic1\", \"Topic1\", \"Topic1\", \"Topic1\", \"Topic1\", \"Topic1\", \"Topic1\", \"Topic1\", \"Topic1\", \"Topic1\", \"Topic1\", \"Topic1\", \"Topic1\", \"Topic1\", \"Topic1\", \"Topic1\", \"Topic1\", \"Topic1\", \"Topic1\", \"Topic1\", \"Topic1\", \"Topic1\", \"Topic1\", \"Topic1\", \"Topic1\", \"Topic1\", \"Topic1\", \"Topic1\", \"Topic1\", \"Topic1\", \"Topic1\", \"Topic1\", \"Topic1\", \"Topic1\", \"Topic1\", \"Topic1\", \"Topic1\", \"Topic1\", \"Topic1\", \"Topic1\", \"Topic1\", \"Topic1\", \"Topic1\", \"Topic1\", \"Topic1\", \"Topic1\", \"Topic1\", \"Topic1\", \"Topic1\", \"Topic1\", \"Topic1\", \"Topic1\", \"Topic1\", \"Topic1\", \"Topic1\", \"Topic1\", \"Topic1\", \"Topic1\", \"Topic1\", \"Topic1\", \"Topic2\", \"Topic2\", \"Topic2\", \"Topic2\", \"Topic2\", \"Topic2\", \"Topic2\", \"Topic2\", \"Topic2\", \"Topic2\", \"Topic2\", \"Topic2\", \"Topic2\", \"Topic2\", \"Topic2\", \"Topic2\", \"Topic2\", \"Topic2\", \"Topic2\", \"Topic2\", \"Topic2\", \"Topic2\", \"Topic2\", \"Topic2\", \"Topic2\", \"Topic2\", \"Topic2\", \"Topic2\", \"Topic2\", \"Topic2\", \"Topic2\", \"Topic2\", \"Topic2\", \"Topic2\", \"Topic2\", \"Topic2\", \"Topic2\", \"Topic2\", \"Topic2\", \"Topic2\", \"Topic2\", \"Topic2\", \"Topic2\", \"Topic2\", \"Topic2\", \"Topic2\", \"Topic2\", \"Topic2\", \"Topic2\", \"Topic2\", \"Topic2\", \"Topic2\", \"Topic2\", \"Topic2\", \"Topic2\", \"Topic2\", \"Topic2\", \"Topic2\", \"Topic2\", \"Topic2\", \"Topic2\", \"Topic2\", \"Topic2\", \"Topic2\", \"Topic2\", \"Topic2\", \"Topic2\", \"Topic2\", \"Topic2\", \"Topic2\", \"Topic2\", \"Topic2\", \"Topic2\", \"Topic3\", \"Topic3\", \"Topic3\", \"Topic3\", \"Topic3\", \"Topic3\", \"Topic3\", \"Topic3\", \"Topic3\", \"Topic3\", \"Topic3\", \"Topic3\", \"Topic3\", \"Topic3\", \"Topic3\", \"Topic3\", \"Topic3\", \"Topic3\", \"Topic3\", \"Topic3\", \"Topic3\", \"Topic3\", \"Topic3\", \"Topic3\", \"Topic3\", \"Topic3\", \"Topic3\", \"Topic3\", \"Topic3\", \"Topic3\", \"Topic3\", \"Topic3\", \"Topic3\", \"Topic3\", \"Topic3\", \"Topic3\", \"Topic3\", \"Topic3\", \"Topic3\", \"Topic3\", \"Topic3\", \"Topic3\", \"Topic3\", \"Topic3\", \"Topic3\", \"Topic3\", \"Topic3\", \"Topic3\", \"Topic3\", \"Topic3\", \"Topic3\", \"Topic3\", \"Topic3\", \"Topic3\", \"Topic3\", \"Topic3\", \"Topic3\", \"Topic3\", \"Topic3\", \"Topic3\", \"Topic3\", \"Topic3\", \"Topic3\", \"Topic3\", \"Topic3\", \"Topic3\", \"Topic3\", \"Topic4\", \"Topic4\", \"Topic4\", \"Topic4\", \"Topic4\", \"Topic4\", \"Topic4\", \"Topic4\", \"Topic4\", \"Topic4\", \"Topic4\", \"Topic4\", \"Topic4\", \"Topic4\", \"Topic4\", \"Topic4\", \"Topic4\", \"Topic4\", \"Topic4\", \"Topic4\", \"Topic4\", \"Topic4\", \"Topic4\", \"Topic4\", \"Topic4\", \"Topic4\", \"Topic4\", \"Topic4\", \"Topic4\", \"Topic4\", \"Topic4\", \"Topic4\", \"Topic4\", \"Topic4\", \"Topic4\", \"Topic4\", \"Topic4\", \"Topic4\", \"Topic4\", \"Topic4\", \"Topic4\", \"Topic4\", \"Topic4\", \"Topic4\", \"Topic4\", \"Topic4\", \"Topic4\", \"Topic4\", \"Topic4\", \"Topic4\", \"Topic4\", \"Topic4\", \"Topic4\", \"Topic4\", \"Topic4\", \"Topic4\"], \"logprob\": [30.0, 29.0, 28.0, 27.0, 26.0, 25.0, 24.0, 23.0, 22.0, 21.0, 20.0, 19.0, 18.0, 17.0, 16.0, 15.0, 14.0, 13.0, 12.0, 11.0, 10.0, 9.0, 8.0, 7.0, 6.0, 5.0, 4.0, 3.0, 2.0, 1.0, -4.8369, -5.4024, -5.4379, -5.4579, -5.4745, -6.3826, -6.4249, -6.408, -6.5355, -6.5605, -6.558, -6.5233, -6.603, -6.6106, -6.6848, -6.6909, -6.7556, -6.7393, -6.702, -6.7345, -6.7113, -6.8592, -6.8941, -6.8984, -6.925, -6.9019, -6.8897, -6.9217, -7.0199, -7.0576, -6.544, -6.9311, -5.2648, -5.6647, -6.1993, -5.4752, -5.0255, -5.4288, -5.97, -5.7884, -5.3104, -5.6512, -4.3378, -6.0981, -4.7209, -5.0539, -6.4678, -5.5131, -5.7454, -5.9476, -4.9724, -5.4149, -6.2001, -5.6823, -5.4799, -5.3837, -5.1892, -5.1837, -4.8678, -5.2781, -5.1146, -5.7843, -5.6123, -5.359, -5.4947, -5.7179, -5.7055, -6.127, -6.2152, -6.4175, -6.3672, -6.5594, -6.5865, -6.6162, -6.8039, -6.8593, -6.8837, -6.88, -6.8764, -6.9182, -7.0314, -7.117, -7.0946, -7.146, -7.1314, -6.9755, -7.0251, -7.1403, -7.182, -7.2315, -7.3068, -7.3446, -7.3383, -7.3362, -7.3124, -7.345, -7.4347, -6.145, -5.8775, -6.535, -6.2502, -5.6585, -6.4139, -6.7935, -5.325, -5.927, -5.8732, -5.6386, -6.4025, -6.208, -6.6455, -4.7748, -6.4117, -6.1849, -6.2163, -5.4008, -6.5276, -4.9633, -6.0771, -6.56, -6.3219, -5.9569, -5.7012, -5.6735, -5.991, -6.0918, -5.4525, -5.6012, -5.4186, -5.7949, -5.7932, -5.7935, -5.626, -5.845, -5.8335, -5.9443, -5.5932, -6.0146, -6.0722, -6.101, -4.8881, -5.3981, -5.6945, -5.9114, -6.0419, -6.152, -6.335, -6.4477, -6.4294, -6.4437, -6.5163, -6.5071, -6.5712, -6.6404, -6.6617, -6.6359, -6.7431, -6.7559, -6.7776, -6.8576, -6.8707, -6.9247, -6.9409, -6.915, -6.9846, -6.9288, -6.9814, -7.0114, -7.0065, -7.1005, -6.742, -6.9472, -6.3065, -5.6459, -6.6228, -5.2044, -6.218, -5.9817, -5.9525, -5.1463, -6.126, -6.08, -6.3816, -5.4944, -5.2553, -6.1349, -5.9629, -5.1375, -5.0543, -4.8897, -5.1997, -5.4878, -6.2207, -5.1737, -5.294, -5.6765, -6.062, -5.9271, -5.4532, -5.702, -5.6678, -5.8188, -5.8286, -5.9491, -5.9463, -5.9314, -5.9807, -5.128, -5.1621, -5.3861, -5.5417, -5.6384, -5.7164, -5.9975, -5.9894, -6.0756, -6.1213, -6.131, -6.1462, -6.0705, -6.2242, -6.3323, -6.3635, -6.3425, -6.348, -6.306, -6.4629, -6.3791, -6.4458, -6.5391, -6.505, -6.5773, -6.6033, -6.6474, -6.6631, -6.752, -6.8503, -6.478, -6.723, -5.5721, -6.0729, -5.3844, -5.7979, -5.6741, -4.7417, -5.4245, -5.322, -5.5763, -5.8519, -5.9765, -4.6311, -5.6723, -5.0928, -5.9319, -4.9389, -5.7047, -5.6033, -5.8821, -5.4628, -5.8771, -5.9595, -5.849, -5.9312], \"loglift\": [30.0, 29.0, 28.0, 27.0, 26.0, 25.0, 24.0, 23.0, 22.0, 21.0, 20.0, 19.0, 18.0, 17.0, 16.0, 15.0, 14.0, 13.0, 12.0, 11.0, 10.0, 9.0, 8.0, 7.0, 6.0, 5.0, 4.0, 3.0, 2.0, 1.0, 1.2458, 1.2452, 1.2452, 1.2452, 1.2452, 1.2433, 1.2431, 1.243, 1.2428, 1.2427, 1.2427, 1.2427, 1.2425, 1.2425, 1.2422, 1.2421, 1.242, 1.2419, 1.2418, 1.2418, 1.2416, 1.2414, 1.2412, 1.2412, 1.2411, 1.241, 1.241, 1.2409, 1.2405, 1.2404, 1.2375, 1.2403, 1.2028, 1.2104, 1.2211, 1.1641, 1.1201, 1.1196, 1.1648, 1.1458, 1.0954, 1.1101, 0.893, 1.1474, 0.9132, 0.9642, 1.2035, 1.0, 1.0287, 1.0761, 0.8161, 0.8441, 1.1036, 0.8824, 0.7953, 0.7294, 0.6002, 0.5787, 0.3673, 0.5733, 0.343, 0.799, 0.4553, -0.0841, 0.0484, 0.6575, 0.3771, 1.3193, 1.3191, 1.3186, 1.3186, 1.318, 1.3179, 1.3178, 1.3171, 1.3168, 1.3166, 1.3166, 1.3164, 1.3163, 1.3157, 1.3154, 1.3152, 1.315, 1.315, 1.3149, 1.3148, 1.3147, 1.3147, 1.3146, 1.314, 1.3138, 1.3137, 1.3136, 1.3136, 1.3135, 1.3128, 1.3096, 1.2949, 1.2852, 1.2727, 1.1745, 1.2328, 1.2675, 1.0817, 1.1529, 1.1361, 1.097, 1.2101, 1.1745, 1.2395, 0.902, 1.1893, 1.0853, 1.0512, 0.7275, 1.1592, 0.3116, 0.8961, 1.1476, 0.9897, 0.7197, 0.4863, 0.4614, 0.6244, 0.7375, 0.005, 0.0836, -0.1835, 0.2876, 0.2562, 0.2128, -0.0829, 0.2682, 0.2116, 0.446, -0.3695, 0.1444, 0.4502, -0.0828, 1.3442, 1.3437, 1.3433, 1.3428, 1.3425, 1.3424, 1.3418, 1.3415, 1.3415, 1.3415, 1.3412, 1.3408, 1.3408, 1.3407, 1.3406, 1.3406, 1.3403, 1.3403, 1.34, 1.3396, 1.3394, 1.3393, 1.3393, 1.3392, 1.3392, 1.3391, 1.3391, 1.3389, 1.3388, 1.3384, 1.3378, 1.3383, 1.3311, 1.3132, 1.3283, 1.2487, 1.2927, 1.2497, 1.2312, 1.1241, 1.2404, 1.2091, 1.241, 0.9973, 0.9037, 1.113, 1.0312, 0.6249, 0.4888, 0.3339, 0.485, 0.5747, 1.0755, 0.0614, 0.1635, 0.3686, 0.8558, 0.6712, -0.1783, 0.1494, 0.0091, 0.2488, 0.1777, 0.4965, 0.2724, 0.1181, 0.1476, 1.6848, 1.6847, 1.6844, 1.6841, 1.6839, 1.6836, 1.683, 1.6829, 1.6826, 1.6825, 1.6825, 1.6824, 1.6823, 1.6821, 1.6817, 1.6816, 1.6815, 1.6813, 1.6813, 1.6811, 1.6811, 1.6809, 1.6807, 1.6806, 1.6805, 1.6802, 1.6801, 1.6797, 1.6788, 1.6787, 1.6782, 1.6782, 1.6015, 1.6238, 1.4923, 1.4996, 1.4671, 1.1417, 1.338, 1.191, 1.2872, 1.4048, 1.4571, 0.5926, 1.1832, 0.6966, 1.3438, 0.2919, 0.8971, 0.7039, 1.0231, -0.1879, 0.9841, 1.2255, 0.6418, 0.1363]}, \"token.table\": {\"Topic\": [4, 4, 4, 2, 1, 2, 3, 1, 2, 3, 1, 2, 3, 4, 3, 2, 2, 1, 2, 4, 1, 1, 1, 3, 1, 4, 2, 1, 2, 3, 4, 4, 3, 3, 3, 3, 2, 1, 4, 1, 2, 1, 2, 3, 4, 1, 2, 3, 4, 2, 1, 2, 1, 2, 3, 1, 3, 4, 1, 2, 3, 2, 1, 1, 3, 3, 1, 1, 2, 3, 4, 1, 2, 3, 4, 2, 3, 3, 3, 2, 1, 3, 4, 1, 3, 1, 3, 4, 1, 2, 1, 2, 3, 2, 1, 2, 3, 4, 1, 2, 3, 1, 2, 3, 4, 1, 2, 3, 4, 1, 2, 1, 4, 1, 3, 1, 3, 4, 2, 2, 1, 3, 2, 3, 3, 1, 2, 3, 4, 2, 1, 1, 4, 4, 4, 2, 3, 4, 2, 4, 1, 2, 3, 4, 1, 1, 1, 4, 4, 1, 2, 3, 4, 2, 1, 1, 2, 3, 1, 2, 2, 2, 1, 2, 4, 1, 2, 3, 1, 2, 3, 4, 1, 3, 3, 1, 2, 3, 3, 3, 1, 4, 3, 3, 4, 2, 3, 2, 3, 1, 2, 3, 3, 2, 4, 1, 2, 3, 4, 2, 3, 4, 2, 3, 4, 1, 2, 3, 4, 4, 2, 3, 4, 1, 3, 4, 4, 2, 3, 1, 2, 3, 4, 2, 1, 2, 3, 2, 3, 4, 1, 3, 4, 4, 2, 3, 4, 4, 4, 1, 2, 4, 2, 3, 1, 1, 2, 3, 4, 4, 1, 2, 3, 4, 2, 3, 4, 4, 1, 2, 1, 2, 4, 1, 4, 3, 4, 2, 3, 4, 2, 3, 4, 2, 3, 1, 1, 1, 3, 2, 1, 2, 3, 3, 3, 3, 1, 3, 2, 4, 4, 1, 1, 2, 3, 4, 1, 3, 1, 2, 3, 4, 2, 3, 2, 3, 4, 1, 4, 1, 2, 3, 4, 1, 1, 2, 4, 1, 2, 1, 2, 2, 2, 4, 4, 1, 2, 3, 4, 2, 2, 3, 4, 3, 1, 2, 3, 1, 1, 2, 3, 1, 2, 3, 4, 1, 1, 2, 4, 1, 2, 1, 2, 3, 4, 3, 1, 1, 1, 1, 2, 3, 4, 1, 1, 4, 1, 2, 3, 4, 1, 2, 4, 1, 2, 1, 1, 2, 4, 1, 2, 3, 4, 1, 2, 3, 4, 1, 2, 3, 4, 1, 2, 3, 4, 4, 3, 3, 2, 2, 3, 1, 2, 3, 1, 3, 1, 2, 3, 4, 1, 2, 3, 4, 1, 2, 3, 3, 2, 1, 2, 3, 4, 4, 2, 3, 2, 4, 1, 2, 3, 4, 3, 1, 2, 3, 1, 4, 4, 2, 1, 2, 3, 4, 1, 2, 3, 4, 2, 4, 3, 4, 2], \"Freq\": [0.9966193001492893, 0.9949776549332876, 0.992360982323249, 0.9930858912289691, 0.15255297910866056, 0.1401502978803142, 0.706952830015744, 0.029831436777704886, 0.06085613102651796, 0.9080689355133367, 0.32961598765661665, 0.2552665167566279, 0.06319705026499041, 0.35192082892661325, 0.9942891471949147, 0.9923022709012279, 0.9912798270039918, 0.7817409938181243, 0.19258449118371943, 0.02534006462943677, 0.9952206508929422, 0.9985657049912191, 0.9968295951090036, 0.9963468805825374, 0.1693601725663106, 0.8301424852020799, 0.9942507675454101, 0.28661981511886114, 0.27477602110568505, 0.4275609638756565, 0.010659414611858473, 0.991477933202584, 0.9916384825357301, 0.9958107189067873, 0.9935152541762408, 0.996450285618863, 0.9961678963177137, 0.9644514984519954, 0.034574676359599835, 0.9576576196157336, 0.04237423095644839, 0.3016481478290767, 0.24544936869531558, 0.42461299789952833, 0.0278592238440867, 0.11690859348490229, 0.18426190256724898, 0.3639870537455316, 0.3350216410313618, 0.9962642533061103, 0.9961379738086407, 0.9965826144482146, 0.13388583417082214, 0.8409703958854766, 0.025103593907029154, 0.3021994423204186, 0.025183286860034883, 0.6709547141995008, 0.10496272447302103, 0.8441682946979139, 0.049131488051201336, 0.9932019688422066, 0.9962758389986939, 0.9968140126048084, 0.9946231479735436, 0.9974437847253752, 0.9961631135224396, 0.23307110450765658, 0.26607232284502386, 0.12684843298425558, 0.37435757051451035, 0.8044032783501852, 0.05099489085655571, 0.10034478523386768, 0.04276990846033705, 0.9983126012015826, 0.9984061391091904, 0.9964372545741346, 0.9966023406018921, 0.9894485583228977, 0.7022526781480324, 0.0495583721816179, 0.2481433387249804, 0.9214454147053345, 0.07762566676144785, 0.5131793737370096, 0.4868624827761373, 0.9931726437744448, 0.9955144966060784, 0.9960651460866837, 0.9034997499294262, 0.050194430551634785, 0.04440276548798462, 0.9964667991294144, 0.016649482902367736, 0.8303929597555909, 0.012487112176775804, 0.1394394193073298, 0.995114793274089, 0.9133165809507703, 0.0826708974136473, 0.1178182452124924, 0.17356021068937053, 0.09881530243628395, 0.6093610316904177, 0.0772964241189801, 0.16258903004337194, 0.00533078787027449, 0.7543064836438403, 0.9910171818227506, 0.0045046235537397755, 0.9561329340490414, 0.040343161774221155, 0.9966590416624233, 0.9938408402936653, 0.12109296541513583, 0.0736055279974355, 0.8025376923591354, 0.9954222059160849, 0.9957045610239483, 0.029687394086840412, 0.9678090472309974, 0.006070443128445693, 0.9955526730650937, 0.9954879699221334, 0.04592521383338519, 0.7888330846675573, 0.059432629666733766, 0.10535784350011895, 0.9920430018124976, 0.9972068796525337, 0.9957539446792165, 0.9975782683513074, 0.995214344947452, 0.9945636814186177, 0.8762069161592793, 0.04888708115910142, 0.07521089409092527, 0.8940516628613907, 0.10272082935003211, 0.14572885821510756, 0.5518725991578037, 0.3018053276644239, 0.9953344901164527, 0.9962872325689768, 0.995910091952343, 0.994112813799893, 0.9980223021063439, 0.9940345273239186, 0.5099403169287007, 0.09218151882941895, 0.30269534197178, 0.09479659737777127, 0.9968561216294457, 0.9946702803958071, 0.12724001022864065, 0.0705784431736991, 0.8022085019883828, 0.9066234659695385, 0.09224366659573793, 0.9991412533798182, 0.992903147951064, 0.6951078246263154, 0.2828461781588846, 0.022681061456136967, 0.13608856163736718, 0.8636389488525226, 0.9980014267039765, 0.33115087220515704, 0.04829283552991874, 0.509144466015429, 0.11038362406838569, 0.08835953200167708, 0.9095834176643229, 0.9986657339919676, 0.1516767470343699, 0.11683208893187952, 0.731737820152298, 0.997016131980795, 0.9963393491958903, 0.2879322596965338, 0.7089652809508992, 0.9985708005322889, 0.9030406842427795, 0.09606815789816804, 0.38554018472108864, 0.6134457126350327, 0.016011415509266578, 0.98203348456835, 0.6682868071147785, 0.19753771798539776, 0.13267458670661045, 0.9957133405097467, 0.9920472511475389, 0.9926893490183423, 0.2924902986719878, 0.3442937575648467, 0.29328727496264717, 0.07013391357802433, 0.04810295563403622, 0.9483154110709998, 0.9919411744786037, 0.9192368263619866, 0.07493778475777065, 0.9960885780868755, 0.050403933426621646, 0.17722673366134709, 0.06503733345370535, 0.705655067972703, 0.9985635479284798, 0.20608386455074695, 0.7926302482721036, 0.9977568490077616, 0.45363315818187216, 0.33434143322170184, 0.21261518326234438, 0.9967110174823566, 0.9875408227986119, 0.009745468646038933, 0.23276869649110987, 0.4182162843549062, 0.17265809904560347, 0.17649494569106133, 0.9896985126524058, 0.3205148386995002, 0.4168934265601891, 0.2633600947356033, 0.21752405827296095, 0.2681546580433915, 0.5156820346988299, 0.3599949674547385, 0.18553586784205756, 0.4541474974044394, 0.9975564775903051, 0.07681061476350436, 0.8919942359632764, 0.029733141198775882, 0.9945994134921977, 0.9963765769692401, 0.008446242242397957, 0.7179305906038264, 0.27309516583753396, 0.9946955983510775, 0.991018905827092, 0.9924837836809022, 0.1329731459908338, 0.08572380477581672, 0.20114719545821558, 0.5798169157671382, 0.9972507775077947, 0.258758938035764, 0.3297459033376107, 0.31142668648552124, 0.10075569268649218, 0.09179431516685653, 0.2778638729375117, 0.6301555689832854, 0.9916561607062075, 0.9944024785142072, 0.9988155376424263, 0.5962499410965401, 0.34908650397532476, 0.05435896898885836, 0.8660181171559048, 0.1312995209881533, 0.05793576115879351, 0.9393869845032947, 0.06197257134050305, 0.1130088065620938, 0.8238706542913935, 0.7993166427644666, 0.1661945494856812, 0.0348217151303332, 0.5475992328015372, 0.4521050886617596, 0.9963779334075574, 0.9987474731479093, 0.9985504019325292, 0.9972284817390832, 0.9958664527798228, 0.34949466202288804, 0.43366615130588726, 0.21683307565294363, 0.9977978043944985, 0.9916685260979395, 0.9989610918010057, 0.12663588113022092, 0.872686398223479, 0.9726328960162485, 0.024499569169175024, 0.9961326714992886, 0.9912300907307262, 0.41511990220742767, 0.2220326687827143, 0.2770995945857404, 0.08577732673163684, 0.09815626599278314, 0.9012529877519179, 0.0620441470571703, 0.6572287082073703, 0.26300129593260685, 0.017570023945393358, 0.8644231938047435, 0.13601064238186525, 0.22484449872554166, 0.16952561411846395, 0.604938770380624, 0.0784930198654583, 0.9198400765483394, 0.26446546053206105, 0.3640073213712118, 0.21818400493895035, 0.15353689236444654, 0.9957865865639256, 0.8721265403987144, 0.12667759804674064, 0.9948912801127221, 0.045213437070515596, 0.9529601351785595, 0.03277671852938917, 0.9645720024363098, 0.9987525692440168, 0.9986701324342648, 0.9936587001955547, 0.9953691008326646, 0.3012254377884992, 0.4227573147060493, 0.2656339595483595, 0.010417018021504295, 0.9960174620486475, 0.7871662805583481, 0.08999440834169248, 0.12416950011701873, 0.9961760352413156, 0.04801585347341544, 0.3076571352185508, 0.6428789270607289, 0.9993906028716314, 0.6501439091784104, 0.1872463572232438, 0.1626894579152774, 0.7538590310404729, 0.24562210232671144, 0.9869928769495817, 0.011703472849204526, 0.9944782463395494, 0.15586865462630148, 0.047714894273357594, 0.7952482378892932, 0.8817452858876642, 0.11844339661177579, 0.7165022160841984, 0.10942177749303471, 0.09206159164077439, 0.08206633311977603, 0.9925014522343285, 0.9925762694851854, 0.9987398052054828, 0.9965243268657678, 0.41930595724076736, 0.35587460418076916, 0.07249297492571223, 0.15322378791116448, 0.9980226824206924, 0.9989747174197047, 0.9967672303188888, 0.6372910020821663, 0.04794665846386204, 0.2726966200132154, 0.04195332615587929, 0.5241220426637544, 0.10384129567429601, 0.371739549603249, 0.8424306822004456, 0.15624027689933076, 0.9978148864224978, 0.8593431954669959, 0.10926747915871736, 0.030731478513389258, 0.3442139298615621, 0.5580437953816234, 0.0834458011785605, 0.013907633529760084, 0.13459905588430435, 0.2853499984747252, 0.08255408760904, 0.49532452565423996, 0.5553702977963322, 0.19542851433389818, 0.06624695401149092, 0.18438735533198303, 0.021552507528424247, 0.7624199538180078, 0.17242006022739398, 0.043105015056848495, 0.9974836733187745, 0.9945149617435985, 0.9963364400121741, 0.9875308015019402, 0.8482486826689728, 0.14752151002938657, 0.6388335115492951, 0.17533941061672143, 0.1848539522780939, 0.9762874875417449, 0.021974316439846348, 0.31622335434648474, 0.25769843503459805, 0.3417100127564999, 0.08401157772190192, 0.4052247449638653, 0.26809210548207846, 0.3068949102229056, 0.01984234333337752, 0.9225121268545473, 0.021234294480027942, 0.05662478528007451, 0.9973232909037241, 0.9905949338676057, 0.24792447884750024, 0.28998309579484405, 0.42335318374628944, 0.03873819981992191, 0.9892870264432755, 0.23567790140379824, 0.762487328071112, 0.9471946903171461, 0.04765759448136584, 0.23016730653502074, 0.49822801109714854, 0.14595975536367167, 0.12631132675702358, 0.9930850004350492, 0.04416088555894336, 0.6543840314643425, 0.3010969469927956, 0.8806637540795169, 0.11812181500321389, 0.9989342916311464, 0.9897137486923775, 0.15393371744375522, 0.3292911996863836, 0.37689956590610174, 0.1396512075778398, 0.10577745078933629, 0.24546828274777274, 0.46267541452129535, 0.18571613497364386, 0.006552409161565443, 0.9894137833963819, 0.9959907435726547, 0.9978039685426169, 0.9966959667877794], \"Term\": [\"Soy Chile\", \"accidente\", \"accidentes\", \"acondicionado\", \"actividad\", \"actividad\", \"actividad\", \"actividades\", \"actividades\", \"actividades\", \"acuerdo\", \"acuerdo\", \"acuerdo\", \"acuerdo\", \"adolescentes\", \"agricultores\", \"agricultura\", \"agua\", \"agua\", \"agua\", \"agua potable\", \"alcalde\", \"alcaldes\", \"alumnos\", \"antecedentes\", \"antecedentes\", \"aplicaciones\", \"apoyo\", \"apoyo\", \"apoyo\", \"apoyo\", \"arma\", \"arte\", \"artes\", \"artistas\", \"asistentes\", \"autonom\\u00eda\", \"autoridad\", \"autoridad\", \"autoridades\", \"autoridades\", \"a\\u00f1o\", \"a\\u00f1o\", \"a\\u00f1o\", \"a\\u00f1o\", \"a\\u00f1os\", \"a\\u00f1os\", \"a\\u00f1os\", \"a\\u00f1os\", \"banco\", \"basura\", \"beneficiarios\", \"beneficios\", \"beneficios\", \"beneficios\", \"calle\", \"calle\", \"calle\", \"cambio\", \"cambio\", \"cambio\", \"cambio clim\\u00e1tico\", \"caminos\", \"camiones\", \"carrera\", \"carreras\", \"cartera\", \"caso\", \"caso\", \"caso\", \"caso\", \"casos\", \"casos\", \"casos\", \"casos\", \"chilenos\", \"clases\", \"colegio\", \"colegios\", \"combustibles\", \"comuna\", \"comuna\", \"comuna\", \"comunas\", \"comunas\", \"comunidad\", \"comunidad\", \"conductor\", \"consejeros\", \"constituci\\u00f3n\", \"construcci\\u00f3n\", \"construcci\\u00f3n\", \"construcci\\u00f3n\", \"consumidores\", \"consumo\", \"consumo\", \"consumo\", \"consumo\", \"contagios\", \"contenido\", \"contenido\", \"contexto\", \"contexto\", \"contexto\", \"contexto\", \"control\", \"control\", \"control\", \"control\", \"corporaciones\", \"corporaciones\", \"corte\", \"corte\", \"corte programado\", \"cuento\", \"cuerpo\", \"cuerpo\", \"cuerpo\", \"cultivo\", \"cultivos\", \"cultura\", \"cultura\", \"cursos\", \"cursos\", \"c\\u00e1ncer\", \"datos\", \"datos\", \"datos\", \"datos\", \"debate\", \"delegada\", \"delegada presidencial\", \"delito\", \"delitos\", \"denuncia\", \"derecho\", \"derecho\", \"derecho\", \"derechos\", \"derechos\", \"desarrollo\", \"desarrollo\", \"desarrollo\", \"detenci\\u00f3n\", \"diputado\", \"dirigentes\", \"domiciliarios\", \"domicilio\", \"drogas\", \"d\\u00eda\", \"d\\u00eda\", \"d\\u00eda\", \"d\\u00eda\", \"econom\\u00eda\", \"edil\", \"educaci\\u00f3n\", \"educaci\\u00f3n\", \"educaci\\u00f3n\", \"ejecuci\\u00f3n\", \"ejecuci\\u00f3n\", \"emprendimiento\", \"emprendimientos\", \"empresa\", \"empresa\", \"empresa\", \"empresas\", \"empresas\", \"enfermedad\", \"equipo\", \"equipo\", \"equipo\", \"equipo\", \"escuela\", \"escuela\", \"escuelas\", \"espacio\", \"espacio\", \"espacio\", \"establecimientos\", \"establecimientos educacionales\", \"estado\", \"estado\", \"estudiantes\", \"evento\", \"evento\", \"experiencia\", \"experiencia\", \"exposici\\u00f3n\", \"exposici\\u00f3n\", \"familias\", \"familias\", \"familias\", \"fase\", \"fertilizantes\", \"fiscal\", \"forma\", \"forma\", \"forma\", \"forma\", \"formaci\\u00f3n\", \"formaci\\u00f3n\", \"fuego\", \"generaci\\u00f3n\", \"generaci\\u00f3n\", \"gravedad\", \"hecho\", \"hecho\", \"hecho\", \"hecho\", \"hechos\", \"historia\", \"historia\", \"hombre\", \"horas\", \"horas\", \"horas\", \"imputado\", \"industria\", \"industria\", \"informaci\\u00f3n\", \"informaci\\u00f3n\", \"informaci\\u00f3n\", \"informaci\\u00f3n\", \"ingresos\", \"iniciativa\", \"iniciativa\", \"iniciativa\", \"investigaci\\u00f3n\", \"investigaci\\u00f3n\", \"investigaci\\u00f3n\", \"jornada\", \"jornada\", \"jornada\", \"joven\", \"j\\u00f3venes\", \"j\\u00f3venes\", \"j\\u00f3venes\", \"kilos\", \"lesiones\", \"ley\", \"ley\", \"ley\", \"leyes\", \"libro\", \"licitaci\\u00f3n\", \"lugar\", \"lugar\", \"lugar\", \"lugar\", \"madrugada\", \"manera\", \"manera\", \"manera\", \"manera\", \"mar\", \"mar\", \"mar\", \"marea roja\", \"mejoramiento\", \"mercado\", \"millones\", \"millones\", \"millones\", \"millones de pesos\", \"millones de pesos\", \"muerte\", \"muerte\", \"mujer\", \"mujer\", \"mujer\", \"mujeres\", \"mujeres\", \"mujeres\", \"mundo\", \"mundo\", \"municipalidad\", \"municipio\", \"municipios\", \"m\\u00fasica\", \"negocios\", \"nivel\", \"nivel\", \"nivel\", \"ni\\u00f1as\", \"ni\\u00f1o\", \"ni\\u00f1os\", \"pacientes\", \"pacientes\", \"pago\", \"pago\", \"pareja\", \"parlamentario\", \"parte\", \"parte\", \"parte\", \"parte\", \"patrimonio\", \"patrimonio\", \"pa\\u00eds\", \"pa\\u00eds\", \"pa\\u00eds\", \"pa\\u00eds\", \"pa\\u00edses\", \"pa\\u00edses\", \"persona\", \"persona\", \"persona\", \"personal\", \"personal\", \"personas\", \"personas\", \"personas\", \"personas\", \"personero\", \"plan\", \"plan\", \"playa\", \"pol\\u00edtica\", \"pol\\u00edtica\", \"pol\\u00edticas\", \"pol\\u00edticas\", \"precio\", \"precios\", \"prisi\\u00f3n\", \"prisi\\u00f3n preventiva\", \"proceso\", \"proceso\", \"proceso\", \"proceso\", \"proceso constituyente\", \"productos\", \"productos\", \"productos\", \"profesores\", \"programa\", \"programa\", \"programa\", \"provincia\", \"proyecto\", \"proyecto\", \"proyecto\", \"proyectos\", \"proyectos\", \"p\\u00fablico\", \"p\\u00fablico\", \"reciclaje\", \"recurso\", \"recurso\", \"recurso\", \"recursos\", \"recursos\", \"regi\\u00f3n\", \"regi\\u00f3n\", \"regi\\u00f3n\", \"regi\\u00f3n\", \"rehabilitaci\\u00f3n\", \"relleno\", \"residuos\", \"residuos s\\u00f3lidos\", \"respecto\", \"respecto\", \"respecto\", \"respecto\", \"reuniones\", \"reuni\\u00f3n\", \"robo\", \"salud\", \"salud\", \"salud\", \"salud\", \"sector\", \"sector\", \"sector\", \"sectores\", \"sectores\", \"seremi\", \"servicio\", \"servicio\", \"servicio\", \"sistema\", \"sistema\", \"sistema\", \"sistema\", \"sitio\", \"sitio\", \"sitio\", \"sitio\", \"situaci\\u00f3n\", \"situaci\\u00f3n\", \"situaci\\u00f3n\", \"situaci\\u00f3n\", \"sociedad\", \"sociedad\", \"sociedad\", \"sociedad\", \"sujeto\", \"taller\", \"talleres\", \"tasa\", \"tecnolog\\u00eda\", \"tecnolog\\u00eda\", \"tema\", \"tema\", \"tema\", \"terreno\", \"terreno\", \"tiempo\", \"tiempo\", \"tiempo\", \"tiempo\", \"trabajo\", \"trabajo\", \"trabajo\", \"trabajo\", \"trabajos\", \"trabajos\", \"trabajos\", \"tradiciones\", \"transformaci\\u00f3n\", \"trav\\u00e9s\", \"trav\\u00e9s\", \"trav\\u00e9s\", \"trav\\u00e9s\", \"tribunal\", \"turismo\", \"turismo\", \"t\\u00e9rminos\", \"t\\u00e9rminos\", \"uso\", \"uso\", \"uso\", \"uso\", \"vacunaci\\u00f3n\", \"valor\", \"valor\", \"valor\", \"vecinos\", \"vecinos\", \"veh\\u00edculo\", \"ventas\", \"vez\", \"vez\", \"vez\", \"vez\", \"vida\", \"vida\", \"vida\", \"vida\", \"vigilancia\", \"vigilancia\", \"visitantes\", \"v\\u00edctima\", \"}\"]}, \"R\": 30, \"lambda.step\": 0.01, \"plot.opts\": {\"xlab\": \"PC1\", \"ylab\": \"PC2\"}, \"topic.order\": [1, 3, 2, 4]};\n",
       "\n",
       "function LDAvis_load_lib(url, callback){\n",
       "  var s = document.createElement('script');\n",
       "  s.src = url;\n",
       "  s.async = true;\n",
       "  s.onreadystatechange = s.onload = callback;\n",
       "  s.onerror = function(){console.warn(\"failed to load library \" + url);};\n",
       "  document.getElementsByTagName(\"head\")[0].appendChild(s);\n",
       "}\n",
       "\n",
       "if(typeof(LDAvis) !== \"undefined\"){\n",
       "   // already loaded: just create the visualization\n",
       "   !function(LDAvis){\n",
       "       new LDAvis(\"#\" + \"ldavis_el2412025987595650084044603735\", ldavis_el2412025987595650084044603735_data);\n",
       "   }(LDAvis);\n",
       "}else if(typeof define === \"function\" && define.amd){\n",
       "   // require.js is available: use it to load d3/LDAvis\n",
       "   require.config({paths: {d3: \"https://d3js.org/d3.v5\"}});\n",
       "   require([\"d3\"], function(d3){\n",
       "      window.d3 = d3;\n",
       "      LDAvis_load_lib(\"https://cdn.jsdelivr.net/gh/bmabey/pyLDAvis@3.3.1/pyLDAvis/js/ldavis.v3.0.0.js\", function(){\n",
       "        new LDAvis(\"#\" + \"ldavis_el2412025987595650084044603735\", ldavis_el2412025987595650084044603735_data);\n",
       "      });\n",
       "    });\n",
       "}else{\n",
       "    // require.js not available: dynamically load d3 & LDAvis\n",
       "    LDAvis_load_lib(\"https://d3js.org/d3.v5.js\", function(){\n",
       "         LDAvis_load_lib(\"https://cdn.jsdelivr.net/gh/bmabey/pyLDAvis@3.3.1/pyLDAvis/js/ldavis.v3.0.0.js\", function(){\n",
       "                 new LDAvis(\"#\" + \"ldavis_el2412025987595650084044603735\", ldavis_el2412025987595650084044603735_data);\n",
       "            })\n",
       "         });\n",
       "}\n",
       "</script>"
      ],
      "text/plain": [
       "PreparedData(topic_coordinates=              x         y  topics  cluster       Freq\n",
       "topic                                                \n",
       "0     -0.043190 -0.196481       1        1  28.752598\n",
       "2     -0.107083  0.030096       2        1  26.667915\n",
       "1     -0.091617  0.136459       3        1  26.056252\n",
       "3      0.241890  0.029926       4        1  18.523236, topic_info=           Term         Freq        Total Category  logprob  loglift\n",
       "7        comuna  2845.000000  2845.000000  Default  30.0000  30.0000\n",
       "167   provincia  1213.000000  1213.000000  Default  29.0000  29.0000\n",
       "2536      niños  1045.000000  1045.000000  Default  28.0000  28.0000\n",
       "113   comunidad  1671.000000  1671.000000  Default  27.0000  27.0000\n",
       "594    recursos  1139.000000  1139.000000  Default  26.0000  26.0000\n",
       "...         ...          ...          ...      ...      ...      ...\n",
       "74     personas   417.898330  2722.472714   Topic4  -5.4628  -0.1879\n",
       "1234      sitio   276.137511   557.210446   Topic4  -5.8771   0.9841\n",
       "1114        mar   254.299961   403.075070   Topic4  -5.9595   1.2255\n",
       "250     acuerdo   284.012588   806.999690   Topic4  -5.8490   0.6418\n",
       "99        horas   261.599032  1232.273236   Topic4  -5.9312   0.1363\n",
       "\n",
       "[293 rows x 6 columns], token_table=       Topic      Freq           Term\n",
       "term                                 \n",
       "7471       4  0.996619      Soy Chile\n",
       "394        4  0.994978      accidente\n",
       "5138       4  0.992361     accidentes\n",
       "7945       2  0.993086  acondicionado\n",
       "1055       1  0.152553      actividad\n",
       "...      ...       ...            ...\n",
       "1446       2  0.006552     vigilancia\n",
       "1446       4  0.989414     vigilancia\n",
       "790        3  0.995991     visitantes\n",
       "40         4  0.997804        víctima\n",
       "18886      2  0.996696              }\n",
       "\n",
       "[453 rows x 3 columns], R=30, lambda_step=0.01, plot_opts={'xlab': 'PC1', 'ylab': 'PC2'}, topic_order=[1, 3, 2, 4])"
      ]
     },
     "execution_count": 21,
     "metadata": {},
     "output_type": "execute_result"
    }
   ],
   "source": [
    "# Visualize the topics\n",
    "pyLDAvis.enable_notebook();\n",
    "vis = pyLDAvis.gensim_models.prepare(optimal_model, dataset_id, id2word);\n",
    "vis"
   ]
  },
  {
   "cell_type": "markdown",
   "metadata": {},
   "source": [
    "## Temas principales"
   ]
  },
  {
   "cell_type": "code",
   "execution_count": 22,
   "metadata": {},
   "outputs": [
    {
     "data": {
      "text/html": [
       "<div>\n",
       "<style scoped>\n",
       "    .dataframe tbody tr th:only-of-type {\n",
       "        vertical-align: middle;\n",
       "    }\n",
       "\n",
       "    .dataframe tbody tr th {\n",
       "        vertical-align: top;\n",
       "    }\n",
       "\n",
       "    .dataframe thead th {\n",
       "        text-align: right;\n",
       "    }\n",
       "</style>\n",
       "<table border=\"1\" class=\"dataframe\">\n",
       "  <thead>\n",
       "    <tr style=\"text-align: right;\">\n",
       "      <th></th>\n",
       "      <th>document_No</th>\n",
       "      <th>dominant_Topic</th>\n",
       "      <th>topic_Perc_Contrib</th>\n",
       "      <th>keywords</th>\n",
       "      <th>text</th>\n",
       "    </tr>\n",
       "  </thead>\n",
       "  <tbody>\n",
       "    <tr>\n",
       "      <th>0</th>\n",
       "      <td>0</td>\n",
       "      <td>3</td>\n",
       "      <td>0.9587</td>\n",
       "      <td>años, lugar, comuna, sector, hechos, hombre, c...</td>\n",
       "      <td>La Fiscalía de Los Lagos dirige una investigac...</td>\n",
       "    </tr>\n",
       "    <tr>\n",
       "      <th>1</th>\n",
       "      <td>1</td>\n",
       "      <td>0</td>\n",
       "      <td>0.5000</td>\n",
       "      <td>comuna, región, provincia, parte, proyecto, re...</td>\n",
       "      <td>Frente al alza de contagios de Covid-19 en la ...</td>\n",
       "    </tr>\n",
       "    <tr>\n",
       "      <th>2</th>\n",
       "      <td>2</td>\n",
       "      <td>1</td>\n",
       "      <td>0.5589</td>\n",
       "      <td>niños, años, año, comunidad, educación, parte,...</td>\n",
       "      <td>La jefa comunal de la comuna lacustre, María J...</td>\n",
       "    </tr>\n",
       "    <tr>\n",
       "      <th>3</th>\n",
       "      <td>3</td>\n",
       "      <td>0</td>\n",
       "      <td>0.9791</td>\n",
       "      <td>comuna, región, provincia, parte, proyecto, re...</td>\n",
       "      <td>La jefa de la División de Atención Primaria de...</td>\n",
       "    </tr>\n",
       "    <tr>\n",
       "      <th>4</th>\n",
       "      <td>4</td>\n",
       "      <td>0</td>\n",
       "      <td>0.6533</td>\n",
       "      <td>comuna, región, provincia, parte, proyecto, re...</td>\n",
       "      <td>Como una necesidad por plantear la urgencia qu...</td>\n",
       "    </tr>\n",
       "  </tbody>\n",
       "</table>\n",
       "</div>"
      ],
      "text/plain": [
       "   document_No  dominant_Topic  topic_Perc_Contrib  \\\n",
       "0            0               3              0.9587   \n",
       "1            1               0              0.5000   \n",
       "2            2               1              0.5589   \n",
       "3            3               0              0.9791   \n",
       "4            4               0              0.6533   \n",
       "\n",
       "                                            keywords  \\\n",
       "0  años, lugar, comuna, sector, hechos, hombre, c...   \n",
       "1  comuna, región, provincia, parte, proyecto, re...   \n",
       "2  niños, años, año, comunidad, educación, parte,...   \n",
       "3  comuna, región, provincia, parte, proyecto, re...   \n",
       "4  comuna, región, provincia, parte, proyecto, re...   \n",
       "\n",
       "                                                text  \n",
       "0  La Fiscalía de Los Lagos dirige una investigac...  \n",
       "1  Frente al alza de contagios de Covid-19 en la ...  \n",
       "2  La jefa comunal de la comuna lacustre, María J...  \n",
       "3  La jefa de la División de Atención Primaria de...  \n",
       "4  Como una necesidad por plantear la urgencia qu...  "
      ]
     },
     "execution_count": 22,
     "metadata": {},
     "output_type": "execute_result"
    }
   ],
   "source": [
    "def format_topics_documents(ldamodel=None, corpus=dataset_id, texts=texts):\n",
    "    # Init output\n",
    "    sent_topics_df = pd.DataFrame()\n",
    "\n",
    "    # Get main topic in each document\n",
    "    for i, row_list in enumerate(ldamodel[corpus]):\n",
    "        row = row_list[0] if ldamodel.per_word_topics else row_list            \n",
    "        # print(row)\n",
    "        row = sorted(row, key=lambda x: (x[1]), reverse=True)\n",
    "        # Get the Dominant topic, Perc Contribution and Keywords for each document\n",
    "        for j, (topic_num, prop_topic) in enumerate(row):\n",
    "            if j == 0:  # => dominant topic\n",
    "                wp = ldamodel.show_topic(topic_num)\n",
    "                topic_keywords = \", \".join([word for word, prop in wp])\n",
    "                sent_topics_df = sent_topics_df.append(pd.Series([int(topic_num), round(prop_topic,4), topic_keywords]), ignore_index=True)\n",
    "            else:\n",
    "                break\n",
    "    sent_topics_df.columns = ['dominant_Topic', 'perc_Contribution', 'topic_Keywords']\n",
    "\n",
    "    # Add original text to the end of the output\n",
    "    contents = pd.Series(texts)\n",
    "    sent_topics_df = pd.concat([sent_topics_df, contents], axis=1)\n",
    "    return(sent_topics_df)\n",
    "\n",
    "\n",
    "df_topic_sents_keywords = format_topics_documents(ldamodel=optimal_model, corpus=dataset_id, texts=noticias)\n",
    "\n",
    "# Format\n",
    "df_dominant_topic = df_topic_sents_keywords.reset_index()\n",
    "df_dominant_topic.columns = ['document_No', 'dominant_Topic', 'topic_Perc_Contrib', 'keywords', 'text']\n",
    "df_dominant_topic.head(5)"
   ]
  },
  {
   "cell_type": "code",
   "execution_count": 23,
   "metadata": {},
   "outputs": [],
   "source": [
    "# add comuna to dataframe df_dominant_topic using merge\n",
    "df_dominant_topic = pd.merge(df_dominant_topic, df)"
   ]
  },
  {
   "cell_type": "markdown",
   "metadata": {},
   "source": [
    "## Revisar temas principales"
   ]
  },
  {
   "cell_type": "code",
   "execution_count": 24,
   "metadata": {},
   "outputs": [
    {
     "data": {
      "text/html": [
       "<div>\n",
       "<style scoped>\n",
       "    .dataframe tbody tr th:only-of-type {\n",
       "        vertical-align: middle;\n",
       "    }\n",
       "\n",
       "    .dataframe tbody tr th {\n",
       "        vertical-align: top;\n",
       "    }\n",
       "\n",
       "    .dataframe thead th {\n",
       "        text-align: right;\n",
       "    }\n",
       "</style>\n",
       "<table border=\"1\" class=\"dataframe\">\n",
       "  <thead>\n",
       "    <tr style=\"text-align: right;\">\n",
       "      <th></th>\n",
       "      <th>document_No</th>\n",
       "      <th>dominant_Topic</th>\n",
       "      <th>topic_Perc_Contrib</th>\n",
       "      <th>keywords</th>\n",
       "      <th>text</th>\n",
       "      <th>id_news</th>\n",
       "      <th>country</th>\n",
       "      <th>media_outlet</th>\n",
       "      <th>url</th>\n",
       "      <th>title</th>\n",
       "      <th>...</th>\n",
       "      <th>Frutillar</th>\n",
       "      <th>Fresia</th>\n",
       "      <th>Dalcahue</th>\n",
       "      <th>Curaco_de_Vélez</th>\n",
       "      <th>Cochamó</th>\n",
       "      <th>Chonchi</th>\n",
       "      <th>Chaitén</th>\n",
       "      <th>Castro</th>\n",
       "      <th>Calbuco</th>\n",
       "      <th>Ancud</th>\n",
       "    </tr>\n",
       "  </thead>\n",
       "  <tbody>\n",
       "    <tr>\n",
       "      <th>0</th>\n",
       "      <td>0</td>\n",
       "      <td>3</td>\n",
       "      <td>0.9587</td>\n",
       "      <td>años, lugar, comuna, sector, hechos, hombre, c...</td>\n",
       "      <td>La Fiscalía de Los Lagos dirige una investigac...</td>\n",
       "      <td>21907946.0</td>\n",
       "      <td>chile</td>\n",
       "      <td>radiosago</td>\n",
       "      <td>https://www.radiosago.cl/investigan-muerte-de-...</td>\n",
       "      <td>Investigan muerte de hombre apuñalado en Máfil...</td>\n",
       "      <td>...</td>\n",
       "      <td>0</td>\n",
       "      <td>0</td>\n",
       "      <td>0</td>\n",
       "      <td>0</td>\n",
       "      <td>0</td>\n",
       "      <td>0</td>\n",
       "      <td>0</td>\n",
       "      <td>0</td>\n",
       "      <td>0</td>\n",
       "      <td>0</td>\n",
       "    </tr>\n",
       "    <tr>\n",
       "      <th>1</th>\n",
       "      <td>1</td>\n",
       "      <td>0</td>\n",
       "      <td>0.5000</td>\n",
       "      <td>comuna, región, provincia, parte, proyecto, re...</td>\n",
       "      <td>Frente al alza de contagios de Covid-19 en la ...</td>\n",
       "      <td>21908053.0</td>\n",
       "      <td>chile</td>\n",
       "      <td>radiosago</td>\n",
       "      <td>https://www.radiosago.cl/ante-retroceso-a-fase...</td>\n",
       "      <td>Ante retroceso a Fase 3: Municipalidad de Puye...</td>\n",
       "      <td>...</td>\n",
       "      <td>0</td>\n",
       "      <td>0</td>\n",
       "      <td>0</td>\n",
       "      <td>0</td>\n",
       "      <td>0</td>\n",
       "      <td>0</td>\n",
       "      <td>0</td>\n",
       "      <td>0</td>\n",
       "      <td>0</td>\n",
       "      <td>0</td>\n",
       "    </tr>\n",
       "  </tbody>\n",
       "</table>\n",
       "<p>2 rows × 41 columns</p>\n",
       "</div>"
      ],
      "text/plain": [
       "   document_No  dominant_Topic  topic_Perc_Contrib  \\\n",
       "0            0               3              0.9587   \n",
       "1            1               0              0.5000   \n",
       "\n",
       "                                            keywords  \\\n",
       "0  años, lugar, comuna, sector, hechos, hombre, c...   \n",
       "1  comuna, región, provincia, parte, proyecto, re...   \n",
       "\n",
       "                                                text     id_news country  \\\n",
       "0  La Fiscalía de Los Lagos dirige una investigac...  21907946.0   chile   \n",
       "1  Frente al alza de contagios de Covid-19 en la ...  21908053.0   chile   \n",
       "\n",
       "  media_outlet                                                url  \\\n",
       "0    radiosago  https://www.radiosago.cl/investigan-muerte-de-...   \n",
       "1    radiosago  https://www.radiosago.cl/ante-retroceso-a-fase...   \n",
       "\n",
       "                                               title  ... Frutillar  Fresia  \\\n",
       "0  Investigan muerte de hombre apuñalado en Máfil...  ...         0       0   \n",
       "1  Ante retroceso a Fase 3: Municipalidad de Puye...  ...         0       0   \n",
       "\n",
       "   Dalcahue  Curaco_de_Vélez  Cochamó  Chonchi  Chaitén  Castro  Calbuco  \\\n",
       "0         0                0        0        0        0       0        0   \n",
       "1         0                0        0        0        0       0        0   \n",
       "\n",
       "   Ancud  \n",
       "0      0  \n",
       "1      0  \n",
       "\n",
       "[2 rows x 41 columns]"
      ]
     },
     "execution_count": 24,
     "metadata": {},
     "output_type": "execute_result"
    }
   ],
   "source": [
    "df_dominant_topic.head(2)"
   ]
  },
  {
   "cell_type": "markdown",
   "metadata": {},
   "source": [
    "## Procesaremos la positividad de los datos (POS, NEU, NEG)"
   ]
  },
  {
   "cell_type": "code",
   "execution_count": 25,
   "metadata": {},
   "outputs": [],
   "source": [
    "# --- Cargamos el modelo ---\n",
    "model_name = \"finiteautomata/beto-sentiment-analysis\"\n",
    "model = AutoModelForSequenceClassification.from_pretrained(model_name)\n",
    "tokenizer = AutoTokenizer.from_pretrained(model_name)\n",
    "nlp = pipeline(\"sentiment-analysis\", model=model, tokenizer=tokenizer)"
   ]
  },
  {
   "cell_type": "code",
   "execution_count": 26,
   "metadata": {},
   "outputs": [
    {
     "name": "stderr",
     "output_type": "stream",
     "text": [
      "Análisis de sentimiento: 100%|██████████| 5869/5869 [05:33<00:00, 17.60it/s]\n"
     ]
    }
   ],
   "source": [
    "# --- Funcion para obtener el sentimiento ---\n",
    "df_dominant_topic['title_label'] = \"\"\n",
    "df_dominant_topic['title_score'] = \"\"\n",
    "\n",
    "for index, row in tqdm(df_dominant_topic.iterrows(), desc='Análisis de sentimiento', total=df_dominant_topic.shape[0]):\n",
    "    \n",
    "    # Analizamos su sentimiento en inglés\n",
    "    sentiment_value = nlp(row['title'])\n",
    "    \n",
    "    # Insertamos en dataframe\n",
    "    df_dominant_topic.at[index, \"title_label\"] = sentiment_value[0].get('label')\n",
    "    df_dominant_topic.at[index, \"title_score\"] = sentiment_value[0].get('score')"
   ]
  },
  {
   "cell_type": "code",
   "execution_count": 27,
   "metadata": {},
   "outputs": [
    {
     "data": {
      "text/html": [
       "<div>\n",
       "<style scoped>\n",
       "    .dataframe tbody tr th:only-of-type {\n",
       "        vertical-align: middle;\n",
       "    }\n",
       "\n",
       "    .dataframe tbody tr th {\n",
       "        vertical-align: top;\n",
       "    }\n",
       "\n",
       "    .dataframe thead th {\n",
       "        text-align: right;\n",
       "    }\n",
       "</style>\n",
       "<table border=\"1\" class=\"dataframe\">\n",
       "  <thead>\n",
       "    <tr style=\"text-align: right;\">\n",
       "      <th></th>\n",
       "      <th>document_No</th>\n",
       "      <th>dominant_Topic</th>\n",
       "      <th>topic_Perc_Contrib</th>\n",
       "      <th>keywords</th>\n",
       "      <th>text</th>\n",
       "      <th>id_news</th>\n",
       "      <th>country</th>\n",
       "      <th>media_outlet</th>\n",
       "      <th>url</th>\n",
       "      <th>title</th>\n",
       "      <th>...</th>\n",
       "      <th>Dalcahue</th>\n",
       "      <th>Curaco_de_Vélez</th>\n",
       "      <th>Cochamó</th>\n",
       "      <th>Chonchi</th>\n",
       "      <th>Chaitén</th>\n",
       "      <th>Castro</th>\n",
       "      <th>Calbuco</th>\n",
       "      <th>Ancud</th>\n",
       "      <th>title_label</th>\n",
       "      <th>title_score</th>\n",
       "    </tr>\n",
       "  </thead>\n",
       "  <tbody>\n",
       "    <tr>\n",
       "      <th>0</th>\n",
       "      <td>0</td>\n",
       "      <td>3</td>\n",
       "      <td>0.9587</td>\n",
       "      <td>años, lugar, comuna, sector, hechos, hombre, c...</td>\n",
       "      <td>La Fiscalía de Los Lagos dirige una investigac...</td>\n",
       "      <td>21907946.0</td>\n",
       "      <td>chile</td>\n",
       "      <td>radiosago</td>\n",
       "      <td>https://www.radiosago.cl/investigan-muerte-de-...</td>\n",
       "      <td>Investigan muerte de hombre apuñalado en Máfil...</td>\n",
       "      <td>...</td>\n",
       "      <td>0</td>\n",
       "      <td>0</td>\n",
       "      <td>0</td>\n",
       "      <td>0</td>\n",
       "      <td>0</td>\n",
       "      <td>0</td>\n",
       "      <td>0</td>\n",
       "      <td>0</td>\n",
       "      <td>NEU</td>\n",
       "      <td>0.537904</td>\n",
       "    </tr>\n",
       "    <tr>\n",
       "      <th>1</th>\n",
       "      <td>1</td>\n",
       "      <td>0</td>\n",
       "      <td>0.5000</td>\n",
       "      <td>comuna, región, provincia, parte, proyecto, re...</td>\n",
       "      <td>Frente al alza de contagios de Covid-19 en la ...</td>\n",
       "      <td>21908053.0</td>\n",
       "      <td>chile</td>\n",
       "      <td>radiosago</td>\n",
       "      <td>https://www.radiosago.cl/ante-retroceso-a-fase...</td>\n",
       "      <td>Ante retroceso a Fase 3: Municipalidad de Puye...</td>\n",
       "      <td>...</td>\n",
       "      <td>0</td>\n",
       "      <td>0</td>\n",
       "      <td>0</td>\n",
       "      <td>0</td>\n",
       "      <td>0</td>\n",
       "      <td>0</td>\n",
       "      <td>0</td>\n",
       "      <td>0</td>\n",
       "      <td>NEG</td>\n",
       "      <td>0.863433</td>\n",
       "    </tr>\n",
       "  </tbody>\n",
       "</table>\n",
       "<p>2 rows × 43 columns</p>\n",
       "</div>"
      ],
      "text/plain": [
       "   document_No  dominant_Topic  topic_Perc_Contrib  \\\n",
       "0            0               3              0.9587   \n",
       "1            1               0              0.5000   \n",
       "\n",
       "                                            keywords  \\\n",
       "0  años, lugar, comuna, sector, hechos, hombre, c...   \n",
       "1  comuna, región, provincia, parte, proyecto, re...   \n",
       "\n",
       "                                                text     id_news country  \\\n",
       "0  La Fiscalía de Los Lagos dirige una investigac...  21907946.0   chile   \n",
       "1  Frente al alza de contagios de Covid-19 en la ...  21908053.0   chile   \n",
       "\n",
       "  media_outlet                                                url  \\\n",
       "0    radiosago  https://www.radiosago.cl/investigan-muerte-de-...   \n",
       "1    radiosago  https://www.radiosago.cl/ante-retroceso-a-fase...   \n",
       "\n",
       "                                               title  ... Dalcahue  \\\n",
       "0  Investigan muerte de hombre apuñalado en Máfil...  ...        0   \n",
       "1  Ante retroceso a Fase 3: Municipalidad de Puye...  ...        0   \n",
       "\n",
       "   Curaco_de_Vélez  Cochamó  Chonchi  Chaitén  Castro  Calbuco  Ancud  \\\n",
       "0                0        0        0        0       0        0      0   \n",
       "1                0        0        0        0       0        0      0   \n",
       "\n",
       "   title_label  title_score  \n",
       "0          NEU     0.537904  \n",
       "1          NEG     0.863433  \n",
       "\n",
       "[2 rows x 43 columns]"
      ]
     },
     "execution_count": 27,
     "metadata": {},
     "output_type": "execute_result"
    }
   ],
   "source": [
    "df_dominant_topic.head(2)"
   ]
  },
  {
   "cell_type": "markdown",
   "metadata": {},
   "source": [
    "## Guardamos nuevamente el dataset pero ahora procesado"
   ]
  },
  {
   "cell_type": "code",
   "execution_count": 28,
   "metadata": {},
   "outputs": [],
   "source": [
    "df_dominant_topic.to_csv('./data/'+nombre_archivo+'_dominant_topic.csv', index=False)"
   ]
  }
 ],
 "metadata": {
  "kernelspec": {
   "display_name": "Python 3.8.10 ('myenv')",
   "language": "python",
   "name": "python3"
  },
  "language_info": {
   "codemirror_mode": {
    "name": "ipython",
    "version": 3
   },
   "file_extension": ".py",
   "mimetype": "text/x-python",
   "name": "python",
   "nbconvert_exporter": "python",
   "pygments_lexer": "ipython3",
   "version": "3.8.10"
  },
  "orig_nbformat": 4,
  "vscode": {
   "interpreter": {
    "hash": "9dff3029cfd092013fe8f81aa1ceb1e4b66244b0efa81f52c02e02255cbfd4d8"
   }
  }
 },
 "nbformat": 4,
 "nbformat_minor": 2
}
