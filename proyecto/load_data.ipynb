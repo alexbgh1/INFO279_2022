{
 "cells": [
  {
   "cell_type": "markdown",
   "metadata": {},
   "source": [
    "# Proyecto (obtención dataset)"
   ]
  },
  {
   "cell_type": "code",
   "execution_count": 47,
   "metadata": {},
   "outputs": [],
   "source": [
    "# --- General ---\n",
    "import os\n",
    "from datetime import datetime\n",
    "\n",
    "# --- Data ---\n",
    "import pandas as pd\n",
    "from pandasql import sqldf\n",
    "import numpy as np\n",
    "\n",
    "# --- Conexión ---\n",
    "import elasticsearch\n",
    "\n",
    "# --- Procesamiento lenguaje: spacy ---\n",
    "import spacy\n",
    "# from spacy.matcher import Matcher\n",
    "from spacy.matcher import PhraseMatcher\n",
    "\n",
    "# --- Procesamiento lenguaje: gensim ---\n",
    "# import gensim\n",
    "# import gensim.corpora as corpora\n",
    "# from gensim.utils import simple_preprocess\n",
    "# from gensim.models import CoherenceModel\n",
    "\n",
    "# --- Visualización ---\n",
    "# import pyLDAvis\n",
    "# import pyLDAvis.gensim_models  # don't skip this\n",
    "# import matplotlib.pyplot as plt\n",
    "# import geopandas as gpd\n",
    "# %matplotlib inline\n",
    "\n",
    "# ==============================================================================\n",
    "\n",
    "# --- Configuración ---\n",
    "# User password\n",
    "password = os.environ.get('SOPHIA2')\n",
    "\n",
    "# geoData\n",
    "comunas = ['Ancud', 'Calbuco', 'Castro', 'Chaitén', 'Chonchi', 'Cochamó', 'Curaco de Vélez', 'Dalcahue', 'Fresia', 'Frutillar', 'Futaleufú', 'Hualaihué', 'Llanquihue', 'Los Muermos', 'Maullín', 'Osorno', 'Palena', 'Puerto Montt', 'Puerto Octay', 'Puerto Varas', 'Puqueldón', 'Purranque', 'Puyehue', 'Queilén', 'Quellón', 'Quemchi', 'Quinchao', 'Río Negro', 'San Juan de la Costa', 'San Pablo']\n",
    "\n",
    "# --- Funciones ---\n",
    "# Cargar paquete de español mediano\n",
    "nlp = spacy.load(\"es_core_news_md\")"
   ]
  },
  {
   "cell_type": "markdown",
   "metadata": {},
   "source": [
    "## Inicialización peticiones Sophia2"
   ]
  },
  {
   "cell_type": "code",
   "execution_count": 48,
   "metadata": {},
   "outputs": [],
   "source": [
    "# --- Nombre archivo ---\n",
    "nombre_archivo = 'data_Region_X'\n",
    "\n",
    "# --- Parameters queries ---\n",
    "# País\n",
    "country=\"chile\"\n",
    "# Fecha\n",
    "from_=\"2022-01-01\"\n",
    "to_=\"2022-01-07\"\n",
    "# Medios de prensa\n",
    "media_outlets=[\"elllanquihue\",\"elaustral\",\"laestrelladechiloe\",\"elheraldoaustral\",\"radiosago\",\n",
    "               \"elrepuertero\",\"elvacanudo\",\"elhuemul\",\"seminariolocal\",\"elquellonino\",\"elinsular\",\n",
    "               \"radiopudeto\",\"radioacogida\",\"elcalbucano\",\"segundos33\",\n",
    "               \"prensadelestuario\",\"fresiaahora\",\"soychiloe\"]\n",
    "# Búsqueda de palabra clave\n",
    "# keyword=\"covid\"\n",
    "# simple_keyword=True\n",
    "\n",
    "# --- Data Connection ---\n",
    "IP = \"search.sophia2.org\"\n",
    "PORT = 9200\n",
    "USER= \"elastic\"\n",
    "PASS= password\n",
    "\n",
    "# --- Connection ---\n",
    "es = elasticsearch.Elasticsearch(\n",
    "    IP,\n",
    "    http_auth=(USER, PASS)\n",
    ")\n",
    "\n",
    "# --- Queries ---\n",
    "query = { \n",
    "    \"bool\": { \n",
    "    \"filter\": [\n",
    "        {\"range\": {\n",
    "      \"date\": {\n",
    "        \"gte\": from_,\n",
    "        \"lt\": to_\n",
    "      }\n",
    "      }},\n",
    "\n",
    "        { \"term\":  { \"country\": country }},\n",
    "        { \"terms\":  { \"media_outlet\": media_outlets }} \n",
    "    ]\n",
    "    }  \n",
    "}"
   ]
  },
  {
   "cell_type": "code",
   "execution_count": 49,
   "metadata": {},
   "outputs": [
    {
     "name": "stdout",
     "output_type": "stream",
     "text": [
      "Son 248 noticias encontradas...\n"
     ]
    }
   ],
   "source": [
    "# --- Confirmación de conexión ---\n",
    "res = es.search(index=\"news\", query=query, size=10000)\n",
    "print(\"Son %d noticias encontradas...\" % res['hits']['total']['value'])"
   ]
  },
  {
   "cell_type": "markdown",
   "metadata": {},
   "source": [
    "## Creación dataframe"
   ]
  },
  {
   "cell_type": "code",
   "execution_count": 50,
   "metadata": {},
   "outputs": [],
   "source": [
    "# --- Columnas Dataframe ---\n",
    "data = {'id_news':[],'country':[],'media_outlet':[],'url':[],'title':[],'text':[],'date':[]}\n",
    "df = pd.DataFrame(data)  \n",
    "\n",
    "# --- Información Dataframe---\n",
    "for hit in res['hits']['hits']:\n",
    "\n",
    "    id_news = hit['_source']['id_news']\n",
    "    country = hit['_source']['country']\n",
    "    media_outlet = hit['_source']['media_outlet']\n",
    "    url = hit['_source']['url']\n",
    "    title = hit['_source']['title']\n",
    "    text = hit['_source']['text']\n",
    "    date = hit['_source']['date']\n",
    "    \n",
    "    new_row = {'id_news':int(id_news), 'country':country, 'media_outlet':media_outlet, 'url':url, 'title':title, 'text':text, 'date':date}\n",
    "    df = pd.concat([df, pd.DataFrame.from_records([new_row])])\n",
    "    # df = df.append(new_row, ignore_index=True)\n",
    "\n",
    "\n",
    "# Reseteamos el índice del dataframe para que sea secuencial, sino serían puros 0.\n",
    "df = df.reset_index(drop=True)\n",
    "\n",
    "# --- Elimina resiuduos ---\n",
    "# Elimina duplicados\n",
    "df = df.drop_duplicates(subset='url', keep='first')\n",
    "# Elimina textos vacíos o con muy poco contenido\n",
    "df = df[df['text'].str.len() > 50]"
   ]
  },
  {
   "cell_type": "code",
   "execution_count": 51,
   "metadata": {},
   "outputs": [
    {
     "name": "stdout",
     "output_type": "stream",
     "text": [
      "Son 241 noticias encontradas que se utilizarán\n"
     ]
    },
    {
     "data": {
      "text/html": [
       "<div>\n",
       "<style scoped>\n",
       "    .dataframe tbody tr th:only-of-type {\n",
       "        vertical-align: middle;\n",
       "    }\n",
       "\n",
       "    .dataframe tbody tr th {\n",
       "        vertical-align: top;\n",
       "    }\n",
       "\n",
       "    .dataframe thead th {\n",
       "        text-align: right;\n",
       "    }\n",
       "</style>\n",
       "<table border=\"1\" class=\"dataframe\">\n",
       "  <thead>\n",
       "    <tr style=\"text-align: right;\">\n",
       "      <th></th>\n",
       "      <th>id_news</th>\n",
       "      <th>country</th>\n",
       "      <th>media_outlet</th>\n",
       "      <th>url</th>\n",
       "      <th>title</th>\n",
       "      <th>text</th>\n",
       "      <th>date</th>\n",
       "    </tr>\n",
       "  </thead>\n",
       "  <tbody>\n",
       "    <tr>\n",
       "      <th>0</th>\n",
       "      <td>21908558.0</td>\n",
       "      <td>chile</td>\n",
       "      <td>radiosago</td>\n",
       "      <td>https://www.radiosago.cl/140-contagios-de-covi...</td>\n",
       "      <td>140 contagios de covid-19 se reportaron este j...</td>\n",
       "      <td>Así lo confirmó la autoridad sanitaria detalla...</td>\n",
       "      <td>2022-01-06</td>\n",
       "    </tr>\n",
       "    <tr>\n",
       "      <th>1</th>\n",
       "      <td>21908579.0</td>\n",
       "      <td>chile</td>\n",
       "      <td>radiosago</td>\n",
       "      <td>https://www.radiosago.cl/por-tormentas-electri...</td>\n",
       "      <td>Por tormentas eléctricas declaran alerta en cu...</td>\n",
       "      <td>Una Alerta Temprana Preventiva por tormentas e...</td>\n",
       "      <td>2022-01-05</td>\n",
       "    </tr>\n",
       "    <tr>\n",
       "      <th>2</th>\n",
       "      <td>21909623.0</td>\n",
       "      <td>chile</td>\n",
       "      <td>radiosago</td>\n",
       "      <td>https://www.radiosago.cl/gobernador-vallespin-...</td>\n",
       "      <td>Gobernador Vallespin llamó a construir entre t...</td>\n",
       "      <td>Patricio Vallespin, gobernador regional de Los...</td>\n",
       "      <td>2022-01-01</td>\n",
       "    </tr>\n",
       "    <tr>\n",
       "      <th>3</th>\n",
       "      <td>21909637.0</td>\n",
       "      <td>chile</td>\n",
       "      <td>radiosago</td>\n",
       "      <td>https://www.radiosago.cl/cuatro-viviendas-fuer...</td>\n",
       "      <td>Cuatro viviendas fueron afectadas por un incen...</td>\n",
       "      <td>Un incendio se desató en la madrugada de este ...</td>\n",
       "      <td>2022-01-01</td>\n",
       "    </tr>\n",
       "    <tr>\n",
       "      <th>4</th>\n",
       "      <td>21909643.0</td>\n",
       "      <td>chile</td>\n",
       "      <td>radiosago</td>\n",
       "      <td>https://www.radiosago.cl/un-muerto-deja-accide...</td>\n",
       "      <td>Un muerto deja accidente la madrugada de este ...</td>\n",
       "      <td>Un hombre falleció luego que el vehículo que c...</td>\n",
       "      <td>2022-01-01</td>\n",
       "    </tr>\n",
       "  </tbody>\n",
       "</table>\n",
       "</div>"
      ],
      "text/plain": [
       "      id_news country media_outlet  \\\n",
       "0  21908558.0   chile    radiosago   \n",
       "1  21908579.0   chile    radiosago   \n",
       "2  21909623.0   chile    radiosago   \n",
       "3  21909637.0   chile    radiosago   \n",
       "4  21909643.0   chile    radiosago   \n",
       "\n",
       "                                                 url  \\\n",
       "0  https://www.radiosago.cl/140-contagios-de-covi...   \n",
       "1  https://www.radiosago.cl/por-tormentas-electri...   \n",
       "2  https://www.radiosago.cl/gobernador-vallespin-...   \n",
       "3  https://www.radiosago.cl/cuatro-viviendas-fuer...   \n",
       "4  https://www.radiosago.cl/un-muerto-deja-accide...   \n",
       "\n",
       "                                               title  \\\n",
       "0  140 contagios de covid-19 se reportaron este j...   \n",
       "1  Por tormentas eléctricas declaran alerta en cu...   \n",
       "2  Gobernador Vallespin llamó a construir entre t...   \n",
       "3  Cuatro viviendas fueron afectadas por un incen...   \n",
       "4  Un muerto deja accidente la madrugada de este ...   \n",
       "\n",
       "                                                text        date  \n",
       "0  Así lo confirmó la autoridad sanitaria detalla...  2022-01-06  \n",
       "1  Una Alerta Temprana Preventiva por tormentas e...  2022-01-05  \n",
       "2  Patricio Vallespin, gobernador regional de Los...  2022-01-01  \n",
       "3  Un incendio se desató en la madrugada de este ...  2022-01-01  \n",
       "4  Un hombre falleció luego que el vehículo que c...  2022-01-01  "
      ]
     },
     "execution_count": 51,
     "metadata": {},
     "output_type": "execute_result"
    }
   ],
   "source": [
    "print(f\"Son {len(df)} noticias encontradas que se utilizarán\")\n",
    "df.head()"
   ]
  },
  {
   "cell_type": "markdown",
   "metadata": {},
   "source": [
    "## Añadiremos las comunas mencionadas en las noticias"
   ]
  },
  {
   "cell_type": "code",
   "execution_count": 52,
   "metadata": {},
   "outputs": [],
   "source": [
    "# --- Creamos Matcher utilizando nlp ( natural language processing ) ---\n",
    "matcher_comunas = PhraseMatcher(nlp.vocab)\n",
    "for comuna in comunas:\n",
    "    matcher_comunas.add(comuna, [nlp(comuna)])\n",
    "\n",
    "# --- Función para buscar comunas ---\n",
    "for index,row in df.iterrows():\n",
    "    txt = row[\"text\"]\n",
    "    \n",
    "    try:\n",
    "        # -- Procesamos el texto --\n",
    "        doc = nlp(txt)\n",
    "        matches_comunas = matcher_comunas(doc)\n",
    "\n",
    "        # -- Creamos lista de comunas --\n",
    "        for match_id, start, end in matches_comunas:\n",
    "            span = doc[start:end]  # The matched span\n",
    "\n",
    "    except:\n",
    "        pass"
   ]
  },
  {
   "cell_type": "code",
   "execution_count": 53,
   "metadata": {},
   "outputs": [],
   "source": [
    "# --- Reemplazamos los espacios por guiones bajos, para cada Comuna ---\n",
    "# ejemplo: \"San Juan de la Costa\" -> \"San_Juan_de_la_Costa\"\n",
    "df_comunas = df\n",
    "for comuna in comunas:\n",
    "    df_comunas.insert(7,comuna.replace(\" \",\"_\"),0)\n",
    "\n",
    "# --- Insertamos las comunas al dataframe (df) ---\n",
    "for index,row in df_comunas.iterrows():\n",
    "    txt = row[\"text\"]\n",
    "    \n",
    "    try:\n",
    "    \n",
    "        doc = nlp(txt)\n",
    "        matches_comunas = matcher_comunas(doc)\n",
    "\n",
    "        for match_id, start, end in matches_comunas:\n",
    "            span = doc[start:end]  # The matched span\n",
    "            df_comunas.at[index,span.text.replace(\" \",\"_\")]=1\n",
    "    except Exception as e:\n",
    "        print(e)\n",
    "        pass"
   ]
  },
  {
   "cell_type": "markdown",
   "metadata": {},
   "source": [
    "## Guardamos la información CSV"
   ]
  },
  {
   "cell_type": "code",
   "execution_count": 54,
   "metadata": {},
   "outputs": [
    {
     "name": "stdout",
     "output_type": "stream",
     "text": [
      "El archivo se llama:\n",
      "data_Region_X.csv\n"
     ]
    }
   ],
   "source": [
    "# --- Info Archivo ---\n",
    "archivo= nombre_archivo+\"_\"+from_+\"_\"+to_+\".csv\"\n",
    "print(\"El archivo se llama:\")\n",
    "print(archivo)\n",
    "\n",
    "# --- Guarda archivo ---\n",
    "df_comunas.to_csv(\"./data/\"+archivo)"
   ]
  },
  {
   "cell_type": "markdown",
   "metadata": {},
   "source": [
    "###  Con esto tenemos toda la información necesaria para cargar los datos y utilizarlos."
   ]
  }
 ],
 "metadata": {
  "kernelspec": {
   "display_name": "Python 3.8.10 ('myenv')",
   "language": "python",
   "name": "python3"
  },
  "language_info": {
   "codemirror_mode": {
    "name": "ipython",
    "version": 3
   },
   "file_extension": ".py",
   "mimetype": "text/x-python",
   "name": "python",
   "nbconvert_exporter": "python",
   "pygments_lexer": "ipython3",
   "version": "3.8.10"
  },
  "orig_nbformat": 4,
  "vscode": {
   "interpreter": {
    "hash": "9dff3029cfd092013fe8f81aa1ceb1e4b66244b0efa81f52c02e02255cbfd4d8"
   }
  }
 },
 "nbformat": 4,
 "nbformat_minor": 2
}
