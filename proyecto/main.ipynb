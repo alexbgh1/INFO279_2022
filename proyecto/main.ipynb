{
 "cells": [
  {
   "cell_type": "markdown",
   "metadata": {},
   "source": [
    "# Proyecto "
   ]
  },
  {
   "cell_type": "code",
   "execution_count": 1,
   "metadata": {},
   "outputs": [
    {
     "name": "stdout",
     "output_type": "stream",
     "text": [
      "dummy_elastic\n"
     ]
    }
   ],
   "source": [
    "# create local variable for the path\n",
    "import os\n",
    "passw = os.environ.get('SOPHIA2')\n"
   ]
  }
 ],
 "metadata": {
  "kernelspec": {
   "display_name": "Python 3.8.10 ('myenv')",
   "language": "python",
   "name": "python3"
  },
  "language_info": {
   "codemirror_mode": {
    "name": "ipython",
    "version": 3
   },
   "file_extension": ".py",
   "mimetype": "text/x-python",
   "name": "python",
   "nbconvert_exporter": "python",
   "pygments_lexer": "ipython3",
   "version": "3.8.10"
  },
  "orig_nbformat": 4,
  "vscode": {
   "interpreter": {
    "hash": "9dff3029cfd092013fe8f81aa1ceb1e4b66244b0efa81f52c02e02255cbfd4d8"
   }
  }
 },
 "nbformat": 4,
 "nbformat_minor": 2
}
