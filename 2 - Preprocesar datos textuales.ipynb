{
 "cells": [
  {
   "cell_type": "markdown",
   "id": "76fc153f",
   "metadata": {},
   "source": [
    "# Preprocesar datos textuales"
   ]
  },
  {
   "cell_type": "markdown",
   "id": "106117bd",
   "metadata": {},
   "source": [
    "Este notebook muestra métodos estándares de preprocesamiento de datos textuales a través de la librería spacy."
   ]
  },
  {
   "cell_type": "markdown",
   "id": "ee66c815",
   "metadata": {},
   "source": [
    "## 1. Cargar nuestro dataset en dataframe Pandas"
   ]
  },
  {
   "cell_type": "code",
   "execution_count": 1,
   "id": "20981c4a",
   "metadata": {},
   "outputs": [
    {
     "data": {
      "text/html": [
       "<div>\n",
       "<style scoped>\n",
       "    .dataframe tbody tr th:only-of-type {\n",
       "        vertical-align: middle;\n",
       "    }\n",
       "\n",
       "    .dataframe tbody tr th {\n",
       "        vertical-align: top;\n",
       "    }\n",
       "\n",
       "    .dataframe thead th {\n",
       "        text-align: right;\n",
       "    }\n",
       "</style>\n",
       "<table border=\"1\" class=\"dataframe\">\n",
       "  <thead>\n",
       "    <tr style=\"text-align: right;\">\n",
       "      <th></th>\n",
       "      <th>id_news</th>\n",
       "      <th>country</th>\n",
       "      <th>media_outlet</th>\n",
       "      <th>url</th>\n",
       "      <th>title</th>\n",
       "      <th>text</th>\n",
       "      <th>date</th>\n",
       "      <th>search</th>\n",
       "    </tr>\n",
       "  </thead>\n",
       "  <tbody>\n",
       "    <tr>\n",
       "      <th>0</th>\n",
       "      <td>22000913.0</td>\n",
       "      <td>chile</td>\n",
       "      <td>elciudadano</td>\n",
       "      <td>https://www.elciudadano.com/actualidad/disponi...</td>\n",
       "      <td>Disponible online importante catálogo con semi...</td>\n",
       "      <td>La Fundación BIODIVERSIDAD ALIMENTARIA, señala...</td>\n",
       "      <td>2021-09-16</td>\n",
       "      <td>biodiversidad</td>\n",
       "    </tr>\n",
       "    <tr>\n",
       "      <th>1</th>\n",
       "      <td>6414845.0</td>\n",
       "      <td>chile</td>\n",
       "      <td>latercera</td>\n",
       "      <td>https://www.latercera.com/que-pasa/noticia/no-...</td>\n",
       "      <td>\"No es suficiente\": Informe reconoce que Chile...</td>\n",
       "      <td>\"Si el 2019 fue el año del cambio climático, s...</td>\n",
       "      <td>2020-01-20</td>\n",
       "      <td>biodiversidad</td>\n",
       "    </tr>\n",
       "    <tr>\n",
       "      <th>2</th>\n",
       "      <td>15637554.0</td>\n",
       "      <td>chile</td>\n",
       "      <td>emol</td>\n",
       "      <td>https://www.emol.com/noticias/Tecnologia/2016/...</td>\n",
       "      <td>Caída de la biodiversidad en el planeta supera...</td>\n",
       "      <td>MADRID.- La biodiversidad del planeta ha caído...</td>\n",
       "      <td>2016-07-14</td>\n",
       "      <td>biodiversidad</td>\n",
       "    </tr>\n",
       "    <tr>\n",
       "      <th>3</th>\n",
       "      <td>5157141.0</td>\n",
       "      <td>chile</td>\n",
       "      <td>elciudadano</td>\n",
       "      <td>https://www.elciudadano.com/chile/congreso-ava...</td>\n",
       "      <td>Congreso: Avanza votación de proyecto que crea...</td>\n",
       "      <td>La Comisión de Medio Ambiente de la Cámara de ...</td>\n",
       "      <td>2020-11-12</td>\n",
       "      <td>biodiversidad</td>\n",
       "    </tr>\n",
       "    <tr>\n",
       "      <th>4</th>\n",
       "      <td>21494220.0</td>\n",
       "      <td>chile</td>\n",
       "      <td>elrepuertero</td>\n",
       "      <td>https://www.elrepuertero.cl/noticia/sociedad/e...</td>\n",
       "      <td>En Santo Tomás abordarán la temática del manej...</td>\n",
       "      <td>Porque cada vez se hace más necesario analizar...</td>\n",
       "      <td>2017-11-20</td>\n",
       "      <td>biodiversidad</td>\n",
       "    </tr>\n",
       "    <tr>\n",
       "      <th>...</th>\n",
       "      <td>...</td>\n",
       "      <td>...</td>\n",
       "      <td>...</td>\n",
       "      <td>...</td>\n",
       "      <td>...</td>\n",
       "      <td>...</td>\n",
       "      <td>...</td>\n",
       "      <td>...</td>\n",
       "    </tr>\n",
       "    <tr>\n",
       "      <th>4075</th>\n",
       "      <td>4946124.0</td>\n",
       "      <td>chile</td>\n",
       "      <td>elciudadano</td>\n",
       "      <td>https://www.elciudadano.com/politica/debate-pr...</td>\n",
       "      <td>Debate Presidencial en Chile, ¿Qué intereses r...</td>\n",
       "      <td>El Ciudadano entrega aquí las voces, los argu...</td>\n",
       "      <td>2013-06-24</td>\n",
       "      <td>biodiversidad</td>\n",
       "    </tr>\n",
       "    <tr>\n",
       "      <th>4076</th>\n",
       "      <td>5006851.0</td>\n",
       "      <td>chile</td>\n",
       "      <td>elciudadano</td>\n",
       "      <td>https://www.elciudadano.com/medio-ambiente/la-...</td>\n",
       "      <td>La renovación de la crítica al desarrollo y el...</td>\n",
       "      <td>De a poco el Buen Vivir ha ido permeando las ...</td>\n",
       "      <td>2012-03-27</td>\n",
       "      <td>biodiversidad</td>\n",
       "    </tr>\n",
       "    <tr>\n",
       "      <th>4077</th>\n",
       "      <td>5703004.0</td>\n",
       "      <td>chile</td>\n",
       "      <td>elciudadano</td>\n",
       "      <td>https://www.elciudadano.com/organizacion-socia...</td>\n",
       "      <td>Poderes populares en América Latina: pistas es...</td>\n",
       "      <td>Compartimos la Introducción del libro colect...</td>\n",
       "      <td>2013-04-13</td>\n",
       "      <td>biodiversidad</td>\n",
       "    </tr>\n",
       "    <tr>\n",
       "      <th>4078</th>\n",
       "      <td>5654115.0</td>\n",
       "      <td>chile</td>\n",
       "      <td>ahoranoticiasmega</td>\n",
       "      <td>https://www.meganoticias.cl/nacional/226074-cu...</td>\n",
       "      <td>Cuenta Pública: Discurso completo del Presiden...</td>\n",
       "      <td>MENSAJE PRESIDENCIAL CUENTA PÚBLICA 01/JUNIO/2...</td>\n",
       "      <td>2018-06-01</td>\n",
       "      <td>biodiversidad</td>\n",
       "    </tr>\n",
       "    <tr>\n",
       "      <th>4079</th>\n",
       "      <td>21985158.0</td>\n",
       "      <td>chile</td>\n",
       "      <td>radiosago</td>\n",
       "      <td>https://www.radiosago.cl/reviva-la-primera-cue...</td>\n",
       "      <td>Reviva la Primera Cuenta Pública del President...</td>\n",
       "      <td>Honorables miembros del Congreso Nacional, Qu...</td>\n",
       "      <td>2018-06-01</td>\n",
       "      <td>biodiversidad</td>\n",
       "    </tr>\n",
       "  </tbody>\n",
       "</table>\n",
       "<p>4080 rows × 8 columns</p>\n",
       "</div>"
      ],
      "text/plain": [
       "         id_news country       media_outlet  \\\n",
       "0     22000913.0   chile        elciudadano   \n",
       "1      6414845.0   chile          latercera   \n",
       "2     15637554.0   chile               emol   \n",
       "3      5157141.0   chile        elciudadano   \n",
       "4     21494220.0   chile       elrepuertero   \n",
       "...          ...     ...                ...   \n",
       "4075   4946124.0   chile        elciudadano   \n",
       "4076   5006851.0   chile        elciudadano   \n",
       "4077   5703004.0   chile        elciudadano   \n",
       "4078   5654115.0   chile  ahoranoticiasmega   \n",
       "4079  21985158.0   chile          radiosago   \n",
       "\n",
       "                                                    url  \\\n",
       "0     https://www.elciudadano.com/actualidad/disponi...   \n",
       "1     https://www.latercera.com/que-pasa/noticia/no-...   \n",
       "2     https://www.emol.com/noticias/Tecnologia/2016/...   \n",
       "3     https://www.elciudadano.com/chile/congreso-ava...   \n",
       "4     https://www.elrepuertero.cl/noticia/sociedad/e...   \n",
       "...                                                 ...   \n",
       "4075  https://www.elciudadano.com/politica/debate-pr...   \n",
       "4076  https://www.elciudadano.com/medio-ambiente/la-...   \n",
       "4077  https://www.elciudadano.com/organizacion-socia...   \n",
       "4078  https://www.meganoticias.cl/nacional/226074-cu...   \n",
       "4079  https://www.radiosago.cl/reviva-la-primera-cue...   \n",
       "\n",
       "                                                  title  \\\n",
       "0     Disponible online importante catálogo con semi...   \n",
       "1     \"No es suficiente\": Informe reconoce que Chile...   \n",
       "2     Caída de la biodiversidad en el planeta supera...   \n",
       "3     Congreso: Avanza votación de proyecto que crea...   \n",
       "4     En Santo Tomás abordarán la temática del manej...   \n",
       "...                                                 ...   \n",
       "4075  Debate Presidencial en Chile, ¿Qué intereses r...   \n",
       "4076  La renovación de la crítica al desarrollo y el...   \n",
       "4077  Poderes populares en América Latina: pistas es...   \n",
       "4078  Cuenta Pública: Discurso completo del Presiden...   \n",
       "4079  Reviva la Primera Cuenta Pública del President...   \n",
       "\n",
       "                                                   text        date  \\\n",
       "0     La Fundación BIODIVERSIDAD ALIMENTARIA, señala...  2021-09-16   \n",
       "1     \"Si el 2019 fue el año del cambio climático, s...  2020-01-20   \n",
       "2     MADRID.- La biodiversidad del planeta ha caído...  2016-07-14   \n",
       "3     La Comisión de Medio Ambiente de la Cámara de ...  2020-11-12   \n",
       "4     Porque cada vez se hace más necesario analizar...  2017-11-20   \n",
       "...                                                 ...         ...   \n",
       "4075   El Ciudadano entrega aquí las voces, los argu...  2013-06-24   \n",
       "4076   De a poco el Buen Vivir ha ido permeando las ...  2012-03-27   \n",
       "4077    Compartimos la Introducción del libro colect...  2013-04-13   \n",
       "4078  MENSAJE PRESIDENCIAL CUENTA PÚBLICA 01/JUNIO/2...  2018-06-01   \n",
       "4079   Honorables miembros del Congreso Nacional, Qu...  2018-06-01   \n",
       "\n",
       "             search  \n",
       "0     biodiversidad  \n",
       "1     biodiversidad  \n",
       "2     biodiversidad  \n",
       "3     biodiversidad  \n",
       "4     biodiversidad  \n",
       "...             ...  \n",
       "4075  biodiversidad  \n",
       "4076  biodiversidad  \n",
       "4077  biodiversidad  \n",
       "4078  biodiversidad  \n",
       "4079  biodiversidad  \n",
       "\n",
       "[4080 rows x 8 columns]"
      ]
     },
     "execution_count": 1,
     "metadata": {},
     "output_type": "execute_result"
    }
   ],
   "source": [
    "import pandas\n",
    "\n",
    "archivo = \"biodiversidad_chile_2010-01-01_2021-12-31.csv\"\n",
    "\n",
    "dataset = pandas.read_csv(archivo)\n",
    "dataset.drop('Unnamed: 0', axis=1, inplace=True)\n",
    "dataset"
   ]
  },
  {
   "cell_type": "code",
   "execution_count": 2,
   "id": "c338c749",
   "metadata": {},
   "outputs": [
    {
     "data": {
      "text/plain": [
       "'En Santo Tomás abordarán la temática del manejo y la conservación ambiental'"
      ]
     },
     "execution_count": 2,
     "metadata": {},
     "output_type": "execute_result"
    }
   ],
   "source": [
    "dataset[\"title\"][4]"
   ]
  },
  {
   "cell_type": "code",
   "execution_count": 3,
   "id": "d6c1e5c8",
   "metadata": {},
   "outputs": [
    {
     "data": {
      "text/plain": [
       "'Cada vez es más necesaria cualquier acción que contribuya a mejorar las prácticas en el jardín que aumentan o protegen la biodiversidad. La Corporación Jardín Botánico Chagual y CAPES UC son muy conscientes de ello y han desarrollado un curso sobre esta materia. El curso introductorio\\xa0Jardines por la Biodiversidad\\xa0es una primera aproximación a conceptos fundamentales y prácticas de manejo sustentable para fomentar la biodiversidad a nuestro alrededor, promoviendo refugios seguros para la flora y fauna local en las ciudades donde residimos, en un contexto de crisis del sistema en su conjunto. Si bien los contenidos a tratar en general corresponden a principios posibles de aplicar a nivel global, en esta primera versión el curso se enfocará en la zona central de Chile y su biodiversidad asociada. Así también, las salidas a terreno corresponden a lugares dentro de la ciudad de Santiago El curso cumple los siguientes objetivos: 1. Promover la biodiversidad y fomentar el manejo sustentable en jardines privados, antejardines y balcones. 2.Transformar espacios urbanos en hábitats seguros para la flora y fauna local, construyendo en conjunto pequeños parches verdes para sumar a una red mayor en la ciudad. 3.Formar embajadores por la biodiversidad urbana, con la misión de ser un factor de cambio ante lacrisis climática y ambiental Esta primera edición inició el pasado miércoles 20 de octubre y culminará este sábado 11 de diciembre y abarcó 8 clases teóricas online a través de plataforma Zoom. Así como 2 clases prácticas con salida a terreno a Jardines al interior de PARQUEMET. Entre los temas abordados figuran: -Biodiversidad en las ciudades: ecología urbana, cambio climático en Chile, conservación y contribución de los jardines privados. -Micro y mesofauna en el suelo, su fertilidad y rol en el cuidado del agua. -Flora y vegetación nativa de Chile central de clima mediterráneo. -“Malezas” o plantas acompañantes con múltiples posibilidades. -Cultivo de plantas comestibles en el jardín. -Elaboración de biofertilizantes, biopreparados, lombricultura y compostaje -Insectos benéficos y patógenos. -Avifauna. Para obtener mayor información sobre el curso: [email\\xa0protected]@corporacionchagual (Instagram y Facebook)'"
      ]
     },
     "execution_count": 3,
     "metadata": {},
     "output_type": "execute_result"
    }
   ],
   "source": [
    "dataset[\"text\"][5]"
   ]
  },
  {
   "cell_type": "markdown",
   "id": "3a4a4075",
   "metadata": {},
   "source": [
    "## 2. Librería NLP: spaCy (https://spacy.io/)"
   ]
  },
  {
   "cell_type": "code",
   "execution_count": 4,
   "id": "eff27477",
   "metadata": {},
   "outputs": [
    {
     "name": "stdout",
     "output_type": "stream",
     "text": [
      "/home/mvernier/.local/lib/python3.8/site-packages/torch/cuda/__init__.py:52: UserWarning: CUDA initialization: CUDA unknown error - this may be due to an incorrectly set up environment, e.g. changing env variable CUDA_VISIBLE_DEVICES after program start. Setting the available devices to be zero. (Triggered internally at  ../c10/cuda/CUDAFunctions.cpp:115.)\n",
      "  return torch._C._cuda_getDeviceCount() > 0\n",
      "Requirement already satisfied: es-core-news-md==3.2.0 from https://github.com/explosion/spacy-models/releases/download/es_core_news_md-3.2.0/es_core_news_md-3.2.0-py3-none-any.whl#egg=es_core_news_md==3.2.0 in /home/mvernier/.local/lib/python3.8/site-packages (3.2.0)\n",
      "Requirement already satisfied: spacy<3.3.0,>=3.2.0 in /home/mvernier/.local/lib/python3.8/site-packages (from es-core-news-md==3.2.0) (3.2.4)\n",
      "Requirement already satisfied: numpy>=1.15.0 in /home/mvernier/.local/lib/python3.8/site-packages (from spacy<3.3.0,>=3.2.0->es-core-news-md==3.2.0) (1.22.3)\n",
      "Requirement already satisfied: wasabi<1.1.0,>=0.8.1 in /home/mvernier/.local/lib/python3.8/site-packages (from spacy<3.3.0,>=3.2.0->es-core-news-md==3.2.0) (0.8.2)\n",
      "Requirement already satisfied: requests<3.0.0,>=2.13.0 in /home/mvernier/.local/lib/python3.8/site-packages (from spacy<3.3.0,>=3.2.0->es-core-news-md==3.2.0) (2.26.0)\n",
      "Requirement already satisfied: cymem<2.1.0,>=2.0.2 in /home/mvernier/.local/lib/python3.8/site-packages (from spacy<3.3.0,>=3.2.0->es-core-news-md==3.2.0) (2.0.5)\n",
      "Requirement already satisfied: catalogue<2.1.0,>=2.0.6 in /home/mvernier/.local/lib/python3.8/site-packages (from spacy<3.3.0,>=3.2.0->es-core-news-md==3.2.0) (2.0.6)\n",
      "Requirement already satisfied: pydantic!=1.8,!=1.8.1,<1.9.0,>=1.7.4 in /home/mvernier/.local/lib/python3.8/site-packages (from spacy<3.3.0,>=3.2.0->es-core-news-md==3.2.0) (1.8.2)\n",
      "Requirement already satisfied: tqdm<5.0.0,>=4.38.0 in /home/mvernier/.local/lib/python3.8/site-packages (from spacy<3.3.0,>=3.2.0->es-core-news-md==3.2.0) (4.63.1)\n",
      "Requirement already satisfied: spacy-loggers<2.0.0,>=1.0.0 in /home/mvernier/.local/lib/python3.8/site-packages (from spacy<3.3.0,>=3.2.0->es-core-news-md==3.2.0) (1.0.2)\n",
      "Requirement already satisfied: thinc<8.1.0,>=8.0.12 in /home/mvernier/.local/lib/python3.8/site-packages (from spacy<3.3.0,>=3.2.0->es-core-news-md==3.2.0) (8.0.13)\n",
      "Requirement already satisfied: murmurhash<1.1.0,>=0.28.0 in /home/mvernier/.local/lib/python3.8/site-packages (from spacy<3.3.0,>=3.2.0->es-core-news-md==3.2.0) (1.0.5)\n",
      "Requirement already satisfied: srsly<3.0.0,>=2.4.1 in /home/mvernier/.local/lib/python3.8/site-packages (from spacy<3.3.0,>=3.2.0->es-core-news-md==3.2.0) (2.4.2)\n",
      "Requirement already satisfied: preshed<3.1.0,>=3.0.2 in /home/mvernier/.local/lib/python3.8/site-packages (from spacy<3.3.0,>=3.2.0->es-core-news-md==3.2.0) (3.0.5)\n",
      "Requirement already satisfied: click<8.1.0 in /home/mvernier/.local/lib/python3.8/site-packages (from spacy<3.3.0,>=3.2.0->es-core-news-md==3.2.0) (7.1.2)\n",
      "Requirement already satisfied: typer<0.5.0,>=0.3.0 in /home/mvernier/.local/lib/python3.8/site-packages (from spacy<3.3.0,>=3.2.0->es-core-news-md==3.2.0) (0.3.2)\n",
      "Requirement already satisfied: spacy-legacy<3.1.0,>=3.0.8 in /home/mvernier/.local/lib/python3.8/site-packages (from spacy<3.3.0,>=3.2.0->es-core-news-md==3.2.0) (3.0.8)\n",
      "Requirement already satisfied: pathy>=0.3.5 in /home/mvernier/.local/lib/python3.8/site-packages (from spacy<3.3.0,>=3.2.0->es-core-news-md==3.2.0) (0.5.2)\n",
      "Requirement already satisfied: blis<0.8.0,>=0.4.0 in /home/mvernier/.local/lib/python3.8/site-packages (from spacy<3.3.0,>=3.2.0->es-core-news-md==3.2.0) (0.7.4)\n",
      "Requirement already satisfied: setuptools in /usr/lib/python3/dist-packages (from spacy<3.3.0,>=3.2.0->es-core-news-md==3.2.0) (45.2.0)\n",
      "Requirement already satisfied: jinja2 in /home/mvernier/.local/lib/python3.8/site-packages (from spacy<3.3.0,>=3.2.0->es-core-news-md==3.2.0) (3.0.1)\n",
      "Requirement already satisfied: langcodes<4.0.0,>=3.2.0 in /home/mvernier/.local/lib/python3.8/site-packages (from spacy<3.3.0,>=3.2.0->es-core-news-md==3.2.0) (3.3.0)\n",
      "Requirement already satisfied: packaging>=20.0 in /home/mvernier/.local/lib/python3.8/site-packages (from spacy<3.3.0,>=3.2.0->es-core-news-md==3.2.0) (20.9)\n",
      "Requirement already satisfied: certifi>=2017.4.17 in /usr/lib/python3/dist-packages (from requests<3.0.0,>=2.13.0->spacy<3.3.0,>=3.2.0->es-core-news-md==3.2.0) (2019.11.28)\n",
      "Requirement already satisfied: urllib3<1.27,>=1.21.1 in /usr/lib/python3/dist-packages (from requests<3.0.0,>=2.13.0->spacy<3.3.0,>=3.2.0->es-core-news-md==3.2.0) (1.25.8)\n",
      "Requirement already satisfied: idna<4,>=2.5; python_version >= \"3\" in /usr/lib/python3/dist-packages (from requests<3.0.0,>=2.13.0->spacy<3.3.0,>=3.2.0->es-core-news-md==3.2.0) (2.8)\n",
      "Requirement already satisfied: charset-normalizer~=2.0.0; python_version >= \"3\" in /home/mvernier/.local/lib/python3.8/site-packages (from requests<3.0.0,>=2.13.0->spacy<3.3.0,>=3.2.0->es-core-news-md==3.2.0) (2.0.7)\n",
      "Requirement already satisfied: typing-extensions>=3.7.4.3 in /home/mvernier/.local/lib/python3.8/site-packages (from pydantic!=1.8,!=1.8.1,<1.9.0,>=1.7.4->spacy<3.3.0,>=3.2.0->es-core-news-md==3.2.0) (3.10.0.2)\n",
      "Requirement already satisfied: smart-open<4.0.0,>=2.2.0 in /home/mvernier/.local/lib/python3.8/site-packages (from pathy>=0.3.5->spacy<3.3.0,>=3.2.0->es-core-news-md==3.2.0) (3.0.0)\n",
      "Requirement already satisfied: MarkupSafe>=2.0 in /home/mvernier/.local/lib/python3.8/site-packages (from jinja2->spacy<3.3.0,>=3.2.0->es-core-news-md==3.2.0) (2.0.1)\n",
      "Requirement already satisfied: pyparsing>=2.0.2 in /home/mvernier/.local/lib/python3.8/site-packages (from packaging>=20.0->spacy<3.3.0,>=3.2.0->es-core-news-md==3.2.0) (2.4.7)\n",
      "\u001b[38;5;2m✔ Download and installation successful\u001b[0m\n",
      "You can now load the package via spacy.load('es_core_news_md')\n"
     ]
    }
   ],
   "source": [
    "#!pip install spacy==3.2.4\n",
    "!python -m spacy download es_core_news_md"
   ]
  },
  {
   "cell_type": "code",
   "execution_count": 5,
   "id": "b0d6207b",
   "metadata": {},
   "outputs": [
    {
     "name": "stderr",
     "output_type": "stream",
     "text": [
      "/home/mvernier/.local/lib/python3.8/site-packages/torch/cuda/__init__.py:52: UserWarning: CUDA initialization: CUDA unknown error - this may be due to an incorrectly set up environment, e.g. changing env variable CUDA_VISIBLE_DEVICES after program start. Setting the available devices to be zero. (Triggered internally at  ../c10/cuda/CUDAFunctions.cpp:115.)\n",
      "  return torch._C._cuda_getDeviceCount() > 0\n"
     ]
    },
    {
     "name": "stdout",
     "output_type": "stream",
     "text": [
      "3.2.4\n"
     ]
    }
   ],
   "source": [
    "import spacy\n",
    "\n",
    "print(spacy.__version__)"
   ]
  },
  {
   "cell_type": "code",
   "execution_count": 6,
   "id": "dceade93",
   "metadata": {},
   "outputs": [],
   "source": [
    "nlp = spacy.load(\"es_core_news_md\")"
   ]
  },
  {
   "cell_type": "code",
   "execution_count": 7,
   "id": "65d056c0",
   "metadata": {},
   "outputs": [
    {
     "data": {
      "text/plain": [
       "'En Santo Tomás abordarán la temática del manejo y la conservación ambiental'"
      ]
     },
     "execution_count": 7,
     "metadata": {},
     "output_type": "execute_result"
    }
   ],
   "source": [
    "text=dataset[\"title\"][4]\n",
    "text"
   ]
  },
  {
   "cell_type": "code",
   "execution_count": 13,
   "id": "0fa9232e",
   "metadata": {},
   "outputs": [],
   "source": [
    "doc = nlp(text)"
   ]
  },
  {
   "cell_type": "markdown",
   "id": "99fc10b2",
   "metadata": {},
   "source": [
    "- Tokenización, Análisis gramátical, lematización..."
   ]
  },
  {
   "cell_type": "code",
   "execution_count": 14,
   "id": "2c64f182",
   "metadata": {},
   "outputs": [
    {
     "name": "stdout",
     "output_type": "stream",
     "text": [
      "Los el True DET\n",
      "siete siete True NUM\n",
      "puntos punto False NOUN\n",
      "estratégicos estratégico False ADJ\n",
      "de de True ADP\n",
      "Santiago Santiago False PROPN\n",
      "que que True PRON\n",
      "tendrán tener True VERB\n",
      "aparatos aparato False NOUN\n",
      "para para True ADP\n",
      "medir medir False VERB\n",
      "la el True DET\n",
      "contaminación contaminación False NOUN\n",
      "acústica acústico False ADJ\n"
     ]
    }
   ],
   "source": [
    "for token in doc:\n",
    "    print(token.text, token.lemma_,token.is_stop,token.pos_)"
   ]
  },
  {
   "cell_type": "code",
   "execution_count": 16,
   "id": "76ea5818",
   "metadata": {},
   "outputs": [
    {
     "data": {
      "text/plain": [
       "'La ministra del Medio Ambiente, Carolina Schmidt, presentó hoy la primera Red de Monitoreo de Ruido Ambiental de Chile, que mide en tiempo real y de forma continua la contaminación acústica en siete puntos estratégicos de Santiago. El objetivo de este monitoreo es reducir la contaminación acústica para mejorar la calidad de vida de los habitantes de la capital y aplicar políticas públicas que permitan bajar el ruido. La ministra indicó que \"muchas veces nos acostumbramos al ruido y pensamos que no lo sentimos, es un contaminante invisible, genera estrés, trastornos en el sueño, problemas cardiovasculares, problemas de convivencia y agresividad\". ESTACIONES DE MONITOREO Estos puntos están ubicados en puntos estratégicos de Santiago: San Martín, frente al Ministerio de Medio Ambiente; en la Alameda, frente al edificio del Minvu; en la Municipalidad de Providencia; frente al Juzgado de Policía Local de Ñuñoa; en la Autopista Central, cercanías el Metro Santa Ana; Plaza de Armas y en Maipú. Estos lugares fueron elegidos porque están cercanos a autopistas, avenidas, vías exclusivas, zonas residenciales, calles con adoquines y, en el caso de la Plaza de Armas, por ser un lugar icónico de Santiago con alto tránsito peatonal. Schmidt precisó que la mayor fuente contaminante de ruido es el transporte público, por lo que \"estamos implementando políticas relevantes en el Transantiago\". No obstante, adelantó que la idea de la cartera es extender el funcionamiento de esta red de monitoreo a otras ciudades, como Valparaíso. El principal ruido ambiental de Santiago proviene del transporte vehicular. Todas las personas somos potenciales fuentes de ruido y, por lo tanto, podemos contribuir a disminuir el ruido ambiental a través de consejos prácticos: -No tocar la bocina (sólo en casos de extrema necesidad). -No acelerar innecesariamente. -Mantener el vehículo en buenas condiciones. -No usar tronadores en el tubo de escape. -Usar equipos sonoros a volúmenes moderados, especialmente en la noche. Por favor, inicia sesión en La Tercera para acceder a los comentarios.'"
      ]
     },
     "execution_count": 16,
     "metadata": {},
     "output_type": "execute_result"
    }
   ],
   "source": [
    "text=dataset[\"text\"][5]\n",
    "text"
   ]
  },
  {
   "cell_type": "markdown",
   "id": "b9d4b480",
   "metadata": {},
   "source": [
    "- Extracción de las Entidades (Personas, Organizaciones, Lugares, etc.)"
   ]
  },
  {
   "cell_type": "code",
   "execution_count": 17,
   "id": "4736c2d2",
   "metadata": {},
   "outputs": [
    {
     "name": "stdout",
     "output_type": "stream",
     "text": [
      "Medio Ambiente 16 30 LOC\n",
      "Carolina Schmidt 32 48 PER\n",
      "Red de Monitoreo de Ruido Ambiental de Chile 74 118 ORG\n",
      "Santiago 222 230 LOC\n",
      "El objetivo de este monitoreo 232 261 MISC\n",
      "ESTACIONES DE MONITOREO 654 677 MISC\n",
      "San Martín 742 752 LOC\n",
      "Ministerio de Medio Ambiente 764 792 LOC\n",
      "Alameda 800 807 LOC\n",
      "Minvu 832 837 LOC\n",
      "Municipalidad de Providencia 845 873 LOC\n",
      "Juzgado de Policía Local de Ñuñoa 885 918 LOC\n",
      "Autopista Central 926 943 LOC\n",
      "Metro Santa Ana 958 973 LOC\n",
      "Plaza de Armas 975 989 LOC\n",
      "Maipú. 995 1001 LOC\n",
      "Plaza de Armas 1157 1171 LOC\n",
      "Santiago 1201 1209 LOC\n",
      "Schmidt 1238 1245 PER\n",
      "Transantiago 1383 1395 MISC\n",
      "No obstante, 1398 1410 MISC\n",
      "Valparaíso 1524 1534 LOC\n",
      "de Santiago 1565 1576 LOC\n",
      "Todas las personas somos potenciales fuentes 1612 1656 MISC\n",
      "tronadores 1908 1918 LOC\n",
      "Por favor, 2013 2023 MISC\n",
      "La Tercera 2041 2051 MISC\n"
     ]
    }
   ],
   "source": [
    "doc = nlp(text)\n",
    "for ent in doc.ents:\n",
    "    print(ent.text, ent.start_char, ent.end_char, ent.label_)"
   ]
  },
  {
   "cell_type": "code",
   "execution_count": 12,
   "id": "88c99b9b",
   "metadata": {},
   "outputs": [
    {
     "name": "stdout",
     "output_type": "stream",
     "text": [
      "Carolina Schmidt 32 48 PER\n",
      "San Martín 742 752 PER\n"
     ]
    }
   ],
   "source": [
    "for ent in doc.ents:\n",
    "    if(ent.label_ == \"PER\"):\n",
    "        if (\" \" in ent.text):\n",
    "            print(ent.text, ent.start_char, ent.end_char, ent.label_)"
   ]
  },
  {
   "cell_type": "markdown",
   "id": "40180ede",
   "metadata": {},
   "source": [
    "- Extracción de patrones"
   ]
  },
  {
   "cell_type": "code",
   "execution_count": 18,
   "id": "4b1f8e16",
   "metadata": {},
   "outputs": [],
   "source": [
    "from spacy.matcher import Matcher\n",
    "matcher = Matcher(nlp.vocab)"
   ]
  },
  {
   "cell_type": "code",
   "execution_count": 19,
   "id": "59b5265f",
   "metadata": {},
   "outputs": [],
   "source": [
    "# pattern: NOUN-de-NOUN\n",
    "pattern_1 = [{\"POS\": \"NOUN\"},{\"LOWER\": \"de\"}, {\"POS\": \"NOUN\"}]\n",
    "matcher.add(\"NOUN-de-NOUN\", [pattern_1])"
   ]
  },
  {
   "cell_type": "code",
   "execution_count": 20,
   "id": "89045af7",
   "metadata": {},
   "outputs": [],
   "source": [
    "# pattern: NOUN-ADJ\n",
    "pattern_2 = [{\"POS\": \"NOUN\"}, {\"POS\": \"ADJ\"}]\n",
    "matcher.add(\"NOUN-ADJ\", [pattern_2])"
   ]
  },
  {
   "cell_type": "code",
   "execution_count": 21,
   "id": "d2279ce8",
   "metadata": {},
   "outputs": [
    {
     "name": "stdout",
     "output_type": "stream",
     "text": [
      "tiempo real\n",
      "forma continua\n",
      "contaminación acústica\n",
      "puntos estratégicos\n",
      "contaminación acústica\n",
      "calidad de vida\n",
      "políticas públicas\n",
      "contaminante invisible\n",
      "problemas cardiovasculares\n",
      "problemas de convivencia\n",
      "estaciones de monitoreo\n",
      "puntos estratégicos\n",
      "vías exclusivas\n",
      "zonas residenciales\n",
      "lugar icónico\n",
      "tránsito peatonal\n",
      "fuente contaminante\n",
      "transporte público\n",
      "políticas relevantes\n",
      "red de monitoreo\n",
      "ruido ambiental\n",
      "transporte vehicular\n",
      "fuentes de ruido\n",
      "ruido ambiental\n",
      "través de consejos\n",
      "consejos prácticos\n",
      "tubo de escape\n",
      "equipos sonoros\n",
      "volúmenes moderados\n"
     ]
    }
   ],
   "source": [
    "matches = matcher(doc)\n",
    "\n",
    "for match_id, start, end in matches:\n",
    "    #string_id = nlp.vocab.strings[match_id]\n",
    "    span = doc[start:end]  # The matched span\n",
    "    #print(match_id, string_id, start, end, span.text)\n",
    "    print(span.text.lower())"
   ]
  },
  {
   "cell_type": "code",
   "execution_count": null,
   "id": "f3fc4cf1",
   "metadata": {},
   "outputs": [],
   "source": []
  }
 ],
 "metadata": {
  "kernelspec": {
   "display_name": "Python 3.10.4 64-bit",
   "language": "python",
   "name": "python3"
  },
  "language_info": {
   "codemirror_mode": {
    "name": "ipython",
    "version": 3
   },
   "file_extension": ".py",
   "mimetype": "text/x-python",
   "name": "python",
   "nbconvert_exporter": "python",
   "pygments_lexer": "ipython3",
   "version": "3.10.4"
  },
  "vscode": {
   "interpreter": {
    "hash": "916dbcbb3f70747c44a77c7bcd40155683ae19c65e1c03b4aa3499c5328201f1"
   }
  }
 },
 "nbformat": 4,
 "nbformat_minor": 5
}
