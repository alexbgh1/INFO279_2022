{
 "cells": [
  {
   "cell_type": "markdown",
   "id": "00bc0c0a",
   "metadata": {},
   "source": [
    "# Entorno de trabajo: Crear un dataset de noticias de prensa a partir del motor de búsqueda Sophia"
   ]
  },
  {
   "cell_type": "markdown",
   "id": "dc35efc7",
   "metadata": {},
   "source": [
    "Este notebook muestra una manera de extraer noticias desde el motor de búsqueda de _Sophia_, a partir de una **palabra clave**, un **país** y un **periodo de tiempo**.\n",
    "\n",
    "\n",
    "_Sophia_ es un proyecto I+i+D desarrollado en la Universidad Austral de Chile desde 2019. El motor de búsqueda se encuentra en fase de mejoramiento continuo. Por cualquier pregunta o problema técnica con este notebook, no dudar en contactarme por Discord (@MatthieuVernier) o por correo mvernier@inf.uach.cl."
   ]
  },
  {
   "cell_type": "markdown",
   "id": "b60b79ff",
   "metadata": {},
   "source": [
    "## 0. Librerías útiles"
   ]
  },
  {
   "cell_type": "markdown",
   "id": "0284eded",
   "metadata": {},
   "source": [
    "- Elasticsearch es el motor de búsqueda utilizado por Sophia\n",
    "- Requiere la instalación del paquete elasticsearch"
   ]
  },
  {
   "cell_type": "code",
   "execution_count": 2,
   "id": "b500b748",
   "metadata": {},
   "outputs": [
    {
     "name": "stdout",
     "output_type": "stream",
     "text": [
      "Python 3.8.10\r\n"
     ]
    }
   ],
   "source": [
    "!python -V"
   ]
  },
  {
   "cell_type": "code",
   "execution_count": 3,
   "id": "0420b9c3",
   "metadata": {},
   "outputs": [
    {
     "name": "stdout",
     "output_type": "stream",
     "text": [
      "Requirement already satisfied: elasticsearch in /home/mvernier/.local/lib/python3.8/site-packages (7.16.3)\n",
      "Requirement already satisfied: certifi in /usr/lib/python3/dist-packages (from elasticsearch) (2019.11.28)\n",
      "Requirement already satisfied: urllib3<2,>=1.21.1 in /usr/lib/python3/dist-packages (from elasticsearch) (1.25.8)\n"
     ]
    }
   ],
   "source": [
    "!pip install elasticsearch"
   ]
  },
  {
   "cell_type": "code",
   "execution_count": 4,
   "id": "8e32dfe6",
   "metadata": {},
   "outputs": [],
   "source": [
    "import elasticsearch\n",
    "from datetime import datetime"
   ]
  },
  {
   "cell_type": "code",
   "execution_count": 5,
   "id": "c05e81be",
   "metadata": {},
   "outputs": [
    {
     "data": {
      "text/plain": [
       "(7, 16, 3)"
      ]
     },
     "execution_count": 5,
     "metadata": {},
     "output_type": "execute_result"
    }
   ],
   "source": [
    "elasticsearch.__version__"
   ]
  },
  {
   "cell_type": "markdown",
   "id": "05a9c8c7",
   "metadata": {},
   "source": [
    "## 1. Parámetros de la búsqueda"
   ]
  },
  {
   "cell_type": "markdown",
   "id": "64de7603",
   "metadata": {},
   "source": [
    "Características del motor de búsqueda:  \n",
    "- El formato de las fechas es: YYYY-MM-DD\n",
    "- El motor de búsqueda incluye noticias por distintos paises, pero se recomienda utilizar \"chile\" por el momento.\n",
    "- El motor de búsqueda incluye datos entre el año 2000 y el año 2021."
   ]
  },
  {
   "cell_type": "code",
   "execution_count": 27,
   "id": "ce408e4d",
   "metadata": {},
   "outputs": [],
   "source": [
    "country=\"chile\"\n",
    "from_=\"2010-01-01\"\n",
    "to_=\"2021-12-31\"\n",
    "media_outlets=[\"elllanquihue\",\"elaustral\",\"laestrelladechiloe\",\"elheraldoaustral\",\"radiosago\",\n",
    "               \"elrepuertero\",\"elvacanudo\",\"elhuemul\",\"seminariolocal\",\"elquellonino\",\"elinsular\",\n",
    "               \"radiopudeto\",\"radioacogida\",\"elcalbucano\",\"segundos33\",\n",
    "               \"prensadelestuario\",\"fresiaahora\",\"soychiloe\"]\n",
    "\n",
    "keyword=\"cambio climático\"\n",
    "simple_keyword=False"
   ]
  },
  {
   "cell_type": "markdown",
   "id": "6efe0b5a",
   "metadata": {},
   "source": [
    "## 2. Parámetros de conexión al motor de búsqueda de Sophia"
   ]
  },
  {
   "cell_type": "code",
   "execution_count": 28,
   "id": "7acec13c",
   "metadata": {},
   "outputs": [],
   "source": [
    "IP = \"search.sophia2.org\"\n",
    "PORT = 9200\n",
    "USER= \"elastic\"\n",
    "PASS= \"dummy_elastic\""
   ]
  },
  {
   "cell_type": "code",
   "execution_count": 29,
   "id": "621d9af0",
   "metadata": {},
   "outputs": [],
   "source": [
    "#NO MODIFICAR\n",
    "\n",
    "es = elasticsearch.Elasticsearch(\n",
    "    IP,\n",
    "    #port=PORT,\n",
    "    http_auth=(USER, PASS)\n",
    ")"
   ]
  },
  {
   "cell_type": "markdown",
   "id": "440d3027",
   "metadata": {},
   "source": [
    "## 3. Búsqueda de noticias de prensa"
   ]
  },
  {
   "cell_type": "markdown",
   "id": "baeb2ceb",
   "metadata": {},
   "source": [
    "- Preparación de la consulta en el formato solicitado por Elasticsearch"
   ]
  },
  {
   "cell_type": "code",
   "execution_count": 41,
   "id": "7fdb0b5e",
   "metadata": {},
   "outputs": [],
   "source": [
    "#NO MODIFICAR\n",
    "match=\"\"\n",
    "if (simple_keyword):\n",
    "    match=\"match\"\n",
    "else:\n",
    "    match=\"match_phrase\"\n",
    "\n",
    "query = { \n",
    "    \"bool\": { \n",
    "      \"must\": [\n",
    "        {match: { \"text\":keyword}}\n",
    "\n",
    "      ],\n",
    "    \"filter\": [\n",
    "        {\"range\": {\n",
    "      \"date\": {\n",
    "        \"gte\": from_,\n",
    "        \"lt\": to_\n",
    "      }}},\n",
    "        { \"term\":  { \"country\": country }},\n",
    "        { \"terms\":  { \"media_outlet\": media_outlets }} \n",
    "    ]\n",
    "    }  \n",
    "}"
   ]
  },
  {
   "cell_type": "markdown",
   "id": "025f7b7c",
   "metadata": {},
   "source": [
    "- Envio de la consulta\n",
    "- No se puede devolver más de 10.000 noticias. En caso de obtener 10.000 respuestas, se recomienda buscar en un periodo de tiempo más corto o modificar la consulta."
   ]
  },
  {
   "cell_type": "code",
   "execution_count": 42,
   "id": "75593058",
   "metadata": {},
   "outputs": [
    {
     "name": "stdout",
     "output_type": "stream",
     "text": [
      "Son 2686 noticias encontradas...\n"
     ]
    }
   ],
   "source": [
    "res = es.search(index=\"news\", query=query, size=10000)\n",
    "print(\"Son %d noticias encontradas...\" % res['hits']['total']['value'])"
   ]
  },
  {
   "cell_type": "markdown",
   "id": "84d3ebba",
   "metadata": {},
   "source": [
    "## 4. Guardar los datos en un dataframe Pandas y en un archivo CSV"
   ]
  },
  {
   "cell_type": "code",
   "execution_count": 43,
   "id": "c40a60d6",
   "metadata": {},
   "outputs": [
    {
     "data": {
      "text/html": [
       "<div>\n",
       "<style scoped>\n",
       "    .dataframe tbody tr th:only-of-type {\n",
       "        vertical-align: middle;\n",
       "    }\n",
       "\n",
       "    .dataframe tbody tr th {\n",
       "        vertical-align: top;\n",
       "    }\n",
       "\n",
       "    .dataframe thead th {\n",
       "        text-align: right;\n",
       "    }\n",
       "</style>\n",
       "<table border=\"1\" class=\"dataframe\">\n",
       "  <thead>\n",
       "    <tr style=\"text-align: right;\">\n",
       "      <th></th>\n",
       "      <th>id_news</th>\n",
       "      <th>country</th>\n",
       "      <th>media_outlet</th>\n",
       "      <th>url</th>\n",
       "      <th>title</th>\n",
       "      <th>text</th>\n",
       "      <th>date</th>\n",
       "      <th>search</th>\n",
       "    </tr>\n",
       "  </thead>\n",
       "  <tbody>\n",
       "    <tr>\n",
       "      <th>0</th>\n",
       "      <td>22581387.0</td>\n",
       "      <td>chile</td>\n",
       "      <td>elllanquihue</td>\n",
       "      <td>https://www.ellanquihue.cl/impresa/2020/02/02/...</td>\n",
       "      <td>Encuesta revela qué pensamos sobre el cambio c...</td>\n",
       "      <td>El 93% de los latinoamericanos está de acuerdo...</td>\n",
       "      <td>2020-02-02</td>\n",
       "      <td>cambio climático</td>\n",
       "    </tr>\n",
       "    <tr>\n",
       "      <th>1</th>\n",
       "      <td>21425188.0</td>\n",
       "      <td>chile</td>\n",
       "      <td>elhuemul</td>\n",
       "      <td>https://www.elhuemul.cl/2015/11/30/futaleufu-s...</td>\n",
       "      <td>Futaleufú se adhiere a la marcha mundial contr...</td>\n",
       "      <td>Entre las actividades se desarrolló una marcha...</td>\n",
       "      <td>2015-11-30</td>\n",
       "      <td>cambio climático</td>\n",
       "    </tr>\n",
       "    <tr>\n",
       "      <th>2</th>\n",
       "      <td>22387263.0</td>\n",
       "      <td>chile</td>\n",
       "      <td>laestrelladechiloe</td>\n",
       "      <td>https://www.laestrellachiloe.cl/impresa/2019/1...</td>\n",
       "      <td>Cambio climático: qué piensan y sienten en tod...</td>\n",
       "      <td>El 93% de los latinoamericanos está de acuerdo...</td>\n",
       "      <td>2019-12-30</td>\n",
       "      <td>cambio climático</td>\n",
       "    </tr>\n",
       "    <tr>\n",
       "      <th>3</th>\n",
       "      <td>22580118.0</td>\n",
       "      <td>chile</td>\n",
       "      <td>laestrelladechiloe</td>\n",
       "      <td>https://www.laestrellachiloe.cl/impresa/2019/1...</td>\n",
       "      <td>Cambio climático: qué piensan y sienten en tod...</td>\n",
       "      <td>El 93% de los latinoamericanos está de acuerdo...</td>\n",
       "      <td>2019-12-30</td>\n",
       "      <td>cambio climático</td>\n",
       "    </tr>\n",
       "    <tr>\n",
       "      <th>4</th>\n",
       "      <td>21426965.0</td>\n",
       "      <td>chile</td>\n",
       "      <td>elhuemul</td>\n",
       "      <td>https://www.elhuemul.cl/2015/11/17/el-29-de-no...</td>\n",
       "      <td>El 29 de noviembre Futaleufu se sumará a la Ma...</td>\n",
       "      <td>La iniciativa, propulsada en Futaleufu por el ...</td>\n",
       "      <td>2015-11-17</td>\n",
       "      <td>cambio climático</td>\n",
       "    </tr>\n",
       "    <tr>\n",
       "      <th>...</th>\n",
       "      <td>...</td>\n",
       "      <td>...</td>\n",
       "      <td>...</td>\n",
       "      <td>...</td>\n",
       "      <td>...</td>\n",
       "      <td>...</td>\n",
       "      <td>...</td>\n",
       "      <td>...</td>\n",
       "    </tr>\n",
       "    <tr>\n",
       "      <th>2681</th>\n",
       "      <td>21935932.0</td>\n",
       "      <td>chile</td>\n",
       "      <td>radiosago</td>\n",
       "      <td>https://www.radiosago.cl/kast-dice-que-chile-m...</td>\n",
       "      <td>Kast dice que Chile «merece» un Presidente que...</td>\n",
       "      <td>Una cargada agenda ha tenido en los últimos dí...</td>\n",
       "      <td>2021-12-12</td>\n",
       "      <td>cambio climático</td>\n",
       "    </tr>\n",
       "    <tr>\n",
       "      <th>2682</th>\n",
       "      <td>21451085.0</td>\n",
       "      <td>chile</td>\n",
       "      <td>elrepuertero</td>\n",
       "      <td>https://www.elrepuertero.cl/noticia/politica/l...</td>\n",
       "      <td>Los ejes que marcaron la Cuenta Pública 2020: ...</td>\n",
       "      <td>Este viernes, a partir de las 20:00 horas, el ...</td>\n",
       "      <td>2020-08-01</td>\n",
       "      <td>cambio climático</td>\n",
       "    </tr>\n",
       "    <tr>\n",
       "      <th>2683</th>\n",
       "      <td>21456843.0</td>\n",
       "      <td>chile</td>\n",
       "      <td>elvacanudo</td>\n",
       "      <td>https://www.elvacanudo.cl/noticia/politica/los...</td>\n",
       "      <td>Los ejes que marcaron la Cuenta Pública 2020: ...</td>\n",
       "      <td>Este viernes, a partir de las 20:00 horas, el ...</td>\n",
       "      <td>2020-08-01</td>\n",
       "      <td>cambio climático</td>\n",
       "    </tr>\n",
       "    <tr>\n",
       "      <th>2684</th>\n",
       "      <td>21410426.0</td>\n",
       "      <td>chile</td>\n",
       "      <td>radiopudeto</td>\n",
       "      <td>http://www.pudeto.cl/?p=43808</td>\n",
       "      <td>GREENPEACE REVELA EVIDENCIA CIENTÍFICA QUE IND...</td>\n",
       "      <td>Greenpeace dio a conocer un informe respecto d...</td>\n",
       "      <td>2016-09-05</td>\n",
       "      <td>cambio climático</td>\n",
       "    </tr>\n",
       "    <tr>\n",
       "      <th>2685</th>\n",
       "      <td>21411944.0</td>\n",
       "      <td>chile</td>\n",
       "      <td>radiopudeto</td>\n",
       "      <td>http://www.pudeto.cl/?p=42987</td>\n",
       "      <td>Agroseguros anuncia subsidio estatal para aseg...</td>\n",
       "      <td>*El seguro- que se enmarca en un Plan Piloto ...</td>\n",
       "      <td>2016-07-17</td>\n",
       "      <td>cambio climático</td>\n",
       "    </tr>\n",
       "  </tbody>\n",
       "</table>\n",
       "<p>2686 rows × 8 columns</p>\n",
       "</div>"
      ],
      "text/plain": [
       "         id_news country        media_outlet  \\\n",
       "0     22581387.0   chile        elllanquihue   \n",
       "1     21425188.0   chile            elhuemul   \n",
       "2     22387263.0   chile  laestrelladechiloe   \n",
       "3     22580118.0   chile  laestrelladechiloe   \n",
       "4     21426965.0   chile            elhuemul   \n",
       "...          ...     ...                 ...   \n",
       "2681  21935932.0   chile           radiosago   \n",
       "2682  21451085.0   chile        elrepuertero   \n",
       "2683  21456843.0   chile          elvacanudo   \n",
       "2684  21410426.0   chile         radiopudeto   \n",
       "2685  21411944.0   chile         radiopudeto   \n",
       "\n",
       "                                                    url  \\\n",
       "0     https://www.ellanquihue.cl/impresa/2020/02/02/...   \n",
       "1     https://www.elhuemul.cl/2015/11/30/futaleufu-s...   \n",
       "2     https://www.laestrellachiloe.cl/impresa/2019/1...   \n",
       "3     https://www.laestrellachiloe.cl/impresa/2019/1...   \n",
       "4     https://www.elhuemul.cl/2015/11/17/el-29-de-no...   \n",
       "...                                                 ...   \n",
       "2681  https://www.radiosago.cl/kast-dice-que-chile-m...   \n",
       "2682  https://www.elrepuertero.cl/noticia/politica/l...   \n",
       "2683  https://www.elvacanudo.cl/noticia/politica/los...   \n",
       "2684                      http://www.pudeto.cl/?p=43808   \n",
       "2685                      http://www.pudeto.cl/?p=42987   \n",
       "\n",
       "                                                  title  \\\n",
       "0     Encuesta revela qué pensamos sobre el cambio c...   \n",
       "1     Futaleufú se adhiere a la marcha mundial contr...   \n",
       "2     Cambio climático: qué piensan y sienten en tod...   \n",
       "3     Cambio climático: qué piensan y sienten en tod...   \n",
       "4     El 29 de noviembre Futaleufu se sumará a la Ma...   \n",
       "...                                                 ...   \n",
       "2681  Kast dice que Chile «merece» un Presidente que...   \n",
       "2682  Los ejes que marcaron la Cuenta Pública 2020: ...   \n",
       "2683  Los ejes que marcaron la Cuenta Pública 2020: ...   \n",
       "2684  GREENPEACE REVELA EVIDENCIA CIENTÍFICA QUE IND...   \n",
       "2685  Agroseguros anuncia subsidio estatal para aseg...   \n",
       "\n",
       "                                                   text        date  \\\n",
       "0     El 93% de los latinoamericanos está de acuerdo...  2020-02-02   \n",
       "1     Entre las actividades se desarrolló una marcha...  2015-11-30   \n",
       "2     El 93% de los latinoamericanos está de acuerdo...  2019-12-30   \n",
       "3     El 93% de los latinoamericanos está de acuerdo...  2019-12-30   \n",
       "4     La iniciativa, propulsada en Futaleufu por el ...  2015-11-17   \n",
       "...                                                 ...         ...   \n",
       "2681  Una cargada agenda ha tenido en los últimos dí...  2021-12-12   \n",
       "2682  Este viernes, a partir de las 20:00 horas, el ...  2020-08-01   \n",
       "2683  Este viernes, a partir de las 20:00 horas, el ...  2020-08-01   \n",
       "2684  Greenpeace dio a conocer un informe respecto d...  2016-09-05   \n",
       "2685   *El seguro- que se enmarca en un Plan Piloto ...  2016-07-17   \n",
       "\n",
       "                search  \n",
       "0     cambio climático  \n",
       "1     cambio climático  \n",
       "2     cambio climático  \n",
       "3     cambio climático  \n",
       "4     cambio climático  \n",
       "...                ...  \n",
       "2681  cambio climático  \n",
       "2682  cambio climático  \n",
       "2683  cambio climático  \n",
       "2684  cambio climático  \n",
       "2685  cambio climático  \n",
       "\n",
       "[2686 rows x 8 columns]"
      ]
     },
     "execution_count": 43,
     "metadata": {},
     "output_type": "execute_result"
    }
   ],
   "source": [
    "import pandas as pd\n",
    "\n",
    "data = {'id_news':[],'country':[],'media_outlet':[],'url':[],'title':[],'text':[],'date':[],'search':[]}\n",
    "\n",
    "df = pd.DataFrame(data)  \n",
    "  \n",
    "for hit in res['hits']['hits']:\n",
    "    id_news = hit['_source']['id_news']\n",
    "    country = hit['_source']['country']\n",
    "    media_outlet = hit['_source']['media_outlet']\n",
    "    url = hit['_source']['url']\n",
    "    title = hit['_source']['title']\n",
    "    text = hit['_source']['text']\n",
    "    date = hit['_source']['date']\n",
    "    search = keyword\n",
    "    \n",
    "    new_row = {'id_news':id_news, 'country':country, 'media_outlet':media_outlet, 'url':url, 'title':title, 'text':text, 'date':date, 'search':search}\n",
    "    \n",
    "    df = df.append(new_row, ignore_index=True)\n",
    "\n",
    "df"
   ]
  },
  {
   "cell_type": "markdown",
   "id": "ff4b15bf",
   "metadata": {},
   "source": [
    "- Verifiquemos si existen noticias con la misma URL"
   ]
  },
  {
   "cell_type": "code",
   "execution_count": 44,
   "id": "1cc732ad",
   "metadata": {},
   "outputs": [
    {
     "data": {
      "text/plain": [
       "True"
      ]
     },
     "execution_count": 44,
     "metadata": {},
     "output_type": "execute_result"
    }
   ],
   "source": [
    "df['url'].duplicated().any()"
   ]
  },
  {
   "cell_type": "markdown",
   "id": "8e7424a0",
   "metadata": {},
   "source": [
    "- Eliminar las noticias duplicadas"
   ]
  },
  {
   "cell_type": "code",
   "execution_count": 45,
   "id": "a2251d2c",
   "metadata": {},
   "outputs": [],
   "source": [
    "df = df.drop_duplicates(subset='url', keep='first')"
   ]
  },
  {
   "cell_type": "code",
   "execution_count": 46,
   "id": "466d6859",
   "metadata": {},
   "outputs": [
    {
     "data": {
      "text/html": [
       "<div>\n",
       "<style scoped>\n",
       "    .dataframe tbody tr th:only-of-type {\n",
       "        vertical-align: middle;\n",
       "    }\n",
       "\n",
       "    .dataframe tbody tr th {\n",
       "        vertical-align: top;\n",
       "    }\n",
       "\n",
       "    .dataframe thead th {\n",
       "        text-align: right;\n",
       "    }\n",
       "</style>\n",
       "<table border=\"1\" class=\"dataframe\">\n",
       "  <thead>\n",
       "    <tr style=\"text-align: right;\">\n",
       "      <th></th>\n",
       "      <th>id_news</th>\n",
       "      <th>country</th>\n",
       "      <th>media_outlet</th>\n",
       "      <th>url</th>\n",
       "      <th>title</th>\n",
       "      <th>text</th>\n",
       "      <th>date</th>\n",
       "      <th>search</th>\n",
       "    </tr>\n",
       "  </thead>\n",
       "  <tbody>\n",
       "    <tr>\n",
       "      <th>0</th>\n",
       "      <td>22581387.0</td>\n",
       "      <td>chile</td>\n",
       "      <td>elllanquihue</td>\n",
       "      <td>https://www.ellanquihue.cl/impresa/2020/02/02/...</td>\n",
       "      <td>Encuesta revela qué pensamos sobre el cambio c...</td>\n",
       "      <td>El 93% de los latinoamericanos está de acuerdo...</td>\n",
       "      <td>2020-02-02</td>\n",
       "      <td>cambio climático</td>\n",
       "    </tr>\n",
       "    <tr>\n",
       "      <th>1</th>\n",
       "      <td>21425188.0</td>\n",
       "      <td>chile</td>\n",
       "      <td>elhuemul</td>\n",
       "      <td>https://www.elhuemul.cl/2015/11/30/futaleufu-s...</td>\n",
       "      <td>Futaleufú se adhiere a la marcha mundial contr...</td>\n",
       "      <td>Entre las actividades se desarrolló una marcha...</td>\n",
       "      <td>2015-11-30</td>\n",
       "      <td>cambio climático</td>\n",
       "    </tr>\n",
       "    <tr>\n",
       "      <th>2</th>\n",
       "      <td>22387263.0</td>\n",
       "      <td>chile</td>\n",
       "      <td>laestrelladechiloe</td>\n",
       "      <td>https://www.laestrellachiloe.cl/impresa/2019/1...</td>\n",
       "      <td>Cambio climático: qué piensan y sienten en tod...</td>\n",
       "      <td>El 93% de los latinoamericanos está de acuerdo...</td>\n",
       "      <td>2019-12-30</td>\n",
       "      <td>cambio climático</td>\n",
       "    </tr>\n",
       "    <tr>\n",
       "      <th>4</th>\n",
       "      <td>21426965.0</td>\n",
       "      <td>chile</td>\n",
       "      <td>elhuemul</td>\n",
       "      <td>https://www.elhuemul.cl/2015/11/17/el-29-de-no...</td>\n",
       "      <td>El 29 de noviembre Futaleufu se sumará a la Ma...</td>\n",
       "      <td>La iniciativa, propulsada en Futaleufu por el ...</td>\n",
       "      <td>2015-11-17</td>\n",
       "      <td>cambio climático</td>\n",
       "    </tr>\n",
       "    <tr>\n",
       "      <th>5</th>\n",
       "      <td>21398696.0</td>\n",
       "      <td>chile</td>\n",
       "      <td>elhuemul</td>\n",
       "      <td>https://www.elhuemul.cl/2019/11/18/comunas-de-...</td>\n",
       "      <td>Comunas de Palena y Chaitén preparan seminario...</td>\n",
       "      <td>El cambio climático es el mal de nuestro tiemp...</td>\n",
       "      <td>2019-11-18</td>\n",
       "      <td>cambio climático</td>\n",
       "    </tr>\n",
       "    <tr>\n",
       "      <th>...</th>\n",
       "      <td>...</td>\n",
       "      <td>...</td>\n",
       "      <td>...</td>\n",
       "      <td>...</td>\n",
       "      <td>...</td>\n",
       "      <td>...</td>\n",
       "      <td>...</td>\n",
       "      <td>...</td>\n",
       "    </tr>\n",
       "    <tr>\n",
       "      <th>2681</th>\n",
       "      <td>21935932.0</td>\n",
       "      <td>chile</td>\n",
       "      <td>radiosago</td>\n",
       "      <td>https://www.radiosago.cl/kast-dice-que-chile-m...</td>\n",
       "      <td>Kast dice que Chile «merece» un Presidente que...</td>\n",
       "      <td>Una cargada agenda ha tenido en los últimos dí...</td>\n",
       "      <td>2021-12-12</td>\n",
       "      <td>cambio climático</td>\n",
       "    </tr>\n",
       "    <tr>\n",
       "      <th>2682</th>\n",
       "      <td>21451085.0</td>\n",
       "      <td>chile</td>\n",
       "      <td>elrepuertero</td>\n",
       "      <td>https://www.elrepuertero.cl/noticia/politica/l...</td>\n",
       "      <td>Los ejes que marcaron la Cuenta Pública 2020: ...</td>\n",
       "      <td>Este viernes, a partir de las 20:00 horas, el ...</td>\n",
       "      <td>2020-08-01</td>\n",
       "      <td>cambio climático</td>\n",
       "    </tr>\n",
       "    <tr>\n",
       "      <th>2683</th>\n",
       "      <td>21456843.0</td>\n",
       "      <td>chile</td>\n",
       "      <td>elvacanudo</td>\n",
       "      <td>https://www.elvacanudo.cl/noticia/politica/los...</td>\n",
       "      <td>Los ejes que marcaron la Cuenta Pública 2020: ...</td>\n",
       "      <td>Este viernes, a partir de las 20:00 horas, el ...</td>\n",
       "      <td>2020-08-01</td>\n",
       "      <td>cambio climático</td>\n",
       "    </tr>\n",
       "    <tr>\n",
       "      <th>2684</th>\n",
       "      <td>21410426.0</td>\n",
       "      <td>chile</td>\n",
       "      <td>radiopudeto</td>\n",
       "      <td>http://www.pudeto.cl/?p=43808</td>\n",
       "      <td>GREENPEACE REVELA EVIDENCIA CIENTÍFICA QUE IND...</td>\n",
       "      <td>Greenpeace dio a conocer un informe respecto d...</td>\n",
       "      <td>2016-09-05</td>\n",
       "      <td>cambio climático</td>\n",
       "    </tr>\n",
       "    <tr>\n",
       "      <th>2685</th>\n",
       "      <td>21411944.0</td>\n",
       "      <td>chile</td>\n",
       "      <td>radiopudeto</td>\n",
       "      <td>http://www.pudeto.cl/?p=42987</td>\n",
       "      <td>Agroseguros anuncia subsidio estatal para aseg...</td>\n",
       "      <td>*El seguro- que se enmarca en un Plan Piloto ...</td>\n",
       "      <td>2016-07-17</td>\n",
       "      <td>cambio climático</td>\n",
       "    </tr>\n",
       "  </tbody>\n",
       "</table>\n",
       "<p>2253 rows × 8 columns</p>\n",
       "</div>"
      ],
      "text/plain": [
       "         id_news country        media_outlet  \\\n",
       "0     22581387.0   chile        elllanquihue   \n",
       "1     21425188.0   chile            elhuemul   \n",
       "2     22387263.0   chile  laestrelladechiloe   \n",
       "4     21426965.0   chile            elhuemul   \n",
       "5     21398696.0   chile            elhuemul   \n",
       "...          ...     ...                 ...   \n",
       "2681  21935932.0   chile           radiosago   \n",
       "2682  21451085.0   chile        elrepuertero   \n",
       "2683  21456843.0   chile          elvacanudo   \n",
       "2684  21410426.0   chile         radiopudeto   \n",
       "2685  21411944.0   chile         radiopudeto   \n",
       "\n",
       "                                                    url  \\\n",
       "0     https://www.ellanquihue.cl/impresa/2020/02/02/...   \n",
       "1     https://www.elhuemul.cl/2015/11/30/futaleufu-s...   \n",
       "2     https://www.laestrellachiloe.cl/impresa/2019/1...   \n",
       "4     https://www.elhuemul.cl/2015/11/17/el-29-de-no...   \n",
       "5     https://www.elhuemul.cl/2019/11/18/comunas-de-...   \n",
       "...                                                 ...   \n",
       "2681  https://www.radiosago.cl/kast-dice-que-chile-m...   \n",
       "2682  https://www.elrepuertero.cl/noticia/politica/l...   \n",
       "2683  https://www.elvacanudo.cl/noticia/politica/los...   \n",
       "2684                      http://www.pudeto.cl/?p=43808   \n",
       "2685                      http://www.pudeto.cl/?p=42987   \n",
       "\n",
       "                                                  title  \\\n",
       "0     Encuesta revela qué pensamos sobre el cambio c...   \n",
       "1     Futaleufú se adhiere a la marcha mundial contr...   \n",
       "2     Cambio climático: qué piensan y sienten en tod...   \n",
       "4     El 29 de noviembre Futaleufu se sumará a la Ma...   \n",
       "5     Comunas de Palena y Chaitén preparan seminario...   \n",
       "...                                                 ...   \n",
       "2681  Kast dice que Chile «merece» un Presidente que...   \n",
       "2682  Los ejes que marcaron la Cuenta Pública 2020: ...   \n",
       "2683  Los ejes que marcaron la Cuenta Pública 2020: ...   \n",
       "2684  GREENPEACE REVELA EVIDENCIA CIENTÍFICA QUE IND...   \n",
       "2685  Agroseguros anuncia subsidio estatal para aseg...   \n",
       "\n",
       "                                                   text        date  \\\n",
       "0     El 93% de los latinoamericanos está de acuerdo...  2020-02-02   \n",
       "1     Entre las actividades se desarrolló una marcha...  2015-11-30   \n",
       "2     El 93% de los latinoamericanos está de acuerdo...  2019-12-30   \n",
       "4     La iniciativa, propulsada en Futaleufu por el ...  2015-11-17   \n",
       "5     El cambio climático es el mal de nuestro tiemp...  2019-11-18   \n",
       "...                                                 ...         ...   \n",
       "2681  Una cargada agenda ha tenido en los últimos dí...  2021-12-12   \n",
       "2682  Este viernes, a partir de las 20:00 horas, el ...  2020-08-01   \n",
       "2683  Este viernes, a partir de las 20:00 horas, el ...  2020-08-01   \n",
       "2684  Greenpeace dio a conocer un informe respecto d...  2016-09-05   \n",
       "2685   *El seguro- que se enmarca en un Plan Piloto ...  2016-07-17   \n",
       "\n",
       "                search  \n",
       "0     cambio climático  \n",
       "1     cambio climático  \n",
       "2     cambio climático  \n",
       "4     cambio climático  \n",
       "5     cambio climático  \n",
       "...                ...  \n",
       "2681  cambio climático  \n",
       "2682  cambio climático  \n",
       "2683  cambio climático  \n",
       "2684  cambio climático  \n",
       "2685  cambio climático  \n",
       "\n",
       "[2253 rows x 8 columns]"
      ]
     },
     "execution_count": 46,
     "metadata": {},
     "output_type": "execute_result"
    }
   ],
   "source": [
    "df"
   ]
  },
  {
   "cell_type": "markdown",
   "id": "0b2faf53",
   "metadata": {},
   "source": [
    "- Guardar los archivos en un CSV"
   ]
  },
  {
   "cell_type": "code",
   "execution_count": 47,
   "id": "b1371e58",
   "metadata": {},
   "outputs": [
    {
     "name": "stdout",
     "output_type": "stream",
     "text": [
      "El archivo se llama:\n",
      "cambioclimático_chile_2010-01-01_2021-12-31.csv\n"
     ]
    }
   ],
   "source": [
    "nombre_archivo=keyword.replace(' ', '')+\"_\"+country+\"_\"+from_+\"_\"+to_+\".csv\"\n",
    "print(\"El archivo se llama:\")\n",
    "print(nombre_archivo)\n",
    "df.to_csv(\"./\"+nombre_archivo)"
   ]
  },
  {
   "cell_type": "markdown",
   "id": "0a364f19",
   "metadata": {},
   "source": [
    "- Realizar algunas consultas SQL sobre el dataset"
   ]
  },
  {
   "cell_type": "code",
   "execution_count": 48,
   "id": "16f26651",
   "metadata": {},
   "outputs": [],
   "source": [
    "from pandasql import sqldf "
   ]
  },
  {
   "cell_type": "code",
   "execution_count": 49,
   "id": "8da54d23",
   "metadata": {},
   "outputs": [
    {
     "data": {
      "text/html": [
       "<div>\n",
       "<style scoped>\n",
       "    .dataframe tbody tr th:only-of-type {\n",
       "        vertical-align: middle;\n",
       "    }\n",
       "\n",
       "    .dataframe tbody tr th {\n",
       "        vertical-align: top;\n",
       "    }\n",
       "\n",
       "    .dataframe thead th {\n",
       "        text-align: right;\n",
       "    }\n",
       "</style>\n",
       "<table border=\"1\" class=\"dataframe\">\n",
       "  <thead>\n",
       "    <tr style=\"text-align: right;\">\n",
       "      <th></th>\n",
       "      <th>media_outlet</th>\n",
       "      <th>count(*)</th>\n",
       "    </tr>\n",
       "  </thead>\n",
       "  <tbody>\n",
       "    <tr>\n",
       "      <th>0</th>\n",
       "      <td>elllanquihue</td>\n",
       "      <td>465</td>\n",
       "    </tr>\n",
       "    <tr>\n",
       "      <th>1</th>\n",
       "      <td>elaustral</td>\n",
       "      <td>386</td>\n",
       "    </tr>\n",
       "    <tr>\n",
       "      <th>2</th>\n",
       "      <td>laestrelladechiloe</td>\n",
       "      <td>357</td>\n",
       "    </tr>\n",
       "    <tr>\n",
       "      <th>3</th>\n",
       "      <td>elvacanudo</td>\n",
       "      <td>236</td>\n",
       "    </tr>\n",
       "    <tr>\n",
       "      <th>4</th>\n",
       "      <td>elrepuertero</td>\n",
       "      <td>230</td>\n",
       "    </tr>\n",
       "    <tr>\n",
       "      <th>5</th>\n",
       "      <td>elheraldoaustral</td>\n",
       "      <td>217</td>\n",
       "    </tr>\n",
       "    <tr>\n",
       "      <th>6</th>\n",
       "      <td>radiosago</td>\n",
       "      <td>142</td>\n",
       "    </tr>\n",
       "    <tr>\n",
       "      <th>7</th>\n",
       "      <td>elhuemul</td>\n",
       "      <td>90</td>\n",
       "    </tr>\n",
       "    <tr>\n",
       "      <th>8</th>\n",
       "      <td>radiopudeto</td>\n",
       "      <td>42</td>\n",
       "    </tr>\n",
       "    <tr>\n",
       "      <th>9</th>\n",
       "      <td>seminariolocal</td>\n",
       "      <td>19</td>\n",
       "    </tr>\n",
       "    <tr>\n",
       "      <th>10</th>\n",
       "      <td>elquellonino</td>\n",
       "      <td>17</td>\n",
       "    </tr>\n",
       "    <tr>\n",
       "      <th>11</th>\n",
       "      <td>elinsular</td>\n",
       "      <td>16</td>\n",
       "    </tr>\n",
       "    <tr>\n",
       "      <th>12</th>\n",
       "      <td>radioacogida</td>\n",
       "      <td>14</td>\n",
       "    </tr>\n",
       "    <tr>\n",
       "      <th>13</th>\n",
       "      <td>elcalbucano</td>\n",
       "      <td>11</td>\n",
       "    </tr>\n",
       "    <tr>\n",
       "      <th>14</th>\n",
       "      <td>segundos33</td>\n",
       "      <td>4</td>\n",
       "    </tr>\n",
       "    <tr>\n",
       "      <th>15</th>\n",
       "      <td>prensadelestuario</td>\n",
       "      <td>4</td>\n",
       "    </tr>\n",
       "    <tr>\n",
       "      <th>16</th>\n",
       "      <td>fresiaahora</td>\n",
       "      <td>2</td>\n",
       "    </tr>\n",
       "    <tr>\n",
       "      <th>17</th>\n",
       "      <td>soychiloe</td>\n",
       "      <td>1</td>\n",
       "    </tr>\n",
       "  </tbody>\n",
       "</table>\n",
       "</div>"
      ],
      "text/plain": [
       "          media_outlet  count(*)\n",
       "0         elllanquihue       465\n",
       "1            elaustral       386\n",
       "2   laestrelladechiloe       357\n",
       "3           elvacanudo       236\n",
       "4         elrepuertero       230\n",
       "5     elheraldoaustral       217\n",
       "6            radiosago       142\n",
       "7             elhuemul        90\n",
       "8          radiopudeto        42\n",
       "9       seminariolocal        19\n",
       "10        elquellonino        17\n",
       "11           elinsular        16\n",
       "12        radioacogida        14\n",
       "13         elcalbucano        11\n",
       "14          segundos33         4\n",
       "15   prensadelestuario         4\n",
       "16         fresiaahora         2\n",
       "17           soychiloe         1"
      ]
     },
     "execution_count": 49,
     "metadata": {},
     "output_type": "execute_result"
    }
   ],
   "source": [
    "result = sqldf(\"SELECT media_outlet,count(*) FROM df GROUP BY media_outlet ORDER BY count(*) DESC\")\n",
    "result"
   ]
  },
  {
   "cell_type": "code",
   "execution_count": null,
   "id": "eca4c33d",
   "metadata": {},
   "outputs": [],
   "source": []
  },
  {
   "cell_type": "code",
   "execution_count": null,
   "id": "55a21946",
   "metadata": {},
   "outputs": [],
   "source": []
  },
  {
   "cell_type": "code",
   "execution_count": null,
   "id": "f1318799",
   "metadata": {},
   "outputs": [],
   "source": []
  }
 ],
 "metadata": {
  "kernelspec": {
   "display_name": "Python 3.8.10 64-bit",
   "language": "python",
   "name": "python3"
  },
  "language_info": {
   "codemirror_mode": {
    "name": "ipython",
    "version": 3
   },
   "file_extension": ".py",
   "mimetype": "text/x-python",
   "name": "python",
   "nbconvert_exporter": "python",
   "pygments_lexer": "ipython3",
   "version": "3.8.10"
  },
  "vscode": {
   "interpreter": {
    "hash": "0cce0f1da80592776099ef3035ffd13b19d3a2ed62a813cda649c3fb69ae6994"
   }
  }
 },
 "nbformat": 4,
 "nbformat_minor": 5
}
