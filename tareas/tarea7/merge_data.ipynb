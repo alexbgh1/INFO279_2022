{
 "cells": [
  {
   "cell_type": "code",
   "execution_count": 1,
   "metadata": {},
   "outputs": [],
   "source": [
    "import pandas as pd\n",
    "import warnings\n",
    "warnings.simplefilter(action='ignore', category=FutureWarning)"
   ]
  },
  {
   "cell_type": "code",
   "execution_count": 2,
   "metadata": {},
   "outputs": [
    {
     "name": "stdout",
     "output_type": "stream",
     "text": [
      "Noticias mezcladas: 2056\n",
      "Noticias mezcladas: 2874\n",
      "Noticias mezcladas: 3838\n",
      "Noticias mezcladas: 4991\n",
      "Noticias mezcladas: 5959\n",
      "Noticias mezcladas: 6870\n",
      "Noticias mezcladas: 8055\n",
      "Noticias mezcladas: 9379\n",
      "Noticias mezcladas: 13437\n",
      "Noticias mezcladas: 18153\n",
      "Noticias mezcladas: 24292\n",
      "Noticias mezcladas: 29007\n",
      "Noticias mezcladas: 32695\n",
      "Noticias mezcladas: 36471\n",
      "Noticias mezcladas: 39672\n",
      "Noticias mezcladas: 45728\n",
      "Noticias mezcladas: 51488\n",
      "Noticias mezcladas: 54059\n",
      "Noticias mezcladas: 56422\n",
      "Noticias mezcladas: 59040\n",
      "Noticias mezcladas: 62098\n",
      "Noticias mezcladas: 65563\n",
      "Noticias mezcladas: 68459\n"
     ]
    }
   ],
   "source": [
    "fechas = [\n",
    "    ('2010-01-01','2010-06-30'),\n",
    "    ('2010-06-30','2010-12-31'),\n",
    "    ('2011-01-01','2011-06-30'),\n",
    "    ('2011-06-30','2011-12-31'),\n",
    "    ('2012-01-01','2012-06-30'),\n",
    "    ('2012-06-30','2012-12-31'),\n",
    "    ('2013-01-01','2013-06-30'),\n",
    "    ('2013-06-30','2013-12-31'),\n",
    "    ('2014-01-01','2014-06-30'),\n",
    "    ('2014-06-30','2014-12-31'),\n",
    "    ('2015-01-01','2015-06-30'),\n",
    "    ('2015-06-30','2015-12-31'),\n",
    "    ('2016-01-01','2016-06-30'),\n",
    "    ('2016-06-30','2016-12-31'),\n",
    "    ('2017-01-01','2017-06-30'),\n",
    "    ('2017-06-30','2017-12-31'),\n",
    "    ('2018-01-01','2018-06-30'),\n",
    "    ('2018-06-30','2018-12-31'),\n",
    "    ('2019-01-01','2019-06-30'),\n",
    "    ('2019-06-30','2019-12-31'),\n",
    "    ('2020-01-01','2020-06-30'),\n",
    "    ('2020-06-30','2020-12-31'),\n",
    "    ('2021-01-01','2021-06-30'),\n",
    "    ('2021-06-30','2021-12-31')\n",
    "]\n",
    "\n",
    "primera_fecha = pd.read_csv(f'./data/data_{fechas[0][0]}_{fechas[0][1]}.csv')\n",
    "primera_fecha.drop(columns=['Unnamed: 0'], inplace=True)\n",
    "primera_fecha.head()\n",
    "\n",
    "for from_, to_ in (fechas[1:]):\n",
    "    df = pd.read_csv('./data/data_'+from_+'_'+to_+'.csv')\n",
    "    df.drop(columns=['Unnamed: 0'], inplace=True)\n",
    "\n",
    "    primera_fecha = primera_fecha.append(df, ignore_index=True)\n",
    "    print(f'Noticias mezcladas: {len(primera_fecha)}')\n"
   ]
  },
  {
   "cell_type": "code",
   "execution_count": 6,
   "metadata": {},
   "outputs": [
    {
     "name": "stdout",
     "output_type": "stream",
     "text": [
      "68459\n"
     ]
    }
   ],
   "source": [
    "# save data\n",
    "# filtramos columna repetidos por id\n",
    "primera_fecha = primera_fecha.drop_duplicates(subset='url', keep='first')\n",
    "\n",
    "print(len(primera_fecha))\n",
    "\n",
    "primera_fecha.to_csv(\"./data/final.csv\")"
   ]
  }
 ],
 "metadata": {
  "kernelspec": {
   "display_name": "Python 3.8.10 ('myenv')",
   "language": "python",
   "name": "python3"
  },
  "language_info": {
   "codemirror_mode": {
    "name": "ipython",
    "version": 3
   },
   "file_extension": ".py",
   "mimetype": "text/x-python",
   "name": "python",
   "nbconvert_exporter": "python",
   "pygments_lexer": "ipython3",
   "version": "3.8.10"
  },
  "orig_nbformat": 4,
  "vscode": {
   "interpreter": {
    "hash": "4fff480b818351191bd10b139918affcc268b35a4173b95bc67c9e000e77644a"
   }
  }
 },
 "nbformat": 4,
 "nbformat_minor": 2
}
