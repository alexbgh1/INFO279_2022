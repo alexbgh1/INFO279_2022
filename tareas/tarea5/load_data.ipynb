{
 "cells": [
  {
   "cell_type": "markdown",
   "metadata": {},
   "source": [
    "# Proyecto (obtención dataset)"
   ]
  },
  {
   "cell_type": "code",
   "execution_count": 3,
   "metadata": {},
   "outputs": [],
   "source": [
    "# --- General ---\n",
    "import os\n",
    "from datetime import datetime\n",
    "\n",
    "# --- Data ---\n",
    "import pandas as pd\n",
    "from pandasql import sqldf\n",
    "import numpy as np\n",
    "\n",
    "# --- Conexión ---\n",
    "import elasticsearch\n",
    "\n",
    "# --- Procesamiento lenguaje: spacy ---\n",
    "import spacy\n",
    "# from spacy.matcher import Matcher\n",
    "from spacy.matcher import PhraseMatcher\n",
    "\n",
    "\n",
    "# ==============================================================================\n",
    "\n",
    "# --- Configuración ---\n",
    "# User password\n",
    "password = os.environ.get('SOPHIA2')\n",
    "\n",
    "# --- Funciones ---\n",
    "# Cargar paquete de español mediano\n",
    "nlp = spacy.load(\"es_core_news_md\")"
   ]
  },
  {
   "cell_type": "markdown",
   "metadata": {},
   "source": [
    "## Inicialización peticiones Sophia2"
   ]
  },
  {
   "cell_type": "code",
   "execution_count": 6,
   "metadata": {},
   "outputs": [],
   "source": [
    "# --- Nombre archivo ---\n",
    "nombre_archivo = 'data'\n",
    "anotador = 'agarnica'\n",
    "\n",
    "# --- Parameters queries ---\n",
    "# País\n",
    "country=\"chile\"\n",
    "# Fecha\n",
    "from_=\"2022-04-01\"\n",
    "to_=\"2022-04-02\"\n",
    "nombre_archivo = nombre_archivo + '_' + from_ + '_' + to_ + '.csv'\n",
    "\n",
    "\n",
    "# --- Data Connection ---\n",
    "IP = \"search.sophia2.org\"\n",
    "PORT = 9200\n",
    "USER= \"elastic\"\n",
    "PASS= password\n",
    "\n",
    "# --- Connection ---\n",
    "es = elasticsearch.Elasticsearch(\n",
    "    IP,\n",
    "    http_auth=(USER, PASS)\n",
    ")\n",
    "\n",
    "# --- Queries ---\n",
    "query = { \n",
    "    \"bool\": { \n",
    "    \"filter\": [\n",
    "        {\"range\": {\n",
    "      \"date\": {\n",
    "        \"gte\": from_,\n",
    "        \"lt\": to_\n",
    "      }\n",
    "      }},\n",
    "\n",
    "        { \"term\":  { \"country\": country }},\n",
    "    ]\n",
    "    }  \n",
    "}"
   ]
  },
  {
   "cell_type": "code",
   "execution_count": 7,
   "metadata": {},
   "outputs": [
    {
     "name": "stdout",
     "output_type": "stream",
     "text": [
      "Son 190 noticias encontradas...\n"
     ]
    }
   ],
   "source": [
    "# --- Confirmación de conexión ---\n",
    "res = es.search(index=\"news\", query=query, size=10000)\n",
    "print(\"Son %d noticias encontradas...\" % res['hits']['total']['value'])"
   ]
  },
  {
   "cell_type": "markdown",
   "metadata": {},
   "source": [
    "## Creación dataframe"
   ]
  },
  {
   "cell_type": "code",
   "execution_count": 8,
   "metadata": {},
   "outputs": [],
   "source": [
    "# --- Columnas Dataframe ---\n",
    "data = {'id_news':[],'country':[],'media_outlet':[],'url':[],'title':[],'text':[],'date':[]}\n",
    "df = pd.DataFrame(data)  \n",
    "\n",
    "# --- Información Dataframe---\n",
    "for hit in res['hits']['hits']:\n",
    "\n",
    "    id_news = hit['_source']['id_news']\n",
    "    country = hit['_source']['country']\n",
    "    media_outlet = hit['_source']['media_outlet']\n",
    "    url = hit['_source']['url']\n",
    "    title = hit['_source']['title']\n",
    "    text = hit['_source']['text']\n",
    "    date = hit['_source']['date']\n",
    "    \n",
    "    new_row = {'id_news':int(id_news), 'country':country, 'media_outlet':media_outlet, 'url':url, 'title':title, 'text':text, 'date':date}\n",
    "    df = pd.concat([df, pd.DataFrame.from_records([new_row])])\n",
    "    # df = df.append(new_row, ignore_index=True)\n",
    "\n",
    "\n",
    "# Reseteamos el índice del dataframe para que sea secuencial, sino serían puros 0.\n",
    "df = df.reset_index(drop=True)\n",
    "\n",
    "# --- Elimina resiuduos ---\n",
    "# Elimina duplicados\n",
    "df = df.drop_duplicates(subset='url', keep='first')\n",
    "# Elimina textos vacíos o con muy poco contenido\n",
    "df = df[df['text'].str.len() > 50]"
   ]
  },
  {
   "cell_type": "code",
   "execution_count": 9,
   "metadata": {},
   "outputs": [
    {
     "name": "stdout",
     "output_type": "stream",
     "text": [
      "Son 182 noticias encontradas que se utilizarán\n"
     ]
    },
    {
     "data": {
      "text/html": [
       "<div>\n",
       "<style scoped>\n",
       "    .dataframe tbody tr th:only-of-type {\n",
       "        vertical-align: middle;\n",
       "    }\n",
       "\n",
       "    .dataframe tbody tr th {\n",
       "        vertical-align: top;\n",
       "    }\n",
       "\n",
       "    .dataframe thead th {\n",
       "        text-align: right;\n",
       "    }\n",
       "</style>\n",
       "<table border=\"1\" class=\"dataframe\">\n",
       "  <thead>\n",
       "    <tr style=\"text-align: right;\">\n",
       "      <th></th>\n",
       "      <th>id_news</th>\n",
       "      <th>country</th>\n",
       "      <th>media_outlet</th>\n",
       "      <th>url</th>\n",
       "      <th>title</th>\n",
       "      <th>text</th>\n",
       "      <th>date</th>\n",
       "    </tr>\n",
       "  </thead>\n",
       "  <tbody>\n",
       "    <tr>\n",
       "      <th>0</th>\n",
       "      <td>47135604.0</td>\n",
       "      <td>chile</td>\n",
       "      <td>tusnoticias</td>\n",
       "      <td>https://www.tusnoticias.cl/diputadosudi/</td>\n",
       "      <td>Diputados UDI piden información a  municipalid...</td>\n",
       "      <td>Los diputados de la UDI, Jorge Alessandri y Gu...</td>\n",
       "      <td>2022-04-01</td>\n",
       "    </tr>\n",
       "    <tr>\n",
       "      <th>2</th>\n",
       "      <td>47136121.0</td>\n",
       "      <td>chile</td>\n",
       "      <td>elaconcagua</td>\n",
       "      <td>https://www.elaconcagua.cl/2022/04/01/panquehu...</td>\n",
       "      <td>Panquehue implementa aplicación lectora de pat...</td>\n",
       "      <td>Con la firma de convenio entre la Municipalida...</td>\n",
       "      <td>2022-04-01</td>\n",
       "    </tr>\n",
       "    <tr>\n",
       "      <th>3</th>\n",
       "      <td>47136140.0</td>\n",
       "      <td>chile</td>\n",
       "      <td>clave9</td>\n",
       "      <td>https://www.clave9.cl/2022/04/01/dos-personas-...</td>\n",
       "      <td>Dos personas fallecidas dejó accidente de trán...</td>\n",
       "      <td>Dos personas fallecidas fue el saldo de un acc...</td>\n",
       "      <td>2022-04-01</td>\n",
       "    </tr>\n",
       "    <tr>\n",
       "      <th>4</th>\n",
       "      <td>47136168.0</td>\n",
       "      <td>chile</td>\n",
       "      <td>clave9</td>\n",
       "      <td>https://www.clave9.cl/2022/04/01/nuevo-ataque-...</td>\n",
       "      <td>Nuevo ataque incendiario dejó un camión destru...</td>\n",
       "      <td>Destruido por el fuego resultó un camión produ...</td>\n",
       "      <td>2022-04-01</td>\n",
       "    </tr>\n",
       "    <tr>\n",
       "      <th>6</th>\n",
       "      <td>47137055.0</td>\n",
       "      <td>chile</td>\n",
       "      <td>elobservador</td>\n",
       "      <td>https://www.observador.cl/pdi-detuvo-a-4-perso...</td>\n",
       "      <td>PDi detuvo a 4 personas por tráfico en Laguna ...</td>\n",
       "      <td>Se identificó dos domicilios en que se comerci...</td>\n",
       "      <td>2022-04-01</td>\n",
       "    </tr>\n",
       "  </tbody>\n",
       "</table>\n",
       "</div>"
      ],
      "text/plain": [
       "      id_news country  media_outlet  \\\n",
       "0  47135604.0   chile   tusnoticias   \n",
       "2  47136121.0   chile   elaconcagua   \n",
       "3  47136140.0   chile        clave9   \n",
       "4  47136168.0   chile        clave9   \n",
       "6  47137055.0   chile  elobservador   \n",
       "\n",
       "                                                 url  \\\n",
       "0           https://www.tusnoticias.cl/diputadosudi/   \n",
       "2  https://www.elaconcagua.cl/2022/04/01/panquehu...   \n",
       "3  https://www.clave9.cl/2022/04/01/dos-personas-...   \n",
       "4  https://www.clave9.cl/2022/04/01/nuevo-ataque-...   \n",
       "6  https://www.observador.cl/pdi-detuvo-a-4-perso...   \n",
       "\n",
       "                                               title  \\\n",
       "0  Diputados UDI piden información a  municipalid...   \n",
       "2  Panquehue implementa aplicación lectora de pat...   \n",
       "3  Dos personas fallecidas dejó accidente de trán...   \n",
       "4  Nuevo ataque incendiario dejó un camión destru...   \n",
       "6  PDi detuvo a 4 personas por tráfico en Laguna ...   \n",
       "\n",
       "                                                text        date  \n",
       "0  Los diputados de la UDI, Jorge Alessandri y Gu...  2022-04-01  \n",
       "2  Con la firma de convenio entre la Municipalida...  2022-04-01  \n",
       "3  Dos personas fallecidas fue el saldo de un acc...  2022-04-01  \n",
       "4  Destruido por el fuego resultó un camión produ...  2022-04-01  \n",
       "6  Se identificó dos domicilios en que se comerci...  2022-04-01  "
      ]
     },
     "execution_count": 9,
     "metadata": {},
     "output_type": "execute_result"
    }
   ],
   "source": [
    "print(f\"Son {len(df)} noticias encontradas que se utilizarán\")\n",
    "df.head()"
   ]
  },
  {
   "cell_type": "code",
   "execution_count": 10,
   "metadata": {},
   "outputs": [],
   "source": [
    "# Eliminamos country, media_outlet, url, text, date\n",
    "df = df.drop(['country', 'media_outlet', 'url', 'text', 'date'], axis=1)\n"
   ]
  },
  {
   "cell_type": "code",
   "execution_count": 13,
   "metadata": {},
   "outputs": [
    {
     "data": {
      "text/html": [
       "<div>\n",
       "<style scoped>\n",
       "    .dataframe tbody tr th:only-of-type {\n",
       "        vertical-align: middle;\n",
       "    }\n",
       "\n",
       "    .dataframe tbody tr th {\n",
       "        vertical-align: top;\n",
       "    }\n",
       "\n",
       "    .dataframe thead th {\n",
       "        text-align: right;\n",
       "    }\n",
       "</style>\n",
       "<table border=\"1\" class=\"dataframe\">\n",
       "  <thead>\n",
       "    <tr style=\"text-align: right;\">\n",
       "      <th></th>\n",
       "      <th>id_news</th>\n",
       "      <th>title</th>\n",
       "      <th>label</th>\n",
       "      <th>anotador</th>\n",
       "      <th>label_ministerio</th>\n",
       "    </tr>\n",
       "  </thead>\n",
       "  <tbody>\n",
       "    <tr>\n",
       "      <th>170</th>\n",
       "      <td>47687324.0</td>\n",
       "      <td>\"Especies invasoras\" en Los Ríos: un incómodo ...</td>\n",
       "      <td>NaN</td>\n",
       "      <td>agarnica</td>\n",
       "      <td>NaN</td>\n",
       "    </tr>\n",
       "    <tr>\n",
       "      <th>171</th>\n",
       "      <td>47687326.0</td>\n",
       "      <td>Municipalidad renueva planes de sexualidad, af...</td>\n",
       "      <td>NaN</td>\n",
       "      <td>agarnica</td>\n",
       "      <td>NaN</td>\n",
       "    </tr>\n",
       "    <tr>\n",
       "      <th>172</th>\n",
       "      <td>47687334.0</td>\n",
       "      <td>Celebran 50 años de Radio Austral en Valdivia ...</td>\n",
       "      <td>NaN</td>\n",
       "      <td>agarnica</td>\n",
       "      <td>NaN</td>\n",
       "    </tr>\n",
       "    <tr>\n",
       "      <th>173</th>\n",
       "      <td>47687336.0</td>\n",
       "      <td>Desconocidos robaron en dependencias municipal...</td>\n",
       "      <td>NaN</td>\n",
       "      <td>agarnica</td>\n",
       "      <td>NaN</td>\n",
       "    </tr>\n",
       "    <tr>\n",
       "      <th>174</th>\n",
       "      <td>47687343.0</td>\n",
       "      <td>Casos activos de covid-19 siguen cayendo: este...</td>\n",
       "      <td>NaN</td>\n",
       "      <td>agarnica</td>\n",
       "      <td>NaN</td>\n",
       "    </tr>\n",
       "  </tbody>\n",
       "</table>\n",
       "</div>"
      ],
      "text/plain": [
       "        id_news                                              title  label  \\\n",
       "170  47687324.0  \"Especies invasoras\" en Los Ríos: un incómodo ...    NaN   \n",
       "171  47687326.0  Municipalidad renueva planes de sexualidad, af...    NaN   \n",
       "172  47687334.0  Celebran 50 años de Radio Austral en Valdivia ...    NaN   \n",
       "173  47687336.0  Desconocidos robaron en dependencias municipal...    NaN   \n",
       "174  47687343.0  Casos activos de covid-19 siguen cayendo: este...    NaN   \n",
       "\n",
       "     anotador  label_ministerio  \n",
       "170  agarnica               NaN  \n",
       "171  agarnica               NaN  \n",
       "172  agarnica               NaN  \n",
       "173  agarnica               NaN  \n",
       "174  agarnica               NaN  "
      ]
     },
     "execution_count": 13,
     "metadata": {},
     "output_type": "execute_result"
    }
   ],
   "source": [
    "# Acortamos los datos a 30 y aniadimos una columna [anotador]\n",
    "df = df.tail(20)\n",
    "df['label'] = np.nan\n",
    "df['anotador'] = anotador\n",
    "df['label_ministerio'] = np.nan\n",
    "df.head()"
   ]
  },
  {
   "cell_type": "markdown",
   "metadata": {},
   "source": [
    "## Guardamos la información CSV"
   ]
  },
  {
   "cell_type": "code",
   "execution_count": 14,
   "metadata": {},
   "outputs": [
    {
     "name": "stdout",
     "output_type": "stream",
     "text": [
      "El archivo se llama:\n",
      "data_2022-04-01_2022-04-02.csv\n"
     ]
    }
   ],
   "source": [
    "# --- Info Archivo ---\n",
    "print(\"El archivo se llama:\")\n",
    "print(nombre_archivo)\n",
    "\n",
    "# --- Guarda archivo ---\n",
    "df.to_csv(\"./data/\"+nombre_archivo)"
   ]
  },
  {
   "cell_type": "markdown",
   "metadata": {},
   "source": [
    "###  Con esto tenemos toda la información necesaria para cargar los datos y utilizarlos."
   ]
  }
 ],
 "metadata": {
  "kernelspec": {
   "display_name": "Python 3.8.10 ('myenv')",
   "language": "python",
   "name": "python3"
  },
  "language_info": {
   "codemirror_mode": {
    "name": "ipython",
    "version": 3
   },
   "file_extension": ".py",
   "mimetype": "text/x-python",
   "name": "python",
   "nbconvert_exporter": "python",
   "pygments_lexer": "ipython3",
   "version": "3.8.10"
  },
  "orig_nbformat": 4,
  "vscode": {
   "interpreter": {
    "hash": "4fff480b818351191bd10b139918affcc268b35a4173b95bc67c9e000e77644a"
   }
  }
 },
 "nbformat": 4,
 "nbformat_minor": 2
}
